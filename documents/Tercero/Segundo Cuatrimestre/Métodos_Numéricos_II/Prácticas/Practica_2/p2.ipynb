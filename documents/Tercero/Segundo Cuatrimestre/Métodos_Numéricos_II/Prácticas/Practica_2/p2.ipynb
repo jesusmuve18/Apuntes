{
 "cells": [
  {
   "cell_type": "markdown",
   "id": "22d9bc90",
   "metadata": {},
   "source": [
    "# Práctica 2"
   ]
  },
  {
   "cell_type": "markdown",
   "id": "69edf805",
   "metadata": {},
   "source": [
    "### General"
   ]
  },
  {
   "cell_type": "code",
   "execution_count": 1,
   "id": "c7a05922",
   "metadata": {},
   "outputs": [],
   "source": [
    "# Carga de librerías necesarias\n",
    "import numpy as np\n",
    "import sympy as sp\n",
    "import matplotlib.pyplot as plt\n",
    "from random import random\n",
    "\n",
    "from IPython.display import display\n",
    "\n",
    "\n",
    "from colorama import Fore, Back, Style # Colores en el output"
   ]
  },
  {
   "cell_type": "code",
   "execution_count": 24,
   "id": "7711f6db",
   "metadata": {},
   "outputs": [],
   "source": [
    "def Title(msg):\n",
    "    return Style.BRIGHT + Fore.BLACK + Back.WHITE + msg + Style.RESET_ALL\n",
    "\n",
    "def Error(msg):\n",
    "    return Style.BRIGHT + Fore.RED + msg + Style.RESET_ALL"
   ]
  },
  {
   "cell_type": "markdown",
   "id": "ccd6d377",
   "metadata": {},
   "source": [
    "### Ejercicio 1"
   ]
  },
  {
   "cell_type": "markdown",
   "id": "e410740a",
   "metadata": {},
   "source": [
    "Pruebe ahora a repetir el mismo proceso, pero con los datos de interpolación  \n",
    "- $(a-h,f(a-h))$ y $(a,f(a))$,\n",
    "- $(a-h,f(a-h))$ y $(a+h,f(a+h))$. \n",
    "  \n",
    " ¿Qué fórmulas de derivación numérica se obtiene en cada caso?"
   ]
  },
  {
   "cell_type": "code",
   "execution_count": 3,
   "id": "60752818",
   "metadata": {},
   "outputs": [],
   "source": [
    "# Creamos la función simbólica\n",
    "f = sp.Function('f')\n",
    "a, h, x = sp.symbols('a,h,x') # a, h, x como variables simbólicas"
   ]
  },
  {
   "cell_type": "code",
   "execution_count": 4,
   "id": "eb5bbe75",
   "metadata": {},
   "outputs": [],
   "source": [
    "def polinomio_interpolacion(x_values, y_values):\n",
    "    \"\"\"\n",
    "    Devuelve el polinomio de interpolación para 2 nodos\n",
    "    x_values: Nodos \n",
    "    y_values: Imágenes de los nodos\n",
    "    \"\"\"\n",
    "    return (y_values[1]-y_values[0])/(x_values[1]-x_values[0])*(x-x_values[0])+y_values[0]"
   ]
  },
  {
   "cell_type": "markdown",
   "id": "c71655eb",
   "metadata": {},
   "source": [
    "#### Apartado 1"
   ]
  },
  {
   "cell_type": "code",
   "execution_count": 5,
   "id": "518b8d45",
   "metadata": {},
   "outputs": [
    {
     "name": "stdout",
     "output_type": "stream",
     "text": [
      "\u001b[1m\u001b[30m\u001b[47mAproximación de la derivada para los nodos (a - h, f(a - h)) y (a, f(a)):\u001b[0m\n",
      "L(f)≡ f'(a) ≈ p'(a) = \n"
     ]
    },
    {
     "data": {
      "text/latex": [
       "$\\displaystyle \\frac{f{\\left(a \\right)} - f{\\left(a - h \\right)}}{h}$"
      ],
      "text/plain": [
       "(f(a) - f(a - h))/h"
      ]
     },
     "metadata": {},
     "output_type": "display_data"
    },
    {
     "name": "stdout",
     "output_type": "stream",
     "text": [
      "donde p (el polinomio de interpolación) es\n"
     ]
    },
    {
     "data": {
      "text/latex": [
       "$\\displaystyle f{\\left(a - h \\right)} + \\frac{\\left(f{\\left(a \\right)} - f{\\left(a - h \\right)}\\right) \\left(- a + h + x\\right)}{h}$"
      ],
      "text/plain": [
       "f(a - h) + (f(a) - f(a - h))*(-a + h + x)/h"
      ]
     },
     "metadata": {},
     "output_type": "display_data"
    }
   ],
   "source": [
    "# Definimos los valores y sus imagenes\n",
    "x_values = [a-h,a]\n",
    "y_values = [f(x_values[0]),f(x_values[1])]\n",
    "\n",
    "# Calculamos el polinomio de interpolación\n",
    "p = polinomio_interpolacion(x_values, y_values)\n",
    "\n",
    "# Derivamos el polinomio de interpolación\n",
    "p_der = sp.diff(p,x)\n",
    "\n",
    "# Mostramos los resultados\n",
    "print(Title(f\"Aproximación de la derivada para los nodos ({x_values[0]}, {y_values[0]}) y ({x_values[1]}, {y_values[1]}):\"))\n",
    "print(f\"L(f)≡ f'(a) ≈ p'(a) = \")\n",
    "display(p_der)\n",
    "print(f\"donde p (el polinomio de interpolación) es\")\n",
    "display(p)"
   ]
  },
  {
   "cell_type": "markdown",
   "id": "a91e8cb0",
   "metadata": {},
   "source": [
    "#### Apartado 2"
   ]
  },
  {
   "cell_type": "code",
   "execution_count": 6,
   "id": "bb211569",
   "metadata": {},
   "outputs": [
    {
     "name": "stdout",
     "output_type": "stream",
     "text": [
      "\u001b[1m\u001b[30m\u001b[47mAproximación de la derivada para los nodos (a - h, f(a - h)) y (a + h, f(a + h)):\u001b[0m\n",
      "L(f)≡ f'(a) ≈ p'(a) = \n"
     ]
    },
    {
     "data": {
      "text/latex": [
       "$\\displaystyle \\frac{- f{\\left(a - h \\right)} + f{\\left(a + h \\right)}}{2 h}$"
      ],
      "text/plain": [
       "(-f(a - h) + f(a + h))/(2*h)"
      ]
     },
     "metadata": {},
     "output_type": "display_data"
    },
    {
     "name": "stdout",
     "output_type": "stream",
     "text": [
      "donde p (el polinomio de interpolación) es\n"
     ]
    },
    {
     "data": {
      "text/latex": [
       "$\\displaystyle f{\\left(a - h \\right)} + \\frac{\\left(- f{\\left(a - h \\right)} + f{\\left(a + h \\right)}\\right) \\left(- a + h + x\\right)}{2 h}$"
      ],
      "text/plain": [
       "f(a - h) + (-f(a - h) + f(a + h))*(-a + h + x)/(2*h)"
      ]
     },
     "metadata": {},
     "output_type": "display_data"
    }
   ],
   "source": [
    "# Definimos los valores y sus imagenes\n",
    "x_values = [a-h,a+h]\n",
    "y_values = [f(x_values[0]),f(x_values[1])]\n",
    "\n",
    "# Calculamos el polinomio de interpolación\n",
    "p = polinomio_interpolacion(x_values, y_values)\n",
    "\n",
    "# Derivamos el polinomio de interpolación\n",
    "p_der = sp.diff(p,x)\n",
    "\n",
    "# Mostramos los resultados\n",
    "print(Title(f\"Aproximación de la derivada para los nodos ({x_values[0]}, {y_values[0]}) y ({x_values[1]}, {y_values[1]}):\"))\n",
    "print(f\"L(f)≡ f'(a) ≈ p'(a) = \")\n",
    "display(p_der)\n",
    "print(f\"donde p (el polinomio de interpolación) es\")\n",
    "display(p)"
   ]
  },
  {
   "cell_type": "markdown",
   "id": "fb0c0531",
   "metadata": {},
   "source": [
    "### Ejercicio 2"
   ]
  },
  {
   "cell_type": "markdown",
   "id": "236b1f69",
   "metadata": {},
   "source": [
    "Codifica una función para calcular la fórmula de derivación de tipo interpolatorio obtenida al derivar el polinomio interpolador en una lista de nodos que acepte como argumento. Añade un argumento opcional que sea el orden de la derivada a calcular. Comprueba el correcto funcionamiento de esta función con los ejemplos mostrados hasta el momento."
   ]
  },
  {
   "cell_type": "code",
   "execution_count": 168,
   "id": "50d91ae3",
   "metadata": {},
   "outputs": [],
   "source": [
    "from sympy.polys.polyfuncs import interpolate\n",
    "\n",
    "def formula_derivacion_interpolatorio(x_values, order=1):\n",
    "\t# Creamos la función simbólica\n",
    "\tf = sp.Function('f')\n",
    "\tx = sp.symbols('x') # x como variable simbólica\n",
    "\n",
    "\ty_values = [f(xi) for xi in x_values]\n",
    "\tdata = list(zip(x_values, y_values))  # lista de tuplas (x,y) para los nodos de interpolación\n",
    "\n",
    "\tinterpolated_poly = interpolate(data, x)\n",
    "\n",
    "\treturn sp.diff(interpolated_poly,x,order)\n"
   ]
  },
  {
   "cell_type": "code",
   "execution_count": 8,
   "id": "2f6a0b56",
   "metadata": {},
   "outputs": [],
   "source": [
    "def evaluar_funcion(x_values, order=1):\n",
    "\t\"\"\"\"\n",
    "\tFunción que sirve únicamente para evaluar la función formula_derivacion_interpolatorio\n",
    "\tFormatea la salida y devuelve el resultado de la función\n",
    "\t\"\"\"\n",
    "\tprint(Title(f\"Aproximación de la derivada {order}ª para los nodos {x_values} :\"))\n",
    "\tformula = formula_derivacion_interpolatorio(x_values, order)\n",
    "\tdisplay(formula.simplify())\n",
    "\t\n",
    "\treturn formula"
   ]
  },
  {
   "cell_type": "code",
   "execution_count": 9,
   "id": "20568eb7",
   "metadata": {},
   "outputs": [
    {
     "name": "stdout",
     "output_type": "stream",
     "text": [
      "\u001b[1m\u001b[30m\u001b[47mAproximación de la derivada 1ª para los nodos [a - h, a] :\u001b[0m\n"
     ]
    },
    {
     "data": {
      "text/latex": [
       "$\\displaystyle \\frac{f{\\left(a \\right)} - f{\\left(a - h \\right)}}{h}$"
      ],
      "text/plain": [
       "(f(a) - f(a - h))/h"
      ]
     },
     "metadata": {},
     "output_type": "display_data"
    },
    {
     "name": "stdout",
     "output_type": "stream",
     "text": [
      "\u001b[1m\u001b[30m\u001b[47mAproximación de la derivada 1ª para los nodos [a - h, a + h] :\u001b[0m\n"
     ]
    },
    {
     "data": {
      "text/latex": [
       "$\\displaystyle \\frac{- f{\\left(a - h \\right)} + f{\\left(a + h \\right)}}{2 h}$"
      ],
      "text/plain": [
       "(-f(a - h) + f(a + h))/(2*h)"
      ]
     },
     "metadata": {},
     "output_type": "display_data"
    },
    {
     "name": "stdout",
     "output_type": "stream",
     "text": [
      "\u001b[1m\u001b[30m\u001b[47mAproximación de la derivada 1ª para los nodos [a - h, a, a + h] :\u001b[0m\n"
     ]
    },
    {
     "data": {
      "text/latex": [
       "$\\displaystyle \\frac{2 a f{\\left(a \\right)} - a f{\\left(a - h \\right)} - a f{\\left(a + h \\right)} + \\frac{h \\left(- f{\\left(a - h \\right)} + f{\\left(a + h \\right)}\\right)}{2} - 2 x f{\\left(a \\right)} + x f{\\left(a - h \\right)} + x f{\\left(a + h \\right)}}{h^{2}}$"
      ],
      "text/plain": [
       "(2*a*f(a) - a*f(a - h) - a*f(a + h) + h*(-f(a - h) + f(a + h))/2 - 2*x*f(a) + x*f(a - h) + x*f(a + h))/h**2"
      ]
     },
     "metadata": {},
     "output_type": "display_data"
    },
    {
     "name": "stdout",
     "output_type": "stream",
     "text": [
      "\u001b[1m\u001b[30m\u001b[47mAproximación de la derivada 2ª para los nodos [a - h, a, a + h] :\u001b[0m\n"
     ]
    },
    {
     "data": {
      "text/latex": [
       "$\\displaystyle \\frac{- 2 f{\\left(a \\right)} + f{\\left(a - h \\right)} + f{\\left(a + h \\right)}}{h^{2}}$"
      ],
      "text/plain": [
       "(-2*f(a) + f(a - h) + f(a + h))/h**2"
      ]
     },
     "metadata": {},
     "output_type": "display_data"
    },
    {
     "name": "stdout",
     "output_type": "stream",
     "text": [
      "\u001b[1m\u001b[30m\u001b[47mAproximación de la derivada 1ª para los nodos [a - 2*h, a - h, a, a + h, a + 2*h] :\u001b[0m\n"
     ]
    },
    {
     "data": {
      "text/latex": [
       "$\\displaystyle \\frac{- 12 a^{3} f{\\left(a \\right)} - 2 a^{3} f{\\left(a - 2 h \\right)} + 8 a^{3} f{\\left(a - h \\right)} + 8 a^{3} f{\\left(a + h \\right)} - 2 a^{3} f{\\left(a + 2 h \\right)} + 36 a^{2} x f{\\left(a \\right)} + 6 a^{2} x f{\\left(a - 2 h \\right)} - 24 a^{2} x f{\\left(a - h \\right)} - 24 a^{2} x f{\\left(a + h \\right)} + 6 a^{2} x f{\\left(a + 2 h \\right)} - 36 a x^{2} f{\\left(a \\right)} - 6 a x^{2} f{\\left(a - 2 h \\right)} + 24 a x^{2} f{\\left(a - h \\right)} + 24 a x^{2} f{\\left(a + h \\right)} - 6 a x^{2} f{\\left(a + 2 h \\right)} + h^{3} \\left(f{\\left(a - 2 h \\right)} - 8 f{\\left(a - h \\right)} + 8 f{\\left(a + h \\right)} - f{\\left(a + 2 h \\right)}\\right) + h^{2} \\cdot \\left(30 a f{\\left(a \\right)} + a f{\\left(a - 2 h \\right)} - 16 a f{\\left(a - h \\right)} - 16 a f{\\left(a + h \\right)} + a f{\\left(a + 2 h \\right)} - 30 x f{\\left(a \\right)} - x f{\\left(a - 2 h \\right)} + 16 x f{\\left(a - h \\right)} + 16 x f{\\left(a + h \\right)} - x f{\\left(a + 2 h \\right)}\\right) + 3 h \\left(- a^{2} f{\\left(a - 2 h \\right)} + 2 a^{2} f{\\left(a - h \\right)} - 2 a^{2} f{\\left(a + h \\right)} + a^{2} f{\\left(a + 2 h \\right)} + 2 a x f{\\left(a - 2 h \\right)} - 4 a x f{\\left(a - h \\right)} + 4 a x f{\\left(a + h \\right)} - 2 a x f{\\left(a + 2 h \\right)} - x^{2} f{\\left(a - 2 h \\right)} + 2 x^{2} f{\\left(a - h \\right)} - 2 x^{2} f{\\left(a + h \\right)} + x^{2} f{\\left(a + 2 h \\right)}\\right) + 12 x^{3} f{\\left(a \\right)} + 2 x^{3} f{\\left(a - 2 h \\right)} - 8 x^{3} f{\\left(a - h \\right)} - 8 x^{3} f{\\left(a + h \\right)} + 2 x^{3} f{\\left(a + 2 h \\right)}}{12 h^{4}}$"
      ],
      "text/plain": [
       "(-12*a**3*f(a) - 2*a**3*f(a - 2*h) + 8*a**3*f(a - h) + 8*a**3*f(a + h) - 2*a**3*f(a + 2*h) + 36*a**2*x*f(a) + 6*a**2*x*f(a - 2*h) - 24*a**2*x*f(a - h) - 24*a**2*x*f(a + h) + 6*a**2*x*f(a + 2*h) - 36*a*x**2*f(a) - 6*a*x**2*f(a - 2*h) + 24*a*x**2*f(a - h) + 24*a*x**2*f(a + h) - 6*a*x**2*f(a + 2*h) + h**3*(f(a - 2*h) - 8*f(a - h) + 8*f(a + h) - f(a + 2*h)) + h**2*(30*a*f(a) + a*f(a - 2*h) - 16*a*f(a - h) - 16*a*f(a + h) + a*f(a + 2*h) - 30*x*f(a) - x*f(a - 2*h) + 16*x*f(a - h) + 16*x*f(a + h) - x*f(a + 2*h)) + 3*h*(-a**2*f(a - 2*h) + 2*a**2*f(a - h) - 2*a**2*f(a + h) + a**2*f(a + 2*h) + 2*a*x*f(a - 2*h) - 4*a*x*f(a - h) + 4*a*x*f(a + h) - 2*a*x*f(a + 2*h) - x**2*f(a - 2*h) + 2*x**2*f(a - h) - 2*x**2*f(a + h) + x**2*f(a + 2*h)) + 12*x**3*f(a) + 2*x**3*f(a - 2*h) - 8*x**3*f(a - h) - 8*x**3*f(a + h) + 2*x**3*f(a + 2*h))/(12*h**4)"
      ]
     },
     "metadata": {},
     "output_type": "display_data"
    },
    {
     "name": "stdout",
     "output_type": "stream",
     "text": [
      "\u001b[1m\u001b[30m\u001b[47mAproximación de la derivada 2ª para los nodos [a - 2*h, a - h, a, a + h, a + 2*h] :\u001b[0m\n"
     ]
    },
    {
     "data": {
      "text/latex": [
       "$\\displaystyle \\frac{3 a^{2} f{\\left(a \\right)} + \\frac{a^{2} f{\\left(a - 2 h \\right)}}{2} - 2 a^{2} f{\\left(a - h \\right)} - 2 a^{2} f{\\left(a + h \\right)} + \\frac{a^{2} f{\\left(a + 2 h \\right)}}{2} - 6 a x f{\\left(a \\right)} - a x f{\\left(a - 2 h \\right)} + 4 a x f{\\left(a - h \\right)} + 4 a x f{\\left(a + h \\right)} - a x f{\\left(a + 2 h \\right)} + \\frac{h^{2} \\left(- 30 f{\\left(a \\right)} - f{\\left(a - 2 h \\right)} + 16 f{\\left(a - h \\right)} + 16 f{\\left(a + h \\right)} - f{\\left(a + 2 h \\right)}\\right)}{12} + \\frac{h \\left(a f{\\left(a - 2 h \\right)} - 2 a f{\\left(a - h \\right)} + 2 a f{\\left(a + h \\right)} - a f{\\left(a + 2 h \\right)} - x f{\\left(a - 2 h \\right)} + 2 x f{\\left(a - h \\right)} - 2 x f{\\left(a + h \\right)} + x f{\\left(a + 2 h \\right)}\\right)}{2} + 3 x^{2} f{\\left(a \\right)} + \\frac{x^{2} f{\\left(a - 2 h \\right)}}{2} - 2 x^{2} f{\\left(a - h \\right)} - 2 x^{2} f{\\left(a + h \\right)} + \\frac{x^{2} f{\\left(a + 2 h \\right)}}{2}}{h^{4}}$"
      ],
      "text/plain": [
       "(3*a**2*f(a) + a**2*f(a - 2*h)/2 - 2*a**2*f(a - h) - 2*a**2*f(a + h) + a**2*f(a + 2*h)/2 - 6*a*x*f(a) - a*x*f(a - 2*h) + 4*a*x*f(a - h) + 4*a*x*f(a + h) - a*x*f(a + 2*h) + h**2*(-30*f(a) - f(a - 2*h) + 16*f(a - h) + 16*f(a + h) - f(a + 2*h))/12 + h*(a*f(a - 2*h) - 2*a*f(a - h) + 2*a*f(a + h) - a*f(a + 2*h) - x*f(a - 2*h) + 2*x*f(a - h) - 2*x*f(a + h) + x*f(a + 2*h))/2 + 3*x**2*f(a) + x**2*f(a - 2*h)/2 - 2*x**2*f(a - h) - 2*x**2*f(a + h) + x**2*f(a + 2*h)/2)/h**4"
      ]
     },
     "metadata": {},
     "output_type": "display_data"
    },
    {
     "name": "stdout",
     "output_type": "stream",
     "text": [
      "\u001b[1m\u001b[30m\u001b[47mEvaluación de la fórmula anterior para x=a :\u001b[0m\n"
     ]
    },
    {
     "data": {
      "text/latex": [
       "$\\displaystyle \\frac{- 30 f{\\left(a \\right)} - f{\\left(a - 2 h \\right)} + 16 f{\\left(a - h \\right)} + 16 f{\\left(a + h \\right)} - f{\\left(a + 2 h \\right)}}{12 h^{2}}$"
      ],
      "text/plain": [
       "(-30*f(a) - f(a - 2*h) + 16*f(a - h) + 16*f(a + h) - f(a + 2*h))/(12*h**2)"
      ]
     },
     "metadata": {},
     "output_type": "display_data"
    },
    {
     "name": "stdout",
     "output_type": "stream",
     "text": [
      "\u001b[1m\u001b[30m\u001b[47mAproximación de la derivada 1ª para los nodos [a, a + h, a + 2*h] :\u001b[0m\n"
     ]
    },
    {
     "data": {
      "text/latex": [
       "$\\displaystyle \\frac{- a f{\\left(a \\right)} + 2 a f{\\left(a + h \\right)} - a f{\\left(a + 2 h \\right)} + \\frac{h \\left(- 3 f{\\left(a \\right)} + 4 f{\\left(a + h \\right)} - f{\\left(a + 2 h \\right)}\\right)}{2} + x f{\\left(a \\right)} - 2 x f{\\left(a + h \\right)} + x f{\\left(a + 2 h \\right)}}{h^{2}}$"
      ],
      "text/plain": [
       "(-a*f(a) + 2*a*f(a + h) - a*f(a + 2*h) + h*(-3*f(a) + 4*f(a + h) - f(a + 2*h))/2 + x*f(a) - 2*x*f(a + h) + x*f(a + 2*h))/h**2"
      ]
     },
     "metadata": {},
     "output_type": "display_data"
    },
    {
     "name": "stdout",
     "output_type": "stream",
     "text": [
      "\u001b[1m\u001b[30m\u001b[47mEvaluación de la fórmula anterior para x=a :\u001b[0m\n"
     ]
    },
    {
     "data": {
      "text/latex": [
       "$\\displaystyle \\frac{- 3 f{\\left(a \\right)} + 4 f{\\left(a + h \\right)} - f{\\left(a + 2 h \\right)}}{2 h}$"
      ],
      "text/plain": [
       "(-3*f(a) + 4*f(a + h) - f(a + 2*h))/(2*h)"
      ]
     },
     "metadata": {},
     "output_type": "display_data"
    },
    {
     "name": "stdout",
     "output_type": "stream",
     "text": [
      "\u001b[1m\u001b[30m\u001b[47mAproximación de la derivada 2ª para los nodos [a, a + h, a + 2*h] :\u001b[0m\n"
     ]
    },
    {
     "data": {
      "text/latex": [
       "$\\displaystyle \\frac{f{\\left(a \\right)} - 2 f{\\left(a + h \\right)} + f{\\left(a + 2 h \\right)}}{h^{2}}$"
      ],
      "text/plain": [
       "(f(a) - 2*f(a + h) + f(a + 2*h))/h**2"
      ]
     },
     "metadata": {},
     "output_type": "display_data"
    },
    {
     "name": "stdout",
     "output_type": "stream",
     "text": [
      "\u001b[1m\u001b[30m\u001b[47mEvaluación de la fórmula anterior para x=a :\u001b[0m\n"
     ]
    },
    {
     "data": {
      "text/latex": [
       "$\\displaystyle \\frac{f{\\left(a \\right)} - 2 f{\\left(a + h \\right)} + f{\\left(a + 2 h \\right)}}{h^{2}}$"
      ],
      "text/plain": [
       "(f(a) - 2*f(a + h) + f(a + 2*h))/h**2"
      ]
     },
     "metadata": {},
     "output_type": "display_data"
    }
   ],
   "source": [
    "# Probemos la función recién definida\n",
    "\n",
    "# Voy simplemente a mostrar los resultados. Si quisiese probar otras cosas llamaría directamente a la función formula_derivacion_interpolatorio\n",
    "\n",
    "# Los nodos del ejercicio anterior\n",
    "x_values = [a-h,a]\n",
    "evaluar_funcion(x_values)\n",
    "\n",
    "x_values = [a-h,a+h]\n",
    "evaluar_funcion(x_values)\n",
    "\n",
    "# Probamos con 3 nodos\n",
    "x_values = [a-h, a, a+h]\n",
    "evaluar_funcion(x_values)\n",
    "evaluar_funcion(x_values, 2)\n",
    "\n",
    "# Con más nodos\n",
    "x_values = [a-2*h, a-h, a, a+h, a+2*h]\n",
    "evaluar_funcion(x_values)\n",
    "funcion = evaluar_funcion(x_values,2)\n",
    "\n",
    "# Vamos a probar a evaluarla en el punto 'a'\n",
    "print(Title(f\"Evaluación de la fórmula anterior para x=a :\"))\n",
    "display(funcion.subs({x:a}).simplify())\n",
    "\n",
    "# Más ejemplos\n",
    "x_values = [a, a+h, a+2*h]\n",
    "funcion=evaluar_funcion(x_values)\n",
    "print(Title(f\"Evaluación de la fórmula anterior para x=a :\"))\n",
    "display(funcion.subs({x:a}).simplify())\n",
    "\n",
    "funcion=evaluar_funcion(x_values,2)\n",
    "print(Title(f\"Evaluación de la fórmula anterior para x=a :\"))\n",
    "display(funcion.subs({x:a}).simplify())"
   ]
  },
  {
   "cell_type": "markdown",
   "id": "d9836641",
   "metadata": {},
   "source": [
    "### Ejercicio 3"
   ]
  },
  {
   "cell_type": "markdown",
   "id": "6ccd92fc",
   "metadata": {},
   "source": [
    "Repita este procedimiento con la fórmula para la segunda derivada\n",
    "\n",
    "$$f''(a) \\approx \\frac{f(a+h)-2f(a)+f(a-h)}{h^2}$$\n",
    "\n",
    "y compruebe que tiene orden de aproximación 2."
   ]
  },
  {
   "cell_type": "code",
   "execution_count": null,
   "id": "17a729b4",
   "metadata": {},
   "outputs": [],
   "source": [
    "def Obtener_expresion_error(formula_der, x_values, n):\n",
    "\t\"\"\"\n",
    "\tDevuelve la expresión del error de una fórmula simbólica\n",
    "\tformula_der: Fórmula de la que se quiere calcular el error\n",
    "\tx_values: Ordenadas de los nodos que se usan en formula_der\n",
    "\tn: Orden\n",
    "\t\"\"\"\n",
    "\n",
    "\tf = sp.Function('f')\n",
    "\ta,x = sp.symbols('a,x')\n",
    "\tfseries = (f(x).series(x,a,n)).removeO()\n",
    "\ttaylor = []\n",
    "\n",
    "\t# Calculamos el desarrollo de Taylor de f(x) para cada nodo x\n",
    "\tfor i in range(len(x_values)):\n",
    "\t\ttaylor.append(fseries.subs({x:x_values[i]}))\n",
    "\t\n",
    "\t# Sustituimos f(x) por el desarrollo de taylor de f(x) para cada nodo x\n",
    "\tsustituciones = {\n",
    "\t\t\tf(x_values[i]): taylor[i] for i in range(len(x_values))\n",
    "\t}\n",
    "\n",
    "\treturn sp.expand(formula_der(f).subs(sustituciones))"
   ]
  },
  {
   "cell_type": "code",
   "execution_count": 11,
   "id": "c69f5932",
   "metadata": {},
   "outputs": [
    {
     "name": "stdout",
     "output_type": "stream",
     "text": [
      "\u001b[1m\u001b[30m\u001b[47mExpresión del error en Pn para n=1:\u001b[0m\n"
     ]
    },
    {
     "data": {
      "text/latex": [
       "$\\displaystyle 0$"
      ],
      "text/plain": [
       "0"
      ]
     },
     "metadata": {},
     "output_type": "display_data"
    },
    {
     "name": "stdout",
     "output_type": "stream",
     "text": [
      "\u001b[1m\u001b[30m\u001b[47mExpresión del error en Pn para n=2:\u001b[0m\n"
     ]
    },
    {
     "data": {
      "text/latex": [
       "$\\displaystyle 0$"
      ],
      "text/plain": [
       "0"
      ]
     },
     "metadata": {},
     "output_type": "display_data"
    },
    {
     "name": "stdout",
     "output_type": "stream",
     "text": [
      "\u001b[1m\u001b[30m\u001b[47mExpresión del error en Pn para n=3:\u001b[0m\n"
     ]
    },
    {
     "data": {
      "text/latex": [
       "$\\displaystyle \\left. \\frac{d^{2}}{d \\xi_{1}^{2}} f{\\left(\\xi_{1} \\right)} \\right|_{\\substack{ \\xi_{1}=a }}$"
      ],
      "text/plain": [
       "Subs(Derivative(f(_xi_1), (_xi_1, 2)), _xi_1, a)"
      ]
     },
     "metadata": {},
     "output_type": "display_data"
    }
   ],
   "source": [
    "f =sp.Function('f')\n",
    "a, h, x = sp.symbols('a,h,x') # a, h, x como variables simbólicas\n",
    "\n",
    "# Tenemos 2 opciones\n",
    "# Opción 1: Calcular la derivada segunda con la función del ejercicio anterior\n",
    "# Opción 2: Definir directamente la derivada en este ejercicio\n",
    "\n",
    "opcion = 1 # Para elegir la opción\n",
    "\n",
    "x_values = [a-h,a,a+h]\n",
    "n = 2 # Orden del error a comprobar\n",
    "\n",
    "if(opcion == 1):\n",
    "\t# Definimos la función simbólica\n",
    "\tformula_der = lambda g: formula_derivacion_interpolatorio(x_values,2).subs({f:g})\n",
    "elif(opcion == 2):\n",
    "\t# También podríamos haberla especificado directamente:\n",
    "\tformula_der = lambda f: (f(a+h)-2*f(a)+f(a-h))/h**2\n",
    "else:\n",
    "\tprint(\"ERROR: [opcion] tiene que ser 1 o 2\")\n",
    "\n",
    "e=0 # Error\n",
    "i=0 # Iteraciones\n",
    "\n",
    "# Mientras se anule el error la fórmula será exacta en P_n\n",
    "while e==0 :\n",
    "\ti+=1\n",
    "\te = Obtener_expresion_error(formula_der,x_values, i)\n",
    "\tprint(Title(f\"Expresión del error en Pn para n={i}:\"))\n",
    "\tdisplay(e)\n"
   ]
  },
  {
   "cell_type": "markdown",
   "id": "c65227d3",
   "metadata": {},
   "source": [
    "Y se puede ver que el primer error no nulo es para $n=3$ por lo que tiene orden 2"
   ]
  },
  {
   "cell_type": "markdown",
   "id": "031648f9",
   "metadata": {},
   "source": [
    "### Ejercicio 4"
   ]
  },
  {
   "cell_type": "markdown",
   "id": "fa0b36a1",
   "metadata": {},
   "source": [
    "Utilice la función $f(x) = \\dfrac{e^{\\cos(x)}}{x^2+1}$ y el valor $a=1$ y compruebe que ocurre este mismo hecho. Repita el procedimiento utilizando la fórmula de diferencia centrada en lugar de la de diferencia progresiva y comenta las diferencias observadas.\n"
   ]
  },
  {
   "cell_type": "code",
   "execution_count": null,
   "id": "2ae155ec",
   "metadata": {},
   "outputs": [
    {
     "name": "stdout",
     "output_type": "stream",
     "text": [
      "[exp(cos(2))/5 + exp(cos(1))*sin(1)/2\n",
      " -4.5*exp(cos(1)) + exp(cos(1))*sin(1)/2 + 7.12200081215287\n",
      " -49.5*exp(cos(1)) + exp(cos(1))*sin(1)/2 + 84.2580313448303\n",
      " -499.5*exp(cos(1)) + exp(cos(1))*sin(1)/2 + 856.683606766442\n",
      " -4999.5*exp(cos(1)) + exp(cos(1))*sin(1)/2 + 8581.04815394035\n",
      " -49999.5*exp(cos(1)) + exp(cos(1))*sin(1)/2 + 85824.7045235432\n",
      " -499999.5*exp(cos(1)) + exp(cos(1))*sin(1)/2 + 858261.26930954\n",
      " -4999999.5*exp(cos(1)) + exp(cos(1))*sin(1)/2 + 8582626.9172785\n",
      " -49999999.5*exp(cos(1)) + exp(cos(1))*sin(1)/2 + 85826283.3969791\n",
      " -499999999.5*exp(cos(1)) + exp(cos(1))*sin(1)/2 + 858262848.193985\n",
      " -4999999999.5*exp(cos(1)) + exp(cos(1))*sin(1)/2 + 8582628496.16405\n",
      " -49999999999.5*exp(cos(1)) + exp(cos(1))*sin(1)/2 + 85826284975.8647\n",
      " -499999999999.5*exp(cos(1)) + exp(cos(1))*sin(1)/2 + 858262849772.871\n",
      " -4999999999999.5*exp(cos(1)) + exp(cos(1))*sin(1)/2 + 8582628497742.94\n",
      " -49999999999999.5*exp(cos(1)) + exp(cos(1))*sin(1)/2 + 85826284977443.6\n",
      " -499999999999999.0*exp(cos(1)) + exp(cos(1))*sin(1)/2 + 858262849774450.0\n",
      " -5.0e+15*exp(cos(1)) + exp(cos(1))*sin(1)/2 + 8.58262849774452e+15\n",
      " -5.0e+16*exp(cos(1)) + exp(cos(1))*sin(1)/2 + 8.58262849774452e+16\n",
      " -5.0e+17*exp(cos(1)) + exp(cos(1))*sin(1)/2 + 8.58262849774452e+17\n",
      " -5.0e+18*exp(cos(1)) + exp(cos(1))*sin(1)/2 + 8.58262849774452e+18\n",
      " -5.0e+19*exp(cos(1)) + exp(cos(1))*sin(1)/2 + 8.58262849774452e+19]\n"
     ]
    }
   ],
   "source": [
    "# TODO\n",
    "\n",
    "x = sp.symbols('x')\n",
    "\n",
    "# Definimos la función f(x)\n",
    "f = lambda x: (sp.exp(sp.cos(x)))/(x**2+1)\n",
    "\n",
    "a=1\n",
    "n=20\n",
    "\n",
    "vexacto = (sp.diff(f(x),x)).subs({x:a})\n",
    "dersnum = np.array([(f(a+10**(-j))-f(a))/(10**(-j)) for j in range(n+1)])\n",
    "\n",
    "errores = np.array(dersnum) - vexacto\n",
    "print(errores)"
   ]
  },
  {
   "cell_type": "markdown",
   "id": "036b5557",
   "metadata": {},
   "source": [
    "### Ejercicio 5"
   ]
  },
  {
   "cell_type": "markdown",
   "id": "59adb25e",
   "metadata": {},
   "source": [
    "Implementa una función que acepte como argumentos una función en versión numérica `f`, un valor `a`, un valor `h`, un entero opcional `n` y un cuarto argumento que sea la fórmula de derivación numérica utilizada. La función deberá calcular la derivada `n`-ésima de la función `f` en el punto `a` utilizando la fórmula y el valor de `h` indicados. Las posibles fórmulas utilizadas deben incluir, al menos: diferencia regresiva, diferencia progresiva, diferencia centrada y diferencia centrada con 5 nodos. Para la función $$f(x) = \\sin(\\log(x^2+1)),$$ calcula el valor de $f'(-1)$, primero derivando una versión simbólica y obteniendo el valor exacto y después utilizando la función implementada con distintos valores de `h` y distintas fórmulas y comprueba las diferencias en la aproximación en cada caso."
   ]
  },
  {
   "cell_type": "code",
   "execution_count": 169,
   "id": "1a6a9795",
   "metadata": {},
   "outputs": [],
   "source": [
    "def CalcularDerivada(f_num, a_num, h_num, formula_der, n=1):\n",
    "\t\"\"\"\n",
    "\tFunción que calcula la derivada n-ésima de la función f en el punto a utilizando la fórmula de derivación y h dados\n",
    "\tf_num: Función en versión numérica\n",
    "\ta: Punto donde se quiere calcular la derivada\n",
    "\th: Valor pequeño (para calcular los nodos)\n",
    "\tn: Orden de la derivada a calcular\n",
    "\tformula_der: Fórmula de derivación numérica que se quiera utilizar\n",
    "\n",
    "\tformula_der debe de estar entre las siguientes opciones: \n",
    "\t\t\t\\\"diferencia regresiva\\\" \\\"diferencia progresiva\\\" \\\"diferencia centrada\\\" \\\"diferencia centrada 5 nodos\\\"\n",
    "\t\"\"\"\n",
    "\t\n",
    "\terror = False\n",
    "\n",
    "\t# Defino a y h simbólicos para la función de derivación \n",
    "\ta,h = sp.symbols('a,h')\n",
    "\tf = sp.Function('f')\n",
    "\n",
    "\n",
    "\tmatch formula_der:\n",
    "\t\tcase \"diferencia regresiva\":\n",
    "\t\t\tx_values = [a-h,a]\n",
    "\t\tcase \"diferencia progresiva\":\n",
    "\t\t\tx_values = [a,a+h]\n",
    "\t\tcase \"diferencia centrada\":\n",
    "\t\t\tx_values = [a-h, a+h]\n",
    "\t\tcase \"diferencia centrada 5 nodos\":\n",
    "\t\t\tx_values = [a-2*h, a-h,a, a+h, a+2*h]\n",
    "\t\tcase _:\n",
    "\t\t\tprint(Error(f\"ERROR: formula_der ({formula_der}) debe de estar entre las siguientes opciones: \"))\n",
    "\t\t\tprint(Error(f\"       \\\"diferencia regresiva\\\" \\\"diferencia progresiva\\\" \\\"diferencia centrada\\\" \\\"diferencia centrada 5 nodos\\\"\"))\n",
    "\t\t\terror = True\n",
    "\t\n",
    "\tif error==False : # Si la fórmula existe\n",
    "\n",
    "\t\tf_der = (formula_derivacion_interpolatorio(x_values, n)).subs({x: a_num}).simplify()\n",
    "\n",
    "\t\t# print(f\"La fórmula de derivación elegida es\")\n",
    "\t\t# display(f_der)\n",
    "\n",
    "\t\tsustituciones = {}\n",
    "\n",
    "\t\tfor i in range(len(x_values)):\n",
    "\t\t\t# Calculo el valor del nodo (sustituyo a por a_num y h por h_num)\n",
    "\t\t\txi = x_values[i].subs({a: a_num, h: h_num})\n",
    "\n",
    "\t\t\t# Calculo la imagen del nodo por f_num\n",
    "\t\t\tf_xi = f_num(float(xi))\n",
    "\n",
    "\t\t\t# Añado a las sustituciones la expresión f_der para cada f(xi) por su valor f_num(xi_calculado))\n",
    "\t\t\tsustituciones[f(x_values[i])] = f_xi\n",
    "\n",
    "\t\t# Aplico las sustituciones anteriores (y de nuevo las de a y h por si queda alguna fuera de f(xi))\n",
    "\t\treturn f_der.subs(sustituciones).subs({a: a_num, h: h_num}).evalf()\n",
    "\t\n",
    "\telse: # Si no existe devuelve 0\n",
    "\t\treturn -1"
   ]
  },
  {
   "cell_type": "code",
   "execution_count": 179,
   "id": "d9123c2c",
   "metadata": {},
   "outputs": [
    {
     "name": "stdout",
     "output_type": "stream",
     "text": [
      "\u001b[1m\u001b[30m\u001b[47mEvaluación de la función CalcularDerivada numéricamente:\u001b[0m\n",
      "\t- Resultado \"exacto\" calculado con funciones simbólicas: -0.769238901363972\n",
      "\n",
      "\t- Resultado obtenido con diferencia regresiva para h=0.1: -0.734950803404915\n",
      "\t\tError: 0.0342880979590575\n",
      "\n",
      "\t- Resultado obtenido con diferencia progresiva para h=0.1: -0.798389262969815\n",
      "\t\tError: 0.0291503616058432\n",
      "\n",
      "\t- Resultado obtenido con diferencia centrada para h=0.1: -0.766670033187365\n",
      "\t\tError: 0.00256886817660718\n",
      "\n",
      "\t- Resultado obtenido con diferencia centrada 5 nodos para h=0.1: -0.769257166015753\n",
      "\t\tError: 0.0000182646517811191\n",
      "\n",
      "\t- Resultado obtenido con diferencia regresiva para h=1e-06: -0.769238581943554\n",
      "\t\tError: 3.19420417782545E-7\n",
      "\n",
      "\t- Resultado obtenido con diferencia progresiva para h=1e-06: -0.769239220876905\n",
      "\t\tError: 3.19512932889232E-7\n",
      "\n",
      "\t- Resultado obtenido con diferencia centrada para h=1e-06: -0.769238901410230\n",
      "\t\tError: 4.62575533433096E-11\n",
      "\n",
      "\t- Resultado obtenido con diferencia centrada 5 nodos para h=1e-06: -0.769238901391726\n",
      "\t\tError: 2.77537992587895E-11\n",
      "\n"
     ]
    }
   ],
   "source": [
    "# Prueba de la función anterior:\n",
    "x = sp.symbols('x')\n",
    "\n",
    "# Definimos la función numérica:\n",
    "f = lambda x: np.sin(np.log((x**2)+1))\n",
    "\n",
    "# Configuración de variables para el problema\n",
    "a=-1         # Punto en el que se quiere calcular\n",
    "h={0.1, 0.000001}        # Valor pequeño para el cálculo de su derivada numéricamente\n",
    "n = 1        # Orden de derivación\n",
    "\n",
    "# Definimos la función simbólica:\n",
    "f_sym = sp.sin(sp.log(x**2+1))\n",
    "\n",
    "# La derivamos n veces\n",
    "f_der = sp.diff(f_sym, x, 1)\n",
    "\n",
    "# La evaluamos en a\n",
    "res_exacto = f_der.subs({x: a}).evalf()\n",
    "\n",
    "print(Title(f\"Evaluación de la función CalcularDerivada numéricamente:\"))\n",
    "print(f\"\\t- Resultado \\\"exacto\\\" calculado con funciones simbólicas: {res_exacto}\\n\")\n",
    "\n",
    "formulas = [\"diferencia regresiva\", \"diferencia progresiva\", \"diferencia centrada\", \"diferencia centrada 5 nodos\"]\n",
    "for hi in h:\n",
    "\tfor i in range(len(formulas)):\n",
    "\t\tres = CalcularDerivada(f, a, hi, formulas[i] , n)\n",
    "\t\terror = abs(res_exacto - res)\n",
    "\t\tprint(f\"\\t- Resultado obtenido con {formulas[i]} para h={hi}: {res}\")\n",
    "\t\tprint(f\"\\t\\tError: {error}\\n\")\n",
    "\n"
   ]
  },
  {
   "cell_type": "markdown",
   "id": "b2563938",
   "metadata": {},
   "source": [
    "Como se puede observar el mejor resultado lo da la diferencia centrada en 5 nodos y el menor valor de h"
   ]
  },
  {
   "cell_type": "markdown",
   "id": "f60cb282",
   "metadata": {},
   "source": [
    "### Ejercicio 6"
   ]
  },
  {
   "cell_type": "markdown",
   "id": "2b4e27b3",
   "metadata": {},
   "source": [
    "### Ejercicio 7"
   ]
  },
  {
   "cell_type": "markdown",
   "id": "1acfb6a2",
   "metadata": {},
   "source": [
    "### Ejercicio 8"
   ]
  },
  {
   "cell_type": "markdown",
   "id": "3c2bc5d0",
   "metadata": {},
   "source": [
    "### Ejercicio 9"
   ]
  },
  {
   "cell_type": "markdown",
   "id": "d72a35a5",
   "metadata": {},
   "source": [
    "### Ejercicio 10"
   ]
  }
 ],
 "metadata": {
  "kernelspec": {
   "display_name": "Python 3 (ipykernel)",
   "language": "python",
   "name": "python3"
  },
  "language_info": {
   "codemirror_mode": {
    "name": "ipython",
    "version": 3
   },
   "file_extension": ".py",
   "mimetype": "text/x-python",
   "name": "python",
   "nbconvert_exporter": "python",
   "pygments_lexer": "ipython3",
   "version": "3.12.3"
  }
 },
 "nbformat": 4,
 "nbformat_minor": 5
}
