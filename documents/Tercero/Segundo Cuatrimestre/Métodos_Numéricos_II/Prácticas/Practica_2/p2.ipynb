{
 "cells": [
  {
   "cell_type": "markdown",
   "id": "22d9bc90",
   "metadata": {},
   "source": [
    "# Práctica 2"
   ]
  },
  {
   "cell_type": "markdown",
   "id": "69edf805",
   "metadata": {},
   "source": [
    "### General"
   ]
  },
  {
   "cell_type": "code",
   "execution_count": null,
   "id": "c7a05922",
   "metadata": {},
   "outputs": [],
   "source": [
    "# Carga de librerías necesarias\n",
    "import numpy as np\n",
    "import sympy as sp\n",
    "import matplotlib.pyplot as plt\n",
    "from random import random\n",
    "\n",
    "from IPython.display import display\n",
    "\n",
    "from colorama import Fore, Back, Style # Colores en el output"
   ]
  },
  {
   "cell_type": "code",
   "execution_count": 3,
   "id": "7711f6db",
   "metadata": {},
   "outputs": [],
   "source": [
    "def Title(msg):\n",
    "    return Style.BRIGHT + Fore.BLACK + Back.WHITE + msg + Style.RESET_ALL\n",
    "\n",
    "def Error(msg):\n",
    "    return Style.BRIGHT + Fore.RED + msg + Style.RESET_ALL"
   ]
  },
  {
   "cell_type": "markdown",
   "id": "ccd6d377",
   "metadata": {},
   "source": [
    "### Ejercicio 1"
   ]
  },
  {
   "cell_type": "markdown",
   "id": "e410740a",
   "metadata": {},
   "source": [
    "Pruebe ahora a repetir el mismo proceso, pero con los datos de interpolación  \n",
    "- $(a-h,f(a-h))$ y $(a,f(a))$,\n",
    "- $(a-h,f(a-h))$ y $(a+h,f(a+h))$. \n",
    "  \n",
    " ¿Qué fórmulas de derivación numérica se obtiene en cada caso?"
   ]
  },
  {
   "cell_type": "code",
   "execution_count": 4,
   "id": "60752818",
   "metadata": {},
   "outputs": [],
   "source": [
    "# Creamos la función simbólica\n",
    "f = sp.Function('f')\n",
    "a, h, x = sp.symbols('a,h,x') # a, h, x como variables simbólicas"
   ]
  },
  {
   "cell_type": "code",
   "execution_count": 5,
   "id": "eb5bbe75",
   "metadata": {},
   "outputs": [],
   "source": [
    "def polinomio_interpolacion(x_values, y_values):\n",
    "    \"\"\"\n",
    "    Devuelve el polinomio de interpolación para 2 nodos\n",
    "    x_values: Nodos \n",
    "    y_values: Imágenes de los nodos\n",
    "    \"\"\"\n",
    "    return (y_values[1]-y_values[0])/(x_values[1]-x_values[0])*(x-x_values[0])+y_values[0]"
   ]
  },
  {
   "cell_type": "markdown",
   "id": "c71655eb",
   "metadata": {},
   "source": [
    "#### Apartado 1"
   ]
  },
  {
   "cell_type": "code",
   "execution_count": 6,
   "id": "518b8d45",
   "metadata": {},
   "outputs": [
    {
     "name": "stdout",
     "output_type": "stream",
     "text": [
      "\u001b[1m\u001b[30m\u001b[47mAproximación de la derivada para los nodos (a - h, f(a - h)) y (a, f(a)):\u001b[0m\n",
      "L(f)≡ f'(a) ≈ p'(a) = \n"
     ]
    },
    {
     "data": {
      "text/latex": [
       "$\\displaystyle \\frac{f{\\left(a \\right)} - f{\\left(a - h \\right)}}{h}$"
      ],
      "text/plain": [
       "(f(a) - f(a - h))/h"
      ]
     },
     "metadata": {},
     "output_type": "display_data"
    },
    {
     "name": "stdout",
     "output_type": "stream",
     "text": [
      "donde p (el polinomio de interpolación) es\n"
     ]
    },
    {
     "data": {
      "text/latex": [
       "$\\displaystyle f{\\left(a - h \\right)} + \\frac{\\left(f{\\left(a \\right)} - f{\\left(a - h \\right)}\\right) \\left(- a + h + x\\right)}{h}$"
      ],
      "text/plain": [
       "f(a - h) + (f(a) - f(a - h))*(-a + h + x)/h"
      ]
     },
     "metadata": {},
     "output_type": "display_data"
    }
   ],
   "source": [
    "# Definimos los valores y sus imagenes\n",
    "x_values = [a-h,a]\n",
    "y_values = [f(x_values[0]),f(x_values[1])]\n",
    "\n",
    "# Calculamos el polinomio de interpolación\n",
    "p = polinomio_interpolacion(x_values, y_values)\n",
    "\n",
    "# Derivamos el polinomio de interpolación\n",
    "p_der = sp.diff(p,x)\n",
    "\n",
    "# Mostramos los resultados\n",
    "print(Title(f\"Aproximación de la derivada para los nodos ({x_values[0]}, {y_values[0]}) y ({x_values[1]}, {y_values[1]}):\"))\n",
    "print(f\"L(f)≡ f'(a) ≈ p'(a) = \")\n",
    "display(p_der)\n",
    "print(f\"donde p (el polinomio de interpolación) es\")\n",
    "display(p)"
   ]
  },
  {
   "cell_type": "markdown",
   "id": "a91e8cb0",
   "metadata": {},
   "source": [
    "#### Apartado 2"
   ]
  },
  {
   "cell_type": "code",
   "execution_count": 7,
   "id": "bb211569",
   "metadata": {},
   "outputs": [
    {
     "name": "stdout",
     "output_type": "stream",
     "text": [
      "\u001b[1m\u001b[30m\u001b[47mAproximación de la derivada para los nodos (a - h, f(a - h)) y (a + h, f(a + h)):\u001b[0m\n",
      "L(f)≡ f'(a) ≈ p'(a) = \n"
     ]
    },
    {
     "data": {
      "text/latex": [
       "$\\displaystyle \\frac{- f{\\left(a - h \\right)} + f{\\left(a + h \\right)}}{2 h}$"
      ],
      "text/plain": [
       "(-f(a - h) + f(a + h))/(2*h)"
      ]
     },
     "metadata": {},
     "output_type": "display_data"
    },
    {
     "name": "stdout",
     "output_type": "stream",
     "text": [
      "donde p (el polinomio de interpolación) es\n"
     ]
    },
    {
     "data": {
      "text/latex": [
       "$\\displaystyle f{\\left(a - h \\right)} + \\frac{\\left(- f{\\left(a - h \\right)} + f{\\left(a + h \\right)}\\right) \\left(- a + h + x\\right)}{2 h}$"
      ],
      "text/plain": [
       "f(a - h) + (-f(a - h) + f(a + h))*(-a + h + x)/(2*h)"
      ]
     },
     "metadata": {},
     "output_type": "display_data"
    }
   ],
   "source": [
    "# Definimos los valores y sus imagenes\n",
    "x_values = [a-h,a+h]\n",
    "y_values = [f(x_values[0]),f(x_values[1])]\n",
    "\n",
    "# Calculamos el polinomio de interpolación\n",
    "p = polinomio_interpolacion(x_values, y_values)\n",
    "\n",
    "# Derivamos el polinomio de interpolación\n",
    "p_der = sp.diff(p,x)\n",
    "\n",
    "# Mostramos los resultados\n",
    "print(Title(f\"Aproximación de la derivada para los nodos ({x_values[0]}, {y_values[0]}) y ({x_values[1]}, {y_values[1]}):\"))\n",
    "print(f\"L(f)≡ f'(a) ≈ p'(a) = \")\n",
    "display(p_der)\n",
    "print(f\"donde p (el polinomio de interpolación) es\")\n",
    "display(p)"
   ]
  },
  {
   "cell_type": "markdown",
   "id": "fb0c0531",
   "metadata": {},
   "source": [
    "### Ejercicio 2"
   ]
  },
  {
   "cell_type": "markdown",
   "id": "236b1f69",
   "metadata": {},
   "source": [
    "Codifica una función para calcular la fórmula de derivación de tipo interpolatorio obtenida al derivar el polinomio interpolador en una lista de nodos que acepte como argumento. Añade un argumento opcional que sea el orden de la derivada a calcular. Comprueba el correcto funcionamiento de esta función con los ejemplos mostrados hasta el momento."
   ]
  },
  {
   "cell_type": "code",
   "execution_count": 8,
   "id": "50d91ae3",
   "metadata": {},
   "outputs": [],
   "source": [
    "from sympy.polys.polyfuncs import interpolate\n",
    "\n",
    "def formula_derivacion_interpolatorio(x_values, order=1):\n",
    "\t# Creamos la función simbólica\n",
    "\tf = sp.Function('f')\n",
    "\tx = sp.symbols('x') # x como variable simbólica\n",
    "\n",
    "\ty_values = [f(xi) for xi in x_values]\n",
    "\tdata = list(zip(x_values, y_values))  # lista de tuplas (x,y) para los nodos de interpolación\n",
    "\n",
    "\tinterpolated_poly = interpolate(data, x)\n",
    "\n",
    "\treturn sp.diff(interpolated_poly,x,order)\n"
   ]
  },
  {
   "cell_type": "code",
   "execution_count": 9,
   "id": "2f6a0b56",
   "metadata": {},
   "outputs": [],
   "source": [
    "def evaluar_funcion(x_values, order=1):\n",
    "\t\"\"\"\"\n",
    "\tFunción que sirve únicamente para evaluar la función formula_derivacion_interpolatorio\n",
    "\tFormatea la salida y devuelve el resultado de la función\n",
    "\t\"\"\"\n",
    "\tprint(Title(f\"Aproximación de la derivada {order}ª para los nodos {x_values} :\"))\n",
    "\tformula = formula_derivacion_interpolatorio(x_values, order)\n",
    "\tdisplay(formula.simplify())\n",
    "\t\n",
    "\treturn formula"
   ]
  },
  {
   "cell_type": "code",
   "execution_count": 10,
   "id": "20568eb7",
   "metadata": {},
   "outputs": [
    {
     "name": "stdout",
     "output_type": "stream",
     "text": [
      "\u001b[1m\u001b[30m\u001b[47mAproximación de la derivada 1ª para los nodos [a - h, a] :\u001b[0m\n"
     ]
    },
    {
     "data": {
      "text/latex": [
       "$\\displaystyle \\frac{f{\\left(a \\right)} - f{\\left(a - h \\right)}}{h}$"
      ],
      "text/plain": [
       "(f(a) - f(a - h))/h"
      ]
     },
     "metadata": {},
     "output_type": "display_data"
    },
    {
     "name": "stdout",
     "output_type": "stream",
     "text": [
      "\u001b[1m\u001b[30m\u001b[47mAproximación de la derivada 1ª para los nodos [a - h, a + h] :\u001b[0m\n"
     ]
    },
    {
     "data": {
      "text/latex": [
       "$\\displaystyle \\frac{- f{\\left(a - h \\right)} + f{\\left(a + h \\right)}}{2 h}$"
      ],
      "text/plain": [
       "(-f(a - h) + f(a + h))/(2*h)"
      ]
     },
     "metadata": {},
     "output_type": "display_data"
    },
    {
     "name": "stdout",
     "output_type": "stream",
     "text": [
      "\u001b[1m\u001b[30m\u001b[47mAproximación de la derivada 1ª para los nodos [a - h, a, a + h] :\u001b[0m\n"
     ]
    },
    {
     "data": {
      "text/latex": [
       "$\\displaystyle \\frac{2 a f{\\left(a \\right)} - a f{\\left(a - h \\right)} - a f{\\left(a + h \\right)} + \\frac{h \\left(- f{\\left(a - h \\right)} + f{\\left(a + h \\right)}\\right)}{2} - 2 x f{\\left(a \\right)} + x f{\\left(a - h \\right)} + x f{\\left(a + h \\right)}}{h^{2}}$"
      ],
      "text/plain": [
       "(2*a*f(a) - a*f(a - h) - a*f(a + h) + h*(-f(a - h) + f(a + h))/2 - 2*x*f(a) + x*f(a - h) + x*f(a + h))/h**2"
      ]
     },
     "metadata": {},
     "output_type": "display_data"
    },
    {
     "name": "stdout",
     "output_type": "stream",
     "text": [
      "\u001b[1m\u001b[30m\u001b[47mAproximación de la derivada 2ª para los nodos [a - h, a, a + h] :\u001b[0m\n"
     ]
    },
    {
     "data": {
      "text/latex": [
       "$\\displaystyle \\frac{- 2 f{\\left(a \\right)} + f{\\left(a - h \\right)} + f{\\left(a + h \\right)}}{h^{2}}$"
      ],
      "text/plain": [
       "(-2*f(a) + f(a - h) + f(a + h))/h**2"
      ]
     },
     "metadata": {},
     "output_type": "display_data"
    },
    {
     "name": "stdout",
     "output_type": "stream",
     "text": [
      "\u001b[1m\u001b[30m\u001b[47mAproximación de la derivada 1ª para los nodos [a - 2*h, a - h, a, a + h, a + 2*h] :\u001b[0m\n"
     ]
    },
    {
     "data": {
      "text/latex": [
       "$\\displaystyle \\frac{- 12 a^{3} f{\\left(a \\right)} - 2 a^{3} f{\\left(a - 2 h \\right)} + 8 a^{3} f{\\left(a - h \\right)} + 8 a^{3} f{\\left(a + h \\right)} - 2 a^{3} f{\\left(a + 2 h \\right)} + 36 a^{2} x f{\\left(a \\right)} + 6 a^{2} x f{\\left(a - 2 h \\right)} - 24 a^{2} x f{\\left(a - h \\right)} - 24 a^{2} x f{\\left(a + h \\right)} + 6 a^{2} x f{\\left(a + 2 h \\right)} - 36 a x^{2} f{\\left(a \\right)} - 6 a x^{2} f{\\left(a - 2 h \\right)} + 24 a x^{2} f{\\left(a - h \\right)} + 24 a x^{2} f{\\left(a + h \\right)} - 6 a x^{2} f{\\left(a + 2 h \\right)} + h^{3} \\left(f{\\left(a - 2 h \\right)} - 8 f{\\left(a - h \\right)} + 8 f{\\left(a + h \\right)} - f{\\left(a + 2 h \\right)}\\right) + h^{2} \\cdot \\left(30 a f{\\left(a \\right)} + a f{\\left(a - 2 h \\right)} - 16 a f{\\left(a - h \\right)} - 16 a f{\\left(a + h \\right)} + a f{\\left(a + 2 h \\right)} - 30 x f{\\left(a \\right)} - x f{\\left(a - 2 h \\right)} + 16 x f{\\left(a - h \\right)} + 16 x f{\\left(a + h \\right)} - x f{\\left(a + 2 h \\right)}\\right) + 3 h \\left(- a^{2} f{\\left(a - 2 h \\right)} + 2 a^{2} f{\\left(a - h \\right)} - 2 a^{2} f{\\left(a + h \\right)} + a^{2} f{\\left(a + 2 h \\right)} + 2 a x f{\\left(a - 2 h \\right)} - 4 a x f{\\left(a - h \\right)} + 4 a x f{\\left(a + h \\right)} - 2 a x f{\\left(a + 2 h \\right)} - x^{2} f{\\left(a - 2 h \\right)} + 2 x^{2} f{\\left(a - h \\right)} - 2 x^{2} f{\\left(a + h \\right)} + x^{2} f{\\left(a + 2 h \\right)}\\right) + 12 x^{3} f{\\left(a \\right)} + 2 x^{3} f{\\left(a - 2 h \\right)} - 8 x^{3} f{\\left(a - h \\right)} - 8 x^{3} f{\\left(a + h \\right)} + 2 x^{3} f{\\left(a + 2 h \\right)}}{12 h^{4}}$"
      ],
      "text/plain": [
       "(-12*a**3*f(a) - 2*a**3*f(a - 2*h) + 8*a**3*f(a - h) + 8*a**3*f(a + h) - 2*a**3*f(a + 2*h) + 36*a**2*x*f(a) + 6*a**2*x*f(a - 2*h) - 24*a**2*x*f(a - h) - 24*a**2*x*f(a + h) + 6*a**2*x*f(a + 2*h) - 36*a*x**2*f(a) - 6*a*x**2*f(a - 2*h) + 24*a*x**2*f(a - h) + 24*a*x**2*f(a + h) - 6*a*x**2*f(a + 2*h) + h**3*(f(a - 2*h) - 8*f(a - h) + 8*f(a + h) - f(a + 2*h)) + h**2*(30*a*f(a) + a*f(a - 2*h) - 16*a*f(a - h) - 16*a*f(a + h) + a*f(a + 2*h) - 30*x*f(a) - x*f(a - 2*h) + 16*x*f(a - h) + 16*x*f(a + h) - x*f(a + 2*h)) + 3*h*(-a**2*f(a - 2*h) + 2*a**2*f(a - h) - 2*a**2*f(a + h) + a**2*f(a + 2*h) + 2*a*x*f(a - 2*h) - 4*a*x*f(a - h) + 4*a*x*f(a + h) - 2*a*x*f(a + 2*h) - x**2*f(a - 2*h) + 2*x**2*f(a - h) - 2*x**2*f(a + h) + x**2*f(a + 2*h)) + 12*x**3*f(a) + 2*x**3*f(a - 2*h) - 8*x**3*f(a - h) - 8*x**3*f(a + h) + 2*x**3*f(a + 2*h))/(12*h**4)"
      ]
     },
     "metadata": {},
     "output_type": "display_data"
    },
    {
     "name": "stdout",
     "output_type": "stream",
     "text": [
      "\u001b[1m\u001b[30m\u001b[47mAproximación de la derivada 2ª para los nodos [a - 2*h, a - h, a, a + h, a + 2*h] :\u001b[0m\n"
     ]
    },
    {
     "data": {
      "text/latex": [
       "$\\displaystyle \\frac{3 a^{2} f{\\left(a \\right)} + \\frac{a^{2} f{\\left(a - 2 h \\right)}}{2} - 2 a^{2} f{\\left(a - h \\right)} - 2 a^{2} f{\\left(a + h \\right)} + \\frac{a^{2} f{\\left(a + 2 h \\right)}}{2} - 6 a x f{\\left(a \\right)} - a x f{\\left(a - 2 h \\right)} + 4 a x f{\\left(a - h \\right)} + 4 a x f{\\left(a + h \\right)} - a x f{\\left(a + 2 h \\right)} + \\frac{h^{2} \\left(- 30 f{\\left(a \\right)} - f{\\left(a - 2 h \\right)} + 16 f{\\left(a - h \\right)} + 16 f{\\left(a + h \\right)} - f{\\left(a + 2 h \\right)}\\right)}{12} + \\frac{h \\left(a f{\\left(a - 2 h \\right)} - 2 a f{\\left(a - h \\right)} + 2 a f{\\left(a + h \\right)} - a f{\\left(a + 2 h \\right)} - x f{\\left(a - 2 h \\right)} + 2 x f{\\left(a - h \\right)} - 2 x f{\\left(a + h \\right)} + x f{\\left(a + 2 h \\right)}\\right)}{2} + 3 x^{2} f{\\left(a \\right)} + \\frac{x^{2} f{\\left(a - 2 h \\right)}}{2} - 2 x^{2} f{\\left(a - h \\right)} - 2 x^{2} f{\\left(a + h \\right)} + \\frac{x^{2} f{\\left(a + 2 h \\right)}}{2}}{h^{4}}$"
      ],
      "text/plain": [
       "(3*a**2*f(a) + a**2*f(a - 2*h)/2 - 2*a**2*f(a - h) - 2*a**2*f(a + h) + a**2*f(a + 2*h)/2 - 6*a*x*f(a) - a*x*f(a - 2*h) + 4*a*x*f(a - h) + 4*a*x*f(a + h) - a*x*f(a + 2*h) + h**2*(-30*f(a) - f(a - 2*h) + 16*f(a - h) + 16*f(a + h) - f(a + 2*h))/12 + h*(a*f(a - 2*h) - 2*a*f(a - h) + 2*a*f(a + h) - a*f(a + 2*h) - x*f(a - 2*h) + 2*x*f(a - h) - 2*x*f(a + h) + x*f(a + 2*h))/2 + 3*x**2*f(a) + x**2*f(a - 2*h)/2 - 2*x**2*f(a - h) - 2*x**2*f(a + h) + x**2*f(a + 2*h)/2)/h**4"
      ]
     },
     "metadata": {},
     "output_type": "display_data"
    },
    {
     "name": "stdout",
     "output_type": "stream",
     "text": [
      "\u001b[1m\u001b[30m\u001b[47mEvaluación de la fórmula anterior para x=a :\u001b[0m\n"
     ]
    },
    {
     "data": {
      "text/latex": [
       "$\\displaystyle \\frac{- 30 f{\\left(a \\right)} - f{\\left(a - 2 h \\right)} + 16 f{\\left(a - h \\right)} + 16 f{\\left(a + h \\right)} - f{\\left(a + 2 h \\right)}}{12 h^{2}}$"
      ],
      "text/plain": [
       "(-30*f(a) - f(a - 2*h) + 16*f(a - h) + 16*f(a + h) - f(a + 2*h))/(12*h**2)"
      ]
     },
     "metadata": {},
     "output_type": "display_data"
    },
    {
     "name": "stdout",
     "output_type": "stream",
     "text": [
      "\u001b[1m\u001b[30m\u001b[47mAproximación de la derivada 1ª para los nodos [a, a + h, a + 2*h] :\u001b[0m\n"
     ]
    },
    {
     "data": {
      "text/latex": [
       "$\\displaystyle \\frac{- a f{\\left(a \\right)} + 2 a f{\\left(a + h \\right)} - a f{\\left(a + 2 h \\right)} + \\frac{h \\left(- 3 f{\\left(a \\right)} + 4 f{\\left(a + h \\right)} - f{\\left(a + 2 h \\right)}\\right)}{2} + x f{\\left(a \\right)} - 2 x f{\\left(a + h \\right)} + x f{\\left(a + 2 h \\right)}}{h^{2}}$"
      ],
      "text/plain": [
       "(-a*f(a) + 2*a*f(a + h) - a*f(a + 2*h) + h*(-3*f(a) + 4*f(a + h) - f(a + 2*h))/2 + x*f(a) - 2*x*f(a + h) + x*f(a + 2*h))/h**2"
      ]
     },
     "metadata": {},
     "output_type": "display_data"
    },
    {
     "name": "stdout",
     "output_type": "stream",
     "text": [
      "\u001b[1m\u001b[30m\u001b[47mEvaluación de la fórmula anterior para x=a :\u001b[0m\n"
     ]
    },
    {
     "data": {
      "text/latex": [
       "$\\displaystyle \\frac{- 3 f{\\left(a \\right)} + 4 f{\\left(a + h \\right)} - f{\\left(a + 2 h \\right)}}{2 h}$"
      ],
      "text/plain": [
       "(-3*f(a) + 4*f(a + h) - f(a + 2*h))/(2*h)"
      ]
     },
     "metadata": {},
     "output_type": "display_data"
    },
    {
     "name": "stdout",
     "output_type": "stream",
     "text": [
      "\u001b[1m\u001b[30m\u001b[47mAproximación de la derivada 2ª para los nodos [a, a + h, a + 2*h] :\u001b[0m\n"
     ]
    },
    {
     "data": {
      "text/latex": [
       "$\\displaystyle \\frac{f{\\left(a \\right)} - 2 f{\\left(a + h \\right)} + f{\\left(a + 2 h \\right)}}{h^{2}}$"
      ],
      "text/plain": [
       "(f(a) - 2*f(a + h) + f(a + 2*h))/h**2"
      ]
     },
     "metadata": {},
     "output_type": "display_data"
    },
    {
     "name": "stdout",
     "output_type": "stream",
     "text": [
      "\u001b[1m\u001b[30m\u001b[47mEvaluación de la fórmula anterior para x=a :\u001b[0m\n"
     ]
    },
    {
     "data": {
      "text/latex": [
       "$\\displaystyle \\frac{f{\\left(a \\right)} - 2 f{\\left(a + h \\right)} + f{\\left(a + 2 h \\right)}}{h^{2}}$"
      ],
      "text/plain": [
       "(f(a) - 2*f(a + h) + f(a + 2*h))/h**2"
      ]
     },
     "metadata": {},
     "output_type": "display_data"
    }
   ],
   "source": [
    "# Probemos la función recién definida\n",
    "\n",
    "# Voy simplemente a mostrar los resultados. Si quisiese probar otras cosas llamaría directamente a la función formula_derivacion_interpolatorio\n",
    "\n",
    "# Los nodos del ejercicio anterior\n",
    "x_values = [a-h,a]\n",
    "evaluar_funcion(x_values)\n",
    "\n",
    "x_values = [a-h,a+h]\n",
    "evaluar_funcion(x_values)\n",
    "\n",
    "# Probamos con 3 nodos\n",
    "x_values = [a-h, a, a+h]\n",
    "evaluar_funcion(x_values)\n",
    "evaluar_funcion(x_values, 2)\n",
    "\n",
    "# Con más nodos\n",
    "x_values = [a-2*h, a-h, a, a+h, a+2*h]\n",
    "evaluar_funcion(x_values)\n",
    "funcion = evaluar_funcion(x_values,2)\n",
    "\n",
    "# Vamos a probar a evaluarla en el punto 'a'\n",
    "print(Title(f\"Evaluación de la fórmula anterior para x=a :\"))\n",
    "display(funcion.subs({x:a}).simplify())\n",
    "\n",
    "# Más ejemplos\n",
    "x_values = [a, a+h, a+2*h]\n",
    "funcion=evaluar_funcion(x_values)\n",
    "print(Title(f\"Evaluación de la fórmula anterior para x=a :\"))\n",
    "display(funcion.subs({x:a}).simplify())\n",
    "\n",
    "funcion=evaluar_funcion(x_values,2)\n",
    "print(Title(f\"Evaluación de la fórmula anterior para x=a :\"))\n",
    "display(funcion.subs({x:a}).simplify())"
   ]
  },
  {
   "cell_type": "markdown",
   "id": "d9836641",
   "metadata": {},
   "source": [
    "### Ejercicio 3"
   ]
  },
  {
   "cell_type": "markdown",
   "id": "6ccd92fc",
   "metadata": {},
   "source": [
    "Repita este procedimiento con la fórmula para la segunda derivada\n",
    "\n",
    "$$f''(a) \\approx \\frac{f(a+h)-2f(a)+f(a-h)}{h^2}$$\n",
    "\n",
    "y compruebe que tiene orden de aproximación 2."
   ]
  },
  {
   "cell_type": "code",
   "execution_count": 11,
   "id": "17a729b4",
   "metadata": {},
   "outputs": [],
   "source": [
    "def Obtener_expresion_error(formula_der, x_values, n):\n",
    "\t\"\"\"\n",
    "\tDevuelve la expresión del error de una fórmula simbólica\n",
    "\tformula_der: Fórmula de la que se quiere calcular el error\n",
    "\tx_values: Ordenadas de los nodos que se usan en formula_der\n",
    "\tn: Orden\n",
    "\t\"\"\"\n",
    "\n",
    "\tf = sp.Function('f')\n",
    "\ta,x = sp.symbols('a,x')\n",
    "\tfseries = (f(x).series(x,a,n)).removeO()\n",
    "\ttaylor = []\n",
    "\n",
    "\t# Calculamos el desarrollo de Taylor de f(x) para cada nodo x\n",
    "\tfor i in range(len(x_values)):\n",
    "\t\ttaylor.append(fseries.subs({x:x_values[i]}))\n",
    "\t\n",
    "\t# Sustituimos f(x) por el desarrollo de taylor de f(x) para cada nodo x\n",
    "\tsustituciones = {\n",
    "\t\t\tf(x_values[i]): taylor[i] for i in range(len(x_values))\n",
    "\t}\n",
    "\n",
    "\treturn sp.expand(formula_der(f).subs(sustituciones))"
   ]
  },
  {
   "cell_type": "code",
   "execution_count": 12,
   "id": "c69f5932",
   "metadata": {},
   "outputs": [
    {
     "name": "stdout",
     "output_type": "stream",
     "text": [
      "\u001b[1m\u001b[30m\u001b[47mExpresión del error en Pn para n=1:\u001b[0m\n"
     ]
    },
    {
     "data": {
      "text/latex": [
       "$\\displaystyle 0$"
      ],
      "text/plain": [
       "0"
      ]
     },
     "metadata": {},
     "output_type": "display_data"
    },
    {
     "name": "stdout",
     "output_type": "stream",
     "text": [
      "\u001b[1m\u001b[30m\u001b[47mExpresión del error en Pn para n=2:\u001b[0m\n"
     ]
    },
    {
     "data": {
      "text/latex": [
       "$\\displaystyle 0$"
      ],
      "text/plain": [
       "0"
      ]
     },
     "metadata": {},
     "output_type": "display_data"
    },
    {
     "name": "stdout",
     "output_type": "stream",
     "text": [
      "\u001b[1m\u001b[30m\u001b[47mExpresión del error en Pn para n=3:\u001b[0m\n"
     ]
    },
    {
     "data": {
      "text/latex": [
       "$\\displaystyle \\left. \\frac{d^{2}}{d \\xi_{1}^{2}} f{\\left(\\xi_{1} \\right)} \\right|_{\\substack{ \\xi_{1}=a }}$"
      ],
      "text/plain": [
       "Subs(Derivative(f(_xi_1), (_xi_1, 2)), _xi_1, a)"
      ]
     },
     "metadata": {},
     "output_type": "display_data"
    }
   ],
   "source": [
    "f =sp.Function('f')\n",
    "a, h, x = sp.symbols('a,h,x') # a, h, x como variables simbólicas\n",
    "\n",
    "# Tenemos 2 opciones\n",
    "# Opción 1: Calcular la derivada segunda con la función del ejercicio anterior\n",
    "# Opción 2: Definir directamente la derivada en este ejercicio\n",
    "\n",
    "opcion = 1 # Para elegir la opción\n",
    "\n",
    "x_values = [a-h,a,a+h]\n",
    "n = 2 # Orden del error a comprobar\n",
    "\n",
    "if(opcion == 1):\n",
    "\t# Definimos la función simbólica\n",
    "\tformula_der = lambda g: formula_derivacion_interpolatorio(x_values,2).subs({f:g})\n",
    "elif(opcion == 2):\n",
    "\t# También podríamos haberla especificado directamente:\n",
    "\tformula_der = lambda f: (f(a+h)-2*f(a)+f(a-h))/h**2\n",
    "else:\n",
    "\tprint(\"ERROR: [opcion] tiene que ser 1 o 2\")\n",
    "\n",
    "e=0 # Error\n",
    "i=0 # Iteraciones\n",
    "\n",
    "# Mientras se anule el error la fórmula será exacta en P_n\n",
    "while e==0 :\n",
    "\ti+=1\n",
    "\te = Obtener_expresion_error(formula_der,x_values, i)\n",
    "\tprint(Title(f\"Expresión del error en Pn para n={i}:\"))\n",
    "\tdisplay(e)\n"
   ]
  },
  {
   "cell_type": "markdown",
   "id": "c65227d3",
   "metadata": {},
   "source": [
    "Y se puede ver que el primer error no nulo es para $n=3$ por lo que tiene orden 2"
   ]
  },
  {
   "cell_type": "markdown",
   "id": "031648f9",
   "metadata": {},
   "source": [
    "### Ejercicio 4"
   ]
  },
  {
   "cell_type": "markdown",
   "id": "fa0b36a1",
   "metadata": {},
   "source": [
    "Utilice la función $f(x) = \\dfrac{e^{\\cos(x)}}{x^2+1}$ y el valor $a=1$ y compruebe que ocurre este mismo hecho. Repita el procedimiento utilizando la fórmula de diferencia centrada en lugar de la de diferencia progresiva y comenta las diferencias observadas.\n"
   ]
  },
  {
   "cell_type": "code",
   "execution_count": 160,
   "id": "2ae155ec",
   "metadata": {},
   "outputs": [
    {
     "name": "stdout",
     "output_type": "stream",
     "text": [
      "\u001b[1m\u001b[30m\u001b[47mErrores cometidos con derivada progresiva:\u001b[0m\n",
      "[0.854119967908255 0.119838449606543 0.0122125025833004\n",
      " 0.00122312718892359 0.000122331027588407 1.22332700112082e-5\n",
      " 1.22347693376490e-6 1.19360135775182e-7 3.27627398544195e-8\n",
      " -1.78179634824360e-7 -7.33291147136939e-7 8.14849304986431e-6\n",
      " -4.73626581813935e-5 0.00172899418121886 0.00394944023046917\n",
      " -0.306913006664574 1.58046613519819 1.58046613519819 1.58046613519819\n",
      " 1.58046613519819 1.58046613519819]\n",
      "\u001b[1m\u001b[30m\u001b[47mEvolución de las aproximaciones:\u001b[0m\n",
      "[-0.726346, -1.46063, -1.56825, -1.57924, -1.58034, -1.58045, -1.58046, -1.58047, -1.58047, -1.58047, -1.58047, -1.58046, -1.58051, -1.57874, -1.57652, -1.88738, 0, 0, 0, 0, 0]\n",
      "\n",
      "\u001b[1m\u001b[30m\u001b[47mErrores cometidos con derivada centrada:\u001b[0m\n",
      "[2.87364870818546 3.16290016965575 3.16095254983720 3.16093247325078\n",
      " 3.16093227242470 3.16093227041853 3.16093227038522 3.16093227149545\n",
      " 3.16093225983810 3.16093228204256 3.16093244857602 3.16092412190333\n",
      " 3.16092412190333 3.16031349923979 3.15698283016591 3.30131182336718\n",
      " 2.13557764751077 1.58046613519819 1.58046613519819 1.58046613519819\n",
      " 1.58046613519819]\n",
      "\u001b[1m\u001b[30m\u001b[47mEvolución de las aproximaciones:\u001b[0m\n",
      "[1.29318, 1.58243, 1.58049, 1.58047, 1.58047, 1.58047, 1.58047, 1.58047, 1.58047, 1.58047, 1.58047, 1.58046, 1.58046, 1.57985, 1.57652, 1.72085, 0.555112, 0, 0, 0, 0]\n"
     ]
    }
   ],
   "source": [
    "x = sp.symbols('x')\n",
    "\n",
    "# Definimos la función f(x)\n",
    "f = lambda x: (sp.exp(sp.cos(x)))/(x**2+1)\n",
    "\n",
    "a=1\n",
    "n=20\n",
    "\n",
    "\n",
    "vexacto = (sp.diff(f(x),x)).subs({x:a}).evalf()\n",
    "\n",
    "# Calculamos los errores con la derivada progresiva\n",
    "dersnum_pro = np.array([(f(a+10**(-j)).evalf()-f(a).evalf())/(10**(-j)) for j in range(n+1)])\n",
    "errores_pro = np.array(dersnum_pro) - vexacto\n",
    "\n",
    "# Calculamos los errores con la derivada centrada\n",
    "dersnum_cen = np.array([(f(a-10**(-j)).evalf()-f(a+10**(-j)).evalf())/(2*10**(-j)) for j in range(n+1)])\n",
    "errores_cen = np.array(dersnum_cen) - vexacto\n",
    "\n",
    "print(Title(f\"Errores cometidos con derivada progresiva:\"))\n",
    "print(errores_pro)\n",
    "\n",
    "print(Title(f\"Evolución de las aproximaciones:\"))\n",
    "print([sp.N(dersnum_pro[k],6) for k in range(n+1)]) # con 6 cifras significativas\n",
    "print()\n",
    "\n",
    "print(Title(f\"Errores cometidos con derivada centrada:\"))\n",
    "print(errores_cen)\n",
    "\n",
    "print(Title(f\"Evolución de las aproximaciones:\"))\n",
    "print([sp.N(dersnum_cen[k],6) for k in range(n+1)]) # con 6 cifras significativas"
   ]
  },
  {
   "cell_type": "markdown",
   "id": "95a322e1",
   "metadata": {},
   "source": [
    "y vemos que se produce el mismo fenómeno aunque la derivada centrada tiene resultados más \"estables\" al principio"
   ]
  },
  {
   "cell_type": "markdown",
   "id": "036b5557",
   "metadata": {},
   "source": [
    "### Ejercicio 5"
   ]
  },
  {
   "cell_type": "markdown",
   "id": "59adb25e",
   "metadata": {},
   "source": [
    "Implementa una función que acepte como argumentos una función en versión numérica `f`, un valor `a`, un valor `h`, un entero opcional `n` y un cuarto argumento que sea la fórmula de derivación numérica utilizada. La función deberá calcular la derivada `n`-ésima de la función `f` en el punto `a` utilizando la fórmula y el valor de `h` indicados. Las posibles fórmulas utilizadas deben incluir, al menos: diferencia regresiva, diferencia progresiva, diferencia centrada y diferencia centrada con 5 nodos. Para la función $$f(x) = \\sin(\\log(x^2+1)),$$ calcula el valor de $f'(-1)$, primero derivando una versión simbólica y obteniendo el valor exacto y después utilizando la función implementada con distintos valores de `h` y distintas fórmulas y comprueba las diferencias en la aproximación en cada caso."
   ]
  },
  {
   "cell_type": "code",
   "execution_count": 14,
   "id": "1a6a9795",
   "metadata": {},
   "outputs": [],
   "source": [
    "def CalcularDerivada(f_num, a_num, h_num, formula_der, n=1):\n",
    "\t\"\"\"\n",
    "\tFunción que calcula la derivada n-ésima de la función f en el punto a utilizando la fórmula de derivación y h dados\n",
    "\tf_num: Función en versión numérica\n",
    "\ta: Punto donde se quiere calcular la derivada\n",
    "\th: Valor pequeño (para calcular los nodos)\n",
    "\tn: Orden de la derivada a calcular\n",
    "\tformula_der: Fórmula de derivación numérica que se quiera utilizar\n",
    "\n",
    "\tformula_der debe de estar entre las siguientes opciones: \n",
    "\t\t\t\\\"diferencia regresiva\\\" \\\"diferencia progresiva\\\" \\\"diferencia centrada\\\" \\\"diferencia centrada 5 nodos\\\"\n",
    "\t\"\"\"\n",
    "\t\n",
    "\terror = False\n",
    "\n",
    "\t# Defino a y h simbólicos para la función de derivación \n",
    "\ta,h = sp.symbols('a,h')\n",
    "\tf = sp.Function('f')\n",
    "\n",
    "\n",
    "\tmatch formula_der:\n",
    "\t\tcase \"diferencia regresiva\":\n",
    "\t\t\tx_values = [a-h,a]\n",
    "\t\tcase \"diferencia progresiva\":\n",
    "\t\t\tx_values = [a,a+h]\n",
    "\t\tcase \"diferencia centrada\":\n",
    "\t\t\tx_values = [a-h, a+h]\n",
    "\t\tcase \"diferencia centrada 5 nodos\":\n",
    "\t\t\tx_values = [a-2*h, a-h,a, a+h, a+2*h]\n",
    "\t\tcase _:\n",
    "\t\t\tprint(Error(f\"ERROR: formula_der ({formula_der}) debe de estar entre las siguientes opciones: \"))\n",
    "\t\t\tprint(Error(f\"       \\\"diferencia regresiva\\\" \\\"diferencia progresiva\\\" \\\"diferencia centrada\\\" \\\"diferencia centrada 5 nodos\\\"\"))\n",
    "\t\t\terror = True\n",
    "\t\n",
    "\tif error==False : # Si la fórmula existe\n",
    "\n",
    "\t\tf_der = (formula_derivacion_interpolatorio(x_values, n)).subs({x: a_num}).simplify()\n",
    "\n",
    "\t\t# print(f\"La fórmula de derivación elegida es\")\n",
    "\t\t# display(f_der)\n",
    "\n",
    "\t\tsustituciones = {}\n",
    "\n",
    "\t\tfor i in range(len(x_values)):\n",
    "\t\t\t# Calculo el valor del nodo (sustituyo a por a_num y h por h_num)\n",
    "\t\t\txi = x_values[i].subs({a: a_num, h: h_num})\n",
    "\n",
    "\t\t\t# Calculo la imagen del nodo por f_num\n",
    "\t\t\tf_xi = f_num(float(xi))\n",
    "\n",
    "\t\t\t# Añado a las sustituciones la expresión f_der para cada f(xi) por su valor f_num(xi_calculado))\n",
    "\t\t\tsustituciones[f(x_values[i])] = f_xi\n",
    "\n",
    "\t\t# Aplico las sustituciones anteriores (y de nuevo las de a y h por si queda alguna fuera de f(xi))\n",
    "\t\treturn f_der.subs(sustituciones).subs({a: a_num, h: h_num}).evalf()\n",
    "\t\n",
    "\telse: # Si no existe devuelve 0\n",
    "\t\treturn -1"
   ]
  },
  {
   "cell_type": "code",
   "execution_count": 15,
   "id": "d9123c2c",
   "metadata": {},
   "outputs": [
    {
     "name": "stdout",
     "output_type": "stream",
     "text": [
      "\u001b[1m\u001b[30m\u001b[47mEvaluación de la función CalcularDerivada numéricamente:\u001b[0m\n",
      "\t- Resultado \"exacto\" calculado con funciones simbólicas: -0.769238901363972\n",
      "\n",
      "\t- Resultado obtenido con diferencia regresiva para h=0.1: -0.734950803404915\n",
      "\t\tError: 0.0342880979590575\n",
      "\n",
      "\t- Resultado obtenido con diferencia progresiva para h=0.1: -0.798389262969815\n",
      "\t\tError: 0.0291503616058432\n",
      "\n",
      "\t- Resultado obtenido con diferencia centrada para h=0.1: -0.766670033187365\n",
      "\t\tError: 0.00256886817660718\n",
      "\n",
      "\t- Resultado obtenido con diferencia centrada 5 nodos para h=0.1: -0.769257166015753\n",
      "\t\tError: 0.0000182646517811191\n",
      "\n",
      "\t- Resultado obtenido con diferencia regresiva para h=1e-06: -0.769238581943554\n",
      "\t\tError: 3.19420417782545E-7\n",
      "\n",
      "\t- Resultado obtenido con diferencia progresiva para h=1e-06: -0.769239220876905\n",
      "\t\tError: 3.19512932889232E-7\n",
      "\n",
      "\t- Resultado obtenido con diferencia centrada para h=1e-06: -0.769238901410230\n",
      "\t\tError: 4.62575533433096E-11\n",
      "\n",
      "\t- Resultado obtenido con diferencia centrada 5 nodos para h=1e-06: -0.769238901391726\n",
      "\t\tError: 2.77537992587895E-11\n",
      "\n"
     ]
    }
   ],
   "source": [
    "# Prueba de la función anterior:\n",
    "x = sp.symbols('x')\n",
    "\n",
    "# Definimos la función numérica:\n",
    "f = lambda x: np.sin(np.log((x**2)+1))\n",
    "\n",
    "# Configuración de variables para el problema\n",
    "a=-1         # Punto en el que se quiere calcular\n",
    "h={0.1, 0.000001}        # Valor pequeño para el cálculo de su derivada numéricamente\n",
    "n = 1        # Orden de derivación\n",
    "\n",
    "# Definimos la función simbólica:\n",
    "f_sym = sp.sin(sp.log(x**2+1))\n",
    "\n",
    "# La derivamos n veces\n",
    "f_der = sp.diff(f_sym, x, 1)\n",
    "\n",
    "# La evaluamos en a\n",
    "res_exacto = f_der.subs({x: a}).evalf()\n",
    "\n",
    "print(Title(f\"Evaluación de la función CalcularDerivada numéricamente:\"))\n",
    "print(f\"\\t- Resultado \\\"exacto\\\" calculado con funciones simbólicas: {res_exacto}\\n\")\n",
    "\n",
    "formulas = [\"diferencia regresiva\", \"diferencia progresiva\", \"diferencia centrada\", \"diferencia centrada 5 nodos\"]\n",
    "for hi in h:\n",
    "\tfor i in range(len(formulas)):\n",
    "\t\tres = CalcularDerivada(f, a, hi, formulas[i] , n)\n",
    "\t\terror = abs(res_exacto - res)\n",
    "\t\tprint(f\"\\t- Resultado obtenido con {formulas[i]} para h={hi}: {res}\")\n",
    "\t\tprint(f\"\\t\\tError: {error}\\n\")\n",
    "\n"
   ]
  },
  {
   "cell_type": "markdown",
   "id": "b2563938",
   "metadata": {},
   "source": [
    "Como se puede observar el mejor resultado lo da la diferencia centrada en 5 nodos y el menor valor de h"
   ]
  },
  {
   "cell_type": "markdown",
   "id": "f60cb282",
   "metadata": {},
   "source": [
    "### Ejercicio 6"
   ]
  },
  {
   "cell_type": "markdown",
   "id": "dd9600e2",
   "metadata": {},
   "source": [
    "Siguiendo el modelo y el código proporcionado para la fórmula de los rectángulos a la izquierda, codifique las fórmulas compuestas de los rectángulos a la derecha y centrados. Calcule con estas dos fórmulas la aproximación de $\\displaystyle\\int_0^1 (x^2+1)dx$, el error cometido y represente al menos una de las dos gráficamente."
   ]
  },
  {
   "cell_type": "code",
   "execution_count": 16,
   "id": "7855796e",
   "metadata": {},
   "outputs": [],
   "source": [
    "# Copiada del guión (es solo por tenerlas todas juntas)\n",
    "def formula_rectangulo_izquierda(f,a,b,n):\n",
    "\t\"\"\"fórmula compuesta de los rectangulos a izquierda\"\"\"\n",
    "\th = (b-a)/n\n",
    "\tnodos = np.linspace(a, b, n+1)  # Genera los nodos de integración\n",
    "\treturn h*np.sum(f(nodos[:-1]))\n",
    "\n",
    "# Fórmula del rectángulo derecha\n",
    "def formula_rectangulo_derecha(f,a,b,n):\n",
    "\t\"\"\"fórmula compuesta de los rectangulos a derecha\"\"\"\n",
    "\th = (b-a)/n\n",
    "\tnodos = np.linspace(a, b, n+1)  # Genera los nodos de integración\n",
    "\treturn h*np.sum(f(nodos[1:]))\n",
    "\n",
    "# Fórmula del rectángulo centrado\n",
    "def formula_rectangulo_centrado(f,a,b,n):\n",
    "\t\"\"\"fórmula compuesta de los rectángulos centrados\"\"\"\n",
    "\th = (b-a)/n\n",
    "\tnodos = np.linspace(a, b, n+1)  # Genera los nodos de integración\n",
    "\tcentros = nodos[:-1] + h/2 \t\t\t# Calcula los centros desplazando lo nodos h/2 (el último no porque sino se sale)\n",
    "\treturn h*np.sum(f(centros)) "
   ]
  },
  {
   "cell_type": "code",
   "execution_count": 18,
   "id": "5626c1e0",
   "metadata": {},
   "outputs": [],
   "source": [
    "def linea(x,xL,yL,xR,yR):\n",
    "\t\"\"\"línea uniendo los puntos (xL,yL) y (xR,yR)\"\"\"\n",
    "\treturn np.interp(x, [xL,xR], [yL,yR])  # Interpolación lineal entre los puntos (xL,yL) y (xR,yR)\n",
    "\n",
    "def dibujar_rectangulos(f, a, b, tipo, num_nodos, tam=8, num_values=100):\n",
    "\n",
    "\t# Para la curva\n",
    "\tx_values = np.linspace(float(a),float(b),num_values)\n",
    "\ty_values = f(x_values)\n",
    "\t\n",
    "\t# Para los rectángulos\n",
    "\tx_nodos = np.linspace(a,b,num_nodos+1)\n",
    "\ty_nodos = f(x_nodos)\n",
    "\n",
    "\tfig,ax = plt.subplots(figsize=(tam,tam))\n",
    "\n",
    "\terror= False\n",
    "\tmatch tipo:\n",
    "\t\tcase \"izquierda\":\n",
    "\t\t\tax.plot(x_nodos[:-1],y_nodos[:-1],'ro')\n",
    "\t\t\tlabel = \"Fórmula compuesta de los rectángulos a la izquierda\"\n",
    "\t\tcase \"derecha\":\n",
    "\t\t\tax.plot(x_nodos[1:],y_nodos[1:],'ro')\n",
    "\t\t\tlabel = \"Fórmula compuesta de los rectángulos a la derecha\"\n",
    "\t\tcase \"centrado\":\n",
    "\t\t\th = (b-a)/num_nodos\n",
    "\t\t\tcentros = x_nodos[:] + h/2\n",
    "\t\t\ty_nodos = f(centros)\n",
    "\t\t\t\n",
    "\t\t\tax.plot(centros[:-1],y_nodos[:-1],'ro')\n",
    "\t\t\tlabel = \"Fórmula compuesta de los rectángulos centrados\"\n",
    "\t\tcase _:\n",
    "\t\t\tprint(Error(f\"ERROR: tipo ({tipo}) debe de estar entre las siguientes opciones: \"))\n",
    "\t\t\tprint(Error(f\"       \\\"izquierda\\\" \\\"derecha\\\" \\\"centrado\\\"\"))\n",
    "\t\t\terror = True\n",
    "\n",
    "\tif(error == False):\n",
    "\t\t\n",
    "\t\tax.plot(x_values,y_values,'k',label='función del integrando')\n",
    "\n",
    "\t\tfor k in range(len(x_nodos)-1):\n",
    "\t\t\t\n",
    "\t\t\tx_left = x_nodos[k]\n",
    "\t\t\tx_right = x_nodos[k+1]\n",
    "\t\t\t\n",
    "\t\t\tif tipo == \"izquierda\":\n",
    "\t\t\t\t\ty_rect = y_nodos[k]\n",
    "\t\t\telif tipo == \"derecha\":\n",
    "\t\t\t\t\ty_rect = y_nodos[k+1]\n",
    "\t\t\telif tipo == \"centrado\":\n",
    "\t\t\t\t\ty_rect = y_nodos[k]\n",
    "\n",
    "\t\t\tzz = np.linspace(x_left, x_right, num_values)\n",
    "\t\t\tyk = [linea(z, x_left, y_rect, x_right, y_rect) for z in zz]\n",
    "\t\t\tax.fill_between(zz,0,yk)\n",
    "\n",
    "\n",
    "\t\tax.legend(loc=9)\n",
    "\t\tax.set_xlabel('$x$',fontsize=18)\n",
    "\t\tax.set_ylabel('$y$',fontsize=18)\n",
    "\t\tax.set_title(label)"
   ]
  },
  {
   "cell_type": "code",
   "execution_count": 19,
   "id": "63241af3",
   "metadata": {},
   "outputs": [
    {
     "name": "stdout",
     "output_type": "stream",
     "text": [
      "\u001b[1m\u001b[30m\u001b[47mEvaluación de la integral entre 0 y 1 de x²+1 respecto a x:\u001b[0m\n",
      "\tEvaluación con rectángulo izquierda: 1.2850000000000001\n",
      "\tEvaluación con rectángulo derecha: 1.385\n",
      "\tEvaluación con rectángulo centrado: 1.3325\n"
     ]
    },
    {
     "data": {
      "image/png": "[encoded data removed]",
      "text/plain": [
       "<Figure size 500x500 with 1 Axes>"
      ]
     },
     "metadata": {},
     "output_type": "display_data"
    },
    {
     "data": {
      "image/png": "[encoded data removed]",
      "text/plain": [
       "<Figure size 500x500 with 1 Axes>"
      ]
     },
     "metadata": {},
     "output_type": "display_data"
    },
    {
     "data": {
      "image/png": "[encoded data removed]",
      "text/plain": [
       "<Figure size 500x500 with 1 Axes>"
      ]
     },
     "metadata": {},
     "output_type": "display_data"
    }
   ],
   "source": [
    "# Definimos la función y los extremos de integración\n",
    "f = lambda x: x**2 + 1\n",
    "a = 0\n",
    "b = 1\n",
    "\n",
    "n = 10 # Número de nodos\n",
    "tam = 5 # Tamaño de las gráficas\n",
    "\n",
    "print(Title(f\"Evaluación de la integral entre {a} y {b} de x²+1 respecto a x:\"))\n",
    "\n",
    "r_izq = formula_rectangulo_izquierda(f, a, b, n)\n",
    "r_der = formula_rectangulo_derecha(f, a, b, n)\n",
    "r_cent = formula_rectangulo_centrado(f, a, b, n)\n",
    "\n",
    "print(f\"\\tEvaluación con rectángulo izquierda: {r_izq}\")\n",
    "print(f\"\\tEvaluación con rectángulo derecha: {r_der}\")\n",
    "print(f\"\\tEvaluación con rectángulo centrado: {r_cent}\")\n",
    "\n",
    "dibujar_rectangulos(f, a, b, \"izquierda\", n, tam)\n",
    "dibujar_rectangulos(f, a, b, \"derecha\", n, tam)\n",
    "dibujar_rectangulos(f, a, b, \"centrado\", n, tam)\n"
   ]
  },
  {
   "cell_type": "markdown",
   "id": "2b4e27b3",
   "metadata": {},
   "source": [
    "### Ejercicio 7"
   ]
  },
  {
   "cell_type": "markdown",
   "id": "7e59d392",
   "metadata": {},
   "source": [
    "Implemente una función que calcule la integral de una función $f$ en el intervalo $[a,b]$ usando la fórmula de Simpson compuesta, parametrizando también el número de subintervalos utilizados (se premia la eficiencia). Represente gráficamente la fórmula de Simpson compuesta análogamente a la representación mostrada para la fórmula de los trapecios compuesta."
   ]
  },
  {
   "cell_type": "markdown",
   "id": "53691aff",
   "metadata": {},
   "source": [
    "Sabemos que la fórmula de Simpson simple es \n",
    "$$\\int_a^b f(x)\\,dx\\approx \\frac{h}{6}(f(a)+ 4f(m) + f(b))$$\n",
    "donde $m = \\frac{a+b}{2}$ y $h = b-a$ (la longitud del intervalo).\n",
    "\n",
    "Entonces para $n$ arbitrario con particiones uniformes tendríamos: \n",
    "$$\\int_a^b f(x)\\,dx =\\sum_{i=0}^{n-1}\\int_{x_{i}}^{x_{i+1}} f(x)\\,dx \\approx \\sum_{i=0}^{n-1} \\frac{h}{6}(f(x_i)+ 4f(m_i) + f(x_{i+1}))$$\n",
    "donde $m_i = \\frac{x_i+x_{i+1}}{2} = x_i + \\frac{h}{2}$ y $h=\\frac{b-a}{n}$\n",
    "\n",
    "Sacando $\\frac{h}{6}$ y separando la sumatoria tenemos:\n",
    "$$\\int_a^b f(x)\\,dx \\approx \n",
    "\\frac{h}{6}\\left(\\sum_{i=0}^{n-1}f(x_i)+ 4\\sum_{i=0}^{n-1}f(m_i) + \\sum_{i=0}^{n-1}f(x_{i+1})\\right)=\\\\\n",
    "\\frac{h}{6}\\left(f(x_0) + \\sum_{i=1}^{n-1}f(x_i)+ 4\\sum_{i=0}^{n-1}f(m_i) + \\sum_{i=1}^{n-1}f(x_{i}) + f(x_n)\\right)=\\\\\n",
    "\\frac{h}{6}\\left(f(a) + 2\\sum_{i=1}^{n-1}f(x_i)+ 4\\sum_{i=0}^{n-1}f(m_i) + f(b)\\right) = \\\\\n",
    "\\frac{h}{6}\\left(f(a) + 2\\sum_{i=1}^{n-1}f(x_i)+ 4\\sum_{i=0}^{n-1}f\\left(x_i + \\frac{h}{2}\\right) + f(b)\\right) $$\n",
    "\n",
    "Y ya tenemos finalmente la fórmula buscada"
   ]
  },
  {
   "cell_type": "code",
   "execution_count": 41,
   "id": "dcf70503",
   "metadata": {},
   "outputs": [],
   "source": [
    "def formula_simpson(f,a,b,num_nodos):\n",
    "\t\"\"\"fórmula compuesta de simpson con partición uniforme\"\"\"\n",
    "\th = (b-a)/num_nodos\n",
    "\tnodos = np.linspace(a, b, num_nodos+1)  # Genera los nodos de integración (incluyendo los extremos)\n",
    "\tm = nodos[:-1] + h/2 # Puntos medios\n",
    "\n",
    "\treturn h/6*(f(a)+2*np.sum(f(nodos[1:-1]))+4*np.sum(f(m[:]))+f(b))\n"
   ]
  },
  {
   "cell_type": "code",
   "execution_count": 51,
   "id": "fdfc5db9",
   "metadata": {},
   "outputs": [],
   "source": [
    "def parabola(x,xL,yL,xM,yM,xR,yR):\n",
    "    \"\"\"parábola uniendo los puntos (xL,yL), (xM,yM) y (xR,yR)\"\"\"\n",
    "    return np.interp(x, [xL, xM, xR], [yL, yM, yR])\n",
    "\n",
    "def dibujar_rectangulos_simpson(f, a, b, num_nodos, tam=8, num_values=100):\n",
    "\t# Para la curva\n",
    "\tx_values = np.linspace(float(a),float(b),num_values)\n",
    "\ty_values = f(x_values)\n",
    "\t\n",
    "\t# Para los rectángulos\n",
    "\tx_nodos = np.linspace(a,b,num_nodos+1)\n",
    "\ty_nodos = f(x_nodos)\n",
    "\t\n",
    "\th = (b-a)/num_nodos\n",
    "\tcentros = x_nodos[:-1] + h/2\n",
    "\ty_centros = f(centros)\n",
    "\n",
    "\tlabel = \"Fórmula compuesta de Simpson\"\n",
    "\n",
    "\tfig,ax = plt.subplots(figsize=(tam,tam))\n",
    "\t\t\n",
    "\tax.plot(x_values,y_values,'k',label='función del integrando')\n",
    "\n",
    "\tfor k in range(len(x_nodos)-1):\n",
    "\t\t\n",
    "\t\tx_left = x_nodos[k]\n",
    "\t\ty_left = y_nodos[k]\n",
    "\n",
    "\t\tx_center = centros[k]\n",
    "\t\ty_center = y_centros[k]\n",
    "\n",
    "\t\tx_right = x_nodos[k+1]\n",
    "\t\ty_right = y_nodos[k+1]\n",
    "\n",
    "\t\tzz = np.linspace(x_left, x_right, num_values)\n",
    "\t\tyk = [parabola(z, x_left, y_left, x_center, y_center, x_right, y_right) for z in zz]\n",
    "\t\tax.fill_between(zz,0,yk)\n",
    "\n",
    "\tax.plot(x_nodos[:],y_nodos[:],'ro')\n",
    "\tax.plot(centros[:],y_centros[:],'ro')\n",
    "\n",
    "\tax.legend(loc=9)\n",
    "\tax.set_xlabel('$x$',fontsize=18)\n",
    "\tax.set_ylabel('$y$',fontsize=18)\n",
    "\tax.set_title(label)"
   ]
  },
  {
   "cell_type": "code",
   "execution_count": 55,
   "id": "569afc48",
   "metadata": {},
   "outputs": [
    {
     "name": "stdout",
     "output_type": "stream",
     "text": [
      "\u001b[1m\u001b[30m\u001b[47mEvaluación de la integral entre 0 y 1 de x²+1 respecto a x:\u001b[0m\n",
      "\tEvaluación con fórmula de simpson: 1.3333333333333333\n"
     ]
    },
    {
     "data": {
      "image/png": "[encoded data removed]",
      "text/plain": [
       "<Figure size 500x500 with 1 Axes>"
      ]
     },
     "metadata": {},
     "output_type": "display_data"
    }
   ],
   "source": [
    "# Probamos la fórmula en las mismas condiciones del ejercicio anterior:\n",
    "\n",
    "# Definimos la función y los extremos de integración\n",
    "f = lambda x: x**2 + 1\n",
    "a = 0\n",
    "b = 1\n",
    "\n",
    "n = 4 # Número de nodos\n",
    "tam = 5 # Tamaño de la gráfica\n",
    "\n",
    "print(Title(f\"Evaluación de la integral entre {a} y {b} de x²+1 respecto a x:\"))\n",
    "\n",
    "r_simpson = formula_simpson(f, a, b, n)\n",
    "\n",
    "print(f\"\\tEvaluación con fórmula de simpson: {r_simpson}\")\n",
    "\n",
    "dibujar_rectangulos_simpson(f, a, b, n, tam)\n"
   ]
  },
  {
   "cell_type": "markdown",
   "id": "1acfb6a2",
   "metadata": {},
   "source": [
    "### Ejercicio 8"
   ]
  },
  {
   "cell_type": "markdown",
   "id": "759d7c71",
   "metadata": {},
   "source": [
    "Realice una comparativa entre los errores cometidos al aproximar funciones potencias sucesivas $x^i$, con $i=1,2,3,\\ldots$ en el intervalo $[0,1]$ mediante las fórmulas de los trapecios y de Simpson compuestas con diferentes valores de $h$; e inducir de ahí, los posibles órdenes de exactitud (a partir de los valores de $i$ que proporcionen valores exactos de la integral). No deje de tener en cuenta los posibles errores de redondeo, inevitables en todo cálculo realizado con ordenador."
   ]
  },
  {
   "cell_type": "code",
   "execution_count": 56,
   "id": "d1b2f8a4",
   "metadata": {},
   "outputs": [],
   "source": [
    "# Copiada del guión\n",
    "def formula_trapecios(f,a,b,num_nodos):\n",
    "    \"\"\"fórmula compuesta de los trapecios con partición uniforme\"\"\"\n",
    "    h = (b-a)/num_nodos\n",
    "    nodos = np.linspace(a, b, num_nodos+1)  # Genera los nodos de integración (incluyendo los extremos)\n",
    "    # Otra opción sería\n",
    "    # nodos = np.array([a + i*h for i in range(num_nodos+1)])\n",
    "\n",
    "    return h/2*(f(a)+2*np.sum(f(nodos[1:-1]))+f(b))\n",
    "    # Otra posible implementación sería\n",
    "    # return h/2*(f(a)+2*sum([f(a+i*h) for i in range(1,num_nodos)])+f(b))"
   ]
  },
  {
   "cell_type": "code",
   "execution_count": null,
   "id": "7ba4eef1",
   "metadata": {},
   "outputs": [
    {
     "name": "stdout",
     "output_type": "stream",
     "text": [
      "\u001b[1m\u001b[30m\u001b[47mEvaluación de la integral entre 0 y 1 de x^4 respecto a x:\u001b[0m\n",
      "Se considera que Simpson es exacta hasta orden 3\n",
      "\tEvaluación con fórmula de simpson: 0.20000083333333338\n",
      "\t\tError: 8.33333333366548E-7\n",
      "\u001b[1m\u001b[30m\u001b[47mEvaluación de la integral entre 0 y 1 de x^2 respecto a x:\u001b[0m\n",
      "Se considera que la fórmula de los trapecios es exacta hasta orden 1\n",
      "\tEvaluación con fórmula de los trapecios: 0.3350000000000001\n",
      "\t\tError: 0.00166666666666676\n"
     ]
    }
   ],
   "source": [
    "# Definimos la función potencia\n",
    "def f(x,i): return x**i\n",
    "\n",
    "# Intervalos de integración\n",
    "a = 0\n",
    "b = 1\n",
    "\n",
    "n = 10 # Número de subintervalos (se puede ver que al ir aumentándolo se mejoran los resultados)\n",
    "UMBRAL = 0.00000001 # umbral de precisión por fallo numérico\n",
    "\n",
    "i=0\n",
    "error = 0\n",
    "\n",
    "x=sp.symbols('x')\n",
    "\n",
    "while error <= UMBRAL:\n",
    "\ti+=1\n",
    "\tg = lambda x: f(x,i) # Hago una función que solo dependa de x con i fijo\n",
    "\tg_sym = x**i\n",
    "\n",
    "\tr_simpson = formula_simpson(g, a, b, n)\n",
    "\tr_exacto = sp.integrate(g_sym, (x,a,b)).evalf()\n",
    "\n",
    "\terror = abs(r_exacto - r_simpson)\n",
    "\n",
    "print(Title(f\"Evaluación de la integral entre {a} y {b} de x^{i} respecto a x:\"))\n",
    "print(f\"Se considera que Simpson es exacta hasta orden {i-1}\")\n",
    "print(f\"\\tEvaluación con fórmula de simpson: {r_simpson}\")\n",
    "print(f\"\\tError: {error}\")\n",
    "# Repito el mismo proceso para los trapecios\n",
    "i=0\n",
    "error = 0\n",
    "\n",
    "while error <= UMBRAL:\n",
    "\ti+=1\n",
    "\tg = lambda x: f(x,i) # Hago una función que solo dependa de x con i fijo\n",
    "\tg_sym = x**i\n",
    "\n",
    "\tr_trapecio = formula_trapecios(g,a,b,n)\n",
    "\tr_exacto = sp.integrate(g_sym, (x,a,b)).evalf()\n",
    "\n",
    "\terror = abs(r_exacto - r_trapecio)\n",
    "\n",
    "print(Title(f\"Evaluación de la integral entre {a} y {b} de x^{i} respecto a x:\"))\n",
    "print(f\"Se considera que la fórmula de los trapecios es exacta hasta orden {i-1}\")\n",
    "print(f\"\\tEvaluación con fórmula de los trapecios: {r_trapecio}\")\n",
    "print(f\"\\tError: {error}\")\n"
   ]
  },
  {
   "cell_type": "markdown",
   "id": "3c2bc5d0",
   "metadata": {},
   "source": [
    "### Ejercicio 9"
   ]
  },
  {
   "cell_type": "markdown",
   "id": "bdbd3c85",
   "metadata": {},
   "source": [
    "Programar las técnicas de integración de Romberg y adaptativa, para después aplicarlas a la aproximación de la siguiente integral $$\\int_a^b p(x)\\, dx$$\n",
    "siendo  $\\;a=\\displaystyle\\min_{0\\leq i\\leq 7}{d_i}$, $\\;b=\\displaystyle\\max_{0\\leq i\\leq 7}{d_i}$ y\n",
    "$$p(x)=d_0 + d_1 x + d_2 x^2 + d_3 x^3+ d_4 x^4 + d_5 x^5 + d_6 x^6 + d_7 x^7 $$\n",
    "(siendo $d_0, d_1, \\ldots, d_7$ los dígitos de su DNI, pasaporte o tarjeta de residente)."
   ]
  },
  {
   "cell_type": "code",
   "execution_count": 129,
   "id": "17172928",
   "metadata": {},
   "outputs": [],
   "source": [
    "# Valores por defecto\n",
    "CIFRAS = 16                     # Número de cifras con el que queremos calcular\n",
    "TOL = 10**(-CIFRAS)             # Tolerancia\n",
    "\n",
    "def integracion_Romberg(f, a, b, tol=TOL):\n",
    "\tR=[]  # Matriz de Romberg\n",
    "\n",
    "\tcontinuar = True\n",
    "\tj=0\n",
    "\n",
    "\twhile continuar:\n",
    "\t\tR.append(np.zeros(j+1))\n",
    "\t\tR[j][0] = formula_trapecios(f,a,b,2**j)\n",
    "\n",
    "\t\tfor k in range(1,j+1):\n",
    "\t\t\tR[j][k] = (4**k*R[j][k-1] - R[j-1][k-1])/(4**k-1)\n",
    "\t\t\n",
    "\t\t# Compruebo la tolerancia una vez tenga 2 valores calculados\n",
    "\t\tif(j>0):\n",
    "\t\t\tif(abs(R[j][j] - R[j-1][j-1])<tol):\n",
    "\t\t\t\tcontinuar = False\n",
    "\t\t\t\tN = j\n",
    "\n",
    "\t\tj+=1\n",
    "\n",
    "\treturn {\n",
    "        \"resultado\": R[N][N], \n",
    "        \"niter\":N,\n",
    "\t\t\t\t\"matriz\": R\n",
    "    }\n",
    "\n",
    "# Fórmula de Simspon simpre\n",
    "def S(f,a,b):\n",
    "\th=(b-a)/2\n",
    "\tm=(a+b)/2\n",
    "\treturn (h/3)*(f(a)+4*f(m)+f(b))\n",
    "\n",
    "\n",
    "def integracion_Adaptativa(f, a, b, tol=TOL):\n",
    "\n",
    "\tm = (a+b)/2\n",
    "\tt = abs(S(f,a,b)- S(f,a,m)-S(f,m,b))\n",
    "\n",
    "\t# Restrinjo n para que no se pase de iteraciones\n",
    "\tif(t<10*tol):\n",
    "\t\treturn S(f,a,b) # En este caso aceptamos la aproximación\n",
    "\telse:\n",
    "\t\treturn integracion_Adaptativa(f,a,m,tol/2)+integracion_Adaptativa(f,m,b,tol/2)\n"
   ]
  },
  {
   "cell_type": "code",
   "execution_count": null,
   "id": "a47957f2",
   "metadata": {},
   "outputs": [
    {
     "name": "stdout",
     "output_type": "stream",
     "text": [
      "Con mi DNI, estaremos integrando entre 0 y 9 el polinomio p(x)=\n"
     ]
    },
    {
     "data": {
      "text/latex": [
       "$\\displaystyle 9 x^{7} + 4 x^{5} + 8 x^{4} + 6 x^{3} + 6 x^{2} + 6 x + 7$"
      ],
      "text/plain": [
       "9*x**7 + 4*x**5 + 8*x**4 + 6*x**3 + 6*x**2 + 6*x + 7"
      ]
     },
     "metadata": {},
     "output_type": "display_data"
    },
    {
     "name": "stdout",
     "output_type": "stream",
     "text": [
      "El resultado \"exacto\" es: 48887939.0250000\n",
      "\n",
      "\u001b[1m\u001b[30m\u001b[47mCálculo usando la integración Romberg:\u001b[0m\n",
      "\tResultado: 48887939.025\n",
      "\tNúmero de iteraciones: 4\n",
      "\u001b[1m\u001b[30m\u001b[47mCálculo usando la integración adaptativa:\u001b[0m\n",
      "\tResultado: 48887939.025000036\n"
     ]
    }
   ],
   "source": [
    "# Probamos ambas funciones\n",
    "# Mi DNI es 76668409W por lo que\n",
    "DNI = [7, 6, 6, 6, 8, 4, 0, 9]\n",
    "def p(x):\n",
    "    res=0\n",
    "    for i in range(len(DNI)):\n",
    "        res+=DNI[i]*x**i\n",
    "    return res\n",
    "\n",
    "# Solo para visualizarla y calcular el resultado \"exacto\"\n",
    "p_sym =  sum(c * x**i for i, c in enumerate(DNI))\n",
    "\n",
    "a = min(DNI)\n",
    "b = max(DNI)\n",
    "\n",
    "r_romberg = integracion_Romberg(p, a, b)\n",
    "\n",
    "# Le he bajado la tolerancia porque tardaba demasiado\n",
    "r_adaptativa = integracion_Adaptativa(p, a, b, 0.00000001)\n",
    "\n",
    "print(f\"Con mi DNI, estaremos integrando entre {a} y {b} el polinomio p(x)=\")\n",
    "display(p_sym)\n",
    "print(f\"El resultado \\\"exacto\\\" es: {sp.integrate(p_sym, (x,a,b)).evalf()}\\n\")\n",
    "\n",
    "print(Title(f\"Cálculo usando la integración Romberg:\"))\n",
    "print(f\"\\tResultado: {r_romberg[\"resultado\"]}\")\n",
    "print(f\"\\tNúmero de iteraciones: {r_romberg[\"niter\"]}\")\n",
    "\n",
    "print(Title(f\"Cálculo usando la integración adaptativa:\"))\n",
    "print(f\"\\tResultado: {r_adaptativa}\")"
   ]
  },
  {
   "cell_type": "markdown",
   "id": "d72a35a5",
   "metadata": {},
   "source": [
    "### Ejercicio 10"
   ]
  },
  {
   "cell_type": "markdown",
   "id": "57853b88",
   "metadata": {},
   "source": [
    "Calcule la misma integral del ejercicio 9 pero utilizando la orden `quad` y compare los resultados de la integración Romberg y adaptativa manuales con los de la orden `quad`."
   ]
  },
  {
   "cell_type": "code",
   "execution_count": null,
   "id": "fa8c713f",
   "metadata": {},
   "outputs": [
    {
     "name": "stdout",
     "output_type": "stream",
     "text": [
      "Con mi DNI, estaremos integrando entre 0 y 9 el polinomio p(x)=\n"
     ]
    },
    {
     "data": {
      "text/latex": [
       "$\\displaystyle 9 x^{7} + 4 x^{5} + 8 x^{4} + 6 x^{3} + 6 x^{2} + 6 x + 7$"
      ],
      "text/plain": [
       "9*x**7 + 4*x**5 + 8*x**4 + 6*x**3 + 6*x**2 + 6*x + 7"
      ]
     },
     "metadata": {},
     "output_type": "display_data"
    },
    {
     "name": "stdout",
     "output_type": "stream",
     "text": [
      "El resultado \"exacto\" es: 48887939.02500001\n",
      "\n",
      "\u001b[1m\u001b[30m\u001b[47mCálculo usando la integración Romberg:\u001b[0m\n",
      "\tResultado: 48887939.025\n",
      "\tNúmero de iteraciones: 4\n",
      "\tError: 1.4901161193847656e-08\n",
      "\u001b[1m\u001b[30m\u001b[47mCálculo usando la integración adaptativa:\u001b[0m\n",
      "\tResultado: 48887939.025000036\n",
      "\tError: 2.2351741790771484e-08\n"
     ]
    }
   ],
   "source": [
    "from scipy.integrate import quad\n",
    "# Recuperamos los resultados del ejercicio anterior:\n",
    "\n",
    "# Mi DNI es 76668409W por lo que\n",
    "DNI = [7, 6, 6, 6, 8, 4, 0, 9]\n",
    "def p(x):\n",
    "    res=0\n",
    "    for i in range(len(DNI)):\n",
    "        res+=DNI[i]*x**i\n",
    "    return res\n",
    "\n",
    "# Solo para visualizarla\n",
    "p_sym =  sum(c * x**i for i, c in enumerate(DNI))\n",
    "\n",
    "a = min(DNI)\n",
    "b = max(DNI)\n",
    "\n",
    "r_romberg = integracion_Romberg(p, a, b)\n",
    "\n",
    "# Le he bajado la tolerancia porque tardaba demasiado\n",
    "r_adaptativa = integracion_Adaptativa(p, a, b, 0.00000001)\n",
    "\n",
    "r_exacto, abserr = quad(p, a, b)\n",
    "\n",
    "print(f\"Con mi DNI, estaremos integrando entre {a} y {b} el polinomio p(x)=\")\n",
    "display(p_sym)\n",
    "print(f\"El resultado \\\"exacto\\\" es: {r_exacto}\\n\")\n",
    "\n",
    "print(Title(f\"Cálculo usando la integración Romberg:\"))\n",
    "print(f\"\\tResultado: {r_romberg[\"resultado\"]}\")\n",
    "print(f\"\\tNúmero de iteraciones: {r_romberg[\"niter\"]}\")\n",
    "print(f\"\\tError: {abs(r_exacto - r_romberg[\"resultado\"])}\")\n",
    "\n",
    "print(Title(f\"Cálculo usando la integración adaptativa:\"))\n",
    "print(f\"\\tResultado: {r_adaptativa}\")\n",
    "print(f\"\\tError: {abs(r_exacto - r_adaptativa)}\")\n",
    "\n",
    "# Se ve que la romberg es mejor pero también es verdad que se le ha bajado la tolerancia a adaptativa"
   ]
  }
 ],
 "metadata": {
  "kernelspec": {
   "display_name": "Python 3 (ipykernel)",
   "language": "python",
   "name": "python3"
  },
  "language_info": {
   "codemirror_mode": {
    "name": "ipython",
    "version": 3
   },
   "file_extension": ".py",
   "mimetype": "text/x-python",
   "name": "python",
   "nbconvert_exporter": "python",
   "pygments_lexer": "ipython3",
   "version": "3.12.3"
  }
 },
 "nbformat": 4,
 "nbformat_minor": 5
}
