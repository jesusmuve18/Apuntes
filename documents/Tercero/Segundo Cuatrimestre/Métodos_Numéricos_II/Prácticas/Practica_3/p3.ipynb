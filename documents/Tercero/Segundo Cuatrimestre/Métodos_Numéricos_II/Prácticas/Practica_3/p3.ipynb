{
 "cells": [
  {
   "cell_type": "markdown",
   "id": "58289e76",
   "metadata": {},
   "source": [
    "# Práctica 3"
   ]
  }
 ],
 "metadata": {
  "language_info": {
   "name": "python"
  }
 },
 "nbformat": 4,
 "nbformat_minor": 5
}
