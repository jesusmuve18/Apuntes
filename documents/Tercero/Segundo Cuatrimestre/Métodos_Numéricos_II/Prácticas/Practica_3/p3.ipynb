{
 "cells": [
  {
   "cell_type": "markdown",
   "id": "58289e76",
   "metadata": {},
   "source": [
    "# Práctica 3"
   ]
  },
  {
   "cell_type": "markdown",
   "id": "a0a6da3a",
   "metadata": {},
   "source": [
    "### General"
   ]
  },
  {
   "cell_type": "code",
   "execution_count": 1,
   "id": "3e59182b",
   "metadata": {},
   "outputs": [],
   "source": [
    "# Carga de librerías necesarias\n",
    "import numpy as np\n",
    "import sympy as sp\n",
    "import matplotlib.pyplot as plt\n",
    "import matplotlib as mpl\n",
    "\n",
    "%matplotlib inline\n",
    "mpl.rcParams['text.usetex'] = True\n",
    "\n",
    "from IPython.display import display\n",
    "\n",
    "from colorama import Fore, Back, Style # Colores en el output"
   ]
  },
  {
   "cell_type": "code",
   "execution_count": 2,
   "id": "01aff6f3",
   "metadata": {},
   "outputs": [],
   "source": [
    "def Title(msg):\n",
    "    return Style.BRIGHT + Fore.BLACK + Back.WHITE + msg + Style.RESET_ALL\n",
    "\n",
    "def Error(msg):\n",
    "    return Style.BRIGHT + Fore.RED + msg + Style.RESET_ALL"
   ]
  },
  {
   "cell_type": "markdown",
   "id": "059e919b",
   "metadata": {},
   "source": [
    "### Ejercicio 2"
   ]
  },
  {
   "cell_type": "markdown",
   "id": "185efb8e",
   "metadata": {},
   "source": [
    "A partir de la implementación del algoritmo del método de Euler explícito, realice las modificaciones oportunas para obtener también las implementaciones correspondientes a los métodos de Euler mejorado (o del punto medio), así como del de Euler modificado (o de Heun)."
   ]
  },
  {
   "cell_type": "code",
   "execution_count": null,
   "id": "94ef9e46",
   "metadata": {},
   "outputs": [],
   "source": [
    "from scipy.optimize import fsolve\n",
    "\n",
    "# De los apuntes (solo como referencia)\n",
    "def euler_explicito(f, a, b, mu, N):\n",
    "    \"\"\"\n",
    "    Método de Euler explícito para resolver la ecuación diferencial\n",
    "    x' = f(t,x) con condición inicial x(a) = mu en el intervalo [a,b]\n",
    "    con N pasos.\n",
    "    \"\"\"\n",
    "    h = (b - a) / N\n",
    "    t = np.linspace(a, b, N + 1)\n",
    "    x = np.zeros((N + 1,))\n",
    "    x[0] = mu\n",
    "    for n in range(N):\n",
    "        x[n + 1] = x[n] + h * f(t[n], x[n])\n",
    "    return t, x\n",
    "\n",
    "def euler_implicito(f, a, b, mu, N):\n",
    "    \"\"\"\n",
    "    Método de Euler implícito para resolver la ecuación diferencial\n",
    "    x' = f(t,x) con condición inicial x(a) = mu en el intervalo [a,b]\n",
    "    con N pasos.\n",
    "    \"\"\"\n",
    "    h = (b - a) / N\n",
    "    t = np.linspace(a, b, N + 1)\n",
    "    x = np.zeros(N + 1)\n",
    "    x[0] = mu\n",
    "    # x1 = sp.symbols('x1')\n",
    "    for n in range(N):\n",
    "        # x[n + 1] = np.float64(sp.solve(x[n]+h*f(t[n+1],x1)-x1,x1)[0])\n",
    "        x[n + 1] = fsolve(lambda x1: x[n] + h * f(t[n + 1], x1) - x1, x[n])[0]\n",
    "    return t, x\n",
    "\n",
    "# A partir de aquí código propio\n",
    "\n",
    "# Punto medio\n",
    "def euler_mejorado(f, a, b, mu, N):\n",
    "    \"\"\"\n",
    "    Método de Euler mejorado para resolver la ecuación diferencial\n",
    "    x' = f(t,x) con condición inicial x(a) = mu en el intervalo [a,b]\n",
    "    con N pasos.\n",
    "    \"\"\"\n",
    "    h = (b - a) / N\n",
    "    t = np.linspace(a, b, N + 1)\n",
    "    x = np.zeros(N + 1)\n",
    "    x[0] = mu\n",
    "    # x1 = sp.symbols('x1')\n",
    "    for n in range(N):\n",
    "        x[n + 1] = x[n] + h*f(t[n]+(h/2), x[n]+(h/2)*f(t[n],x[n]))\n",
    "    return t, x\n",
    "\n",
    "# Heun\n",
    "def euler_modificado(f, a, b, mu, N):\n",
    "    \"\"\"\n",
    "    Método de Euler modificado para resolver la ecuación diferencial\n",
    "    x' = f(t,x) con condición inicial x(a) = mu en el intervalo [a,b]\n",
    "    con N pasos.\n",
    "    \"\"\"\n",
    "    h = (b - a) / N\n",
    "    t = np.linspace(a, b, N + 1)\n",
    "    x = np.zeros(N + 1)\n",
    "    x[0] = mu\n",
    "    # x1 = sp.symbols('x1')\n",
    "    for n in range(N):\n",
    "        x[n + 1] = x[n] + (h/2)*(f(t[n],x[n])+f(t[n+1],x[n]+h*f(t[n],x[n])))\n",
    "    return t, x"
   ]
  },
  {
   "cell_type": "code",
   "execution_count": 11,
   "id": "65f1ce85",
   "metadata": {},
   "outputs": [],
   "source": [
    "def grafica_comparativa(lista_resultados, width=8, height=4):\n",
    "\t\"\"\"\n",
    "\tImprime los resultados de lista_resultados. Cada elemento tendrá que ser un diccionario que contenga:\n",
    "\t\tx_values: lista de valores de abscisas\n",
    "\t\ty_values: lista de valores de ordenadas\n",
    "\t\tlabel: etiqueta de la función (para la leyenda)\n",
    "\t\tstyle: estilo para display\n",
    "\t\"\"\"\n",
    "\n",
    "\tfig, ax = plt.subplots(figsize=(width, height))\n",
    "\n",
    "\tfor l in lista_resultados:\n",
    "\t\t\tax.plot(l[\"x_values\"], l[\"y_values\"], l[\"style\"],label = l[\"label\"])\n",
    "\n",
    "\tax.set_title(r\"Comparación de funciones\", fontsize=18)\n",
    "\tax.set_xlabel(r\"$t$\", fontsize=18)\n",
    "\tax.set_ylabel(r\"$x$\", fontsize=18)\n",
    "\tax.legend()\n",
    "\tfig.tight_layout()\n",
    "\tgraf_Eulerexpl = fig"
   ]
  },
  {
   "cell_type": "code",
   "execution_count": null,
   "id": "e5a1f32c",
   "metadata": {},
   "outputs": [
    {
     "name": "stdout",
     "output_type": "stream",
     "text": [
      "\u001b[1m\u001b[30m\u001b[47mPrueba de las funciones de Euler: \u001b[0m\n",
      "\n",
      "Método de Euler explícito: \n",
      "[1.         1.1        1.21       1.331      1.4641     1.61051\n",
      " 1.771561   1.9487171  2.14358881 2.35794769 2.59374246]\n",
      "\n",
      "\n",
      "Método de Euler implícito: \n",
      "[1.         1.11111111 1.2345679  1.37174211 1.5241579  1.69350878\n",
      " 1.88167642 2.09075158 2.32305731 2.58117479 2.86797199]\n",
      "\n",
      "\n",
      "Método de Euler mejorado: \n",
      "[1.         1.105      1.221025   1.34923262 1.49090205 1.64744677\n",
      " 1.82042868 2.01157369 2.22278892 2.45618176 2.71408085]\n",
      "\n",
      "\n",
      "Método de Euler modificado: \n",
      "[1.         1.105      1.221025   1.34923262 1.49090205 1.64744677\n",
      " 1.82042868 2.01157369 2.22278892 2.45618176 2.71408085]\n",
      "\n",
      "\n",
      "Solución exacta: \n",
      "[1.         1.10517092 1.22140276 1.34985881 1.4918247  1.64872127\n",
      " 1.8221188  2.01375271 2.22554093 2.45960311 2.71828183]\n",
      "\n"
     ]
    },
    {
     "data": {
      "image/png": "[encoded data removed]",
      "text/plain": [
       "<Figure size 800x600 with 1 Axes>"
      ]
     },
     "metadata": {},
     "output_type": "display_data"
    }
   ],
   "source": [
    "# Probamos las funciones recién desarrolladas\n",
    "a,b = 0,1   # Extermos inferior y superior del intervalo\n",
    "mu = 1      # Consición inicial del PVI\n",
    "N = 10\n",
    "\n",
    "num_puntos = 100 # Puntos para graficar la solución exacta\n",
    "\n",
    "# Definimos la función f\n",
    "t, x0, x = sp.symbols('t, x_0, x')\n",
    "def f(t,x):\n",
    "    return x\n",
    "\n",
    "# Calculo la solución exacta (como se hace en los apuntes)\n",
    "x = sp.Function('x')\n",
    "edo = x(t).diff(t)-f(t,x(t))\n",
    "edo_sol = sp.dsolve(edo)\n",
    "ics = {x(0): x0}\n",
    "CI_eq = sp.Eq(edo_sol.lhs.subs({t: 0}).subs(ics), edo_sol.rhs.subs({t: 0}))\n",
    "CI_sol = sp.solve(CI_eq)[0]\n",
    "edo_sol_part = edo_sol.subs(CI_sol)\n",
    "sol_exacta = edo_sol_part.rhs.subs({x0:mu})\n",
    "sol_exacta_np = sp.lambdify(t, sol_exacta, 'numpy')\n",
    "t_values_exac = np.linspace(a, b, num_puntos) # así obtendríamos el array de abcisas\n",
    "x_values_exac = sol_exacta_np(t_values_exac) # y el de ordenadas\n",
    "\n",
    "\n",
    "# Calculo las aproximaciones\n",
    "t_values_Eulerexpl, x_values_Eulerexpl = euler_explicito(f,a,b,mu,N)\n",
    "t_values_Eulerimpl, x_values_Eulerimpl = euler_implicito(f,a,b,mu,N)\n",
    "t_values_Eulermej, x_values_Eulermej = euler_mejorado(f,a,b,mu,N)\n",
    "t_values_Eulermod, x_values_Eulermod = euler_modificado(f,a,b,mu,N)\n",
    "\n",
    "print(Title(f\"Prueba de las funciones de Euler: \"))\n",
    "\n",
    "print(f\"\\nMétodo de Euler explícito: \")\n",
    "print(f\"{x_values_Eulerexpl}\\n\")\n",
    "\n",
    "print(f\"\\nMétodo de Euler implícito: \")\n",
    "print(f\"{x_values_Eulerimpl}\\n\")\n",
    "\n",
    "print(f\"\\nMétodo de Euler mejorado: \")\n",
    "print(f\"{x_values_Eulermej}\\n\")\n",
    "\n",
    "print(f\"\\nMétodo de Euler modificado: \")\n",
    "print(f\"{x_values_Eulermod}\\n\")\n",
    "\n",
    "print(f\"\\nSolución exacta: \")\n",
    "# La muestro solo en los mismos puntos que las otras (para comparar)\n",
    "print(f\"{sol_exacta_np(t_values_Eulerexpl)}\\n\") \n",
    "\n",
    "# Grafico los resultados\n",
    "euler_expl = {\"x_values\" : t_values_Eulerexpl,\n",
    "             \"y_values\" : x_values_Eulerexpl,\n",
    "             \"label\" : \"aprox. mét. Euler explícito\",\n",
    "             \"style\": 'bo-'}\n",
    "\n",
    "euler_impl = {\"x_values\" : t_values_Eulerimpl,\n",
    "             \"y_values\" : x_values_Eulerimpl,\n",
    "             \"label\" : \"aprox. mét. Euler implícito\",\n",
    "             \"style\": 'ro-'}\n",
    "\n",
    "euler_mej = {\"x_values\" : t_values_Eulermej,\n",
    "             \"y_values\" : x_values_Eulermej,\n",
    "             \"label\" : \"aprox. mét. Euler mejorado (punto medio)\",\n",
    "             \"style\": 'yo-'}\n",
    "\n",
    "euler_mod = {\"x_values\" : t_values_Eulermod,\n",
    "             \"y_values\" : x_values_Eulermod,\n",
    "             \"label\" : \"aprox. mét. Euler modificado (Heun)\",\n",
    "             \"style\": 'go-'}\n",
    "\n",
    "exacta = {\"x_values\" : t_values_exac,\n",
    "             \"y_values\" : x_values_exac,\n",
    "             \"label\" : \"Solución exacta\",\n",
    "             \"style\": 'k'}\n",
    "\n",
    "grafica_comparativa([euler_expl, euler_impl, euler_mej, euler_mod, exacta], 8, 6)"
   ]
  },
  {
   "cell_type": "markdown",
   "id": "d34c0236",
   "metadata": {},
   "source": [
    "Se puede observar que los 2 últimos métodos están mucho más cerca de la solución exacta"
   ]
  },
  {
   "cell_type": "markdown",
   "id": "c75b8bb9",
   "metadata": {},
   "source": [
    "### Ejercicio 4"
   ]
  },
  {
   "cell_type": "markdown",
   "id": "ce442d74",
   "metadata": {},
   "source": [
    "Programe el método de Runge-Kutta de 4 evaluaciones y grafique la sucesión de aproximaciones y calcule el error cuadrático medio y el máximo error absoluto con respecto a la solución exacta."
   ]
  },
  {
   "cell_type": "markdown",
   "id": "1172b391",
   "metadata": {},
   "source": [
    "### Ejercicio 5"
   ]
  },
  {
   "cell_type": "markdown",
   "id": "bfc3ad71",
   "metadata": {},
   "source": [
    "Se pretende aproximar la solución del PVI:\n",
    "$$\n",
    "\\left\\{\\begin{array}{rcl}\n",
    "x'(t) &=& \\dfrac{t-x(t)} 2 \\\\\n",
    "x(0) &=& 1\n",
    "\\end{array}\\right..\n",
    "$$\n",
    "en $[0,3]$\n",
    "1. Usa el método de Runge-Kutta de 2 evaluaciones con $\\alpha= 3/4$ y $\\beta=2/3$ para $h = 1$, $h = 1/2$, $h = 1/4$ y $h = 1/8$ y compara los resultados obtenidos.\n",
    "2. Repite el apartado anterior usando Runge-Kutta clásico.\n",
    "\n",
    "Nota: La solución exacta es $x(t) = 3 e^{-t/2} + t -2$."
   ]
  },
  {
   "cell_type": "markdown",
   "id": "e4daf431",
   "metadata": {},
   "source": [
    "### Ejercicio 7"
   ]
  },
  {
   "cell_type": "markdown",
   "id": "72fe73c2",
   "metadata": {},
   "source": [
    "Implemente un método MML Predictor-Corrector combinando un predictor AB de 5 pasos con un corrector AM de 4, y aplicando una sólo corrección en cada iteración:\n",
    "$$\n",
    "P: \\qquad x_{n+5}^{(0)} = x_{n+4} + \\frac{h}{720} (1901 f_{n+4} -2774 f_{n+3} +2616 f_{n+2} - 1274 f_{n+1} + 251 f_n)\n",
    "$$\n",
    "$$\n",
    "C^1: \\qquad  x_{n+5} = x_{n+4} + \\frac{h}{720} (251 f(t_{n+5},x_{n+5}^{(0)}) + 646 f_{n+4} -264 f_{n+3} +106 f_{n+2} - 19 f_{n+1} )\n",
    "$$"
   ]
  },
  {
   "cell_type": "markdown",
   "id": "8cfefb6c",
   "metadata": {},
   "source": [
    "### Ejercicio 9"
   ]
  },
  {
   "cell_type": "markdown",
   "id": "63195b9a",
   "metadata": {},
   "source": [
    "ado el siguiente PVI definido para $t\\in[0,1]$:\n",
    "$$\\left\\{\\begin{array}{rcl}\n",
    "x'(t) &=& \\cos(x(t)) + t^2 \\\\\n",
    "x(0) &=& 1\n",
    "\\end{array}\\right.\n",
    "$$\n",
    "- Intente encontrar la solución exacta del PVI.\n",
    "- Aproxime numéricamente el PVI utilizando los métodos que considere y represente gráficamente las diferentes aproximaciones en el intervalo $[0,1]$.\n",
    "- Para el método que observe que devuelve mejores resultados, estudie su sensibilidad a distintos valores de $N$ (por tanto de $h$)."
   ]
  },
  {
   "cell_type": "markdown",
   "id": "eb2fd460",
   "metadata": {},
   "source": [
    "#### Apartado 1"
   ]
  },
  {
   "cell_type": "markdown",
   "id": "be915803",
   "metadata": {},
   "source": [
    "#### Apartado 2"
   ]
  },
  {
   "cell_type": "markdown",
   "id": "cb8d49bc",
   "metadata": {},
   "source": [
    "#### Apartado 3"
   ]
  }
 ],
 "metadata": {
  "kernelspec": {
   "display_name": "Python 3 (ipykernel)",
   "language": "python",
   "name": "python3"
  },
  "language_info": {
   "codemirror_mode": {
    "name": "ipython",
    "version": 3
   },
   "file_extension": ".py",
   "mimetype": "text/x-python",
   "name": "python",
   "nbconvert_exporter": "python",
   "pygments_lexer": "ipython3",
   "version": "3.12.3"
  }
 },
 "nbformat": 4,
 "nbformat_minor": 5
}
