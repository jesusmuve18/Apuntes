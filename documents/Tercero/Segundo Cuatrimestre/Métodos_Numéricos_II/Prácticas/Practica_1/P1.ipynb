{
 "cells": [
  {
   "cell_type": "markdown",
   "id": "a5733f06",
   "metadata": {},
   "source": [
    "# Práctica 1"
   ]
  },
  {
   "cell_type": "markdown",
   "id": "5236702b",
   "metadata": {},
   "source": [
    "### General"
   ]
  },
  {
   "cell_type": "code",
   "execution_count": 1,
   "id": "0dac0ab3",
   "metadata": {},
   "outputs": [],
   "source": [
    "# Carga de librerías necesarias\n",
    "import numpy as np\n",
    "from numpy import sign\n",
    "import sympy as sp\n",
    "%matplotlib inline\n",
    "import matplotlib.pyplot as plt\n",
    "from scipy.optimize import fsolve \n",
    "\n",
    "from math import sin, cos, pi\n",
    "\n",
    "from decimal import * # Este módulo nos permitirá trabajar con una precisión determinada\n",
    "getcontext()\n",
    "\n",
    "from colorama import Fore, Back, Style # Colores en el output"
   ]
  },
  {
   "cell_type": "code",
   "execution_count": 2,
   "id": "1fc39d16",
   "metadata": {},
   "outputs": [],
   "source": [
    "def Title(msg):\n",
    "    return Style.BRIGHT + Fore.BLACK + Back.WHITE + msg + Style.RESET_ALL"
   ]
  },
  {
   "cell_type": "code",
   "execution_count": 3,
   "id": "92c9e561",
   "metadata": {},
   "outputs": [],
   "source": [
    "nmax = 1000000              # Número máximo de iteraciones\n",
    "cifras = 16                 # Número de cifras con el que queremos calcular\n",
    "getcontext().prec = cifras  # Presentamos los resultados con esa precisión\n",
    "tol = 10**(-cifras)         # Tolerancia\n",
    "prec = 10**(-16)            # Precisión\n",
    "\n",
    "ajustes_por_defecto = {'nmax' : nmax, 'cifras' : cifras, 'tol' : tol, 'prec' : prec}"
   ]
  },
  {
   "cell_type": "markdown",
   "id": "132e1e0d",
   "metadata": {},
   "source": [
    "### Ejercicio 1"
   ]
  },
  {
   "cell_type": "markdown",
   "id": "2df19f83",
   "metadata": {},
   "source": [
    "Teniendo en cuenta la recomendación explicada sobre los criterios de parada, codifica una función similar a la explicada en el método de bisección para el método de la secante.\n",
    " \n",
    " Aproxima la raíz de la función $f(x)=e^x-3$:\n",
    " * Cambiando la precisión a 5 cifras significativas.\n",
    " * Con la precisión por defecto y aproximando la raíz con 28 cifras significativas."
   ]
  },
  {
   "cell_type": "code",
   "execution_count": 4,
   "id": "6ca713bb",
   "metadata": {},
   "outputs": [],
   "source": [
    "def secante(f, x_0, x_1, nmax=nmax, tol=tol, prec=prec):\n",
    "    n = 0\n",
    "    cont = True\n",
    "    exitmsg = ''\n",
    "\n",
    "    x = [x_0, x_1]\n",
    "\n",
    "\n",
    "    while n < nmax and cont:\n",
    "        n += 1\n",
    "        \n",
    "        x_next = x[n] - ((x[n]-x[n-1])/(f(x[n])-f(x[n-1])))*f(x[n])\n",
    "        x.append(x_next)\n",
    "\n",
    "        if abs(x_next - x[n]) < tol:\n",
    "            exitmsg = 'tolerancia'\n",
    "            cont = False\n",
    "        \n",
    "        if abs(f(x_next))<prec:\n",
    "            exitmsg = 'precision'\n",
    "            cont = False\n",
    "\n",
    "    if n == nmax:\n",
    "        exitmsg = 'iteraciones'\n",
    "    \n",
    "    return {\n",
    "        \"resultado\": x[n+1], \n",
    "        \"exit\":exitmsg, \n",
    "        \"niter\":n\n",
    "    }"
   ]
  },
  {
   "cell_type": "code",
   "execution_count": 5,
   "id": "72a1c8cb",
   "metadata": {},
   "outputs": [],
   "source": [
    "# Definimos la función\n",
    "def f(x):\n",
    "    return np.exp(x)-3\n",
    "\n",
    "# Definimos la función\n",
    "def fsym(x):\n",
    "    return sp.exp(x)-3"
   ]
  },
  {
   "cell_type": "code",
   "execution_count": 6,
   "id": "9973f1c1",
   "metadata": {},
   "outputs": [
    {
     "name": "stdout",
     "output_type": "stream",
     "text": [
      "\u001b[1m\u001b[30m\u001b[47mEvaluación del método de la secante para 5 cifras significativas:\u001b[0m\n",
      "\tResultado calculado: 1.0986\n",
      "\tResultado exacto: 1.0986\n",
      "\tSalida: precision\n",
      "\tNúmero de iteraciones: 6\n",
      "\n",
      "\n",
      "\u001b[1m\u001b[30m\u001b[47mEvaluación del método de la secante para 28 cifras significativas:\u001b[0m\n",
      "\tResultado calculado: 1.098612288668109688475642587\n",
      "\tResultado exacto: 1.098612288668109691395245237\n",
      "\tSalida: precision\n",
      "\tNúmero de iteraciones: 8\n"
     ]
    }
   ],
   "source": [
    "x = sp.Symbol('x')\n",
    "\n",
    "x_0 = Decimal(0)\n",
    "x_1 = Decimal(2)\n",
    "\n",
    "# Ajustamos la precisión\n",
    "cifras = 5                 # Número de cifras con el que queremos calcular\n",
    "prec = 10**(-cifras)       # Precisión\n",
    "getcontext().prec = cifras\n",
    "\n",
    "resultado = secante (f, x_0, x_1, nmax, tol, prec)\n",
    "\n",
    "print(Title(\"Evaluación del método de la secante para 5 cifras significativas:\"))\n",
    "print(f\"\\tResultado calculado: {resultado[\"resultado\"]}\")\n",
    "print(f\"\\tResultado exacto: {(sp.solve(fsym(x),x)[0]).evalf(5)}\")\n",
    "print(f\"\\tSalida: {resultado[\"exit\"]}\")\n",
    "print(f\"\\tNúmero de iteraciones: {resultado[\"niter\"]}\")\n",
    "\n",
    "print('\\n')\n",
    "\n",
    "# Ajustamos la precisión y la tolerancia\n",
    "prec = ajustes_por_defecto['prec']\n",
    "tol = 10**(-28)                     # 28 cifras significativas\n",
    "getcontext().prec = 28\n",
    "\n",
    "resultado = secante (f, x_0, x_1, nmax, tol, prec)\n",
    "\n",
    "print(Title(\"Evaluación del método de la secante para 28 cifras significativas:\"))\n",
    "print(f\"\\tResultado calculado: {resultado[\"resultado\"]}\")\n",
    "print(f\"\\tResultado exacto: {(sp.solve(fsym(x),x)[0]).evalf(28)}\")\n",
    "print(f\"\\tSalida: {resultado[\"exit\"]}\")\n",
    "print(f\"\\tNúmero de iteraciones: {resultado[\"niter\"]}\")\n",
    "\n",
    "# Devolvemos los ajustes a por defecto\n",
    "prec = ajustes_por_defecto['prec']\n",
    "nmax = ajustes_por_defecto['nmax']\n",
    "tol = ajustes_por_defecto['tol']\n",
    "cifras = ajustes_por_defecto['cifras']\n",
    "getcontext().prec = cifras"
   ]
  },
  {
   "cell_type": "markdown",
   "id": "7b544472",
   "metadata": {},
   "source": [
    "### Ejercicio 2\n"
   ]
  },
  {
   "cell_type": "markdown",
   "id": "7113bf35",
   "metadata": {},
   "source": [
    "Teniendo en cuenta estos primeros pasos, codifica una función para el método de Wittaker.\n",
    " \n",
    " Aproxima la raíz de la función $f(x)=e^x-3$:\n",
    " * Cambiando la precisión a 5 cifras significativas.\n",
    " * Con la precisión por defecto y aproximando la raíz con 28 cifras significativas.\n",
    " \n",
    " Comprueba que una mala elección de $m$ puede provocar que la sucesión no converja."
   ]
  },
  {
   "cell_type": "code",
   "execution_count": 7,
   "id": "c5e6caf2",
   "metadata": {},
   "outputs": [],
   "source": [
    "def wittaker(f, x_0, m, nmax=nmax, tol=tol, prec=prec):\n",
    "    n = 0\n",
    "    cont = True\n",
    "    exitmsg = ''\n",
    "\n",
    "    x = [x_0]\n",
    "\n",
    "\n",
    "    while n < nmax and cont:\n",
    "        \n",
    "        x_next = x[n] - f(x[n])/m\n",
    "        x.append(x_next)\n",
    "\n",
    "        n += 1\n",
    "\n",
    "        if abs(x_next - x[n-1]) < tol:\n",
    "            exitmsg = 'tolerancia'\n",
    "            cont = False\n",
    "        \n",
    "        if abs(f(x_next))<prec:\n",
    "            exitmsg = 'precision'\n",
    "            cont = False\n",
    "\n",
    "    if n == nmax:\n",
    "        exitmsg = 'iteraciones'\n",
    "    \n",
    "    return {\n",
    "        \"resultado\": x[n], \n",
    "        \"exit\":exitmsg, \n",
    "        \"niter\":n\n",
    "    }"
   ]
  },
  {
   "cell_type": "code",
   "execution_count": 8,
   "id": "c59802f4",
   "metadata": {},
   "outputs": [
    {
     "name": "stdout",
     "output_type": "stream",
     "text": [
      "\u001b[1m\u001b[30m\u001b[47mEvaluación del método de wittaker para 5 cifras significativas:\u001b[0m\n",
      "\tResultado calculado: 1.0985\n",
      "\tResultado exacto: 1.0986\n",
      "\tSalida: tolerancia\n",
      "\tNúmero de iteraciones: 29\n",
      "\n",
      "\n",
      "\u001b[1m\u001b[30m\u001b[47mEvaluación del método de wittaker para 28 cifras significativas:\u001b[0m\n",
      "\tResultado calculado: 1.098612288668109658771656279\n",
      "\tResultado exacto: 1.09861228866811\n",
      "\tSalida: precision\n",
      "\tNúmero de iteraciones: 109\n",
      "\n",
      "\n",
      "\u001b[1m\u001b[30m\u001b[47mEvaluación del método de wittaker para m = 0.1000000000000000055511151231257827021181583404541015625:\u001b[0m\n",
      "\tResultado calculado: -4836651964.097903\n",
      "\tResultado exacto: 1.09861228866811\n",
      "\tSalida: iteraciones\n",
      "\tNúmero de iteraciones: 500000\n"
     ]
    }
   ],
   "source": [
    "x_0 = Decimal(0)\n",
    "m = Decimal(10)\n",
    "\n",
    "# Ajustamos la precisión\n",
    "cifras = 5                 # Número de cifras con el que queremos calcular\n",
    "prec = 10**(-cifras)       # Precisión\n",
    "getcontext().prec = cifras\n",
    "\n",
    "resultado = wittaker (f, x_0, m, nmax, tol, prec)\n",
    "\n",
    "print(Title(\"Evaluación del método de wittaker para 5 cifras significativas:\"))\n",
    "print(f\"\\tResultado calculado: {resultado[\"resultado\"]}\")\n",
    "print(f\"\\tResultado exacto: {(sp.solve(fsym(x),x)[0]).evalf(cifras)}\")\n",
    "print(f\"\\tSalida: {resultado[\"exit\"]}\")\n",
    "print(f\"\\tNúmero de iteraciones: {resultado[\"niter\"]}\")\n",
    "\n",
    "print('\\n')\n",
    "\n",
    "# Ajustamos la precisión y la tolerancia\n",
    "prec = ajustes_por_defecto['prec']\n",
    "cifras = 28                            # 28 cifras significativas\n",
    "tol = 10**(-cifras)                     \n",
    "getcontext().prec = cifras\n",
    "\n",
    "resultado = wittaker (f, x_0, m, nmax, tol, prec)\n",
    "\n",
    "print(Title(\"Evaluación del método de wittaker para 28 cifras significativas:\"))\n",
    "print(f\"\\tResultado calculado: {resultado[\"resultado\"]}\")\n",
    "print(f\"\\tResultado exacto: {(sp.solve(fsym(x),x)[0]).evalf()}\")\n",
    "print(f\"\\tSalida: {resultado[\"exit\"]}\")\n",
    "print(f\"\\tNúmero de iteraciones: {resultado[\"niter\"]}\")\n",
    "print('\\n')\n",
    "\n",
    "# Ajustamos la precisión y la tolerancia\n",
    "prec = ajustes_por_defecto['prec']\n",
    "tol = ajustes_por_defecto['tol']\n",
    "cifras = ajustes_por_defecto['cifras']\n",
    "getcontext().prec = cifras\n",
    "\n",
    "x_0 = Decimal(0)\n",
    "m = Decimal(0.1)\n",
    "\n",
    "nmax = 500000 # Le ponemos un número de iteraciones lo suficientemente grande para ver que no converge\n",
    "\n",
    "resultado = wittaker (f, x_0, m, nmax, tol, prec)\n",
    "\n",
    "# Veamos que no converge\n",
    "print(Title(f\"Evaluación del método de wittaker para m = {m}:\"))\n",
    "print(f\"\\tResultado calculado: {resultado[\"resultado\"]}\")\n",
    "print(f\"\\tResultado exacto: {(sp.solve(fsym(x),x)[0]).evalf()}\")\n",
    "print(f\"\\tSalida: {resultado[\"exit\"]}\")\n",
    "print(f\"\\tNúmero de iteraciones: {resultado[\"niter\"]}\")\n",
    "\n",
    "# Devolvemos los ajustes a por defecto\n",
    "prec = ajustes_por_defecto['prec']\n",
    "nmax = ajustes_por_defecto['nmax']\n",
    "tol = ajustes_por_defecto['tol']\n",
    "cifras = ajustes_por_defecto['cifras']\n",
    "getcontext().prec = cifras"
   ]
  },
  {
   "cell_type": "markdown",
   "id": "daa86b09",
   "metadata": {},
   "source": [
    "### Ejercicio 3"
   ]
  },
  {
   "cell_type": "markdown",
   "id": "c0d1d2d7",
   "metadata": {},
   "source": [
    "Modifique el método anterior para que, en lugar de fijar una pendiente $m$, calcule en cada iteración la derivada de la función en dicho punto, obteniendo el método de Newton-Raphson. Con este método:\n",
    " \n",
    " Aproxima la raíz de la función $f(x)=e^x-3$:\n",
    " * Cambiando la precisión a 5 cifras significativas.\n",
    " * Con la precisión por defecto y aproximando la raíz con 28 cifras significativas.\n",
    " \n",
    " Compare, en iguales condiciones, el rendimiento de Newton-Raphson con respecto al método de Wittaker."
   ]
  },
  {
   "cell_type": "code",
   "execution_count": 9,
   "id": "a1545982",
   "metadata": {},
   "outputs": [],
   "source": [
    "def Newton_Raphson(f, df, x_0, nmax=nmax, tol=tol, prec=prec):\n",
    "    n = 0\n",
    "    cont = True\n",
    "    exitmsg = ''\n",
    "\n",
    "    x = [x_0]\n",
    "\n",
    "\n",
    "    while n < nmax and cont:\n",
    "        n += 1\n",
    "        \n",
    "        x_next = x[n-1] - f(x[n-1])/df(x[n-1])        \n",
    "        x.append(x_next)\n",
    "\n",
    "        if abs(x_next - x[n-1]) < tol:\n",
    "            exitmsg = 'tolerancia'\n",
    "            cont = False\n",
    "        \n",
    "        if abs(f(x_next))<prec:\n",
    "            exitmsg = 'precision'\n",
    "            cont = False\n",
    "\n",
    "    if n == nmax:\n",
    "        exitmsg = 'iteraciones'\n",
    "    \n",
    "    return {\n",
    "        \"resultado\": x[n], \n",
    "        \"exit\":exitmsg, \n",
    "        \"niter\":n\n",
    "    }"
   ]
  },
  {
   "cell_type": "code",
   "execution_count": 10,
   "id": "02bb37b0",
   "metadata": {},
   "outputs": [],
   "source": [
    "# derivada de f\n",
    "def df(x): return np.exp(x)"
   ]
  },
  {
   "cell_type": "code",
   "execution_count": 11,
   "id": "098e3a53",
   "metadata": {},
   "outputs": [
    {
     "name": "stdout",
     "output_type": "stream",
     "text": [
      "\u001b[1m\u001b[30m\u001b[47mEvaluación del método de Newton-Raphson para 5 cifras significativas:\u001b[0m\n",
      "\tResultado calculado: 1.0986\n",
      "\tResultado exacto: 1.0986\n",
      "\tSalida: precision\n",
      "\tNúmero de iteraciones: 5\n",
      "\n",
      "\n",
      "\u001b[1m\u001b[30m\u001b[47mEvaluación del método de Newton-Raphson para 28 cifras significativas:\u001b[0m\n",
      "\tResultado calculado: 1.098612288668109691395245240\n",
      "\tResultado exacto: 1.098612288668109691395245237\n",
      "\tSalida: precision\n",
      "\tNúmero de iteraciones: 7\n"
     ]
    }
   ],
   "source": [
    "x_0 = Decimal(0)\n",
    "\n",
    "# Ajustamos la precisión\n",
    "cifras = 5                 # Número de cifras con el que queremos calcular\n",
    "prec = 10**(-cifras)       # Precisión\n",
    "getcontext().prec = 5\n",
    "\n",
    "resultado = Newton_Raphson(f, df, x_0, nmax, tol, prec)\n",
    "\n",
    "print(Title(\"Evaluación del método de Newton-Raphson para 5 cifras significativas:\"))\n",
    "print(f\"\\tResultado calculado: {resultado[\"resultado\"]}\")\n",
    "print(f\"\\tResultado exacto: {(sp.solve(fsym(x),x)[0]).evalf(5)}\")\n",
    "print(f\"\\tSalida: {resultado[\"exit\"]}\")\n",
    "print(f\"\\tNúmero de iteraciones: {resultado[\"niter\"]}\")\n",
    "\n",
    "print('\\n')\n",
    "\n",
    "# Ajustamos la precisión y la tolerancia\n",
    "prec = ajustes_por_defecto['prec']\n",
    "cifras = ajustes_por_defecto['cifras']\n",
    "tol = 10**(-28)                     # 28 cifras significativas\n",
    "\n",
    "getcontext().prec = 28\n",
    "\n",
    "resultado = Newton_Raphson(f, df, x_0, nmax, tol, prec)\n",
    "\n",
    "print(Title(\"Evaluación del método de Newton-Raphson para 28 cifras significativas:\"))\n",
    "print(f\"\\tResultado calculado: {resultado[\"resultado\"]}\")\n",
    "print(f\"\\tResultado exacto: {(sp.solve(fsym(x),x)[0]).evalf(28)}\")\n",
    "print(f\"\\tSalida: {resultado[\"exit\"]}\")\n",
    "print(f\"\\tNúmero de iteraciones: {resultado[\"niter\"]}\")\n",
    "\n",
    "# Devolvemos los ajustes a por defecto\n",
    "prec = ajustes_por_defecto['prec']\n",
    "nmax = ajustes_por_defecto['nmax']\n",
    "tol = ajustes_por_defecto['tol']"
   ]
  },
  {
   "cell_type": "markdown",
   "id": "67f72050",
   "metadata": {},
   "source": [
    "Se puede observar que el método de Newton-Raphson es mejor para 5 cifras significativas pero vemos que es peor para 28."
   ]
  },
  {
   "cell_type": "markdown",
   "id": "6f17f89b",
   "metadata": {},
   "source": [
    "### Ejercicio 4"
   ]
  },
  {
   "cell_type": "markdown",
   "id": "95e7625f",
   "metadata": {},
   "source": [
    "Demuestre que la ecuación  $x^3+4 x^2=10  $  tiene una única raíz en el intervalo $[1,2]$.  Aproxime dicha raíz con el método de bisección con al menos 3 cifras decimales exactas. ¿Cuántas iteraciones serán necesarias para conseguir 5 cifras decimales exactas (tol =$10^{-5}$)?  Aproxime también la raíz con el método de Newton-Raphson partiendo del extremo adecuado hasta que la diferencia en valor absoluto, entre dos aproximaciones consecutivas sea  inferior a  $10^{-3}$."
   ]
  },
  {
   "cell_type": "code",
   "execution_count": 12,
   "id": "82b205fa",
   "metadata": {},
   "outputs": [],
   "source": [
    "# definimos la función\n",
    "def f(x):\n",
    "    return x**3+4*x**2-10\n",
    "\n",
    "def fsym(x):\n",
    "    return x**3+4*x**2-10\n",
    "\n",
    "def df(x):\n",
    "    return 3*x**2+4"
   ]
  },
  {
   "cell_type": "code",
   "execution_count": 13,
   "id": "030ac851",
   "metadata": {},
   "outputs": [
    {
     "data": {
      "text/plain": [
       "[<matplotlib.lines.Line2D at 0x7e10ff9ab5c0>]"
      ]
     },
     "execution_count": 13,
     "metadata": {},
     "output_type": "execute_result"
    },
    {
     "data": {
      "image/png": "[encoded data removed]",
      "text/plain": [
       "<Figure size 640x480 with 1 Axes>"
      ]
     },
     "metadata": {},
     "output_type": "display_data"
    }
   ],
   "source": [
    "# Extremos del intervalo\n",
    "a = 1\n",
    "b = 2\n",
    "\n",
    "n_puntos = 100\n",
    "x_values = np.linspace(a,b,n_puntos)\n",
    "y_values = np.array(list(map(f,x_values)))\n",
    "\n",
    "fig, ax = plt.subplots()\n",
    "\n",
    "# Si queremos evitar que se dibujen los ejes derecho y superior de la figura\n",
    "ax.spines['right'].set_color('none')    # borde derecho\n",
    "ax.spines['top'].set_color('none')      # borde superior\n",
    "\n",
    "# Fijar la posición de las marcas en la parte inferior\n",
    "ax.xaxis.set_ticks_position('bottom')\n",
    "# Situar el eje Ox en la recta horizontal y=1\n",
    "ax.spines['bottom'].set_position(('data',0))\n",
    "\n",
    "# Fijar la posición de las marcas a la izquierda del eje Oy\n",
    "ax.yaxis.set_ticks_position('left')\n",
    "# Situar el eje Oy en la recta vertical x=0\n",
    "ax.spines['left'].set_position(('data',a))\n",
    "\n",
    "# Mostramos el gráfico despues de las modificaciones\n",
    "ax.plot(x_values, y_values)"
   ]
  },
  {
   "cell_type": "markdown",
   "id": "065cf265",
   "metadata": {},
   "source": [
    "Como se puede ver la gráfica de la función $f(x) = x^3 + 4x^2 - 10 $ tan solo corta una vez al eje x por lo que solo tiene una raíz en dicho intervalo"
   ]
  },
  {
   "cell_type": "code",
   "execution_count": 14,
   "id": "a9acfeff",
   "metadata": {},
   "outputs": [],
   "source": [
    "def biseccion(f, a, b, nmax=nmax, tol=tol, prec=prec):\n",
    "    niter = 0\n",
    "    cont = True\n",
    "    exit = ''\n",
    "    while niter < nmax and cont:\n",
    "        niter += 1\n",
    "        c = (a+b)/2\n",
    "        if abs(f(c)) < prec:    # Si |f(c)|< prec\n",
    "            exit = 'precision'\n",
    "            cont = False\n",
    "        elif sign(f(a)) != sign(f(c)):\n",
    "            b = c\n",
    "        else:\n",
    "            a = c\n",
    "\n",
    "        if b-a < tol:\n",
    "            exit = 'tolerancia'\n",
    "            cont = False\n",
    "\n",
    "    if(niter == nmax):\n",
    "        exit = 'iteraciones'\n",
    "            \n",
    "    return {\n",
    "        \"resultado\": c, \n",
    "        \"exit\": exit, \n",
    "        \"niter\": niter\n",
    "    }"
   ]
  },
  {
   "cell_type": "code",
   "execution_count": 15,
   "id": "292b5585",
   "metadata": {},
   "outputs": [
    {
     "name": "stdout",
     "output_type": "stream",
     "text": [
      "\u001b[1m\u001b[30m\u001b[47mEvaluación del método de biseccion para 3 cifras decimales exactas:\u001b[0m\n",
      "\tResultado calculado: 1.36517333984375\n",
      "\tResultado exacto: 1.365\n",
      "\tSalida: tolerancia\n",
      "\tNúmero de iteraciones: 14\n",
      "\n",
      "\n",
      "\u001b[1m\u001b[30m\u001b[47mEvaluación del método de Newton-Raphson para tol = 0.001:\u001b[0m\n",
      "\tResultado calculado: 1.3656166066945985\n",
      "\tResultado exacto: 1.36523001341410\n",
      "\tSalida: tolerancia\n",
      "\tNúmero de iteraciones: 21\n",
      "\n",
      "\n"
     ]
    }
   ],
   "source": [
    "# Ajustamos la precisión\n",
    "cifras = 4                 # Número de cifras con el que queremos calcular\n",
    "tol = 10**(-cifras)       \n",
    "\n",
    "resultado = biseccion(f, a, b, nmax, tol, prec)\n",
    "\n",
    "print(Title(f\"Evaluación del método de biseccion para 3 cifras decimales exactas:\"))\n",
    "print(f\"\\tResultado calculado: {resultado[\"resultado\"]}\")\n",
    "print(f\"\\tResultado exacto: {(sp.solve(fsym(x),x)[2]).evalf(cifras)}\")\n",
    "print(f\"\\tSalida: {resultado[\"exit\"]}\")\n",
    "print(f\"\\tNúmero de iteraciones: {resultado[\"niter\"]}\")\n",
    "\n",
    "print('\\n')\n",
    "\n",
    "# Ajustamos la precisión y la tolerancia\n",
    "cifras = 3\n",
    "tol = 10**(-3)\n",
    "\n",
    "resultado = Newton_Raphson(f, df, 1, nmax, tol, prec)\n",
    "\n",
    "print(Title(f\"Evaluación del método de Newton-Raphson para tol = {tol}:\"))\n",
    "print(f\"\\tResultado calculado: {resultado[\"resultado\"]}\")\n",
    "print(f\"\\tResultado exacto: {(sp.solve(fsym(x),x)[2]).evalf()}\")\n",
    "print(f\"\\tSalida: {resultado[\"exit\"]}\")\n",
    "print(f\"\\tNúmero de iteraciones: {resultado[\"niter\"]}\")\n",
    "print('\\n')\n",
    "\n",
    "# Devolvemos los ajustes a por defecto\n",
    "prec = ajustes_por_defecto['prec']\n",
    "nmax = ajustes_por_defecto['nmax']\n",
    "tol = ajustes_por_defecto['tol']\n",
    "cifras = ajustes_por_defecto['cifras']\n",
    "getcontext().prec = cifras"
   ]
  },
  {
   "cell_type": "markdown",
   "id": "ccd43f47",
   "metadata": {},
   "source": [
    "### Ejercicio 5"
   ]
  },
  {
   "cell_type": "markdown",
   "id": "feac2ca2",
   "metadata": {},
   "source": [
    "Use el método de Newton-Raphson para aproximar las soluciones de las siguientes ecuaciones con tolerancia $10^{-5}$ , partiendo de un valor adecuado, próximo a cada una de ellas en cada caso.\n",
    " \n",
    " 1. $3x=2+x^2-e^x$.\n",
    " \n",
    " 2. $x^2+10 \\cos x+x=0$."
   ]
  },
  {
   "cell_type": "markdown",
   "id": "93299e08",
   "metadata": {},
   "source": [
    "#### Apartado 1"
   ]
  },
  {
   "cell_type": "code",
   "execution_count": 16,
   "id": "01646799",
   "metadata": {},
   "outputs": [],
   "source": [
    "def g(x):\n",
    "    return x**2 - 3*x - 2 + np.exp(x)\n",
    "\n",
    "def dg(x):\n",
    "    return 2*x -3 + np.exp(x)"
   ]
  },
  {
   "cell_type": "code",
   "execution_count": 17,
   "id": "fe563df7",
   "metadata": {},
   "outputs": [
    {
     "data": {
      "text/plain": [
       "[<matplotlib.lines.Line2D at 0x7e10ff8d6060>]"
      ]
     },
     "execution_count": 17,
     "metadata": {},
     "output_type": "execute_result"
    },
    {
     "data": {
      "image/png": "[encoded data removed]",
      "text/plain": [
       "<Figure size 640x480 with 1 Axes>"
      ]
     },
     "metadata": {},
     "output_type": "display_data"
    }
   ],
   "source": [
    "# Extremos del intervalo\n",
    "a = -1\n",
    "b = 2\n",
    "\n",
    "n_puntos = 100\n",
    "x_values = np.linspace(a,b,n_puntos)\n",
    "y_values = np.array(list(map(g,x_values)))\n",
    "\n",
    "fig, ax = plt.subplots()\n",
    "\n",
    "# Si queremos evitar que se dibujen los ejes derecho y superior de la figura\n",
    "ax.spines['right'].set_color('none')    # borde derecho\n",
    "ax.spines['top'].set_color('none')      # borde superior\n",
    "\n",
    "# Fijar la posición de las marcas en la parte inferior\n",
    "ax.xaxis.set_ticks_position('bottom')\n",
    "# Situar el eje Ox en la recta horizontal y=1\n",
    "ax.spines['bottom'].set_position(('data',0))\n",
    "\n",
    "# Fijar la posición de las marcas a la izquierda del eje Oy\n",
    "ax.yaxis.set_ticks_position('left')\n",
    "# Situar el eje Oy en la recta vertical x=0\n",
    "ax.spines['left'].set_position(('data',0))\n",
    "\n",
    "# Mostramos el gráfico despues de las modificaciones\n",
    "ax.plot(x_values, y_values)"
   ]
  },
  {
   "cell_type": "markdown",
   "id": "bcb209c2",
   "metadata": {},
   "source": [
    "Podemos ver que esta primera función tiene una raíz en $[-0.5, 0]$ y $[1, 1.5]$"
   ]
  },
  {
   "cell_type": "code",
   "execution_count": 18,
   "id": "0fc4272e",
   "metadata": {},
   "outputs": [
    {
     "name": "stdout",
     "output_type": "stream",
     "text": [
      "\u001b[1m\u001b[30m\u001b[47mEvaluación del método de Newton-Raphson para la primera raíz:\u001b[0m\n",
      "\tResultado calculado: -0.39027168619771285\n",
      "\tSalida: tolerancia\n",
      "\tNúmero de iteraciones: 3\n",
      "\n",
      "\n",
      "\u001b[1m\u001b[30m\u001b[47mEvaluación del método de Newton-Raphson para la segunda raíz:\u001b[0m\n",
      "\tResultado calculado: 1.446238685974197\n",
      "\tSalida: tolerancia\n",
      "\tNúmero de iteraciones: 3\n"
     ]
    }
   ],
   "source": [
    "# Ajustamos la precisión\n",
    "tol = 10**(-5)                     # 28 cifras significativas\n",
    "\n",
    "x_0 = -0.5\n",
    "\n",
    "resultado = Newton_Raphson(g, dg, x_0 , nmax, tol, prec)\n",
    "\n",
    "print(Title(\"Evaluación del método de Newton-Raphson para la primera raíz:\"))\n",
    "print(f\"\\tResultado calculado: {resultado[\"resultado\"]}\")\n",
    "print(f\"\\tSalida: {resultado[\"exit\"]}\")\n",
    "print(f\"\\tNúmero de iteraciones: {resultado[\"niter\"]}\")\n",
    "\n",
    "print('\\n')\n",
    "\n",
    "x_0 = 1.5\n",
    "\n",
    "resultado = Newton_Raphson(g, dg, x_0 , nmax, tol, prec)\n",
    "\n",
    "print(Title(\"Evaluación del método de Newton-Raphson para la segunda raíz:\"))\n",
    "print(f\"\\tResultado calculado: {resultado[\"resultado\"]}\")\n",
    "print(f\"\\tSalida: {resultado[\"exit\"]}\")\n",
    "print(f\"\\tNúmero de iteraciones: {resultado[\"niter\"]}\")\n",
    "\n",
    "# Devolvemos los ajustes a por defecto\n",
    "prec = ajustes_por_defecto['prec']\n",
    "nmax = ajustes_por_defecto['nmax']\n",
    "tol = ajustes_por_defecto['tol']"
   ]
  },
  {
   "cell_type": "markdown",
   "id": "fdc56265",
   "metadata": {},
   "source": [
    "#### Apartado 2"
   ]
  },
  {
   "cell_type": "code",
   "execution_count": 19,
   "id": "fb3abc5d",
   "metadata": {},
   "outputs": [],
   "source": [
    "def h(x):\n",
    "    return x**2 + 10 * np.cos(x) + x\n",
    "\n",
    "def dh(x):\n",
    "    return 2*x -10* np.sin(x) + 1"
   ]
  },
  {
   "cell_type": "code",
   "execution_count": 20,
   "id": "075f481d",
   "metadata": {},
   "outputs": [
    {
     "data": {
      "text/plain": [
       "[<matplotlib.lines.Line2D at 0x7e10fbecbef0>]"
      ]
     },
     "execution_count": 20,
     "metadata": {},
     "output_type": "execute_result"
    },
    {
     "data": {
      "image/png": "[encoded data removed]",
      "text/plain": [
       "<Figure size 640x480 with 1 Axes>"
      ]
     },
     "metadata": {},
     "output_type": "display_data"
    }
   ],
   "source": [
    "# Extremos del intervalo\n",
    "a = -4\n",
    "b = 0\n",
    "\n",
    "n_puntos = 100\n",
    "x_values = np.linspace(a,b,n_puntos)\n",
    "y_values = np.array(list(map(h,x_values)))\n",
    "\n",
    "fig, ax = plt.subplots()\n",
    "\n",
    "# Si queremos evitar que se dibujen los ejes derecho y superior de la figura\n",
    "ax.spines['right'].set_color('none')    # borde derecho\n",
    "ax.spines['top'].set_color('none')      # borde superior\n",
    "\n",
    "# Fijar la posición de las marcas en la parte inferior\n",
    "ax.xaxis.set_ticks_position('bottom')\n",
    "# Situar el eje Ox en la recta horizontal y=1\n",
    "ax.spines['bottom'].set_position(('data',0))\n",
    "\n",
    "# Fijar la posición de las marcas a la izquierda del eje Oy\n",
    "ax.yaxis.set_ticks_position('left')\n",
    "# Situar el eje Oy en la recta vertical x=0\n",
    "ax.spines['left'].set_position(('data',0))\n",
    "\n",
    "# Mostramos el gráfico despues de las modificaciones\n",
    "ax.plot(x_values, y_values)"
   ]
  },
  {
   "cell_type": "markdown",
   "id": "df12d36b",
   "metadata": {},
   "source": [
    "De nuevo vemos que hay una raíz en $[-4, -3.5]$ y otra en $[-2,-1.5]$"
   ]
  },
  {
   "cell_type": "code",
   "execution_count": 21,
   "id": "350edb63",
   "metadata": {},
   "outputs": [
    {
     "name": "stdout",
     "output_type": "stream",
     "text": [
      "\u001b[1m\u001b[30m\u001b[47mEvaluación del método de Newton-Raphson para la primera raíz:\u001b[0m\n",
      "\tResultado calculado: -3.5623314972388327\n",
      "\tSalida: tolerancia\n",
      "\tNúmero de iteraciones: 4\n",
      "\n",
      "\n",
      "\u001b[1m\u001b[30m\u001b[47mEvaluación del método de Newton-Raphson para la segunda raíz:\u001b[0m\n",
      "\tResultado calculado: -1.6869398997844935\n",
      "\tSalida: tolerancia\n",
      "\tNúmero de iteraciones: 3\n"
     ]
    }
   ],
   "source": [
    "# Ajustamos la precisión\n",
    "tol = 10**(-5)                     # 28 cifras significativas\n",
    "\n",
    "x_0 = -4\n",
    "\n",
    "resultado = Newton_Raphson(h, dh, x_0 , nmax, tol, prec)\n",
    "\n",
    "print(Title(\"Evaluación del método de Newton-Raphson para la primera raíz:\"))\n",
    "print(f\"\\tResultado calculado: {resultado[\"resultado\"]}\")\n",
    "print(f\"\\tSalida: {resultado[\"exit\"]}\")\n",
    "print(f\"\\tNúmero de iteraciones: {resultado[\"niter\"]}\")\n",
    "\n",
    "print('\\n')\n",
    "\n",
    "x_0 = -1.4\n",
    "\n",
    "resultado = Newton_Raphson(h, dh, x_0 , nmax, tol, prec)\n",
    "\n",
    "print(Title(\"Evaluación del método de Newton-Raphson para la segunda raíz:\"))\n",
    "print(f\"\\tResultado calculado: {resultado[\"resultado\"]}\")\n",
    "print(f\"\\tSalida: {resultado[\"exit\"]}\")\n",
    "print(f\"\\tNúmero de iteraciones: {resultado[\"niter\"]}\")\n",
    "\n",
    "# Devolvemos los ajustes a por defecto\n",
    "prec = ajustes_por_defecto['prec']\n",
    "nmax = ajustes_por_defecto['nmax']\n",
    "tol = ajustes_por_defecto['tol']"
   ]
  },
  {
   "cell_type": "markdown",
   "id": "df2654be",
   "metadata": {},
   "source": [
    "### Ejercicio 6"
   ]
  },
  {
   "cell_type": "markdown",
   "id": "a149b22e",
   "metadata": {},
   "source": [
    "Para la función  $ f(x)= 3 x^2+e^x-1$,\n",
    " \n",
    " i) encuentre, mediante el método de bisección una aproximación de la raíz en $[0,1]$ con, al menos, cuatro decimales exactos (tol =$10^{-4}$), y determine el número de iteraciones realizadas;\n",
    " \n",
    " ii) encuentre, mediante el método de Newton-Raphson, una aproximación de la raíz en $[0,1]$ con una tolerancia de $10^{-4}$, partiendo de $x_0=0$, y determine el número de iteraciones realizadas.  "
   ]
  },
  {
   "cell_type": "code",
   "execution_count": 22,
   "id": "1606d627",
   "metadata": {},
   "outputs": [],
   "source": [
    "def f(x):\n",
    "    return 3*x**2 + np.exp(x) -1\n",
    "def df(x):\n",
    "    return 6*x + np.exp(x)"
   ]
  },
  {
   "cell_type": "markdown",
   "id": "8c519de2",
   "metadata": {},
   "source": [
    "#### Apartado 1"
   ]
  },
  {
   "cell_type": "code",
   "execution_count": 23,
   "id": "75ae5df2",
   "metadata": {},
   "outputs": [
    {
     "name": "stdout",
     "output_type": "stream",
     "text": [
      "\u001b[1m\u001b[30m\u001b[47mEvaluación del método de bisección con 4 decimales exactos:\u001b[0m\n",
      "\tResultado calculado: 0.00006103515625\n",
      "\tSalida: tolerancia\n",
      "\tNúmero de iteraciones: 14\n"
     ]
    }
   ],
   "source": [
    "# Ajustamos la precisión\n",
    "tol = 10**(-4)                     # 4 decimales exactos\n",
    "\n",
    "# Extremos del intervalo\n",
    "a = Decimal(0)\n",
    "b = Decimal(1)\n",
    "\n",
    "resultado = biseccion(f, a, b, nmax, tol, prec)\n",
    "\n",
    "print(Title(\"Evaluación del método de bisección con 4 decimales exactos:\"))\n",
    "print(f\"\\tResultado calculado: {resultado[\"resultado\"]}\")\n",
    "print(f\"\\tSalida: {resultado[\"exit\"]}\")\n",
    "print(f\"\\tNúmero de iteraciones: {resultado[\"niter\"]}\")\n",
    "\n",
    "# Devolvemos los ajustes a por defecto\n",
    "prec = ajustes_por_defecto['prec']\n",
    "nmax = ajustes_por_defecto['nmax']\n",
    "tol = ajustes_por_defecto['tol']"
   ]
  },
  {
   "cell_type": "markdown",
   "id": "a28b0fe5",
   "metadata": {},
   "source": [
    "#### Apartado 2"
   ]
  },
  {
   "cell_type": "code",
   "execution_count": 24,
   "id": "19c31406",
   "metadata": {},
   "outputs": [
    {
     "name": "stdout",
     "output_type": "stream",
     "text": [
      "\u001b[1m\u001b[30m\u001b[47mEvaluación del método de Newton-Raphson con 4 decimales exactos:\u001b[0m\n",
      "\tResultado calculado: 0\n",
      "\tSalida: precision\n",
      "\tNúmero de iteraciones: 1\n"
     ]
    }
   ],
   "source": [
    "# Ajustamos la precisión\n",
    "tol = 10**(-4)                     # 4 decimales exactos\n",
    "\n",
    "# Semilla\n",
    "x_0 = Decimal(0)\n",
    "\n",
    "resultado = Newton_Raphson(f, df, x_0, nmax, tol, prec)\n",
    "\n",
    "print(Title(\"Evaluación del método de Newton-Raphson con 4 decimales exactos:\"))\n",
    "print(f\"\\tResultado calculado: {resultado[\"resultado\"]}\")\n",
    "print(f\"\\tSalida: {resultado[\"exit\"]}\")\n",
    "print(f\"\\tNúmero de iteraciones: {resultado[\"niter\"]}\")\n",
    "\n",
    "# Devolvemos los ajustes a por defecto\n",
    "prec = ajustes_por_defecto['prec']\n",
    "nmax = ajustes_por_defecto['nmax']\n",
    "tol = ajustes_por_defecto['tol']"
   ]
  },
  {
   "cell_type": "markdown",
   "id": "f775b867",
   "metadata": {},
   "source": [
    "### Ejercicio 7"
   ]
  },
  {
   "cell_type": "markdown",
   "id": "35bd67a5",
   "metadata": {},
   "source": [
    "Implemente el método de iteración funcional de Steffensen para una función $f$. En particular, para la función $f(x)=e^x-3$:\n",
    " * Represente gráficamente las funciones $g$ definidas tanto para el método de Newton-Raphson como para el método de Steffensen, comprobando que ambas poseen un punto fijo en la raíz de $f$.\n",
    " * Aproxima su única raíz utilizando el método de Steffensen:\n",
    "     * Cambiando la precisión a 5 cifras significativas.\n",
    "     * Con la precisión por defecto y aproximando la raíz con 28 cifras significativas."
   ]
  },
  {
   "cell_type": "code",
   "execution_count": 25,
   "id": "3b11c833",
   "metadata": {},
   "outputs": [],
   "source": [
    "def f(x):\n",
    "    return np.exp(x)-3\n",
    "\n",
    "def fsym(x):\n",
    "    return sp.exp(x)-3\n",
    "\n",
    "def df(x):\n",
    "    return np.exp(x)\n"
   ]
  },
  {
   "cell_type": "markdown",
   "id": "a9edaebc",
   "metadata": {},
   "source": [
    "#### Apartado 1"
   ]
  },
  {
   "cell_type": "code",
   "execution_count": 26,
   "id": "083572de",
   "metadata": {},
   "outputs": [],
   "source": [
    "\n",
    "# g de Newton-Raphson\n",
    "def g_NR(x):\n",
    "    return x - (f(x)/df(x))\n",
    "\n",
    "# g de Steffensen\n",
    "def g_S(x):\n",
    "    return x - (f(x)**2/(f(x+f(x))-f(x)))   "
   ]
  },
  {
   "cell_type": "code",
   "execution_count": 27,
   "id": "1bfd55f5",
   "metadata": {},
   "outputs": [
    {
     "data": {
      "text/plain": [
       "<matplotlib.legend.Legend at 0x7e10ffb0fd10>"
      ]
     },
     "execution_count": 27,
     "metadata": {},
     "output_type": "execute_result"
    },
    {
     "data": {
      "image/png": "[encoded data removed]",
      "text/plain": [
       "<Figure size 640x480 with 1 Axes>"
      ]
     },
     "metadata": {},
     "output_type": "display_data"
    }
   ],
   "source": [
    "# Extremos del intervalo\n",
    "a = 0\n",
    "b = 5\n",
    "\n",
    "# Si queremos evitar que se dibujen los ejes derecho y superior de la figura\n",
    "ax.spines['right'].set_color('none')    # borde derecho\n",
    "ax.spines['top'].set_color('none')      # borde superior\n",
    "\n",
    "# Fijar la posición de las marcas en la parte inferior\n",
    "ax.xaxis.set_ticks_position('bottom')\n",
    "# Situar el eje Ox en la recta horizontal y=1\n",
    "ax.spines['bottom'].set_position(('data',0))\n",
    "\n",
    "# Fijar la posición de las marcas a la izquierda del eje Oy\n",
    "ax.yaxis.set_ticks_position('left')\n",
    "# Situar el eje Oy en la recta vertical x=0\n",
    "ax.spines['left'].set_position(('data',0))\n",
    "\n",
    "n_puntos = 100\n",
    "x_values = np.linspace(a,b,n_puntos)\n",
    "y_values = np.array(list(map(g_NR,x_values)))\n",
    "\n",
    "fig, ax = plt.subplots()\n",
    "\n",
    "# Mostramos el gráfico de NR \n",
    "ax.plot(x_values, y_values, label='Newton-Raphson')\n",
    "\n",
    "y_values = np.array(list(map(g_S,x_values)))\n",
    "\n",
    "# Mostramos el gráfico de Steffensen\n",
    "ax.plot(x_values, y_values, label='Steffensen')\n",
    "\n",
    "# Mostramos la función f(x)=x (punto fijo)\n",
    "ax.plot(x_values, x_values, label='f(x) = x', linestyle='--', color='gray')\n",
    "\n",
    "# agregamos la leyenda\n",
    "ax.legend()"
   ]
  },
  {
   "cell_type": "markdown",
   "id": "f308314f",
   "metadata": {},
   "source": [
    "Como se puede ver ambas funciones tienen un punto fijo (el mismo) que es la intersección de las 3 gráficas"
   ]
  },
  {
   "cell_type": "markdown",
   "id": "7d9fdd8b",
   "metadata": {},
   "source": [
    "#### Apartado 2"
   ]
  },
  {
   "cell_type": "code",
   "execution_count": 28,
   "id": "77c245ef",
   "metadata": {},
   "outputs": [],
   "source": [
    "def Steffensen(f, x_0, nmax=nmax, tol=tol, prec=prec):\n",
    "    n = 0\n",
    "    cont = True\n",
    "    exitmsg = ''\n",
    "\n",
    "    x = [x_0]\n",
    "\n",
    "\n",
    "    while n < nmax and cont:\n",
    "        \n",
    "        \n",
    "        x_next = x[n] - (f(x[n])**2/(f(x[n]+f(x[n]))-f(x[n])))       \n",
    "        x.append(x_next)\n",
    "\n",
    "        n += 1\n",
    "\n",
    "        if abs(x_next - x[n-1]) < tol:\n",
    "            exitmsg = 'tolerancia'\n",
    "            cont = False\n",
    "        \n",
    "        if abs(f(x_next))<prec:\n",
    "            exitmsg = 'precision'\n",
    "            cont = False\n",
    "\n",
    "    if n == nmax:\n",
    "        exitmsg = 'iteraciones'\n",
    "    \n",
    "    return {\n",
    "        \"resultado\": x[n], \n",
    "        \"exit\":exitmsg, \n",
    "        \"niter\":n\n",
    "    }"
   ]
  },
  {
   "cell_type": "code",
   "execution_count": 29,
   "id": "bb8b5932",
   "metadata": {},
   "outputs": [
    {
     "name": "stdout",
     "output_type": "stream",
     "text": [
      "\u001b[1m\u001b[30m\u001b[47mEvaluación del método de Steffensen con 5 cifras significativas:\u001b[0m\n",
      "\tResultado calculado: 1.098613623780496\n",
      "\tResultado exacto: 1.0986\n",
      "\tSalida: precision\n",
      "\tNúmero de iteraciones: 3\n",
      "\n",
      "\n",
      "\u001b[1m\u001b[30m\u001b[47mEvaluación del método de Steffensen con 28 cifras significativas:\u001b[0m\n",
      "\tResultado calculado: 1.098612288668109691395270656\n",
      "\tResultado exacto: 1.098612288668109691395245237\n",
      "\tSalida: precision\n",
      "\tNúmero de iteraciones: 5\n"
     ]
    }
   ],
   "source": [
    "# Ajustamos la precisión\n",
    "prec = 10**(-5)                     # 5 cifras significativas\n",
    "\n",
    "# Semilla\n",
    "x_0 = Decimal(1)\n",
    "\n",
    "resultado = Steffensen(f, x_0, nmax, tol, prec)\n",
    "\n",
    "print(Title(\"Evaluación del método de Steffensen con 5 cifras significativas:\"))\n",
    "print(f\"\\tResultado calculado: {resultado[\"resultado\"]}\")\n",
    "print(f\"\\tResultado exacto: {(sp.solve(fsym(x),x)[0]).evalf(5)}\")\n",
    "print(f\"\\tSalida: {resultado[\"exit\"]}\")\n",
    "print(f\"\\tNúmero de iteraciones: {resultado[\"niter\"]}\")\n",
    "\n",
    "print('\\n')\n",
    "\n",
    "prec = ajustes_por_defecto['prec']\n",
    "\n",
    "# Ajustamos la tolerancia\n",
    "tol = 10**(-28)\n",
    "\n",
    "getcontext().prec = 28\n",
    "resultado = Steffensen(f, x_0, nmax, tol, prec)\n",
    "\n",
    "print(Title(\"Evaluación del método de Steffensen con 28 cifras significativas:\"))\n",
    "print(f\"\\tResultado calculado: {resultado[\"resultado\"]}\")\n",
    "print(f\"\\tResultado exacto: {(sp.solve(fsym(x),x)[0]).evalf(28)}\")\n",
    "print(f\"\\tSalida: {resultado[\"exit\"]}\")\n",
    "print(f\"\\tNúmero de iteraciones: {resultado[\"niter\"]}\")\n",
    "\n",
    "# Devolvemos los ajustes a por defecto\n",
    "prec = ajustes_por_defecto['prec']\n",
    "nmax = ajustes_por_defecto['nmax']\n",
    "tol = ajustes_por_defecto['tol']\n",
    "cifras = ajustes_por_defecto['cifras']\n",
    "getcontext().prec = cifras"
   ]
  },
  {
   "cell_type": "markdown",
   "id": "df996577",
   "metadata": {},
   "source": [
    "### Ejercicio 8"
   ]
  },
  {
   "cell_type": "markdown",
   "id": "4cc0973f",
   "metadata": {},
   "source": [
    "Implemente el método de aceleración de la convergencia de Steffensen y aplíquelo a una sucesión de valores obtenidos mediante iteración funcional de Newton-Raphson a la función $f(x) = e^x -3$. Compare las aproximaciones tras 4 iteraciones del método de Newton-Raphson, aceleración de la convergencia de Aitken y aceleración de la convergencia de Steffensen."
   ]
  },
  {
   "cell_type": "markdown",
   "id": "67455e92",
   "metadata": {},
   "source": [
    "### Ejercicio 9\n"
   ]
  },
  {
   "cell_type": "markdown",
   "id": "adbf608f",
   "metadata": {},
   "source": [
    "Utilice las órdenes apropiadas de Python para aproximar todos los puntos donde se anulan las funciones siguientes (si es necesario, represéntelas gráficamente):\n",
    " \n",
    " i) $f(x)=x^7-x^4+2$ ,\n",
    " \n",
    " ii) $f(x)=x^7+\\cos  x-3$."
   ]
  },
  {
   "cell_type": "markdown",
   "id": "07ad47c9",
   "metadata": {},
   "source": [
    "#### Apartado 1"
   ]
  },
  {
   "cell_type": "code",
   "execution_count": 30,
   "id": "de085e6a",
   "metadata": {},
   "outputs": [],
   "source": [
    "def f(x):\n",
    "    return x**7 - x**4 + 2"
   ]
  },
  {
   "cell_type": "code",
   "execution_count": 31,
   "id": "5d221252",
   "metadata": {},
   "outputs": [
    {
     "name": "stdout",
     "output_type": "stream",
     "text": [
      "\u001b[1m\u001b[30m\u001b[47mCálculo de raíces con funciones de python:\u001b[0m\n",
      "\tRaíz 1: -1.00000000000000\n",
      "\tRaíz 2: -0.713102145851293 - 0.98823188827156*I\n",
      "\tRaíz 3: -0.713102145851293 + 0.98823188827156*I\n",
      "\tRaíz 4: 1.06110281046036 - 0.376384046559108*I\n",
      "\tRaíz 5: 1.06110281046036 + 0.376384046559108*I\n",
      "\tRaíz 6: 0.151999335390936 - 1.01945594669063*I\n",
      "\tRaíz 7: 0.151999335390936 + 1.01945594669063*I\n"
     ]
    }
   ],
   "source": [
    "resultado = sp.solve(f(x),x)\n",
    "\n",
    "print(Title(\"Cálculo de raíces con funciones de python:\"))\n",
    "\n",
    "n=0\n",
    "\n",
    "for r in resultado :\n",
    "    n+=1\n",
    "    print(f\"\\tRaíz {n}: {r.evalf()}\")\n"
   ]
  },
  {
   "cell_type": "markdown",
   "id": "aa9bda12",
   "metadata": {},
   "source": [
    "#### Apartado 2"
   ]
  },
  {
   "cell_type": "code",
   "execution_count": 32,
   "id": "a4c8ad17",
   "metadata": {},
   "outputs": [],
   "source": [
    "def f(x):\n",
    "    return x**7 + np.cos(x) -3"
   ]
  },
  {
   "cell_type": "code",
   "execution_count": 33,
   "id": "78b05f52",
   "metadata": {},
   "outputs": [
    {
     "name": "stdout",
     "output_type": "stream",
     "text": [
      "\u001b[1m\u001b[30m\u001b[47mCálculo de raíces con funciones de python:\u001b[0m\n",
      "\tRaíz 1: 1.1454598072700084\n"
     ]
    }
   ],
   "source": [
    "resultado = fsolve(f, 1.0)\n",
    "\n",
    "print(Title(\"Cálculo de raíces con funciones de python:\"))\n",
    "\n",
    "n=0\n",
    "\n",
    "for r in resultado :\n",
    "    n+=1\n",
    "    print(f\"\\tRaíz {n}: {r}\")\n"
   ]
  },
  {
   "cell_type": "markdown",
   "id": "a8acb35b",
   "metadata": {},
   "source": [
    "### Ejercicio 10"
   ]
  },
  {
   "cell_type": "markdown",
   "id": "23f7c065",
   "metadata": {},
   "source": [
    "De los métodos implementados en los anteriores ejercicios, utiliza el método o métodos numéricos que desees para aproximar la primera raíz de la función\n",
    " $$\n",
    " f:[0,1]\\longrightarrow\\mathbb R \\\\\n",
    " f(x) = x(1-x)\\sin\\left(\\dfrac{2\\pi}{x+1/10}\\right)\n",
    " $$\n",
    " que sea mayor que una milésima con una precisión de 28 cifras significativas y utilizando el menor número de iteraciones posible. Imprime por pantalla tu aproximación y el número de iteraciones utilizado."
   ]
  },
  {
   "cell_type": "code",
   "execution_count": 37,
   "id": "f028ed41",
   "metadata": {},
   "outputs": [],
   "source": [
    "def f(x):\n",
    "    x= float(x)\n",
    "    return x*(1-x)*sp.sin(2*sp.pi/(x + (1/10)))\n",
    "\n",
    "def fnum(x):\n",
    "    return x*(1-x)*np.sin(2*np.pi/(x + (1/10)))\n",
    "\n",
    "def df(x):\n",
    "    x = float(x)\n",
    "    return (1-x)*sp.sin(2*sp.pi/(x + (1/10))) - x * sp.sin(2*sp.pi/(x + (1/10))) + x*(1-x)*sp.cos(2*sp.pi/(x + (1/10)))*(-2*sp.pi/(x+(1/10)**2))"
   ]
  },
  {
   "cell_type": "code",
   "execution_count": 38,
   "id": "281d5a12",
   "metadata": {},
   "outputs": [
    {
     "data": {
      "text/plain": [
       "[<matplotlib.lines.Line2D at 0x7e10ff237c20>]"
      ]
     },
     "execution_count": 38,
     "metadata": {},
     "output_type": "execute_result"
    },
    {
     "data": {
      "image/png": "[encoded data removed]",
      "text/plain": [
       "<Figure size 640x480 with 1 Axes>"
      ]
     },
     "metadata": {},
     "output_type": "display_data"
    }
   ],
   "source": [
    "# Extremos del intervalo\n",
    "a = 0.001\n",
    "b = 0.006\n",
    "\n",
    "n_puntos = 100\n",
    "x_values = np.linspace(a,b,n_puntos)\n",
    "y_values = np.array(list(map(f,x_values)))\n",
    "\n",
    "fig, ax = plt.subplots()\n",
    "\n",
    "# Si queremos evitar que se dibujen los ejes derecho y superior de la figura\n",
    "ax.spines['right'].set_color('none')    # borde derecho\n",
    "ax.spines['top'].set_color('none')      # borde superior\n",
    "\n",
    "# Fijar la posición de las marcas en la parte inferior\n",
    "ax.xaxis.set_ticks_position('bottom')\n",
    "# Situar el eje Ox en la recta horizontal y=1\n",
    "ax.spines['bottom'].set_position(('data',0))\n",
    "\n",
    "# Fijar la posición de las marcas a la izquierda del eje Oy\n",
    "ax.yaxis.set_ticks_position('left')\n",
    "# Situar el eje Oy en la recta vertical x=0\n",
    "ax.spines['left'].set_position(('data',0.001))\n",
    "\n",
    "# Mostramos el gráfico despues de las modificaciones\n",
    "ax.plot(x_values, y_values)"
   ]
  },
  {
   "cell_type": "code",
   "execution_count": 40,
   "id": "42f88d95",
   "metadata": {},
   "outputs": [
    {
     "name": "stdout",
     "output_type": "stream",
     "text": [
      "\u001b[1m\u001b[30m\u001b[47mEvaluación del método de Steffensen con 28 cifras significativas:\u001b[0m\n",
      "\tResultado calculado: 0.00526315789473683\n",
      "\tSalida: precision\n",
      "\tNúmero de iteraciones: 30\n"
     ]
    }
   ],
   "source": [
    "getcontext().prec = 28\n",
    "prec = 10**(-28)\n",
    "tol = 10**(-28) # Para obligarlo a salir por precisión\n",
    "\n",
    "x_0 = Decimal(0.00525)\n",
    "\n",
    "resultado = Newton_Raphson(f, df, x_0, nmax, tol, prec)\n",
    "\n",
    "\n",
    "print(Title(\"Evaluación del método de Steffensen con 28 cifras significativas:\"))\n",
    "print(f\"\\tResultado calculado: {resultado[\"resultado\"].evalf()}\")\n",
    "print(f\"\\tSalida: {resultado[\"exit\"]}\")\n",
    "print(f\"\\tNúmero de iteraciones: {resultado[\"niter\"]}\")\n",
    "\n",
    "# Devolvemos los ajustes a por defecto\n",
    "prec = ajustes_por_defecto['prec']\n",
    "nmax = ajustes_por_defecto['nmax']\n",
    "tol = ajustes_por_defecto['tol']\n",
    "cifras = ajustes_por_defecto['cifras']\n",
    "getcontext().prec = cifras"
   ]
  }
 ],
 "metadata": {
  "kernelspec": {
   "display_name": "Python 3 (ipykernel)",
   "language": "python",
   "name": "python3"
  },
  "language_info": {
   "codemirror_mode": {
    "name": "ipython",
    "version": 3
   },
   "file_extension": ".py",
   "mimetype": "text/x-python",
   "name": "python",
   "nbconvert_exporter": "python",
   "pygments_lexer": "ipython3",
   "version": "3.12.3"
  }
 },
 "nbformat": 4,
 "nbformat_minor": 5
}
