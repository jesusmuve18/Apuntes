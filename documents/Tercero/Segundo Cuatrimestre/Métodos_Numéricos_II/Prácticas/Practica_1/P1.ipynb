{
 "cells": [
  {
   "cell_type": "markdown",
   "id": "a5733f06",
   "metadata": {},
   "source": [
    "# Práctica 1"
   ]
  },
  {
   "cell_type": "markdown",
   "id": "5236702b",
   "metadata": {},
   "source": [
    "### General"
   ]
  },
  {
   "cell_type": "code",
   "execution_count": 19,
   "id": "0dac0ab3",
   "metadata": {},
   "outputs": [],
   "source": [
    "# Carga de librerías necesarias\n",
    "import numpy as np\n",
    "from numpy import sign\n",
    "import sympy as sp\n",
    "%matplotlib inline\n",
    "import matplotlib.pyplot as plt\n",
    "\n",
    "from decimal import * # Este módulo nos permitirá trabajar con una precisión determinada\n",
    "getcontext()\n",
    "\n",
    "from colorama import Fore, Back, Style # Colores en el output"
   ]
  },
  {
   "cell_type": "code",
   "execution_count": 35,
   "id": "1fc39d16",
   "metadata": {},
   "outputs": [],
   "source": [
    "def Title(msg):\n",
    "    return Style.BRIGHT + Fore.BLACK + Back.WHITE + msg + Style.RESET_ALL"
   ]
  },
  {
   "cell_type": "code",
   "execution_count": 2,
   "id": "92c9e561",
   "metadata": {},
   "outputs": [],
   "source": [
    "nmax = 100                  # Número máximo de iteraciones\n",
    "cifras = 16                 # Número de cifras con el que queremos calcular\n",
    "getcontext().prec = cifras  # Presentamos los resultados con esa precisión\n",
    "tol = 10**(-cifras)         # Tolerancia\n",
    "prec = 10**(-16)            # Precisión"
   ]
  },
  {
   "cell_type": "markdown",
   "id": "132e1e0d",
   "metadata": {},
   "source": [
    "### Ejercicio 1"
   ]
  },
  {
   "cell_type": "markdown",
   "id": "2df19f83",
   "metadata": {},
   "source": [
    "Teniendo en cuenta la recomendación explicada sobre los criterios de parada, codifica una función similar a la explicada en el método de bisección para el método de la secante.\n",
    " \n",
    " Aproxima la raíz de la función $f(x)=e^x-3$:\n",
    " * Cambiando la precisión a 5 cifras significativas.\n",
    " * Con la precisión por defecto y aproximando la raíz con 28 cifras significativas."
   ]
  },
  {
   "cell_type": "code",
   "execution_count": 7,
   "id": "6ca713bb",
   "metadata": {},
   "outputs": [],
   "source": [
    "def secante(f, x_0, nmax=nmax, tol=tol, prec=prec):\n",
    "    niter = 0\n",
    "    cont = True\n",
    "    exitmsg = ''\n",
    "    res = 0\n",
    "\n",
    "    while niter < nmax and cont:\n",
    "        niter += 1\n",
    "    \n",
    "    return {\n",
    "        \"resultado\":res, \n",
    "        \"exit\":exitmsg, \n",
    "        \"niter\":niter\n",
    "    }"
   ]
  },
  {
   "cell_type": "code",
   "execution_count": 5,
   "id": "72a1c8cb",
   "metadata": {},
   "outputs": [],
   "source": [
    "# Definimos la función\n",
    "def f(x):\n",
    "    return np.exp(x)-3"
   ]
  },
  {
   "cell_type": "code",
   "execution_count": null,
   "id": "9973f1c1",
   "metadata": {},
   "outputs": [
    {
     "name": "stdout",
     "output_type": "stream",
     "text": [
      "\u001b[1m\u001b[30m\u001b[47mEvaluación del método de la secante:\u001b[0m\n",
      "Resultado calculado: 0\n",
      "Salida: \n",
      "Número de iteraciones: 100\n"
     ]
    }
   ],
   "source": [
    "x_0 = 0\n",
    "resultado = secante (f, x_0, tol, 5)\n",
    "\n",
    "print(Title(\"Evaluación del método de la secante:\"))\n",
    "print(f\"Resultado calculado: {resultado[\"resultado\"]}\")\n",
    "print(f\"Salida: {resultado[\"exit\"]}\")\n",
    "print(f\"Número de iteraciones: {resultado[\"niter\"]}\")"
   ]
  },
  {
   "cell_type": "markdown",
   "id": "7b544472",
   "metadata": {},
   "source": [
    "### Ejercicio 2\n"
   ]
  },
  {
   "cell_type": "markdown",
   "id": "7113bf35",
   "metadata": {},
   "source": [
    "Teniendo en cuenta estos primeros pasos, codifica una función para el método de Wittaker.\n",
    " \n",
    " Aproxima la raíz de la función $f(x)=e^x-3$:\n",
    " * Cambiando la precisión a 5 cifras significativas.\n",
    " * Con la precisión por defecto y aproximando la raíz con 28 cifras significativas.\n",
    " \n",
    " Comprueba que una mala elección de $m$ puede provocar que la sucesión no converja."
   ]
  },
  {
   "cell_type": "code",
   "execution_count": null,
   "id": "c5e6caf2",
   "metadata": {},
   "outputs": [],
   "source": []
  },
  {
   "cell_type": "markdown",
   "id": "daa86b09",
   "metadata": {},
   "source": [
    "### Ejercicio 3"
   ]
  },
  {
   "cell_type": "markdown",
   "id": "c0d1d2d7",
   "metadata": {},
   "source": [
    "Modifique el método anterior para que, en lugar de fijar una pendiente $m$, calcule en cada iteración la derivada de la función en dicho punto, obteniendo el método de Newton-Raphson. Con este método:\n",
    " \n",
    " Aproxima la raíz de la función $f(x)=e^x-3$:\n",
    " * Cambiando la precisión a 5 cifras significativas.\n",
    " * Con la precisión por defecto y aproximando la raíz con 28 cifras significativas.\n",
    " \n",
    " Compare, en iguales condiciones, el rendimiento de Newton-Raphson con respecto al método de Wittaker."
   ]
  },
  {
   "cell_type": "markdown",
   "id": "6f17f89b",
   "metadata": {},
   "source": [
    "### Ejercicio 4"
   ]
  },
  {
   "cell_type": "markdown",
   "id": "95e7625f",
   "metadata": {},
   "source": [
    "Demuestre que la ecuación  $x^3+4 x^2=10  $  tiene una única raíz en el intervalo $[1,2]$.  Aproxime dicha raíz con el método de bisección con al menos 3 cifras decimales exactas. ¿Cuántas iteraciones serán necesarias para conseguir 5 cifras decimales exactas (tol =$10^{-5}$)?  Aproxime también la raíz con el método de Newton-Raphson partiendo del extremo adecuado hasta que la diferencia en valor absoluto, entre dos aproximaciones consecutivas sea  inferior a  $10^{-3}$."
   ]
  },
  {
   "cell_type": "markdown",
   "id": "ccd43f47",
   "metadata": {},
   "source": [
    "### Ejercicio 5"
   ]
  },
  {
   "cell_type": "markdown",
   "id": "feac2ca2",
   "metadata": {},
   "source": [
    "Use el método de Newton-Raphson para aproximar las soluciones de las siguientes ecuaciones con tolerancia $10^{-5}$ , partiendo de un valor adecuado, próximo a cada una de ellas en cada caso.\n",
    " \n",
    " 1. $3x=2+x^2-e^x$.\n",
    " \n",
    " 2. $x^2+10 \\cos x+x=0$."
   ]
  },
  {
   "cell_type": "markdown",
   "id": "df2654be",
   "metadata": {},
   "source": [
    "### Ejercicio 6"
   ]
  },
  {
   "cell_type": "markdown",
   "id": "a149b22e",
   "metadata": {},
   "source": [
    "Para la función  $ f(x)= 3 x^2+e^x-1$,\n",
    " \n",
    " i) encuentre, mediante el método de bisección una aproximación de la raíz en $[0,1]$ con, al menos, cuatro decimales exactos (tol =$10^{-4}$), y determine el número de iteraciones realizadas;\n",
    " \n",
    " ii) encuentre, mediante el método de Newton-Raphson, una aproximación de la raíz en $[0,1]$ con una tolerancia de $10^{-4}$, partiendo de $x_0=0$, y determine el número de iteraciones realizadas.  "
   ]
  },
  {
   "cell_type": "markdown",
   "id": "f775b867",
   "metadata": {},
   "source": [
    "### Ejercicio 7"
   ]
  },
  {
   "cell_type": "markdown",
   "id": "35bd67a5",
   "metadata": {},
   "source": [
    "Implemente el método de iteración funcional de Steffensen para una función $f$. En particular, para la función $f(x)=e^x-3$:\n",
    " * Represente gráficamente las funciones $g$ definidas tanto para el método de Newton-Raphson como para el método de Steffensen, comprobando que ambas poseen un punto fijo en la raíz de $f$.\n",
    " * Aproxima su única raíz utilizando el método de Steffensen:\n",
    "     * Cambiando la precisión a 5 cifras significativas.\n",
    "     * Con la precisión por defecto y aproximando la raíz con 28 cifras significativas."
   ]
  },
  {
   "cell_type": "markdown",
   "id": "df996577",
   "metadata": {},
   "source": [
    "### Ejercicio 8"
   ]
  },
  {
   "cell_type": "markdown",
   "id": "4cc0973f",
   "metadata": {},
   "source": [
    "Implemente el método de aceleración de la convergencia de Steffensen y aplíquelo a una sucesión de valores obtenidos mediante iteración funcional de Newton-Raphson a la función $f(x) = e^x -3$. Compare las aproximaciones tras 4 iteraciones del método de Newton-Raphson, aceleración de la convergencia de Aitken y aceleración de la convergencia de Steffensen."
   ]
  },
  {
   "cell_type": "markdown",
   "id": "67455e92",
   "metadata": {},
   "source": [
    "### Ejercicio 9\n"
   ]
  },
  {
   "cell_type": "markdown",
   "id": "adbf608f",
   "metadata": {},
   "source": [
    "Utilice las órdenes apropiadas de Python para aproximar todos los puntos donde se anulan las funciones siguientes (si es necesario, represéntelas gráficamente):\n",
    " \n",
    " i) $f(x)=x^7-x^4+2$ ,\n",
    " \n",
    " ii) $f(x)=x^7+\\cos  x-3$."
   ]
  },
  {
   "cell_type": "markdown",
   "id": "a8acb35b",
   "metadata": {},
   "source": [
    "### Ejericio 10"
   ]
  },
  {
   "cell_type": "markdown",
   "id": "23f7c065",
   "metadata": {},
   "source": [
    "De los métodos implementados en los anteriores ejercicios, utiliza el método o métodos numéricos que desees para aproximar la primera raíz de la función\n",
    " $$\n",
    " f:[0,1]\\longrightarrow\\mathbb R \\\\\n",
    " f(x) = x(1-x)\\sin\\left(\\dfrac{2\\pi}{x+1/10}\\right)\n",
    " $$\n",
    " que sea mayor que una milésima con una precisión de 28 cifras significativas y utilizando el menor número de iteraciones posible. Imprime por pantalla tu aproximación y el número de iteraciones utilizado."
   ]
  }
 ],
 "metadata": {
  "kernelspec": {
   "display_name": "Python 3 (ipykernel)",
   "language": "python",
   "name": "python3"
  }
 },
 "nbformat": 4,
 "nbformat_minor": 5
}
