{
 "cells": [
  {
   "cell_type": "markdown",
   "metadata": {
    "id": "rsQP27GWDxLS"
   },
   "source": [
    "# Introducción a Python y a sus módulos fundamentales"
   ]
  },
  {
   "cell_type": "markdown",
   "metadata": {
    "id": "6oyaLvLsDxLT"
   },
   "source": [
    "Autor original: Pedro González Rodelas\n",
    "\n",
    "Autor de esta versión: Juan Antonio Villegas Recio\n",
    "\n",
    "Fecha de la primera versión: 06/05/2018\n",
    "\n",
    "Sucesivas revisiones: 06-07/05/2018, 06/05/2019\n",
    "\n",
    "Fecha de la última revisión: 2/4/2025"
   ]
  },
  {
   "cell_type": "markdown",
   "metadata": {
    "id": "xJg3J9CjDxLT"
   },
   "source": [
    "## Ficheros de programa en Python"
   ]
  },
  {
   "cell_type": "markdown",
   "metadata": {
    "id": "cz52Ks3oDxLU"
   },
   "source": [
    "* Usualmente el código Python es almacenado en ficheros de texto plano con la extensión \"`.py`\": `miprograma.py`\n",
    "\n",
    "* Cada línea de un programa en Python se asume que es una (o parte de una) sentencia del lenguaje Python.\n",
    "\n",
    "* No obstante, también existen los denominados notebooks de IPython, con extensión \"`.ipynb`\" en los que se puede incluir y combinar código Python en ciertas celdas interactivas de entrada, junto con sus correspondientes celdas de salida, aparte de celdas de texto explicativo y de estructuración en secciones, subsecciones, etc (usando código Markdown), salidas de gráficos, etc.\n",
    "\n",
    "* Un ejemplo de este tipo de ficheros (en formato JSON), es este propio notebook de IPython, que se puede ejecutar gracias al servidor de Jupyter (consultar la página web oficial de [Jupyter](http://www.jupyter.org)) que permite también ejecutar notebooks con otros muchos lenguajes, como 'R', 'Julia', etc.\n",
    "\n",
    "* Aparte de todo esto, estos notebooks también permiten el uso de órdenes propias del sistema operativo, así como otras pseudo-órdenes genéricas (o comandos 'mágicos' que a veces suelen ir precedidos de `%` si son independientes del SO o de `!` si pertenecen al SO usado), que se traducirán al SO sobre el que se esté ejecutando el notebook, para poder realizar acciones propias de dicho sistema e interactuar con ficheros y directorios sin necesidad de salir del propio notebook.\n",
    "\n",
    "* Para consultar una descripción detallada sobre la instalación de este software y sus múltiples posibilidades, consultar el contenido del siguiente [Taller de Python](https://www.ugr.es/~prodelas/ftp/TallerPython.html)."
   ]
  },
  {
   "cell_type": "markdown",
   "metadata": {
    "id": "lzuvT5DDDxLU"
   },
   "source": [
    "### Ejemplos:"
   ]
  },
  {
   "cell_type": "code",
   "execution_count": null,
   "metadata": {
    "executionInfo": {
     "elapsed": 32,
     "status": "ok",
     "timestamp": 1745348302705,
     "user": {
      "displayName": "juan_antonio VILLEGAS RECIO",
      "userId": "07002128450319972745"
     },
     "user_tz": -120
    },
    "id": "3UjVcP7bDxLU"
   },
   "outputs": [],
   "source": [
    "a = 2\n",
    "b = 3  # así es como se suele dar valores a las variables"
   ]
  },
  {
   "cell_type": "code",
   "execution_count": null,
   "metadata": {
    "colab": {
     "base_uri": "https://localhost:8080/"
    },
    "executionInfo": {
     "elapsed": 44,
     "status": "ok",
     "timestamp": 1745348337304,
     "user": {
      "displayName": "juan_antonio VILLEGAS RECIO",
      "userId": "07002128450319972745"
     },
     "user_tz": -120
    },
    "id": "8oRMDX14DxLU",
    "outputId": "0c330b30-fbdc-4959-94e4-7c2d884f5b52"
   },
   "outputs": [],
   "source": [
    "a+b, a*b  # aquí estamos realizando operaciones de suma y producto"
   ]
  },
  {
   "cell_type": "code",
   "execution_count": null,
   "metadata": {
    "colab": {
     "base_uri": "https://localhost:8080/"
    },
    "executionInfo": {
     "elapsed": 6,
     "status": "ok",
     "timestamp": 1745348338066,
     "user": {
      "displayName": "juan_antonio VILLEGAS RECIO",
      "userId": "07002128450319972745"
     },
     "user_tz": -120
    },
    "id": "vsGSILGxDxLU",
    "outputId": "348ea030-1185-43f7-9d47-2a2c8295d6c1"
   },
   "outputs": [],
   "source": [
    "# varios valores separados por comas conforman lo que se denomina una tupla\n",
    "a,b   # en este caso se trata de una simple pareja de valores"
   ]
  },
  {
   "cell_type": "code",
   "execution_count": null,
   "metadata": {
    "colab": {
     "base_uri": "https://localhost:8080/",
     "height": 35
    },
    "executionInfo": {
     "elapsed": 43,
     "status": "ok",
     "timestamp": 1745348338808,
     "user": {
      "displayName": "juan_antonio VILLEGAS RECIO",
      "userId": "07002128450319972745"
     },
     "user_tz": -120
    },
    "id": "_MDj3hf4DxLU",
    "outputId": "4a0aa4cc-24be-430f-87fe-12fa60af146a"
   },
   "outputs": [],
   "source": [
    "%pwd   # para mostrar el directoriio actual de trabajo"
   ]
  },
  {
   "cell_type": "code",
   "execution_count": null,
   "metadata": {
    "colab": {
     "base_uri": "https://localhost:8080/"
    },
    "executionInfo": {
     "elapsed": 15,
     "status": "ok",
     "timestamp": 1745348339722,
     "user": {
      "displayName": "juan_antonio VILLEGAS RECIO",
      "userId": "07002128450319972745"
     },
     "user_tz": -120
    },
    "id": "anloZTHwDxLU",
    "outputId": "04b78d17-e8d5-4060-a91f-2f60c23f8364"
   },
   "outputs": [],
   "source": [
    "%%file  hola-en-castellano.py\n",
    "\n",
    "print(\"Hola\")"
   ]
  },
  {
   "cell_type": "code",
   "execution_count": null,
   "metadata": {
    "colab": {
     "base_uri": "https://localhost:8080/"
    },
    "executionInfo": {
     "elapsed": 89,
     "status": "ok",
     "timestamp": 1745348341020,
     "user": {
      "displayName": "juan_antonio VILLEGAS RECIO",
      "userId": "07002128450319972745"
     },
     "user_tz": -120
    },
    "id": "W7zzieiyDxLV",
    "outputId": "4a69799d-a44a-42b1-dab7-af7019fa86c0"
   },
   "outputs": [],
   "source": [
    "%ls *.py   # para listar los ficheros en el directorio"
   ]
  },
  {
   "cell_type": "code",
   "execution_count": null,
   "metadata": {
    "colab": {
     "base_uri": "https://localhost:8080/"
    },
    "executionInfo": {
     "elapsed": 16,
     "status": "ok",
     "timestamp": 1745348342179,
     "user": {
      "displayName": "juan_antonio VILLEGAS RECIO",
      "userId": "07002128450319972745"
     },
     "user_tz": -120
    },
    "id": "S1pMZqKyDxLV",
    "outputId": "0f8678a3-e5de-4d42-b865-0a42374704b3"
   },
   "outputs": [],
   "source": [
    "run hola-en-castellano.py"
   ]
  },
  {
   "cell_type": "code",
   "execution_count": null,
   "metadata": {
    "executionInfo": {
     "elapsed": 14,
     "status": "ok",
     "timestamp": 1745348343704,
     "user": {
      "displayName": "juan_antonio VILLEGAS RECIO",
      "userId": "07002128450319972745"
     },
     "user_tz": -120
    },
    "id": "sUQKRtQUDxLV"
   },
   "outputs": [],
   "source": [
    "# cd ..  para cambiar al directorio padre"
   ]
  },
  {
   "cell_type": "markdown",
   "metadata": {
    "id": "hfw0K7OEDxLV"
   },
   "source": [
    "### Codificación de caracteres"
   ]
  },
  {
   "cell_type": "markdown",
   "metadata": {
    "id": "QIgEaipRDxLV"
   },
   "source": [
    "La codificación de caracteres estándar es la ASCII (acrónimo inglés de American Standard Code for Information Interchange — Código Estándar Estadounidense para el Intercambio de Información), pero nosotros podríamos usar cualqier otro sistema de codificación, por ejemplo UTF-8, que también nos permitirá incluir caracteres acentuados y la letra 'ñ', tan habituales en el idioma español.\n",
    "\n",
    "Para especificar que UTF-8 será usado, debemos incluir la siguiente línea especial\n",
    "\n",
    "    # -*- coding: UTF-8 -*-\n",
    "\n",
    "al principio del fichero. De esta manera podremos usar también caracteres acentuados o internacionales en nuestro archivo. Aunque esta opción ya se está convirtiendo en la opción por defecto en las nuevas versiones de Python e IPython."
   ]
  },
  {
   "cell_type": "markdown",
   "metadata": {
    "id": "iBUKkHKHDxLV"
   },
   "source": [
    "Aparte de estas dos líneas *opcionales* al comienzo de cualquier fichero de código Python, no se requiere código adicional alguno para inicializar un programa Python, salvo el código del programa propiamente dicho."
   ]
  },
  {
   "cell_type": "markdown",
   "metadata": {
    "id": "eRC_FrRRDxLV"
   },
   "source": [
    "##  Notebooks de IPython"
   ]
  },
  {
   "cell_type": "markdown",
   "metadata": {
    "id": "2TffQ6QODxLV"
   },
   "source": [
    "Este fichero - que se trata de un notebook de IPython -  no sigue este patrón estándar de simple código Python en un fichero de texto. En vez de esto, un notebook de IPython es almacenado como un fichero con formato [JSON](http://en.wikipedia.org/wiki/JSON). La principal ventaja es que podremos mezclar texto formateado, código Python, junto con las correspondientes salidas y resultados. Esto requiere que al mismo tiempo se esté ejecutando el correspondiente servidor de notebooks de IPython, y por lo tanto no se trataría ya de un simple programa de Python ejecutándose de manera independiente, como en los casos explicados anteriormente. Aparte de este detalle, no hay diferencias entre el código Python que habría que introducir en un fichero de código Python y el que escribiremos en un notebook IPython como este."
   ]
  },
  {
   "cell_type": "markdown",
   "metadata": {
    "id": "Gg-fDbBqDxLV"
   },
   "source": [
    "## Módulos"
   ]
  },
  {
   "cell_type": "markdown",
   "metadata": {
    "id": "XqMcwnxXDxLV"
   },
   "source": [
    "Por otra parte, la mayor functionalidad de Python se la proporcionarán los correspondientes *módulos* que cargemos. La biblioteca Estándar de Python es una enorme colección de módulos que  proporcionan una implementación independiente de la plataforma o sistema operativo  de todos las acciones más comunes, tales como el propio aceso el sistema operativo, operaciones de entrada y salida, trabajo con cadenas de caracteres (\"strings\" en inglés), comunicaciones, y mucho más."
   ]
  },
  {
   "cell_type": "markdown",
   "metadata": {
    "id": "3qiMtHuRDxLV"
   },
   "source": [
    "### Referencias"
   ]
  },
  {
   "cell_type": "markdown",
   "metadata": {
    "id": "ga3wHFgaDxLV"
   },
   "source": [
    " * The Python Language Reference: https://docs.python.org/3/reference/index.html\n",
    " * The Python Standard Library: https://docs.python.org/3.13/library/index.html\n",
    " * Página web del proyecto SymPy: http://sympy.org/en/index.html\n",
    " * Version Online de SymPy para tests y demostraciones: http://live.sympy.org\n",
    " * Tutorial de NumPy: https://scipy.github.io/old-wiki/pages/Tentative_NumPy_Tutorial\n",
    " * Una guía de Numpy para usuarios de MATLAB: https://docs.scipy.org/doc/numpy/user/numpy-for-matlab-users.html\n",
    " * Documentación oficial del proyecto Scipy: https://scipy.org\n",
    " * Un tutorial sobre cómo empezar a usar SciPy: https://docs.scipy.org/doc/scipy/tutorial/\n",
    " * La página web del proyecto matplotlib: http://www.matplotlib.org\n",
    " * Una extensa galeria que muestra varios tipos de gráficos creados con matplotlib: http://matplotlib.org/gallery.html\n",
    " * Un buen turorial de matplotlib: http://www.loria.fr/~rougier/teaching/matplotlib\n",
    " * Un buen recurso para aprender a programar en Python: https://chatgpt.com/"
   ]
  },
  {
   "cell_type": "markdown",
   "metadata": {
    "id": "0Rzu89-vDxLV"
   },
   "source": [
    "Para usar alguna función o procedimiento incluido en un módulo en un programa Python éste tiene que ser cargado primero. Estos deberán ser importados usando la orden `import`."
   ]
  },
  {
   "cell_type": "markdown",
   "metadata": {
    "id": "0FFcOX-WDxLV"
   },
   "source": [
    "Por ejemplo, para importar por completo alguno de los módulos `NumPy`, `SciPy`, `SymPy`, `MatPlotlib` que contienen nuevas clases de objetos (como los 'arrays'), numerosas funciones matemáticas y numéricas, aparte de poder realizar cálculos simbólicos y obtener representaciones gráficas muy variadas, escribiríamos por ejemplo:"
   ]
  },
  {
   "cell_type": "code",
   "execution_count": 1,
   "metadata": {
    "id": "1zecouCMDxLV"
   },
   "outputs": [],
   "source": [
    "from numpy import *\n",
    "from sympy import *\n",
    "from scipy import *\n",
    "from matplotlib import *"
   ]
  },
  {
   "cell_type": "code",
   "execution_count": 2,
   "metadata": {},
   "outputs": [
    {
     "ename": "ModuleNotFoundError",
     "evalue": "No module named 'version_information'",
     "output_type": "error",
     "traceback": [
      "\u001b[0;31m---------------------------------------------------------------------------\u001b[0m",
      "\u001b[0;31mModuleNotFoundError\u001b[0m                       Traceback (most recent call last)",
      "Cell \u001b[0;32mIn[2], line 1\u001b[0m\n\u001b[0;32m----> 1\u001b[0m \u001b[43mget_ipython\u001b[49m\u001b[43m(\u001b[49m\u001b[43m)\u001b[49m\u001b[38;5;241;43m.\u001b[39;49m\u001b[43mrun_line_magic\u001b[49m\u001b[43m(\u001b[49m\u001b[38;5;124;43m'\u001b[39;49m\u001b[38;5;124;43mload_ext\u001b[39;49m\u001b[38;5;124;43m'\u001b[39;49m\u001b[43m,\u001b[49m\u001b[43m \u001b[49m\u001b[38;5;124;43m'\u001b[39;49m\u001b[38;5;124;43mversion_information\u001b[39;49m\u001b[38;5;124;43m'\u001b[39;49m\u001b[43m)\u001b[49m\n\u001b[1;32m      2\u001b[0m get_ipython()\u001b[38;5;241m.\u001b[39mrun_line_magic(\u001b[38;5;124m'\u001b[39m\u001b[38;5;124mversion_information\u001b[39m\u001b[38;5;124m'\u001b[39m, \u001b[38;5;124m'\u001b[39m\u001b[38;5;124m'\u001b[39m)\n",
      "File \u001b[0;32m/usr/lib/python3/dist-packages/IPython/core/interactiveshell.py:2456\u001b[0m, in \u001b[0;36mInteractiveShell.run_line_magic\u001b[0;34m(self, magic_name, line, _stack_depth)\u001b[0m\n\u001b[1;32m   2454\u001b[0m     kwargs[\u001b[38;5;124m'\u001b[39m\u001b[38;5;124mlocal_ns\u001b[39m\u001b[38;5;124m'\u001b[39m] \u001b[38;5;241m=\u001b[39m \u001b[38;5;28mself\u001b[39m\u001b[38;5;241m.\u001b[39mget_local_scope(stack_depth)\n\u001b[1;32m   2455\u001b[0m \u001b[38;5;28;01mwith\u001b[39;00m \u001b[38;5;28mself\u001b[39m\u001b[38;5;241m.\u001b[39mbuiltin_trap:\n\u001b[0;32m-> 2456\u001b[0m     result \u001b[38;5;241m=\u001b[39m \u001b[43mfn\u001b[49m\u001b[43m(\u001b[49m\u001b[38;5;241;43m*\u001b[39;49m\u001b[43margs\u001b[49m\u001b[43m,\u001b[49m\u001b[43m \u001b[49m\u001b[38;5;241;43m*\u001b[39;49m\u001b[38;5;241;43m*\u001b[39;49m\u001b[43mkwargs\u001b[49m\u001b[43m)\u001b[49m\n\u001b[1;32m   2458\u001b[0m \u001b[38;5;66;03m# The code below prevents the output from being displayed\u001b[39;00m\n\u001b[1;32m   2459\u001b[0m \u001b[38;5;66;03m# when using magics with decorator @output_can_be_silenced\u001b[39;00m\n\u001b[1;32m   2460\u001b[0m \u001b[38;5;66;03m# when the last Python token in the expression is a ';'.\u001b[39;00m\n\u001b[1;32m   2461\u001b[0m \u001b[38;5;28;01mif\u001b[39;00m \u001b[38;5;28mgetattr\u001b[39m(fn, magic\u001b[38;5;241m.\u001b[39mMAGIC_OUTPUT_CAN_BE_SILENCED, \u001b[38;5;28;01mFalse\u001b[39;00m):\n",
      "File \u001b[0;32m/usr/lib/python3/dist-packages/IPython/core/magics/extension.py:33\u001b[0m, in \u001b[0;36mExtensionMagics.load_ext\u001b[0;34m(self, module_str)\u001b[0m\n\u001b[1;32m     31\u001b[0m \u001b[38;5;28;01mif\u001b[39;00m \u001b[38;5;129;01mnot\u001b[39;00m module_str:\n\u001b[1;32m     32\u001b[0m     \u001b[38;5;28;01mraise\u001b[39;00m UsageError(\u001b[38;5;124m'\u001b[39m\u001b[38;5;124mMissing module name.\u001b[39m\u001b[38;5;124m'\u001b[39m)\n\u001b[0;32m---> 33\u001b[0m res \u001b[38;5;241m=\u001b[39m \u001b[38;5;28;43mself\u001b[39;49m\u001b[38;5;241;43m.\u001b[39;49m\u001b[43mshell\u001b[49m\u001b[38;5;241;43m.\u001b[39;49m\u001b[43mextension_manager\u001b[49m\u001b[38;5;241;43m.\u001b[39;49m\u001b[43mload_extension\u001b[49m\u001b[43m(\u001b[49m\u001b[43mmodule_str\u001b[49m\u001b[43m)\u001b[49m\n\u001b[1;32m     35\u001b[0m \u001b[38;5;28;01mif\u001b[39;00m res \u001b[38;5;241m==\u001b[39m \u001b[38;5;124m'\u001b[39m\u001b[38;5;124malready loaded\u001b[39m\u001b[38;5;124m'\u001b[39m:\n\u001b[1;32m     36\u001b[0m     \u001b[38;5;28mprint\u001b[39m(\u001b[38;5;124m\"\u001b[39m\u001b[38;5;124mThe \u001b[39m\u001b[38;5;132;01m%s\u001b[39;00m\u001b[38;5;124m extension is already loaded. To reload it, use:\u001b[39m\u001b[38;5;124m\"\u001b[39m \u001b[38;5;241m%\u001b[39m module_str)\n",
      "File \u001b[0;32m/usr/lib/python3/dist-packages/IPython/core/extensions.py:76\u001b[0m, in \u001b[0;36mExtensionManager.load_extension\u001b[0;34m(self, module_str)\u001b[0m\n\u001b[1;32m     69\u001b[0m \u001b[38;5;250m\u001b[39m\u001b[38;5;124;03m\"\"\"Load an IPython extension by its module name.\u001b[39;00m\n\u001b[1;32m     70\u001b[0m \n\u001b[1;32m     71\u001b[0m \u001b[38;5;124;03mReturns the string \"already loaded\" if the extension is already loaded,\u001b[39;00m\n\u001b[1;32m     72\u001b[0m \u001b[38;5;124;03m\"no load function\" if the module doesn't have a load_ipython_extension\u001b[39;00m\n\u001b[1;32m     73\u001b[0m \u001b[38;5;124;03mfunction, or None if it succeeded.\u001b[39;00m\n\u001b[1;32m     74\u001b[0m \u001b[38;5;124;03m\"\"\"\u001b[39;00m\n\u001b[1;32m     75\u001b[0m \u001b[38;5;28;01mtry\u001b[39;00m:\n\u001b[0;32m---> 76\u001b[0m     \u001b[38;5;28;01mreturn\u001b[39;00m \u001b[38;5;28;43mself\u001b[39;49m\u001b[38;5;241;43m.\u001b[39;49m\u001b[43m_load_extension\u001b[49m\u001b[43m(\u001b[49m\u001b[43mmodule_str\u001b[49m\u001b[43m)\u001b[49m\n\u001b[1;32m     77\u001b[0m \u001b[38;5;28;01mexcept\u001b[39;00m \u001b[38;5;167;01mModuleNotFoundError\u001b[39;00m:\n\u001b[1;32m     78\u001b[0m     \u001b[38;5;28;01mif\u001b[39;00m module_str \u001b[38;5;129;01min\u001b[39;00m BUILTINS_EXTS:\n",
      "File \u001b[0;32m/usr/lib/python3/dist-packages/IPython/core/extensions.py:91\u001b[0m, in \u001b[0;36mExtensionManager._load_extension\u001b[0;34m(self, module_str)\u001b[0m\n\u001b[1;32m     89\u001b[0m \u001b[38;5;28;01mwith\u001b[39;00m \u001b[38;5;28mself\u001b[39m\u001b[38;5;241m.\u001b[39mshell\u001b[38;5;241m.\u001b[39mbuiltin_trap:\n\u001b[1;32m     90\u001b[0m     \u001b[38;5;28;01mif\u001b[39;00m module_str \u001b[38;5;129;01mnot\u001b[39;00m \u001b[38;5;129;01min\u001b[39;00m sys\u001b[38;5;241m.\u001b[39mmodules:\n\u001b[0;32m---> 91\u001b[0m         mod \u001b[38;5;241m=\u001b[39m \u001b[43mimport_module\u001b[49m\u001b[43m(\u001b[49m\u001b[43mmodule_str\u001b[49m\u001b[43m)\u001b[49m\n\u001b[1;32m     92\u001b[0m     mod \u001b[38;5;241m=\u001b[39m sys\u001b[38;5;241m.\u001b[39mmodules[module_str]\n\u001b[1;32m     93\u001b[0m     \u001b[38;5;28;01mif\u001b[39;00m \u001b[38;5;28mself\u001b[39m\u001b[38;5;241m.\u001b[39m_call_load_ipython_extension(mod):\n",
      "File \u001b[0;32m/usr/lib/python3.12/importlib/__init__.py:90\u001b[0m, in \u001b[0;36mimport_module\u001b[0;34m(name, package)\u001b[0m\n\u001b[1;32m     88\u001b[0m             \u001b[38;5;28;01mbreak\u001b[39;00m\n\u001b[1;32m     89\u001b[0m         level \u001b[38;5;241m+\u001b[39m\u001b[38;5;241m=\u001b[39m \u001b[38;5;241m1\u001b[39m\n\u001b[0;32m---> 90\u001b[0m \u001b[38;5;28;01mreturn\u001b[39;00m \u001b[43m_bootstrap\u001b[49m\u001b[38;5;241;43m.\u001b[39;49m\u001b[43m_gcd_import\u001b[49m\u001b[43m(\u001b[49m\u001b[43mname\u001b[49m\u001b[43m[\u001b[49m\u001b[43mlevel\u001b[49m\u001b[43m:\u001b[49m\u001b[43m]\u001b[49m\u001b[43m,\u001b[49m\u001b[43m \u001b[49m\u001b[43mpackage\u001b[49m\u001b[43m,\u001b[49m\u001b[43m \u001b[49m\u001b[43mlevel\u001b[49m\u001b[43m)\u001b[49m\n",
      "File \u001b[0;32m<frozen importlib._bootstrap>:1387\u001b[0m, in \u001b[0;36m_gcd_import\u001b[0;34m(name, package, level)\u001b[0m\n",
      "File \u001b[0;32m<frozen importlib._bootstrap>:1360\u001b[0m, in \u001b[0;36m_find_and_load\u001b[0;34m(name, import_)\u001b[0m\n",
      "File \u001b[0;32m<frozen importlib._bootstrap>:1324\u001b[0m, in \u001b[0;36m_find_and_load_unlocked\u001b[0;34m(name, import_)\u001b[0m\n",
      "\u001b[0;31mModuleNotFoundError\u001b[0m: No module named 'version_information'"
     ]
    }
   ],
   "source": [
    "%load_ext version_information\n",
    "%version_information"
   ]
  },
  {
   "cell_type": "markdown",
   "metadata": {
    "id": "evC5MJlnDxLV"
   },
   "source": [
    "Estas sentencias cargarían los módulos completos, haciéndo disponible su uso posterior en el programa o notebook."
   ]
  },
  {
   "cell_type": "markdown",
   "metadata": {
    "id": "aXQFAfzNDxLV"
   },
   "source": [
    "Este patrón puede resultar conveniente, pero en programas de cierta envergadura, que incluyan numerosos módulos, puede resultar a menudo una buena idea mantener los símbolos y funciones de cada módulo en su propio entorno de nombres (\"namespace\" en inglés), usando simplemente el patrón `import numpy` o incluyendo un alias: `import numpy as np`. Esto elminaría problemas de confusión, con potenciales y posibles colisiones entre los nombres de funciones entre diferentes módulos. No obstante en este último caso tendremos que anteponer el nombre del módulo antes de cada una de las funciones del módulo a usar:"
   ]
  },
  {
   "cell_type": "code",
   "execution_count": 3,
   "metadata": {
    "id": "y9uWpB0jDxLV"
   },
   "outputs": [],
   "source": [
    "import sympy as sp\n",
    "import numpy as np\n",
    "import matplotlib.pyplot as plt"
   ]
  },
  {
   "cell_type": "code",
   "execution_count": 4,
   "metadata": {
    "id": "qgZHWM91DxLV"
   },
   "outputs": [
    {
     "data": {
      "text/plain": [
       "array([0, 1, 2, 3, 4, 5, 6, 7, 8, 9])"
      ]
     },
     "execution_count": 4,
     "metadata": {},
     "output_type": "execute_result"
    }
   ],
   "source": [
    "np.arange(0,10,1)  # fíjese que lo que estaríamos generando es un array que va de 0 a 9"
   ]
  },
  {
   "cell_type": "markdown",
   "metadata": {
    "id": "016cqu-TDxLV"
   },
   "source": [
    "Como una tercera alternativa, también podemos importar sólo una selección de símbolos de un determinado módulo, listando explícitamente sólo aquellos que queramos importar, en vez de usar el carácter comodín `*`:"
   ]
  },
  {
   "cell_type": "code",
   "execution_count": 5,
   "metadata": {
    "id": "e9xMuVp2DxLW"
   },
   "outputs": [],
   "source": [
    "# Por ejemplo para operar de manera simbólica con senos y cosenos importaríamos\n",
    "# las siguientes funciones y órdenes incluidas dentro del módulo 'SymPy'\n",
    "from sympy import Symbol, simplify, sin, cos, pi"
   ]
  },
  {
   "cell_type": "code",
   "execution_count": 17,
   "metadata": {
    "id": "GCPtIZToDxLW"
   },
   "outputs": [
    {
     "data": {
      "text/latex": [
       "$\\displaystyle \\beta$"
      ],
      "text/plain": [
       "beta"
      ]
     },
     "execution_count": 17,
     "metadata": {},
     "output_type": "execute_result"
    }
   ],
   "source": [
    "x = Symbol('x')   # para usar la letra 'x' como variable simbólica\n",
    "alpha = Symbol('beta')\n",
    "alpha"
   ]
  },
  {
   "cell_type": "code",
   "execution_count": 7,
   "metadata": {
    "id": "00W1BNF0DxLW"
   },
   "outputs": [
    {
     "name": "stdout",
     "output_type": "stream",
     "text": [
      "\u001b[0;31mType:\u001b[0m        Symbol\n",
      "\u001b[0;31mString form:\u001b[0m x\n",
      "\u001b[0;31mFile:\u001b[0m        /usr/lib/python3/dist-packages/sympy/core/symbol.py\n",
      "\u001b[0;31mDocstring:\u001b[0m  \n",
      "Assumptions:\n",
      "   commutative = True\n",
      "\n",
      "You can override the default assumptions in the constructor.\n",
      "\n",
      "Examples\n",
      "========\n",
      "\n",
      ">>> from sympy import symbols\n",
      ">>> A,B = symbols('A,B', commutative = False)\n",
      ">>> bool(A*B != B*A)\n",
      "True\n",
      ">>> bool(A*B*2 == 2*A*B) == True # multiplication by scalars is commutative\n",
      "True"
     ]
    }
   ],
   "source": [
    "x?"
   ]
  },
  {
   "cell_type": "code",
   "execution_count": null,
   "metadata": {
    "id": "HOI94zE1DxLW"
   },
   "outputs": [],
   "source": [
    "simplify(sin(x)**2+cos(x)**2)  # así simplificaríamos la expresión trinonométrica"
   ]
  },
  {
   "cell_type": "code",
   "execution_count": 18,
   "metadata": {
    "id": "so8eJWPVDxLW"
   },
   "outputs": [
    {
     "name": "stdout",
     "output_type": "stream",
     "text": [
      "1\n"
     ]
    }
   ],
   "source": [
    "x = cos(2 * pi)\n",
    "\n",
    "print(x)"
   ]
  },
  {
   "cell_type": "code",
   "execution_count": 19,
   "metadata": {
    "id": "OSXt_5NODxLW"
   },
   "outputs": [
    {
     "name": "stdout",
     "output_type": "stream",
     "text": [
      "\u001b[0;31mType:\u001b[0m        One\n",
      "\u001b[0;31mString form:\u001b[0m 1\n",
      "\u001b[0;31mFile:\u001b[0m        /usr/lib/python3/dist-packages/sympy/core/numbers.py\n",
      "\u001b[0;31mDocstring:\u001b[0m  \n",
      "The number one.\n",
      "\n",
      "One is a singleton, and can be accessed by ``S.One``.\n",
      "\n",
      "Examples\n",
      "========\n",
      "\n",
      ">>> from sympy import S, Integer\n",
      ">>> Integer(1) is S.One\n",
      "True\n",
      "\n",
      "References\n",
      "==========\n",
      "\n",
      ".. [1] https://en.wikipedia.org/wiki/1_%28number%29"
     ]
    }
   ],
   "source": [
    "x?"
   ]
  },
  {
   "cell_type": "code",
   "execution_count": 20,
   "metadata": {
    "id": "bpBzUcxPDxLW"
   },
   "outputs": [],
   "source": [
    "# Es habitual cargar alguno de estos módulos con un pseudónimo determinado\n",
    "import numpy as np              # aquí cargamos el módulo numpy con el pseudónimo np\n",
    "import sympy as sp              # y el módulo sympy de cálculo simbólico como sp\n",
    "import matplotlib.pyplot as plt # este módulo nos permitirá obtener gráficos\n",
    "# También se podrían cargar estos módulos sin pseudónimos, pero en ese caso tendríamos\n",
    "# que anteponer el nombre completo del módulo delante de cada una de las funciones y\n",
    "# procedimientos incluidos en dicho submódulo. Por ejemplo:\n",
    "#   numpy.sin(x) en vez de np.sin(x)  para usar y evaluar la función seno numéricamente\n",
    "#   sympy.sin(x) en vez de sp.sin(x)  si queremos realizar más bien cálculos simbólicos"
   ]
  },
  {
   "cell_type": "markdown",
   "metadata": {
    "id": "Lgs_ppD1DxLW"
   },
   "source": [
    "A su vez, usando la función de ayuda (`help`) también podremos obtener una descripción de cada una de las funciones (ya que casi todas, pero no todas las funciones poseen una adecuada documentación o \"docstrings\", pero la gran mayoría de ellas sí que estarán documentadas de esta manera)."
   ]
  },
  {
   "cell_type": "code",
   "execution_count": 21,
   "metadata": {
    "id": "UxDTVq0DDxLW"
   },
   "outputs": [
    {
     "name": "stdout",
     "output_type": "stream",
     "text": [
      "Help on built-in function log in module math:\n",
      "\n",
      "log(...)\n",
      "    log(x, [base=math.e])\n",
      "    Return the logarithm of x to the given base.\n",
      "\n",
      "    If the base is not specified, returns the natural logarithm (base e) of x.\n",
      "\n"
     ]
    }
   ],
   "source": [
    "import math\n",
    "help(math.log)"
   ]
  },
  {
   "cell_type": "code",
   "execution_count": 22,
   "metadata": {
    "id": "Eky-zrGkDxLd"
   },
   "outputs": [
    {
     "data": {
      "text/plain": [
       "2.302585092994046"
      ]
     },
     "execution_count": 22,
     "metadata": {},
     "output_type": "execute_result"
    }
   ],
   "source": [
    "from math import log\n",
    "log(10.)"
   ]
  },
  {
   "cell_type": "code",
   "execution_count": null,
   "metadata": {
    "id": "tvfIh9aSDxLd"
   },
   "outputs": [],
   "source": [
    "log(10, 2)"
   ]
  },
  {
   "cell_type": "markdown",
   "metadata": {
    "id": "r5dr0M5rDxLd"
   },
   "source": [
    "Podemos también usar la función `help` directamente para módulos: Prueba por ejemplo\n",
    "\n",
    "    help(math)\n",
    "\n",
    "Algunos módulos muy útiles conforman las librerías estándar de Python  `os`, `sys`, `math`, `shutil`, `re`, `subprocess`, `multiprocessing`, `threading`.\n",
    "\n",
    "Una lista completa de los módulos estándar para Python 3 se tienen en http://docs.python.org/3/library/, respectivamente."
   ]
  },
  {
   "cell_type": "markdown",
   "metadata": {
    "id": "wkrSp3CEDxLd"
   },
   "source": [
    "## Variables y tipos de objetos"
   ]
  },
  {
   "cell_type": "markdown",
   "metadata": {
    "id": "qDM0Nqv4DxLd"
   },
   "source": [
    "### Nombres de símbolos"
   ]
  },
  {
   "cell_type": "markdown",
   "metadata": {
    "id": "6af7ECYxDxLd"
   },
   "source": [
    "Los nombres de las variable en Python pueden contener caracteres alfanuméricos `a-z`, `A-Z`, `0-9` y alguno de los caracteres especiales como `_`, pero obligatoriamente **deben de comenzar con una letra**.\n",
    "\n",
    "Por convención, los nombres de variable empezarán con una letra minúscula, mientras que los nombres de \"Clases\" comenzarán con una letra mayúscula. Ademas, en python es comun utilizar el formato `snake_case`.\n",
    "\n",
    "Además, existe cierto número de palabras clave en Python que no pueden ser usadas como nombres de variables. Estas palabras clave son:\n",
    "\n",
    "    and, as, assert, break, class, continue, def, del, elif, else, except,\n",
    "    exec, finally, for, from, global, if, import, in, is, lambda, not, or,\n",
    "    pass, print, raise, return, try, while, with, yield\n",
    "\n",
    "**Nota**: Tenga cuidado con la palabra clave `lambda`, que podría habitualmente ser un nombre de variable en un programa científico. Pero al tratarse también de una palabra clave, no estaría permitido su uso como variable en este caso."
   ]
  },
  {
   "cell_type": "markdown",
   "metadata": {
    "id": "912tTO7eDxLd"
   },
   "source": [
    "### Sentencias de asignación"
   ]
  },
  {
   "cell_type": "markdown",
   "metadata": {
    "id": "hGvKg45wDxLd"
   },
   "source": [
    "\n",
    "El operador de asignación en Python es `=`. Python tiene un tipado de variables dinámico, lo que hace que no tengamos que especificar el tipo de una variable cuando la creamos.\n",
    "\n",
    "Asignando cierto valor a una nueva variable, estaríamos creando la variable:"
   ]
  },
  {
   "cell_type": "code",
   "execution_count": 23,
   "metadata": {
    "id": "L4ubLt2_DxLd"
   },
   "outputs": [],
   "source": [
    "# asignación de variable\n",
    "x = 1.0\n",
    "mi_variable = 12.2\n",
    "a, b = 0, 1 # Asignación múltiple     es equivalente a (a, b) = (0, 1)"
   ]
  },
  {
   "cell_type": "markdown",
   "metadata": {
    "id": "VjrbE2_CDxLd"
   },
   "source": [
    "Así pues, aunque no haya sido explicitamente especificado, una variable sí que tendría un tipo asociado, derivado por cierto del valor que tenga asignado en ese momento (de ahí el término de tipaje dinámico)."
   ]
  },
  {
   "cell_type": "code",
   "execution_count": 24,
   "metadata": {
    "id": "tqhSioJZDxLd"
   },
   "outputs": [
    {
     "data": {
      "text/plain": [
       "float"
      ]
     },
     "execution_count": 24,
     "metadata": {},
     "output_type": "execute_result"
    }
   ],
   "source": [
    "type(x)"
   ]
  },
  {
   "cell_type": "markdown",
   "metadata": {
    "id": "AWXS2WtUDxLd"
   },
   "source": [
    "Así pues, si le asignamos un nuevo valor a la variable, este tipo puede cambiar."
   ]
  },
  {
   "cell_type": "code",
   "execution_count": 25,
   "metadata": {
    "id": "8rUeF6GiDxLd"
   },
   "outputs": [],
   "source": [
    "x = 1"
   ]
  },
  {
   "cell_type": "code",
   "execution_count": 26,
   "metadata": {
    "id": "6rYEj4G8DxLd"
   },
   "outputs": [
    {
     "data": {
      "text/plain": [
       "int"
      ]
     },
     "execution_count": 26,
     "metadata": {},
     "output_type": "execute_result"
    }
   ],
   "source": [
    "type(x)"
   ]
  },
  {
   "cell_type": "markdown",
   "metadata": {
    "id": "-INmrOATDxLd"
   },
   "source": [
    "Si tratamos de usar una variable que aún no ha sido definida obtendríamos un `NameError`:"
   ]
  },
  {
   "cell_type": "code",
   "execution_count": 29,
   "metadata": {
    "id": "PZR_qJ7bDxLe"
   },
   "outputs": [],
   "source": [
    "# Habría que descomentar la línea inferior antes de ejecutarla\n",
    "# print(y)"
   ]
  },
  {
   "cell_type": "markdown",
   "metadata": {
    "id": "lYioa-GMDxLe"
   },
   "source": [
    "### Tipos Fundamentales"
   ]
  },
  {
   "cell_type": "code",
   "execution_count": 30,
   "metadata": {
    "id": "-o9NmNcqDxLe"
   },
   "outputs": [
    {
     "data": {
      "text/plain": [
       "int"
      ]
     },
     "execution_count": 30,
     "metadata": {},
     "output_type": "execute_result"
    }
   ],
   "source": [
    "# enteros\n",
    "x = 1\n",
    "type(x)"
   ]
  },
  {
   "cell_type": "code",
   "execution_count": 31,
   "metadata": {
    "id": "uVv0iIfJDxLe"
   },
   "outputs": [
    {
     "data": {
      "text/plain": [
       "float"
      ]
     },
     "execution_count": 31,
     "metadata": {},
     "output_type": "execute_result"
    }
   ],
   "source": [
    "# números en coma flotante\n",
    "x = 1.0\n",
    "type(x)"
   ]
  },
  {
   "cell_type": "code",
   "execution_count": 32,
   "metadata": {
    "id": "B-uddapIDxLe"
   },
   "outputs": [
    {
     "data": {
      "text/plain": [
       "bool"
      ]
     },
     "execution_count": 32,
     "metadata": {},
     "output_type": "execute_result"
    }
   ],
   "source": [
    "# booleanos\n",
    "b1 = True\n",
    "b2 = False\n",
    "\n",
    "type(b1)"
   ]
  },
  {
   "cell_type": "code",
   "execution_count": 33,
   "metadata": {
    "id": "i6II5pxODxLe"
   },
   "outputs": [
    {
     "data": {
      "text/plain": [
       "complex"
      ]
     },
     "execution_count": 33,
     "metadata": {},
     "output_type": "execute_result"
    }
   ],
   "source": [
    "# números complejos: nótese el uso de `j` para especificar la unidad imaginaria\n",
    "x = 1.0 - 1.0j\n",
    "type(x)"
   ]
  },
  {
   "cell_type": "code",
   "execution_count": 34,
   "metadata": {
    "id": "_-oiUIwXDxLe"
   },
   "outputs": [
    {
     "name": "stdout",
     "output_type": "stream",
     "text": [
      "(1-1j)\n"
     ]
    }
   ],
   "source": [
    "print(x)"
   ]
  },
  {
   "cell_type": "code",
   "execution_count": 37,
   "metadata": {
    "id": "DcRnjsawDxLe"
   },
   "outputs": [
    {
     "name": "stdout",
     "output_type": "stream",
     "text": [
      "1.0 ,  -1.0\n"
     ]
    }
   ],
   "source": [
    "print(x.real,\", \", x.imag)"
   ]
  },
  {
   "cell_type": "markdown",
   "metadata": {
    "id": "zGaNfJqhDxLe"
   },
   "source": [
    "### Utilidades de tipado (\"Type utilities\")"
   ]
  },
  {
   "cell_type": "markdown",
   "metadata": {
    "id": "8gRiAtA7DxLe"
   },
   "source": [
    "El módulo `types` contiene un cierto número de definiciones y funciones relacionadas con tipos de nombres que pueden ser usados para probar si las variables son de un determinado tipo:"
   ]
  },
  {
   "cell_type": "code",
   "execution_count": 38,
   "metadata": {
    "id": "-4SO2frVDxLe"
   },
   "outputs": [
    {
     "data": {
      "text/plain": [
       "True"
      ]
     },
     "execution_count": 38,
     "metadata": {},
     "output_type": "execute_result"
    }
   ],
   "source": [
    "x = 1.0\n",
    "\n",
    "# esta sentencia chequea si la variable x es de tipo coma flotante ('float')\n",
    "type(x) is float"
   ]
  },
  {
   "cell_type": "code",
   "execution_count": null,
   "metadata": {
    "id": "gDL1O0EYDxLe"
   },
   "outputs": [],
   "source": [
    "# y esta si la variable x es de tipo entero ('int')\n",
    "type(x) is int"
   ]
  },
  {
   "cell_type": "markdown",
   "metadata": {
    "id": "t8kNRjjADxLe"
   },
   "source": [
    "También podemos usar el método `isinstance` para testear los tipos de las variables:"
   ]
  },
  {
   "cell_type": "code",
   "execution_count": null,
   "metadata": {
    "id": "cPVXbHb_DxLe"
   },
   "outputs": [
    {
     "data": {
      "text/plain": [
       "True"
      ]
     },
     "execution_count": 39,
     "metadata": {},
     "output_type": "execute_result"
    }
   ],
   "source": [
    "isinstance(x, float)   # NO USAR"
   ]
  },
  {
   "cell_type": "markdown",
   "metadata": {
    "id": "IMVVEQG6DxLe"
   },
   "source": [
    "### Repertorio de Tipos ('type' en inglés)"
   ]
  },
  {
   "cell_type": "code",
   "execution_count": 40,
   "metadata": {
    "id": "XEO51wINDxLe"
   },
   "outputs": [
    {
     "name": "stdout",
     "output_type": "stream",
     "text": [
      "1.5 <class 'float'>\n"
     ]
    }
   ],
   "source": [
    "x = 1.5\n",
    "\n",
    "print(x, type(x))"
   ]
  },
  {
   "cell_type": "code",
   "execution_count": null,
   "metadata": {
    "id": "m8seY-LhDxLe"
   },
   "outputs": [],
   "source": [
    "x = int(x)\n",
    "\n",
    "print(x, type(x))"
   ]
  },
  {
   "cell_type": "code",
   "execution_count": 41,
   "metadata": {
    "id": "i7wI0EymDxLe"
   },
   "outputs": [
    {
     "name": "stdout",
     "output_type": "stream",
     "text": [
      "(1.5+0j) <class 'complex'>\n"
     ]
    }
   ],
   "source": [
    "z = complex(x)\n",
    "\n",
    "print(z, type(z))"
   ]
  },
  {
   "cell_type": "code",
   "execution_count": null,
   "metadata": {
    "id": "-eoltbTBDxLf"
   },
   "outputs": [],
   "source": [
    "# x = float(z)   # python no comprueba que tu número complejo no tenga parte imaginaria por lo que no se puede hacer este casting"
   ]
  },
  {
   "cell_type": "markdown",
   "metadata": {
    "id": "W58FnuXUDxLf"
   },
   "source": [
    "Comprobamos que las variables complejas no pueden ser convertidas a tipo real o entero. Necesitaríamos usar más bien `z.real` o `z.imag` para extraer la parte real o imaginaria del número complejo que queramos:"
   ]
  },
  {
   "cell_type": "code",
   "execution_count": 42,
   "metadata": {
    "id": "1JMiqVK9DxLf"
   },
   "outputs": [
    {
     "name": "stdout",
     "output_type": "stream",
     "text": [
      "1.5  ->  True <class 'bool'>\n",
      "0.0  ->  False <class 'bool'>\n"
     ]
    }
   ],
   "source": [
    "y = bool(z.real)\n",
    "\n",
    "print(z.real, \" -> \", y, type(y))\n",
    "\n",
    "y = bool(z.imag)\n",
    "\n",
    "print(z.imag, \" -> \", y, type(y))"
   ]
  },
  {
   "cell_type": "markdown",
   "metadata": {
    "id": "ldvS_678DxLf"
   },
   "source": [
    "## Operadores y comparaciones"
   ]
  },
  {
   "cell_type": "markdown",
   "metadata": {
    "id": "Itjj1WKVDxLf"
   },
   "source": [
    "La mayor parte de los operadores y comparaciones que efectuemos en Python funcionarán como se espera:\n",
    "\n",
    "* Operadores Aritméticos `+`, `-`, `*`, `/`, `//` (división entera), `**` exponenciación, etc."
   ]
  },
  {
   "cell_type": "code",
   "execution_count": 43,
   "metadata": {
    "id": "uy2wgY1vDxLf"
   },
   "outputs": [
    {
     "data": {
      "text/plain": [
       "(3, -1, 2, 0.5, 0)"
      ]
     },
     "execution_count": 43,
     "metadata": {},
     "output_type": "execute_result"
    }
   ],
   "source": [
    "1 + 2, 1 - 2, 1 * 2, 1 / 2, 1 // 2    #  ¡atención con la división entera!"
   ]
  },
  {
   "cell_type": "code",
   "execution_count": null,
   "metadata": {
    "id": "h6Q3peE-DxLf"
   },
   "outputs": [],
   "source": [
    "1.0 + 2.0, 1.0 - 2.0, 1.0 * 2.0, 1.0 / 2.0"
   ]
  },
  {
   "cell_type": "code",
   "execution_count": null,
   "metadata": {
    "id": "mP-CrtNmDxLf"
   },
   "outputs": [
    {
     "data": {
      "text/plain": [
       "1.0"
      ]
     },
     "execution_count": 44,
     "metadata": {},
     "output_type": "execute_result"
    }
   ],
   "source": [
    "# También podemos forzar una división entera de números reales (división entera pero resultado en flotante)\n",
    "3.5 // 2.0"
   ]
  },
  {
   "cell_type": "code",
   "execution_count": null,
   "metadata": {
    "id": "tMaE9wz-DxLf"
   },
   "outputs": [],
   "source": [
    "# Nótese que el operador exponenciación en python no es ^, sino **\n",
    "2 ** 2"
   ]
  },
  {
   "cell_type": "code",
   "execution_count": null,
   "metadata": {
    "id": "BekD573HDxLf"
   },
   "outputs": [
    {
     "data": {
      "text/plain": [
       "(3, 0, 1, 5)"
      ]
     },
     "execution_count": 45,
     "metadata": {},
     "output_type": "execute_result"
    }
   ],
   "source": [
    "# ^ más bien realiza una comparación (exor)\n",
    "# de la representación binaria de ambos operandos\n",
    "# y el resultado se vuelve a pasar a base 10\n",
    "1^2, 2^2, 2^3, 1^4"
   ]
  },
  {
   "cell_type": "markdown",
   "metadata": {
    "id": "nEqEUdciDxLf"
   },
   "source": [
    "**Por otro lado, el operador `/` siempre realizará una división en coma flotante, siempre que estemos usando una versión de Python 3.x.**\n",
    "\n",
    "\n",
    "Sin embargo este no es el caso en Python 2.x, donde el resultado de `/` es siempre un entero si los operadores son enteros.\n",
    "para ser más específicos, `1/2 = 0.5` (`float`) en Python 3.x, y `1/2 = 0` (`int`) en Python 2.x (pero `1.0/2 = 0.5` en Python 2.x)."
   ]
  },
  {
   "cell_type": "markdown",
   "metadata": {
    "id": "Sphrns9ZDxLf"
   },
   "source": [
    "* Los operadores booleanos serán `and`, `not`, `or`."
   ]
  },
  {
   "cell_type": "code",
   "execution_count": null,
   "metadata": {
    "id": "NUcZVEvsDxLf"
   },
   "outputs": [],
   "source": [
    "True and False"
   ]
  },
  {
   "cell_type": "code",
   "execution_count": null,
   "metadata": {
    "id": "399svg-YDxLf"
   },
   "outputs": [],
   "source": [
    "not False"
   ]
  },
  {
   "cell_type": "code",
   "execution_count": null,
   "metadata": {
    "id": "aHzBTXgPDxLf"
   },
   "outputs": [],
   "source": [
    "True or False"
   ]
  },
  {
   "cell_type": "markdown",
   "metadata": {
    "id": "MV6AUCPKDxLf"
   },
   "source": [
    "* Los operadores de comparación `>`, `<`, `>=` (mayor, menor, mayor o igual), `<=` (menor o igual), `==` igualdad, `is` identidad."
   ]
  },
  {
   "cell_type": "code",
   "execution_count": null,
   "metadata": {
    "id": "2xkOakBrDxLf"
   },
   "outputs": [],
   "source": [
    "2 > 1, 2 < 1"
   ]
  },
  {
   "cell_type": "code",
   "execution_count": null,
   "metadata": {
    "id": "AdmoyHltDxLf"
   },
   "outputs": [],
   "source": [
    "2 > 2, 2 < 2"
   ]
  },
  {
   "cell_type": "code",
   "execution_count": null,
   "metadata": {
    "id": "dbkPhbJ-DxLf"
   },
   "outputs": [],
   "source": [
    "2 >= 2, 2 <= 2"
   ]
  },
  {
   "cell_type": "code",
   "execution_count": 46,
   "metadata": {
    "id": "aA1sxlurDxLf"
   },
   "outputs": [
    {
     "data": {
      "text/plain": [
       "True"
      ]
     },
     "execution_count": 46,
     "metadata": {},
     "output_type": "execute_result"
    }
   ],
   "source": [
    "# igualdad\n",
    "[1,2] == [1,2]"
   ]
  },
  {
   "cell_type": "code",
   "execution_count": null,
   "metadata": {
    "id": "0tm0ClGrDxLg"
   },
   "outputs": [
    {
     "data": {
      "text/plain": [
       "(True, False)"
      ]
     },
     "execution_count": 47,
     "metadata": {},
     "output_type": "execute_result"
    }
   ],
   "source": [
    "l1 = [1,2]\n",
    "l2 = [1,2]\n",
    "\n",
    "l1 == l2, l1 is l2 # '==' compara por valor y 'is' compara por objeto"
   ]
  },
  {
   "cell_type": "code",
   "execution_count": null,
   "metadata": {
    "id": "AoPjsj5XDxLg"
   },
   "outputs": [
    {
     "data": {
      "text/plain": [
       "True"
      ]
     },
     "execution_count": 48,
     "metadata": {},
     "output_type": "execute_result"
    }
   ],
   "source": [
    "# ¿objetos idénticos?\n",
    "l1 = l2 = [1,2] # se asigna por referencia por lo que son iguales como objetos (las modificaciones también se verán reflejadas)\n",
    "l1 is l2"
   ]
  },
  {
   "cell_type": "markdown",
   "metadata": {
    "id": "nYxOt_itDxLg"
   },
   "source": [
    "## Tipos compuestos: Strings, Listas y diccionarios"
   ]
  },
  {
   "cell_type": "markdown",
   "metadata": {
    "id": "uCKp_ecZDxLg"
   },
   "source": [
    "### Listas\n",
    "\n",
    "#### Creacion y acceso a elementos de listas (*indexing*)"
   ]
  },
  {
   "cell_type": "markdown",
   "metadata": {
    "id": "p5cpc61dDxLg"
   },
   "source": [
    "Las listas son conjuntos ordenados de datos en los que cada elemento puede ser de cualquier tipo.\n",
    "\n",
    "La sintaxis para crear listas en Python es usando corchetes `[...]`:"
   ]
  },
  {
   "cell_type": "code",
   "execution_count": 49,
   "metadata": {
    "id": "mpYqXwQ-DxLg"
   },
   "outputs": [
    {
     "name": "stdout",
     "output_type": "stream",
     "text": [
      "<class 'list'>\n",
      "[12, 42, 234, 64, 56, 62, 27, 78, 39, 10]\n"
     ]
    }
   ],
   "source": [
    "l = [12,42,234,64,56,62,27,78,39,10]\n",
    "\n",
    "print(type(l))\n",
    "print(l)"
   ]
  },
  {
   "cell_type": "markdown",
   "metadata": {
    "id": "8eZUGRe4DxLg"
   },
   "source": [
    "Se puede indexar cada uno de los elementos de la lista usando `[]`, teniendo en cuenta eso sí, que **el primer carácter empezará con el índice 0 y no el 1**."
   ]
  },
  {
   "cell_type": "code",
   "execution_count": 50,
   "metadata": {
    "id": "V3D3sCDKDxLg"
   },
   "outputs": [
    {
     "data": {
      "text/plain": [
       "12"
      ]
     },
     "execution_count": 50,
     "metadata": {},
     "output_type": "execute_result"
    }
   ],
   "source": [
    "l[0]"
   ]
  },
  {
   "cell_type": "markdown",
   "metadata": {
    "id": "NIWaclWyDxLg"
   },
   "source": [
    "El numero de elementos de la lista se obtiene con la orden `len`"
   ]
  },
  {
   "cell_type": "code",
   "execution_count": null,
   "metadata": {
    "id": "dE3HmqWxDxLg"
   },
   "outputs": [
    {
     "data": {
      "text/plain": [
       "(10, 10)"
      ]
     },
     "execution_count": 51,
     "metadata": {},
     "output_type": "execute_result"
    }
   ],
   "source": [
    "len(l), l[len(l)-1] # Longitud y Ultimo elemento de la lista"
   ]
  },
  {
   "cell_type": "markdown",
   "metadata": {
    "id": "qfnT4P8xDxLg"
   },
   "source": [
    "**Aviso importante para usuarios habituales de MATLAB o Mathematica:**\n",
    "\n",
    "**¡El indexado siempre empieza por 0!**\n",
    "\n",
    "También podemos extraer una parte concreta de la lista usando la sintaxis `[inicio:final]` (*slicing*), que extraerá aquellos elementos de la lista comprendidos entre el índice `inicio` y `final-1` (teniendo en cuenta lo ya resaltado anteriormente acerca de que el primer índice siempre será por defecto el 0, y que el carácter con índice `final` no será pues incluido:"
   ]
  },
  {
   "cell_type": "code",
   "execution_count": 52,
   "metadata": {
    "id": "ynKBAPkoDxLg"
   },
   "outputs": [
    {
     "name": "stdout",
     "output_type": "stream",
     "text": [
      "[12, 42, 234, 64, 56, 62, 27, 78, 39, 10]\n"
     ]
    }
   ],
   "source": [
    "print(l) # Recordamos la lista original"
   ]
  },
  {
   "cell_type": "code",
   "execution_count": 53,
   "metadata": {
    "id": "lKd_dckfDxLg"
   },
   "outputs": [
    {
     "name": "stdout",
     "output_type": "stream",
     "text": [
      "[12, 42, 234, 64]\n"
     ]
    }
   ],
   "source": [
    "l1=l[0:4]\n",
    "print(l1)"
   ]
  },
  {
   "cell_type": "code",
   "execution_count": 54,
   "metadata": {
    "id": "kloKNu0qDxLg"
   },
   "outputs": [
    {
     "name": "stdout",
     "output_type": "stream",
     "text": [
      "[56, 62, 27]\n"
     ]
    }
   ],
   "source": [
    "l2=l[4:7]\n",
    "print(l2)"
   ]
  },
  {
   "cell_type": "code",
   "execution_count": 55,
   "metadata": {
    "id": "dHTpbCJiDxLg"
   },
   "outputs": [
    {
     "name": "stdout",
     "output_type": "stream",
     "text": [
      "[78, 39, 10]\n"
     ]
    }
   ],
   "source": [
    "l3=l[7:len(l)]\n",
    "print(l3)"
   ]
  },
  {
   "cell_type": "markdown",
   "metadata": {
    "id": "_I_NtNLkDxLg"
   },
   "source": [
    "Por otro lado, si omitimos alguno (o ambos) de los límites `inicio` o `final` en `[inicio:final]`, entonces por defecto se tomará el comienzo y/o el final de la lista, respectivamente:"
   ]
  },
  {
   "cell_type": "code",
   "execution_count": 56,
   "metadata": {
    "id": "piGtfRDGDxLg"
   },
   "outputs": [
    {
     "data": {
      "text/plain": [
       "[12, 42, 234, 64]"
      ]
     },
     "execution_count": 56,
     "metadata": {},
     "output_type": "execute_result"
    }
   ],
   "source": [
    "l[:4] # hasta el cuarto elemento"
   ]
  },
  {
   "cell_type": "code",
   "execution_count": 57,
   "metadata": {
    "id": "osgup5rWDxLg"
   },
   "outputs": [
    {
     "data": {
      "text/plain": [
       "[62, 27, 78, 39, 10]"
      ]
     },
     "execution_count": 57,
     "metadata": {},
     "output_type": "execute_result"
    }
   ],
   "source": [
    "l[5:] # desde el quinto elemento"
   ]
  },
  {
   "cell_type": "code",
   "execution_count": null,
   "metadata": {
    "id": "pNj3bW43DxLg"
   },
   "outputs": [],
   "source": [
    "l[:] # todos los elementos"
   ]
  },
  {
   "cell_type": "markdown",
   "metadata": {
    "id": "MeZDwcR4DxLg"
   },
   "source": [
    "También podemos definir un paso de salto usando la sintaxis `[inicio:final:paso]` (el valor por defecto para `paso` es 1, como ya se ha visto más arriba):"
   ]
  },
  {
   "cell_type": "code",
   "execution_count": 58,
   "metadata": {
    "id": "EbmiCdg1DxLg"
   },
   "outputs": [
    {
     "data": {
      "text/plain": [
       "[12, 42, 234, 64, 56, 62, 27, 78, 39, 10]"
      ]
     },
     "execution_count": 58,
     "metadata": {},
     "output_type": "execute_result"
    }
   ],
   "source": [
    "l[::1] # todos los elementos con paso 1"
   ]
  },
  {
   "cell_type": "code",
   "execution_count": 59,
   "metadata": {
    "id": "kHhnD3d8DxLg"
   },
   "outputs": [
    {
     "data": {
      "text/plain": [
       "([12, 234, 56, 27, 39], [42, 64, 62, 78, 10])"
      ]
     },
     "execution_count": 59,
     "metadata": {},
     "output_type": "execute_result"
    }
   ],
   "source": [
    "l[::2], l[1::2] # todos los elementos con paso 2 (empezando por el primero y el segundo respectivamente)"
   ]
  },
  {
   "cell_type": "markdown",
   "metadata": {
    "id": "zvbVoHaXDxLg"
   },
   "source": [
    "Esta técnica se denomina *slicing*."
   ]
  },
  {
   "cell_type": "code",
   "execution_count": 60,
   "metadata": {
    "id": "_AEvp6qBDxLh"
   },
   "outputs": [
    {
     "data": {
      "text/plain": [
       "([12, 42, 234, 64, 56, 62, 27, 78, 39, 10],\n",
       " [12, 42, 234],\n",
       " [42, 234],\n",
       " [42, 234, 64, 56, 62, 27, 78, 39, 10],\n",
       " [12, 42, 234],\n",
       " [12, 42, 234, 64, 56, 62, 27, 78, 39, 10],\n",
       " [12, 234, 56, 27, 39])"
      ]
     },
     "execution_count": 60,
     "metadata": {},
     "output_type": "execute_result"
    }
   ],
   "source": [
    "l[0:len(l)], l[0:3], l[1:3], l[1:], l[:3], l[:], l[::2]"
   ]
  },
  {
   "cell_type": "code",
   "execution_count": null,
   "metadata": {
    "id": "MlNx256tDxLh"
   },
   "outputs": [],
   "source": [
    "l = [1,2,3,4] # Cambiamos la lista original"
   ]
  },
  {
   "cell_type": "markdown",
   "metadata": {
    "id": "l9eE12GEDxLh"
   },
   "source": [
    "Las listas a su vez \"se prolongan a los índices negativos\". Es decir, si `l = [1,2,3,4]`, podemos indexarla usando los índices\n",
    "\n",
    "\n",
    "| index | -4 | -3 | -2 | -1 | 0 | 1 | 2 | 3 |\n",
    "|-------|----|----|----|----|---|---|---|---|\n",
    "| value | 1  | 2  | 3  | 4  | 1 | 2 | 3 | 4 |\n"
   ]
  },
  {
   "cell_type": "code",
   "execution_count": null,
   "metadata": {
    "id": "xsuvvxR2DxLh"
   },
   "outputs": [],
   "source": [
    "l[-1] # último elemento"
   ]
  },
  {
   "cell_type": "code",
   "execution_count": null,
   "metadata": {
    "id": "cYQKQ5aDDxLh"
   },
   "outputs": [],
   "source": [
    "l[:-1] # todos menos el último"
   ]
  },
  {
   "cell_type": "code",
   "execution_count": null,
   "metadata": {
    "id": "mMgIxscUDxLh"
   },
   "outputs": [],
   "source": [
    "l[::-1] # al revés"
   ]
  },
  {
   "cell_type": "markdown",
   "metadata": {
    "id": "pR5xpzKHDxLh"
   },
   "source": [
    "Como truco, recordad las congruencias modulo la longitud de la lista. En este caso:\n",
    "$$\n",
    "-4 \\equiv 0 \\mod 4 \\\\\n",
    "-3 \\equiv 1 \\mod 4 \\\\\n",
    "-2 \\equiv 2 \\mod 4 \\\\\n",
    "-1 \\equiv 3 \\mod 4 \\\\\n",
    "$$"
   ]
  },
  {
   "cell_type": "markdown",
   "metadata": {
    "id": "jhHpbm2zDxLh"
   },
   "source": [
    "Los elementos en una lista no tienen que ser del mismo tipo:"
   ]
  },
  {
   "cell_type": "code",
   "execution_count": null,
   "metadata": {
    "id": "w4oMFHlZDxLh"
   },
   "outputs": [],
   "source": [
    "l = [1, 'a', 1.0, 1-1j]\n",
    "\n",
    "print(l)"
   ]
  },
  {
   "cell_type": "markdown",
   "metadata": {
    "id": "U9fEmE8EDxLi"
   },
   "source": [
    "A su vez, las listas en Python aparte de ser no homogéneas, también pueden anidarse arbitrariamente:"
   ]
  },
  {
   "cell_type": "code",
   "execution_count": null,
   "metadata": {
    "id": "brohq7JODxLi"
   },
   "outputs": [],
   "source": [
    "lista_anidada = [1, [2, [3, [4, [5]]]]]\n",
    "\n",
    "len(lista_anidada), lista_anidada[1], lista_anidada[1][1], lista_anidada[1][1][1], lista_anidada[1][1][1][1]"
   ]
  },
  {
   "cell_type": "markdown",
   "metadata": {
    "id": "W6hm9AkYDxLi"
   },
   "source": [
    "Las listas a su vez juegan un papel muy importante en Python. Por ejemplo serán usadas en bucles y otras estructuras de control de flujo (discutidas más abajo). También se dispone de un cierto número de convenientes funciones para generar listas e iteradores de varios tipos, por ejemplo la función `range` :"
   ]
  },
  {
   "cell_type": "code",
   "execution_count": null,
   "metadata": {
    "id": "M_vAMkljDxLi"
   },
   "outputs": [],
   "source": [
    "inicio = 10\n",
    "final  = 30\n",
    "paso   = 2\n",
    "\n",
    "range(inicio, final, paso)"
   ]
  },
  {
   "cell_type": "code",
   "execution_count": null,
   "metadata": {
    "id": "Tf437PRPDxLi"
   },
   "outputs": [],
   "source": [
    "list(range(inicio, final, paso))"
   ]
  },
  {
   "cell_type": "code",
   "execution_count": null,
   "metadata": {
    "id": "B3cUjOD4DxLi"
   },
   "outputs": [],
   "source": [
    "list(range(-10, 10))"
   ]
  },
  {
   "cell_type": "markdown",
   "metadata": {
    "id": "Iml_KSbuDxLi"
   },
   "source": [
    "#### Ordenación"
   ]
  },
  {
   "cell_type": "code",
   "execution_count": null,
   "metadata": {
    "id": "_cNNA7vlDxLi"
   },
   "outputs": [],
   "source": [
    "# Ordenando listas\n",
    "lista_desordenada = [1, 3, 2, 4, 5, 0]\n",
    "lista_desordenada.sort()  # ordena la lista de menor a mayor\n",
    "lista_desordenada # la lista original ha sido modificada"
   ]
  },
  {
   "cell_type": "code",
   "execution_count": null,
   "metadata": {
    "id": "klyHLxK0DxLi"
   },
   "outputs": [],
   "source": [
    "lista_desordenada = [1, 3, 2, 4, 5, 0]\n",
    "lista_ordenada = sorted(lista_desordenada)  # ordena la lista de menor a mayor\n",
    "lista_ordenada, lista_desordenada # la lista original no ha sido modificada"
   ]
  },
  {
   "cell_type": "markdown",
   "metadata": {
    "id": "bdASscjGDxLi"
   },
   "source": [
    "#### Búsqueda"
   ]
  },
  {
   "cell_type": "code",
   "execution_count": null,
   "metadata": {
    "id": "_2IQXaRSDxLi"
   },
   "outputs": [],
   "source": [
    "l = [2,3,1,3,4,2]"
   ]
  },
  {
   "cell_type": "code",
   "execution_count": null,
   "metadata": {
    "id": "eWbNJCSNDxLi"
   },
   "outputs": [],
   "source": [
    "# Busqueda de un elemento en una lista\n",
    "l.index(2) # devuelve la posición del primer elemento que coincide con 2\n",
    "# s2.index(5) # devuelve un error si no encuentra el elemento"
   ]
  },
  {
   "cell_type": "markdown",
   "metadata": {
    "id": "rc-Hhm7EDxLj"
   },
   "source": [
    "#### Añadiendo, insertando, modificando, y eliminando elementos de listas"
   ]
  },
  {
   "cell_type": "code",
   "execution_count": null,
   "metadata": {
    "id": "9zyu-isODxLj"
   },
   "outputs": [],
   "source": [
    "# Empezamos creando una nueva lista vacía\n",
    "l = []\n",
    "# l = list()    # también se puede crear una lista vacía usando la función `list()`\n",
    "\n",
    "# y añadimos elementos usando `append`\n",
    "l.append(1)\n",
    "l.append(2)\n",
    "l.append(3)\n",
    "\n",
    "print(l)"
   ]
  },
  {
   "cell_type": "markdown",
   "metadata": {
    "id": "FjIZLu9HDxLj"
   },
   "source": [
    "Ahora podemos modificar listas asignandoles nuevos valores a ciertos elementos de la lista. Hablando en una jerga técnica, las listas son *mutables*."
   ]
  },
  {
   "cell_type": "code",
   "execution_count": null,
   "metadata": {
    "id": "RlvaMFfTDxLj"
   },
   "outputs": [],
   "source": [
    "l[1] = 0\n",
    "l[2] = -1\n",
    "\n",
    "print(l)"
   ]
  },
  {
   "cell_type": "code",
   "execution_count": null,
   "metadata": {
    "id": "K___AwNDDxLj"
   },
   "outputs": [],
   "source": [
    "l[1:3] = [-9, -9] # reemplaza los elementos de la posición 1 a la 3 por una nueva sublista\n",
    "\n",
    "print(l)"
   ]
  },
  {
   "cell_type": "markdown",
   "metadata": {
    "id": "LjG8mxUpDxLj"
   },
   "source": [
    "Cuidado con esto, porque si una misma lista esta asociada a distintas variables y se modifica en una de ellas, el cambio tambien se vera reflejado en la otra."
   ]
  },
  {
   "cell_type": "code",
   "execution_count": null,
   "metadata": {
    "id": "wXfjvEtbDxLj"
   },
   "outputs": [],
   "source": [
    "l1 = [1,2,3]\n",
    "l2 = l1\n",
    "l1[0] = 10\n",
    "print(l2) # l2 también se ve afectada"
   ]
  },
  {
   "cell_type": "code",
   "execution_count": null,
   "metadata": {
    "id": "Jo9Wqz0IDxLj"
   },
   "outputs": [],
   "source": [
    "l2 is l1"
   ]
  },
  {
   "cell_type": "markdown",
   "metadata": {
    "id": "J6nHGtL7DxLj"
   },
   "source": [
    "Podemos insertar un elemento en una posición specifica usando `insert`. Como yo nunca me acuerdo de si primero iba el objeto o el indice consulto la ayuda."
   ]
  },
  {
   "cell_type": "code",
   "execution_count": null,
   "metadata": {
    "id": "qTjSv05FDxLj"
   },
   "outputs": [],
   "source": [
    "help(l.insert)"
   ]
  },
  {
   "cell_type": "code",
   "execution_count": null,
   "metadata": {
    "id": "bs8ud0yuDxLj"
   },
   "outputs": [],
   "source": [
    "l.insert(0, \"i\")\n",
    "l.insert(1, \"n\")\n",
    "l.insert(2, \"s\")\n",
    "l.insert(3, \"e\")\n",
    "l.insert(4, \"r\")\n",
    "l.insert(5, \"t\")\n",
    "\n",
    "print(l)"
   ]
  },
  {
   "cell_type": "markdown",
   "metadata": {
    "id": "09CHQ6hkDxLj"
   },
   "source": [
    "Para eliminar el primer elemento con un valor específico usaremos 'remove'"
   ]
  },
  {
   "cell_type": "code",
   "execution_count": null,
   "metadata": {
    "id": "xAiEnv3-DxLj"
   },
   "outputs": [],
   "source": [
    "l.remove(-9) # elimina el primer elemento que coincide con -9\n",
    "\n",
    "print(l)"
   ]
  },
  {
   "cell_type": "code",
   "execution_count": null,
   "metadata": {
    "id": "exDQdMYnDxLj"
   },
   "outputs": [],
   "source": [
    "# l.remove(\"X\") # esto generará un error porque \"X\" no está en la lista"
   ]
  },
  {
   "cell_type": "markdown",
   "metadata": {
    "id": "X7kmz0wzDxLj"
   },
   "source": [
    "Para eliminar el elemento en una posición específica usaremos `del`:"
   ]
  },
  {
   "cell_type": "code",
   "execution_count": null,
   "metadata": {
    "id": "Ikb5dtibDxLj"
   },
   "outputs": [],
   "source": [
    "del l[7]\n",
    "del l[6]\n",
    "\n",
    "print(l)"
   ]
  },
  {
   "cell_type": "markdown",
   "metadata": {
    "id": "xpOXcp9BDxLj"
   },
   "source": [
    "Consultar `help(list)` para ver más detalles, o lea la documentación online al respecto"
   ]
  },
  {
   "cell_type": "markdown",
   "metadata": {
    "id": "sWWURLRbDxLj"
   },
   "source": [
    "### Tuplas (\"Tuples\" en inglés)"
   ]
  },
  {
   "cell_type": "markdown",
   "metadata": {
    "id": "HAN3lccPDxLj"
   },
   "source": [
    "Las tuplas son parecidas a las listas, excepto en el hecho de que no pueden ser modificadas después de ser creadas; esto es son *inmutables*.\n",
    "\n",
    "En Python, las tuplas se crean usando la sintaxis `(..., ..., ...)`, o incluso sin paréntesis `..., ...`:"
   ]
  },
  {
   "cell_type": "code",
   "execution_count": null,
   "metadata": {
    "id": "q4mi4vWzDxLj"
   },
   "outputs": [],
   "source": [
    "punto = (10, 20)\n",
    "print(punto, type(punto))"
   ]
  },
  {
   "cell_type": "code",
   "execution_count": null,
   "metadata": {
    "id": "k9q3EV6UDxLk"
   },
   "outputs": [],
   "source": [
    "punto = 10, 20\n",
    "print(punto, type(punto))"
   ]
  },
  {
   "cell_type": "markdown",
   "metadata": {
    "id": "m41r6zcTDxLk"
   },
   "source": [
    "Podemos desempaquetar una tupla asignándola a una lista de variables separadas por comas:"
   ]
  },
  {
   "cell_type": "code",
   "execution_count": null,
   "metadata": {
    "id": "99extryLDxLk"
   },
   "outputs": [],
   "source": [
    "x, y = punto\n",
    "\n",
    "print(\"x =\", x)\n",
    "print(\"y =\", y)"
   ]
  },
  {
   "cell_type": "markdown",
   "metadata": {
    "id": "xadYE7Y1DxLk"
   },
   "source": [
    "Pero si intentamos asignar un nuevo valor a un cierto elemento de una tupla el intérprete de Python nos devolverá un error o excepción:"
   ]
  },
  {
   "cell_type": "code",
   "execution_count": null,
   "metadata": {
    "id": "XDZRgFfGDxLk"
   },
   "outputs": [],
   "source": [
    "# punto[0] = 20"
   ]
  },
  {
   "cell_type": "markdown",
   "metadata": {
    "id": "fa1mP5AADxLk"
   },
   "source": [
    "### Strings (o cadenas de caracteres)"
   ]
  },
  {
   "cell_type": "markdown",
   "metadata": {
    "id": "xJ7DOmVIDxLk"
   },
   "source": [
    "`string` es el tipo de dato que se usa para almacenar cadenas de texto."
   ]
  },
  {
   "cell_type": "code",
   "execution_count": 61,
   "metadata": {
    "id": "8X7F-ykxDxLk"
   },
   "outputs": [
    {
     "data": {
      "text/plain": [
       "str"
      ]
     },
     "execution_count": 61,
     "metadata": {},
     "output_type": "execute_result"
    }
   ],
   "source": [
    "s = \"Hola mundo\"\n",
    "type(s)"
   ]
  },
  {
   "cell_type": "markdown",
   "metadata": {
    "id": "W-8zy9eHDxLk"
   },
   "source": [
    "Se puede generar tambien una lista a partir de una cadena de caracteres:"
   ]
  },
  {
   "cell_type": "code",
   "execution_count": null,
   "metadata": {
    "id": "hrjiKUcKDxLk"
   },
   "outputs": [],
   "source": [
    "# Para convertir un string en una lista de caracteres podemos usar:\n",
    "s2 = list(s)\n",
    "\n",
    "s2"
   ]
  },
  {
   "cell_type": "markdown",
   "metadata": {
    "id": "cqh3SSd9DxLk"
   },
   "source": [
    "Las mismas funciones de indexado que hemos utilizado en listas tambien se pueden utilizar en cadenas de caracteres."
   ]
  },
  {
   "cell_type": "code",
   "execution_count": null,
   "metadata": {
    "id": "mzjX0cLFDxLk"
   },
   "outputs": [],
   "source": [
    "# para obtener la longitud del string: el número de caracteres\n",
    "len(s)"
   ]
  },
  {
   "cell_type": "code",
   "execution_count": 62,
   "metadata": {
    "id": "vox6wo3hDxLk"
   },
   "outputs": [
    {
     "data": {
      "text/plain": [
       "('H',\n",
       " 'o',\n",
       " 'l',\n",
       " 'a',\n",
       " ' ',\n",
       " 'm',\n",
       " 'u',\n",
       " 'n',\n",
       " 'd',\n",
       " 'o',\n",
       " 'Hola ',\n",
       " 'mundo',\n",
       " 'Hl ud',\n",
       " 'odnum aloH',\n",
       " 'o')"
      ]
     },
     "execution_count": 62,
     "metadata": {},
     "output_type": "execute_result"
    }
   ],
   "source": [
    "# Indexado de strings\n",
    "s[0], s[1], s[2], s[3], s[4], s[5], s[6], s[7], s[8], s[9], s[:5], s[5:], s[::2], s[::-1], s[-1]"
   ]
  },
  {
   "cell_type": "code",
   "execution_count": 63,
   "metadata": {
    "id": "9SxZTWxgDxLk"
   },
   "outputs": [
    {
     "data": {
      "text/plain": [
       "'Hola mundo!'"
      ]
     },
     "execution_count": 63,
     "metadata": {},
     "output_type": "execute_result"
    }
   ],
   "source": [
    "# Muy antintuitivo\n",
    "# s.append(\"!\") # esto generará un error porque no se puede añadir un elemento a un string\n",
    "s = s + \"!\"   # concatenación de strings\n",
    "s"
   ]
  },
  {
   "cell_type": "code",
   "execution_count": null,
   "metadata": {
    "id": "zD1XELaRDxLk"
   },
   "outputs": [],
   "source": [
    "# para reemplazar un substring (subconjunto de caracteres) en un\n",
    "# string con otra expresión, usaremos la función 'replace'\n",
    "s2 = s.replace(\"mundo\", \"caracola\") # No tienen que ser del mismo tamaño\n",
    "print(s2)"
   ]
  },
  {
   "cell_type": "markdown",
   "metadata": {
    "id": "Z2zEIuk5DxLk"
   },
   "source": [
    "#### Ejemplos de formateo de texto ('strings')"
   ]
  },
  {
   "cell_type": "code",
   "execution_count": null,
   "metadata": {
    "id": "PAQz2Xz7DxLk"
   },
   "outputs": [],
   "source": [
    "print(s, 1.0, False, -1j)\n",
    "# De hecho, la sentencia 'print' convierte todos\n",
    "# los argumentos a strings"
   ]
  },
  {
   "cell_type": "code",
   "execution_count": 64,
   "metadata": {
    "id": "I3q6QARPDxLk"
   },
   "outputs": [
    {
     "name": "stdout",
     "output_type": "stream",
     "text": [
      "Hola mundo!!!\n"
     ]
    }
   ],
   "source": [
    "str1 = \"Hola \"\n",
    "str2 = \"mundo\"\n",
    "str3 = \"!!!\"\n",
    "\n",
    "print(str1 + str2 + str3)\n",
    "# los strings sumados con '+' simplemente son concatenados"
   ]
  },
  {
   "cell_type": "code",
   "execution_count": null,
   "metadata": {
    "id": "kVVATLnwDxLk"
   },
   "outputs": [],
   "source": [
    "# También podríamos simplemente haber escrito\n",
    "str1+str2+str3"
   ]
  },
  {
   "cell_type": "code",
   "execution_count": 65,
   "metadata": {
    "id": "st3PHslWDxLk"
   },
   "outputs": [
    {
     "name": "stdout",
     "output_type": "stream",
     "text": [
      "value = 1.000000\n"
     ]
    }
   ],
   "source": [
    "print(\"value = %f\" % 1.0)\n",
    "# podemos también usar un estilo de formateo tipo lenguaje C"
   ]
  },
  {
   "cell_type": "code",
   "execution_count": null,
   "metadata": {
    "id": "ik95f88tDxLl"
   },
   "outputs": [],
   "source": [
    "# así podemos crear un string formateada como queramos\n",
    "s2 = \"valor1 = %.2f. valor2 = %d\" % (3.1415, 1.5)\n",
    "\n",
    "print(s2)"
   ]
  },
  {
   "cell_type": "code",
   "execution_count": null,
   "metadata": {
    "id": "InroUuoLDxLl"
   },
   "outputs": [],
   "source": [
    "# otra alternativa más intuitiva sería\n",
    "s3 = 'valor1 = {0}, valor2 = {1}'.format(3.1415, 1.5)\n",
    "\n",
    "print(s3)"
   ]
  },
  {
   "cell_type": "code",
   "execution_count": null,
   "metadata": {
    "id": "h7JNj345DxLl"
   },
   "outputs": [
    {
     "name": "stdout",
     "output_type": "stream",
     "text": [
      "Hay 5 manzanas y 3 peras\n",
      "Hay 5 manzanas y 3 peras\n",
      "Hay 5 manzanas y 3 peras\n",
      "Hay 5 manzanas y 3 peras\n",
      "La edad media es 20.243324865392864 años\n",
      "La edad media es 20.2433 años\n",
      "La edad media es 20.243324865392864 años\n",
      "La edad media es 20.24 años\n"
     ]
    }
   ],
   "source": [
    "num_manzanas = 5\n",
    "num_peras = 3\n",
    "print(\"Hay \" + str(num_manzanas) + \" manzanas y \" + str(num_peras) + \" peras\")\n",
    "print(\"Hay %d manzanas y %d peras\" % (num_manzanas, num_peras))\n",
    "print(\"Hay {} manzanas y {} peras\".format(num_manzanas, num_peras))\n",
    "print(f\"Hay {num_manzanas} manzanas y {num_peras} peras\")  # Opción más recomendada\n",
    "\n",
    "edad_media = 20.243324865392865829\n",
    "print(\"La edad media es \" + str(edad_media) + \" años\")\n",
    "print(\"La edad media es %.4f años\" % edad_media)\n",
    "print(\"La edad media es {} años\".format(edad_media))\n",
    "print(f\"La edad media es {edad_media:.2f} años\")\n"
   ]
  },
  {
   "cell_type": "markdown",
   "metadata": {
    "id": "Ujq78_EzDxLl"
   },
   "source": [
    "De hecho Python tiene un conjunto muy rico de funciones para el procesamiento de texto. Consultar por ejemplo https://docs.python.org/3.13/library/string.html para más información."
   ]
  },
  {
   "cell_type": "markdown",
   "metadata": {
    "id": "1neUrBvYDxLl"
   },
   "source": [
    "### Diccionarios"
   ]
  },
  {
   "cell_type": "markdown",
   "metadata": {
    "id": "leetZ8U4DxLl"
   },
   "source": [
    "Los diccionarios también son como las listas, excepto que cada elemento es un par de tipo llave-valor (\"key-value\" en inglés). Así pues, la sintaxis para los  diccionarios es `{llave1 : valor1, ...}`:"
   ]
  },
  {
   "cell_type": "code",
   "execution_count": 67,
   "metadata": {
    "id": "zoNQmtxxDxLl"
   },
   "outputs": [
    {
     "name": "stdout",
     "output_type": "stream",
     "text": [
      "<class 'dict'>\n",
      "{'nombre': 'Juan Antonio', 'DNI': '12345678A', 'edad': 20, 'altura': 1.81}\n"
     ]
    }
   ],
   "source": [
    "persona  =   {\"nombre\" : \"Juan Antonio\",\n",
    "              \"DNI\" : \"12345678A\",\n",
    "              \"edad\" : 20,\n",
    "              \"altura\" : 1.81}\n",
    "\n",
    "print(type(persona))\n",
    "print(persona)"
   ]
  },
  {
   "cell_type": "code",
   "execution_count": null,
   "metadata": {
    "id": "IN4lLsIuDxLl"
   },
   "outputs": [],
   "source": [
    "print(\"Nombre = \" + str(persona[\"nombre\"]))\n",
    "print(\"DNI = \" + str(persona[\"DNI\"]))\n",
    "print(\"Edad = \" + str(persona[\"edad\"]))\n",
    "print(\"Altura = \" + str(persona[\"altura\"]))"
   ]
  },
  {
   "cell_type": "code",
   "execution_count": 68,
   "metadata": {
    "id": "YH76fG0YDxLl"
   },
   "outputs": [
    {
     "name": "stdout",
     "output_type": "stream",
     "text": [
      "Nombre = McLovin\n",
      "DNI = 12345678A\n",
      "Edad = 21\n",
      "Altura = 1.81\n",
      "Color de ojos = marrón\n"
     ]
    }
   ],
   "source": [
    "persona[\"nombre\"] = \"McLovin\"\n",
    "persona[\"edad\"] = 21\n",
    "\n",
    "# añadiendo una nueva entrada\n",
    "persona[\"color_ojos\"] = \"marrón\"\n",
    "\n",
    "print(\"Nombre = \" + str(persona[\"nombre\"]))\n",
    "print(\"DNI = \" + str(persona[\"DNI\"]))\n",
    "print(\"Edad = \" + str(persona[\"edad\"]))\n",
    "print(\"Altura = \" + str(persona[\"altura\"]))\n",
    "print(\"Color de ojos = \" + str(persona[\"color_ojos\"]))"
   ]
  },
  {
   "cell_type": "markdown",
   "metadata": {
    "id": "4rU3PtSlDxLl"
   },
   "source": [
    "## Control de  Flujo"
   ]
  },
  {
   "cell_type": "markdown",
   "metadata": {
    "id": "CWmlkGhwDxLl"
   },
   "source": [
    "### Sentencias condicionales: `if`, `elif`, `else`"
   ]
  },
  {
   "cell_type": "markdown",
   "metadata": {
    "id": "97QcjwbnDxLl"
   },
   "source": [
    "La sintaxis de Python para la ejecución de órdenes condicionales de código usa la palabras clave `if`, `elif` (else if), `else`:"
   ]
  },
  {
   "cell_type": "code",
   "execution_count": null,
   "metadata": {
    "id": "Qw6GXbdfDxLl"
   },
   "outputs": [],
   "source": [
    "sentencia1 = False\n",
    "sentencia2 = False\n",
    "\n",
    "if sentencia1:\n",
    "    print(\"sentencia1 es Verdad\")\n",
    "\n",
    "elif sentencia2:\n",
    "    print(\"sentencia2 es Verdad\")\n",
    "\n",
    "else:\n",
    "    print(\"sentencia1 y sentencia2 son Falsas\")"
   ]
  },
  {
   "cell_type": "markdown",
   "metadata": {
    "id": "kGghuParDxLl"
   },
   "source": [
    "Aquí encontramos por primera vez una característica peculiar y algo inusual del lenguaje de programación Python: los bloques de programa vienen definidos por su nivel de indentación.\n",
    "\n",
    "Compare con el código equivalente en lenguaje C:\n",
    "\n",
    "```c\n",
    "    if (statement1){\n",
    "        printf(\"statement1 is True\\n\");\n",
    "    }\n",
    "    else if (statement2){\n",
    "        printf(\"statement2 is True\\n\");\n",
    "    }\n",
    "    else{\n",
    "        printf(\"statement1 and statement2 are False\\n\");\n",
    "    }\n",
    "```\n",
    "Vemos que en lenguaje C los bloques de programa vienen delimitados por llaves `{` y `}`. Por otra parte, el nivel de indentación (espacios en blanco antes de las sentencias del código) realmente no importan (siendo completamente opcionales).\n",
    "\n",
    "Sin embargo, en Python, la extensión y alcance de un bloque de código viene definido por el nivel de indentación (usualmente un tabulado o bien unos cuatro espacios en blanco). Esto significa que debemos ser cuidadosos para indentar correctamente nuestro código, si no queremos tener errores de sintaxis."
   ]
  },
  {
   "cell_type": "markdown",
   "metadata": {
    "id": "JYOdIVshDxLl"
   },
   "source": [
    "#### Ejemplos:"
   ]
  },
  {
   "cell_type": "code",
   "execution_count": null,
   "metadata": {
    "id": "LNXwWjnIDxLl"
   },
   "outputs": [],
   "source": [
    "sentencia1 = sentencia2 = True\n",
    "\n",
    "if sentencia1:\n",
    "    if sentencia2:\n",
    "        print(\"ambas sentencia1 y setencia2 son verdad (True)\")"
   ]
  },
  {
   "cell_type": "code",
   "execution_count": null,
   "metadata": {
    "id": "KoEzt8BYDxLl"
   },
   "outputs": [],
   "source": [
    "# ¡Mala indentación!\n",
    "# if sentencia1:\n",
    "#     if sentencia2:\n",
    "#     print(\"ambas sentencia1 y setencia2 son verdad (True)\")\n",
    "#     # esta línea está mal indentada"
   ]
  },
  {
   "cell_type": "code",
   "execution_count": null,
   "metadata": {
    "id": "mmSujAIODxLm"
   },
   "outputs": [],
   "source": [
    "sentencia1 = True\n",
    "\n",
    "if sentencia1:\n",
    "    print(\"imprime si la sentencia1 es verdad (True)\")\n",
    "\n",
    "    print(\"todavía dentro del bloque if\")"
   ]
  },
  {
   "cell_type": "code",
   "execution_count": null,
   "metadata": {
    "id": "mr5D91bLDxLm"
   },
   "outputs": [],
   "source": [
    "sentencia1 = False\n",
    "\n",
    "if sentencia1:\n",
    "    print(\"imprime si la sentencia1 es verdad (True)\")\n",
    "\n",
    "print(\"ya estamos fuera del bloque if\")"
   ]
  },
  {
   "cell_type": "markdown",
   "metadata": {
    "id": "LLPmctwLDxLm"
   },
   "source": [
    "### Bucles"
   ]
  },
  {
   "cell_type": "markdown",
   "metadata": {
    "id": "qPFDcNvoDxLm"
   },
   "source": [
    "En Python, los bucles pueden programarse de diferentes formas, pero la más común es mediante la sentencia `for`, que se usa junto con objetos iterables, como las listas. Su sintaxis básica es:"
   ]
  },
  {
   "cell_type": "markdown",
   "metadata": {
    "id": "rXQ_EcmYDxLm"
   },
   "source": [
    "### bucles `for`"
   ]
  },
  {
   "cell_type": "code",
   "execution_count": null,
   "metadata": {
    "id": "2ZqIoyBpDxLm"
   },
   "outputs": [],
   "source": [
    "for x in [1,2,3]:\n",
    "    print(x)"
   ]
  },
  {
   "cell_type": "markdown",
   "metadata": {
    "id": "fBguYD0ZDxLm"
   },
   "source": [
    "El bucle `for` itera sobre los elementos de la lista o iterador suministrado, y ejecuta el bloque de código contenido dentro del bucle, una vez para cada elemento. Cualquier tipo de lista puede ser usada en un bucle `for`. Por ejemplo:"
   ]
  },
  {
   "cell_type": "code",
   "execution_count": null,
   "metadata": {
    "id": "OjfjBsSwDxLm"
   },
   "outputs": [],
   "source": [
    "for x in range(4): # por defecto range empieza en 0\n",
    "    print(x)"
   ]
  },
  {
   "cell_type": "markdown",
   "metadata": {
    "id": "U3Q-5uklDxLm"
   },
   "source": [
    "Nota: ¡`range(4)` no incluye el 4 !"
   ]
  },
  {
   "cell_type": "code",
   "execution_count": null,
   "metadata": {
    "id": "l61gpEFODxLm"
   },
   "outputs": [],
   "source": [
    "for x in range(-3,3):\n",
    "    print(x)"
   ]
  },
  {
   "cell_type": "code",
   "execution_count": null,
   "metadata": {
    "id": "aZsTjDFxDxLm"
   },
   "outputs": [],
   "source": [
    "for palabra in [\"cálculo\", \"científico\", \"con\", \"Python\"]:\n",
    "    print(palabra)"
   ]
  },
  {
   "cell_type": "markdown",
   "metadata": {
    "id": "24zxrQGpDxLm"
   },
   "source": [
    "Tambien se puede hacer utilizando los indices"
   ]
  },
  {
   "cell_type": "code",
   "execution_count": null,
   "metadata": {
    "id": "0D9WGQkvDxLm"
   },
   "outputs": [],
   "source": [
    "lista_rara = [3,4,4,23,\"a\", False, 1.0]\n",
    "for i in range(len(lista_rara)):\n",
    "    print(lista_rara[i])"
   ]
  },
  {
   "cell_type": "markdown",
   "metadata": {
    "id": "GCbm1ACEDxLm"
   },
   "source": [
    "Para iterar sobre pares clave-valor (key-value) de un diccionario:"
   ]
  },
  {
   "cell_type": "code",
   "execution_count": null,
   "metadata": {
    "id": "vUF7JWBKDxLm"
   },
   "outputs": [],
   "source": [
    "for clave, valor in persona.items():\n",
    "    print(clave + \" = \" + str(valor))"
   ]
  },
  {
   "cell_type": "markdown",
   "metadata": {
    "id": "qpzB6aXZDxLn"
   },
   "source": [
    "A veces es útil tener acceso a los indices de los valores mientras iteramos sobre una lista. Podemos usar la función `enumerate` para esto:"
   ]
  },
  {
   "cell_type": "code",
   "execution_count": null,
   "metadata": {
    "id": "BteedtxoDxLn"
   },
   "outputs": [],
   "source": [
    "for idx, x in enumerate(range(-3,3)):\n",
    "    print(idx, x)"
   ]
  },
  {
   "cell_type": "markdown",
   "metadata": {
    "id": "4-1InF0sDxLn"
   },
   "source": [
    "### Compresión de listas:"
   ]
  },
  {
   "cell_type": "markdown",
   "metadata": {
    "id": "bI8QEvfcDxLn"
   },
   "source": [
    "Una forma conveniente y compacta de inicializar listas es la siguiente:"
   ]
  },
  {
   "cell_type": "code",
   "execution_count": null,
   "metadata": {
    "id": "6GvSmirkDxLn"
   },
   "outputs": [],
   "source": [
    "l1 = [x**2 for x in range(0,5)]\n",
    "\n",
    "print(l1)"
   ]
  },
  {
   "cell_type": "markdown",
   "metadata": {
    "id": "xlZJa7b9DxLn"
   },
   "source": [
    "Util para definir vectores o matrices definidos por formulas. Por ejemplo, imaginad que queremos la matriz $(a_{ij})$, $a_{ij}=i^j$ para $i=1,\\dots,10$, $j=0,...,5$, la podemos inicializar de la siguiente manera:"
   ]
  },
  {
   "cell_type": "code",
   "execution_count": null,
   "metadata": {
    "id": "rNPQY72jDxLn"
   },
   "outputs": [],
   "source": [
    "[[i**j for j in range(6)] for i in range(1,11)]"
   ]
  },
  {
   "cell_type": "markdown",
   "metadata": {
    "id": "vNsxitYaDxLn"
   },
   "source": [
    "###  Bucles `while`:"
   ]
  },
  {
   "cell_type": "code",
   "execution_count": null,
   "metadata": {
    "id": "YZJEGHuUDxLn"
   },
   "outputs": [],
   "source": [
    "i = 1\n",
    "\n",
    "while i <= 5:\n",
    "    print(i)\n",
    "\n",
    "    i = i + 1\n",
    "\n",
    "print(\"hecho\")"
   ]
  },
  {
   "cell_type": "markdown",
   "metadata": {
    "id": "zdcTkgRIDxLn"
   },
   "source": [
    "Nótese que la sentencia `print(\"hecho\")` no forma parte del cuerpo de la sentencia `while` por la diferente indentación."
   ]
  },
  {
   "cell_type": "markdown",
   "metadata": {
    "id": "RgJTuRqUDxLn"
   },
   "source": [
    "## Funciones"
   ]
  },
  {
   "cell_type": "markdown",
   "metadata": {
    "id": "7FMlaZ0tDxLn"
   },
   "source": [
    "Una función en Python se define usando la palabra clave `def`, seguida por un nombre de función, con sus correspondientes paréntesis `()`, y los dos puntos `:`. El código siguiente, con un nivel de indentación adicional, es el cuerpo de la función."
   ]
  },
  {
   "cell_type": "code",
   "execution_count": null,
   "metadata": {
    "id": "OYhNhvNtDxLn"
   },
   "outputs": [],
   "source": [
    "def imprime_prueba():\n",
    "    print(\"prueba\")"
   ]
  },
  {
   "cell_type": "code",
   "execution_count": null,
   "metadata": {
    "id": "IQiK2iuSDxLn"
   },
   "outputs": [],
   "source": [
    "imprime_prueba()"
   ]
  },
  {
   "cell_type": "markdown",
   "metadata": {
    "id": "kp_70OWhDxLn"
   },
   "source": [
    "Opcionalmente, aunque altamente recomendable, también podemos definir lo que se denomina \"docstring\", que es una documentación para describir el propósito y comportamiento de la función que vamos a definir. Esta documentación debería ir directamente después del comando que define a la función, y justo antes del cuerpo que define el código de la misma."
   ]
  },
  {
   "cell_type": "code",
   "execution_count": null,
   "metadata": {
    "id": "cFj6j4UTDxLn"
   },
   "outputs": [],
   "source": [
    "def contador_caracteres(s):\n",
    "    # Esto de abajo es docstring (la documentación) \n",
    "    # Cuando se llama a help(funcion) aparece esta documentación\n",
    "    \"\"\"\n",
    "    Imprime un string 's' y nos dice cuantos caracteres tiene \n",
    "    \"\"\"\n",
    "\n",
    "    print(s + \" tiene \" + str(len(s)) + \" caracteres\")"
   ]
  },
  {
   "cell_type": "code",
   "execution_count": 70,
   "metadata": {
    "id": "ddWJCgVADxLo"
   },
   "outputs": [
    {
     "name": "stdout",
     "output_type": "stream",
     "text": [
      "Help on function contador_caracteres in module __main__:\n",
      "\n",
      "contador_caracteres(s)\n",
      "    Imprime un string 's' y nos dice cuantos caracteres tiene\n",
      "\n"
     ]
    }
   ],
   "source": [
    "help(contador_caracteres)"
   ]
  },
  {
   "cell_type": "code",
   "execution_count": 71,
   "metadata": {
    "id": "-ESyR0JLDxLo"
   },
   "outputs": [
    {
     "name": "stdout",
     "output_type": "stream",
     "text": [
      "prueba tiene 6 caracteres\n"
     ]
    }
   ],
   "source": [
    "contador_caracteres(\"prueba\")"
   ]
  },
  {
   "cell_type": "markdown",
   "metadata": {
    "id": "Z3aBTqa7DxLo"
   },
   "source": [
    "Vemos pues que funciones que simplemente imprimen un cierto mensaje o resultado pueden definirse con un `print`, sin embargo si pretendemos que devuelvan un cierto valor deberemos usar la palabra clave `return`:"
   ]
  },
  {
   "cell_type": "code",
   "execution_count": 72,
   "metadata": {
    "id": "USHBqXrPDxLo"
   },
   "outputs": [],
   "source": [
    "def cuadrado(x):\n",
    "    \"\"\"\n",
    "    Devuelve el cuadrado del número x.\n",
    "    \"\"\"\n",
    "    return x ** 2"
   ]
  },
  {
   "cell_type": "code",
   "execution_count": 73,
   "metadata": {
    "id": "lEvkin5ZDxLo"
   },
   "outputs": [
    {
     "data": {
      "text/plain": [
       "16"
      ]
     },
     "execution_count": 73,
     "metadata": {},
     "output_type": "execute_result"
    }
   ],
   "source": [
    "cuadrado(4)"
   ]
  },
  {
   "cell_type": "markdown",
   "metadata": {
    "id": "QXKb_t5JDxLo"
   },
   "source": [
    "Podemos devolver múltiples valores de una función usando tuplas (ver más arriba):"
   ]
  },
  {
   "cell_type": "code",
   "execution_count": 74,
   "metadata": {
    "id": "zvkmXBfVDxLo"
   },
   "outputs": [],
   "source": [
    "def potencias(x):\n",
    "    \"\"\"\n",
    "    Devuelve unas cuantas potencias de x.\n",
    "    \"\"\"\n",
    "    return x ** 2, x ** 3, x ** 4"
   ]
  },
  {
   "cell_type": "code",
   "execution_count": 75,
   "metadata": {
    "id": "oRX9lrysDxLo"
   },
   "outputs": [
    {
     "data": {
      "text/plain": [
       "(9, 27, 81)"
      ]
     },
     "execution_count": 75,
     "metadata": {},
     "output_type": "execute_result"
    }
   ],
   "source": [
    "potencias(3)"
   ]
  },
  {
   "cell_type": "code",
   "execution_count": null,
   "metadata": {
    "id": "vTKxAP07DxLo"
   },
   "outputs": [],
   "source": [
    "# La posibilidad de asignación múltiple\n",
    "# es otra de las particularidades de Python\n",
    "\n",
    "x2, x3, x4 = potencias(3)\n",
    "\n",
    "print(x3)"
   ]
  },
  {
   "cell_type": "markdown",
   "metadata": {
    "id": "CmQ0nNEUDxLo"
   },
   "source": [
    "###  Argumentos por defecto y palabras clave (\"keywords\") como argumentos"
   ]
  },
  {
   "cell_type": "markdown",
   "metadata": {
    "id": "n7c07vwHDxLo"
   },
   "source": [
    "En la propia definición de una función, podemos dar valores por defecto a los argumentos que puede tomar dicha función:"
   ]
  },
  {
   "cell_type": "code",
   "execution_count": 76,
   "metadata": {
    "id": "K7UOl6DhDxLo"
   },
   "outputs": [],
   "source": [
    "def potencia(x, p=2, debug=False):\n",
    "    if debug:\n",
    "        print(\"evaluando mifuncion para x = \" + str(x)\n",
    "              + \" usando un exponente p = \" + str(p))\n",
    "    return x**p"
   ]
  },
  {
   "cell_type": "markdown",
   "metadata": {
    "id": "K8Ak1b3fDxLo"
   },
   "source": [
    "De esta manera, si no proporcionamos ningún valor para el argumento correspondiente a `debug` cuando llamamos a la función `mifuncion` su valor por defecto será el valor indicado en la definición de la función:"
   ]
  },
  {
   "cell_type": "code",
   "execution_count": 77,
   "metadata": {
    "id": "zFPfWds-DxLo"
   },
   "outputs": [
    {
     "data": {
      "text/plain": [
       "25"
      ]
     },
     "execution_count": 77,
     "metadata": {},
     "output_type": "execute_result"
    }
   ],
   "source": [
    "potencia(5)"
   ]
  },
  {
   "cell_type": "code",
   "execution_count": 78,
   "metadata": {
    "id": "0UA7cedEDxLo"
   },
   "outputs": [
    {
     "name": "stdout",
     "output_type": "stream",
     "text": [
      "evaluando mifuncion para x = 5 usando un exponente p = 2\n"
     ]
    },
    {
     "data": {
      "text/plain": [
       "25"
      ]
     },
     "execution_count": 78,
     "metadata": {},
     "output_type": "execute_result"
    }
   ],
   "source": [
    "potencia(5, debug=True)"
   ]
  },
  {
   "cell_type": "markdown",
   "metadata": {
    "id": "GuOz0htLDxLo"
   },
   "source": [
    "Sin embargo, si proporcionamos de manera explícita el nombre de los argumentos en la correspondiente llamada a la función, entonces ni siquiera es necesario que éstos vengan en el mismo orden en el que se definió la función. Esta propiedad se denomina argumentos por palabras claves (*keyword*), y a menudo es bastante útil para funciones con muchos argumentos opcionales, cuyo orden no tenemos que memorizar en absoluto."
   ]
  },
  {
   "cell_type": "code",
   "execution_count": 79,
   "metadata": {
    "id": "lFzXM744DxLo"
   },
   "outputs": [
    {
     "name": "stdout",
     "output_type": "stream",
     "text": [
      "evaluando mifuncion para x = 7 usando un exponente p = 3\n"
     ]
    },
    {
     "data": {
      "text/plain": [
       "343"
      ]
     },
     "execution_count": 79,
     "metadata": {},
     "output_type": "execute_result"
    }
   ],
   "source": [
    "potencia(p=3, debug=True, x=7)"
   ]
  },
  {
   "cell_type": "markdown",
   "metadata": {
    "id": "dLejH90JDxLo"
   },
   "source": [
    "### Funciones en linea o funciones \"lambda\""
   ]
  },
  {
   "cell_type": "markdown",
   "metadata": {
    "id": "E0t3wM5zDxLo"
   },
   "source": [
    "En Python podemos tamién crear funciones en una sola linea utilizando la palabra clave `lambda`:"
   ]
  },
  {
   "cell_type": "code",
   "execution_count": null,
   "metadata": {
    "id": "rsMHPIsaDxLo"
   },
   "outputs": [],
   "source": [
    "f1 = lambda x: x**2\n",
    "\n",
    "# es equivalente a\n",
    "\n",
    "def f2(x):\n",
    "    return x**2"
   ]
  },
  {
   "cell_type": "code",
   "execution_count": null,
   "metadata": {
    "id": "0lA3tOfzDxLp"
   },
   "outputs": [],
   "source": [
    "f1(2), f2(2)"
   ]
  },
  {
   "cell_type": "markdown",
   "metadata": {
    "id": "LSG1tRlvDxLp"
   },
   "source": [
    "Esta técnica es útil por ejemplo cuando queremos pasarle una simple función como argumento a otra función, como esta:"
   ]
  },
  {
   "cell_type": "code",
   "execution_count": null,
   "metadata": {
    "id": "fP25nqWGDxLp"
   },
   "outputs": [],
   "source": [
    "# map es a su vez una función incorporada en python\n",
    "map(lambda x: x**2, range(-3,4))"
   ]
  },
  {
   "cell_type": "code",
   "execution_count": null,
   "metadata": {
    "id": "IwzI1v68DxLp"
   },
   "outputs": [],
   "source": [
    "# Utilizamos `list(...)` para convertir el iterador\n",
    "# en una lista explícita\n",
    "list(map(lambda x: x**2, range(-3,4)))"
   ]
  },
  {
   "cell_type": "markdown",
   "metadata": {
    "id": "sAGRn3NSDxLp"
   },
   "source": [
    "## Clases de objetos y POO (Programación Orientada a Objetos)"
   ]
  },
  {
   "cell_type": "markdown",
   "metadata": {
    "id": "JXD6VIeRDxLp"
   },
   "source": [
    "Las clases son una característica clave en la programación orientada a objetos (\"object-oriented programming\" en inglés). Una clase es una estructura para representar a un objecto así como las distintas operaciones que pueden realizarse sobre dicho objeto.\n",
    "\n",
    "En Python una clase puede contener *atributos* (variables) y *métodos* (funciones).\n",
    "\n",
    "Por otro lado, una clase se define casi de la misma manera que una función, pero usando la palabra clave `class`; además la definición de clase contiene usualmente también un cierto número de definiciones de métodos de clase (que serán funciones en la clase).\n",
    "\n",
    "* Cada método de la clase deberá tener un argumento `self` como primer argumento de la lista de argumentos. Este objeto es una auto-referencia (\"self-reference\" en inglés).\n",
    "\n",
    "* Otros nombres de métodos de la clase también tendrán un significado especial, por ejemplo:\n",
    "\n",
    "    * `__init__`: Es el nombre del método que es invocado cuando el objeto es creado.\n",
    "    * `__str__` : Es un método que es invocado cuando sólo se necesita una simple reperesentación alfanumérica de la clase, como por ejemplo al imprimir.\n",
    "    * Hay otros muchos nombres especiales asociados a las clases, consultar por ejemplo http://docs.python.org/3/reference/datamodel.html#special-method-names"
   ]
  },
  {
   "cell_type": "code",
   "execution_count": null,
   "metadata": {
    "id": "ycTE3McxDxLp"
   },
   "outputs": [],
   "source": [
    "class Point:\n",
    "    \"\"\"\n",
    "    Clase para representar un punto en un sistema de coordenadas\n",
    "    cartesianas.\n",
    "    \"\"\"\n",
    "\n",
    "    def __init__(self, x, y):\n",
    "        \"\"\"\n",
    "        Crea un nuevo Punto con coordenaddas  x, y.\n",
    "        \"\"\"\n",
    "        self.x = x\n",
    "        self.y = y\n",
    "\n",
    "    def translate(self, dx, dy):\n",
    "        \"\"\"\n",
    "        Traslada el punto mediante un desplazamiento dx y dy\n",
    "        en cada dirección.\n",
    "        \"\"\"\n",
    "        self.x += dx\n",
    "        self.y += dy\n",
    "\n",
    "    def __str__(self):\n",
    "        return(\"Punto en [%f, %f]\" % (self.x, self.y))"
   ]
  },
  {
   "cell_type": "markdown",
   "metadata": {
    "id": "CyvJsxC0DxLp"
   },
   "source": [
    "Para crear una nueva instancia de una clase:"
   ]
  },
  {
   "cell_type": "code",
   "execution_count": null,
   "metadata": {
    "id": "WgUdyalvDxLp"
   },
   "outputs": [],
   "source": [
    "p1 = Point(0, 0)\n",
    "\n",
    "# esto invoca el método  __init__ en la clase Point\n",
    "\n",
    "print(p1)         # esto invoca el método __str__"
   ]
  },
  {
   "cell_type": "markdown",
   "metadata": {
    "id": "t9l-KhufDxLp"
   },
   "source": [
    "Para invocar un método de la  clase en la instancia `p` de dicha clase:"
   ]
  },
  {
   "cell_type": "code",
   "execution_count": null,
   "metadata": {
    "id": "E11Y-UXWDxLp"
   },
   "outputs": [],
   "source": [
    "p2 = Point(1, 1)\n",
    "\n",
    "p1.translate(0.25, 1.5)\n",
    "\n",
    "print(p1)\n",
    "print(p2)"
   ]
  },
  {
   "cell_type": "markdown",
   "metadata": {
    "id": "rTXD2AvpDxLp"
   },
   "source": [
    "Nótese que la llamada a un método de la clase puede modificar de hecho esa particular instancia del objeto en cuestión, pero no tiene efecto sobre cualquier otra instancia de la clase, ni tampoco sobre cualquier otra variable global que se estuviera usando en ese momento.\n",
    "\n",
    "Esta es una de las convenientes propiedades que tiene el diseño orientado a objetos: programar funciones y variables relacionadas que son agrupadas en entidades separadas e independientes."
   ]
  },
  {
   "cell_type": "markdown",
   "metadata": {
    "id": "luBmxgnJDxLp"
   },
   "source": [
    "## Módulos"
   ]
  },
  {
   "cell_type": "markdown",
   "metadata": {
    "id": "USsc7fhuDxLp"
   },
   "source": [
    "Uno de los conceptos más importantes en este tipo de programación es la reutilización de código para evitar repeticiones.\n",
    "\n",
    "La idea es escribir funciones y clases con un propósito y objetivo bien definido, y reutilizarlas siempre que un código similar se necesite en una parte diferente del programa (programación modular). El resultado en general suele ser una gran mejora en el buen mantenimiento e interpretación del código, que en la práctica supone que nuestro programa tendrá menos errores (\"bugs\" en inglés), y será más fácil de depurar y extender.\n",
    "\n",
    "Python soporta este tipo de programación modular a diferentes niveles. Funciones y clases son ejemplos de herramientas para una programción modular de bajo nivel. Por otro lado, los módulos de Python son otra construcción de más alto nivel para este tipo de programación. En estos módulos recolectamos variables relacionadas, funciones y clases en un determinado módulo. Así pues un módulo de Python se define en un fichero de python (con la extensión `.py`), de manera que puede ser accesible a  otros módulos y programas de Python usando la sentencia `import`.\n",
    "\n",
    "Considere el ejemplo siguiente: el fichero `mimodulo.py` contiene un simple  ejemplo de implementación de una variable, una función y una clase:"
   ]
  },
  {
   "cell_type": "code",
   "execution_count": null,
   "metadata": {
    "id": "FpjrQtHGDxLp"
   },
   "outputs": [],
   "source": [
    "%%file mimodulo.py\n",
    "\"\"\"\n",
    "Ejemplo de modulo python. Contiene una variable llamada mi_variable,\n",
    "una funcion llamada mi_funcion, y una clase llamada MiClase.\n",
    "\"\"\"\n",
    "\n",
    "mi_variable = 0\n",
    "\n",
    "def mi_funcion():\n",
    "    \"\"\"\n",
    "    Ejemplo de funcion\n",
    "    \"\"\"\n",
    "    return mi_variable\n",
    "\n",
    "class MiClase:\n",
    "    \"\"\"\n",
    "    Ejemplo de clase.\n",
    "    \"\"\"\n",
    "\n",
    "    def __init__(self):\n",
    "        self.variable = mi_variable\n",
    "\n",
    "    def set_variable(self, nuevo_valor):\n",
    "        u\"\"\"\n",
    "        Le da a  self.variable un nuevo valor\n",
    "        \"\"\"\n",
    "        self.variable = nuevo_valor\n",
    "\n",
    "    def get_variable(self):\n",
    "        return self.variable"
   ]
  },
  {
   "cell_type": "markdown",
   "metadata": {
    "id": "QyHqvLSgDxLp"
   },
   "source": [
    "Ahora ya podemos importar el módulo `mimodulo` en cualquiera de nuestros programas Python usando `import`:"
   ]
  },
  {
   "cell_type": "code",
   "execution_count": null,
   "metadata": {
    "id": "89oeX3hZDxLp"
   },
   "outputs": [],
   "source": [
    "import mimodulo"
   ]
  },
  {
   "cell_type": "markdown",
   "metadata": {
    "id": "qVdMSqvnDxLp"
   },
   "source": [
    "Usamos `help(modulo)` para obtener un resumen de lo que nos proporciona dicho modulo:"
   ]
  },
  {
   "cell_type": "code",
   "execution_count": null,
   "metadata": {
    "id": "fgsHwHqLDxLp"
   },
   "outputs": [],
   "source": [
    "help(mimodulo)"
   ]
  },
  {
   "cell_type": "code",
   "execution_count": null,
   "metadata": {
    "id": "Fqe5l-bZDxLq"
   },
   "outputs": [],
   "source": [
    "mimodulo.mi_variable"
   ]
  },
  {
   "cell_type": "code",
   "execution_count": null,
   "metadata": {
    "id": "lXBUOQC-DxLq"
   },
   "outputs": [],
   "source": [
    "mimodulo.mi_funcion()"
   ]
  },
  {
   "cell_type": "code",
   "execution_count": null,
   "metadata": {
    "id": "VsXDBaXsDxLq"
   },
   "outputs": [],
   "source": [
    "mi_clase = mimodulo.MiClase()\n",
    "mi_clase.set_variable(10)\n",
    "mi_clase.get_variable()"
   ]
  },
  {
   "cell_type": "markdown",
   "metadata": {
    "id": "3gamWD7KDxLq"
   },
   "source": [
    "Si en cualquier momento efectuamos cambios en el código de `mimodulo.py`, necesitaremos volver a cargar dicho módulo usando la orden `reload` del paquete importlib:"
   ]
  },
  {
   "cell_type": "code",
   "execution_count": null,
   "metadata": {
    "id": "xIbWWJepDxLq"
   },
   "outputs": [],
   "source": [
    "import importlib\n",
    "importlib.reload(mimodulo)  # funciona sólo con python 3"
   ]
  },
  {
   "cell_type": "markdown",
   "metadata": {
    "id": "cyAmE3UTDxLq"
   },
   "source": [
    "## Excepciones"
   ]
  },
  {
   "cell_type": "markdown",
   "metadata": {
    "id": "4BHzAPsEDxLq"
   },
   "source": [
    "En Python los errores pueden y deberíann ser manejados con un lenguaje especial construido expresamente para tal efecto  y denominado \"Exceptions\". Así pues, cuando ocurre algún error se generan las denominadas excepciones, que pueden interrumpir el flujo normal del programa y llevarnos a otro punto concreto del código donde se han definido convenientemente otras sentencias para tratar estas excepciones."
   ]
  },
  {
   "cell_type": "markdown",
   "metadata": {
    "id": "inSMkPKyDxLq"
   },
   "source": [
    "Para generar una de estas excepciones podemos usar la sentencia `raise`, que toma un argumento que debe ser una instancia de la clase `BaseException` o cierta clase derivada de esta."
   ]
  },
  {
   "cell_type": "code",
   "execution_count": null,
   "metadata": {
    "id": "rOAWUTqNDxLq"
   },
   "outputs": [],
   "source": [
    "# raise Exception(\"descripción del error\")"
   ]
  },
  {
   "cell_type": "markdown",
   "metadata": {
    "id": "je1Rnz9fDxLq"
   },
   "source": [
    "Un uso típico de una de tales excepciones es abortar ciertas funciones cuando ocurre alguna condición de error, por ejemplo:\n",
    "\n",
    "```python\n",
    "    def mi_funcion(argumentos):\n",
    "    \n",
    "        if not verify(argumentos):\n",
    "            raise Exception(\"Argumentos invalidos\")\n",
    "        \n",
    "        # aquí iría el resto del código\n",
    "```"
   ]
  },
  {
   "cell_type": "markdown",
   "metadata": {
    "id": "9j5Zs-10DxLq"
   },
   "source": [
    "Para captar errores generados por ciertas funciones y métodos de clases, o por el propio intérprete de Python, use las órdenes `try` y  `except`:\n",
    "\n",
    "```python\n",
    "    try:\n",
    "        # aquí iría el código normal\n",
    "    except:\n",
    "        # aquí iría el código para tratar de solucionar el error\n",
    "        # este código no se ejecutaría si no tiene lugar\n",
    "        # el error generado más arrriba\n",
    "```\n",
    "\n",
    "Por ejemplo:"
   ]
  },
  {
   "cell_type": "code",
   "execution_count": 80,
   "metadata": {
    "id": "meAYr-jpDxLq"
   },
   "outputs": [
    {
     "name": "stdout",
     "output_type": "stream",
     "text": [
      "valor de la variable waka\n",
      "Una excepción ha sido capturada:\n",
      "parece ser que esta variable no está aún asignada\n"
     ]
    }
   ],
   "source": [
    "try:\n",
    "    print(\"valor de la variable waka\")\n",
    "    # genera un error: la variable waka no está definida\n",
    "    print(waka)\n",
    "except:\n",
    "    print(\"Una excepción ha sido capturada:\")\n",
    "    print(\"parece ser que esta variable no está aún asignada\")"
   ]
  },
  {
   "cell_type": "markdown",
   "metadata": {
    "id": "oWh-h7RFDxLq"
   },
   "source": [
    "Para obtener información acerca del error, podemos acceder a la instancia e la clase `Exception` que describe la excepción usando por ejemplo:\n",
    "\n",
    "    except Exception as e:"
   ]
  },
  {
   "cell_type": "code",
   "execution_count": 81,
   "metadata": {
    "id": "m07Mrn_DDxLq"
   },
   "outputs": [
    {
     "name": "stdout",
     "output_type": "stream",
     "text": [
      "waka\n",
      "Excepción capturada:  name 'waka' is not defined\n"
     ]
    }
   ],
   "source": [
    "try:\n",
    "    print(\"waka\")\n",
    "    # genera un error: la variable test no está definida\n",
    "    print(waka)\n",
    "except Exception as e:\n",
    "    print(\"Excepción capturada:  \" + str(e))"
   ]
  },
  {
   "cell_type": "markdown",
   "metadata": {
    "id": "rzzPXnkADxLq"
   },
   "source": [
    "## Lecturas adicionales"
   ]
  },
  {
   "cell_type": "markdown",
   "metadata": {
    "id": "cgS0SUUYDxLq"
   },
   "source": [
    "* http://www.python.org - La página oficial del lenguaje de programación Python.\n",
    "* http://www.python.org/dev/peps/pep-0008 - Una guía de estilo para la programación con Python. Muy recomendada.\n",
    "* https://greenteapress.com/wp/think-python-3rd-edition/ - Un libro gratis sobre programación con Python."
   ]
  }
 ],
 "metadata": {
  "anaconda-cloud": {},
  "colab": {
   "provenance": []
  },
  "kernelspec": {
   "display_name": "Python 3 (ipykernel)",
   "language": "python",
   "name": "python3"
  },
  "language_info": {
   "codemirror_mode": {
    "name": "ipython",
    "version": 3
   },
   "file_extension": ".py",
   "mimetype": "text/x-python",
   "name": "python",
   "nbconvert_exporter": "python",
   "pygments_lexer": "ipython3",
   "version": "3.12.3"
  }
 },
 "nbformat": 4,
 "nbformat_minor": 1
}
