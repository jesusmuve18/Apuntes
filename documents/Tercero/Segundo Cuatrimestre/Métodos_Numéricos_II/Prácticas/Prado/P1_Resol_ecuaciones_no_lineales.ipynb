{
 "cells": [
  {
   "cell_type": "markdown",
   "metadata": {
    "id": "nPgcEXwmcp-T"
   },
   "source": [
    "# Resolución numérica de ecuaciones no lineales\n",
    "\n",
    "Autor de esta versión: **Juan Antonio Villegas Recio**\n",
    "\n",
    "Autor de la versión original: Pedro González Rodelas\n",
    "\n",
    "Fecha de la primera versión: 10/08/2017\n",
    "\n",
    "Sucesivas revisiones: 15/08/2017, 19/10/2018, 15,22/03/2020 y 20/04/2020, 24/03/2021\n",
    "\n",
    "Fecha de la última revisión: 10/4/2025\n",
    "\n",
    "Notebook adaptado y extendido a partir del notebook original realizado con Mathematica e incluido en el libro: \"*Análisis Numérico con Mathematica*\" de Ariel Ciencia"
   ]
  },
  {
   "cell_type": "markdown",
   "metadata": {
    "id": "8mY_XmOUcp-V"
   },
   "source": [
    "En esta práctica vamos a usar varios procedimientos computacionales ya implementados en alguno de los módulos o librerías de Python, así como revisar e implementar nosotros mismos otros métodos numéricos varios para calcular o aproximar las raíces, también llamados ceros, de una cierta función $f(x)$ en un intervalo $[a,b]$ de la recta real."
   ]
  },
  {
   "cell_type": "markdown",
   "metadata": {
    "id": "fB_d-EDgcp-V"
   },
   "source": [
    "## 1. Carga de los módulos y funciones empleadas 🔨"
   ]
  },
  {
   "cell_type": "markdown",
   "metadata": {
    "id": "9XMSSbZScp-V"
   },
   "source": [
    "Antes de empezar a realizar cualquier cálculo numérico o simbólico debemos de cargar los correspondientes módulos de Python que implementan la mayoría de funciones y procedimientos necesarios para ello: [`numpy`](https://numpy.org/) y [`sympy`](https://www.sympy.org/), que serán cargados con los pseudónimos `np` y `sp`, respectivamente. Además cargaremos también el submódulo `pyplot`, del paquete [`matplotlib`](https://matplotlib.org/), que nos permitirá realizar las representaciones gráficas que nos ayudarán a visualizar todo el proceso."
   ]
  },
  {
   "cell_type": "code",
   "execution_count": 1,
   "metadata": {
    "colab": {
     "base_uri": "https://localhost:8080/"
    },
    "executionInfo": {
     "elapsed": 10982,
     "status": "ok",
     "timestamp": 1745347113799,
     "user": {
      "displayName": "juan_antonio VILLEGAS RECIO",
      "userId": "07002128450319972745"
     },
     "user_tz": -120
    },
    "id": "_B44W0p-UZQu",
    "outputId": "9a9db233-3e60-42b8-a7cf-866b06494a1b"
   },
   "outputs": [
    {
     "data": {
      "text/plain": [
       "Context(prec=28, rounding=ROUND_HALF_EVEN, Emin=-999999, Emax=999999, capitals=1, clamp=0, flags=[], traps=[InvalidOperation, DivisionByZero, Overflow])"
      ]
     },
     "execution_count": 1,
     "metadata": {},
     "output_type": "execute_result"
    }
   ],
   "source": [
    "# Carga de librerías necesarias\n",
    "import numpy as np\n",
    "from numpy import sign\n",
    "import sympy as sp\n",
    "%matplotlib inline\n",
    "import matplotlib.pyplot as plt\n",
    "\n",
    "from decimal import * # Este módulo nos permitirá trabajar con una precisión determinada\n",
    "getcontext()"
   ]
  },
  {
   "cell_type": "code",
   "execution_count": 2,
   "metadata": {
    "colab": {
     "base_uri": "https://localhost:8080/"
    },
    "executionInfo": {
     "elapsed": 14,
     "status": "ok",
     "timestamp": 1745347115218,
     "user": {
      "displayName": "juan_antonio VILLEGAS RECIO",
      "userId": "07002128450319972745"
     },
     "user_tz": -120
    },
    "id": "NiUBGCvocp-W",
    "outputId": "848bbed8-5d4f-4d62-96ae-7035ebca7561"
   },
   "outputs": [
    {
     "data": {
      "text/plain": [
       "28"
      ]
     },
     "execution_count": 2,
     "metadata": {},
     "output_type": "execute_result"
    }
   ],
   "source": [
    "mporig = getcontext().prec\n",
    "mporig  # Esta sería la precisión con la que se trabaja por defecto"
   ]
  },
  {
   "cell_type": "markdown",
   "metadata": {},
   "source": [
    "## 2. Primeros métodos simbólicos y numéricos de obtención de raíces 🚥"
   ]
  },
  {
   "cell_type": "markdown",
   "metadata": {
    "id": "f1BH49PxUZQw"
   },
   "source": [
    "### 2.1. Primer intento: Obtener las raíces simbólicas 🔣"
   ]
  },
  {
   "cell_type": "markdown",
   "metadata": {
    "collapsed": true,
    "id": "U69eXcPrcp-W"
   },
   "source": [
    "En un primer momento podríamos intentar tratar de obtener simbólicamente la o las posibles raíces. Para trabajo simbólico podemos utilizar el módulo `sympy`. Primero definiremos una variable simbólica usando la función `Symbol` y definiremos la función de la cual queremos conocer su raíz o raíces."
   ]
  },
  {
   "cell_type": "code",
   "execution_count": 3,
   "metadata": {
    "colab": {
     "base_uri": "https://localhost:8080/",
     "height": 38
    },
    "executionInfo": {
     "elapsed": 44,
     "status": "ok",
     "timestamp": 1745347269785,
     "user": {
      "displayName": "juan_antonio VILLEGAS RECIO",
      "userId": "07002128450319972745"
     },
     "user_tz": -120
    },
    "id": "9fQcBVqpcp-X",
    "outputId": "aef5019c-ef25-44e8-81d5-0758fbe2ded2"
   },
   "outputs": [
    {
     "data": {
      "text/latex": [
       "$\\displaystyle x$"
      ],
      "text/plain": [
       "x"
      ]
     },
     "execution_count": 3,
     "metadata": {},
     "output_type": "execute_result"
    }
   ],
   "source": [
    "x = sp.Symbol('x') # Ahora cada vez que usemos x se referirá a la variable simbólica\n",
    "x"
   ]
  },
  {
   "cell_type": "markdown",
   "metadata": {
    "id": "NCM773fmUZQx"
   },
   "source": [
    "Como primer ejemplo, supongamos que queremos conocer las raices de la funcion $f(x)=e^x-3$, $x\\in\\mathbb R$. Como primero vamos a trabajar en simbólico utilizaremos la función `exp` de `sympy`, pero cuidado porque `numpy` también posee una funcion llamada `exp`. La diferencia entre estas dos funciones es que la de `sympy` trabaja en simbólico y la de `numpy` en numérico, aunque los valores en sí son los mismos en ambos casos. Observa las siguientes celdas:"
   ]
  },
  {
   "cell_type": "code",
   "execution_count": 4,
   "metadata": {
    "colab": {
     "base_uri": "https://localhost:8080/"
    },
    "executionInfo": {
     "elapsed": 212,
     "status": "ok",
     "timestamp": 1745347271172,
     "user": {
      "displayName": "juan_antonio VILLEGAS RECIO",
      "userId": "07002128450319972745"
     },
     "user_tz": -120
    },
    "id": "j2g__ULBcp-X",
    "outputId": "2dfe4974-62d1-4744-e1fc-77676958a38d"
   },
   "outputs": [
    {
     "data": {
      "text/plain": [
       "(exp(x) - 3, -3 + E)"
      ]
     },
     "execution_count": 4,
     "metadata": {},
     "output_type": "execute_result"
    }
   ],
   "source": [
    "def fsym(x):\n",
    "    ''' Version simbolica de la función'''\n",
    "    return sp.exp(x)-3\n",
    "\n",
    "fsym(x), fsym(1)"
   ]
  },
  {
   "cell_type": "code",
   "execution_count": 5,
   "metadata": {
    "colab": {
     "base_uri": "https://localhost:8080/"
    },
    "executionInfo": {
     "elapsed": 8,
     "status": "ok",
     "timestamp": 1745347271765,
     "user": {
      "displayName": "juan_antonio VILLEGAS RECIO",
      "userId": "07002128450319972745"
     },
     "user_tz": -120
    },
    "id": "BOmOPlbVcp-X",
    "outputId": "0b4dbeec-c3f6-427c-c8f4-6114dedfc561"
   },
   "outputs": [
    {
     "data": {
      "text/plain": [
       "-0.2817181715409549"
      ]
     },
     "execution_count": 5,
     "metadata": {},
     "output_type": "execute_result"
    }
   ],
   "source": [
    "def fnum(x):\n",
    "    ''' Version numerica de la función'''\n",
    "    return np.exp(x)-3\n",
    "\n",
    "fnum(1) #, fnum(x) # No se puede evaluar la función simbólica en este caso"
   ]
  },
  {
   "cell_type": "code",
   "execution_count": 6,
   "metadata": {
    "executionInfo": {
     "elapsed": 8,
     "status": "ok",
     "timestamp": 1745347272577,
     "user": {
      "displayName": "juan_antonio VILLEGAS RECIO",
      "userId": "07002128450319972745"
     },
     "user_tz": -120
    },
    "id": "l9vKCAEocp-X"
   },
   "outputs": [],
   "source": [
    "# De momento nos quedamos con la versión simbólica de la función\n",
    "f = fsym"
   ]
  },
  {
   "cell_type": "code",
   "execution_count": 7,
   "metadata": {
    "colab": {
     "base_uri": "https://localhost:8080/"
    },
    "executionInfo": {
     "elapsed": 18,
     "status": "ok",
     "timestamp": 1745347273241,
     "user": {
      "displayName": "juan_antonio VILLEGAS RECIO",
      "userId": "07002128450319972745"
     },
     "user_tz": -120
    },
    "id": "iO3mwDZIcp-X",
    "outputId": "96b819a5-f6c8-4090-95df-6b66946793d0"
   },
   "outputs": [
    {
     "data": {
      "text/plain": [
       "(-2, -3 + exp(2))"
      ]
     },
     "execution_count": 7,
     "metadata": {},
     "output_type": "execute_result"
    }
   ],
   "source": [
    "a, b = 0, 2 # Intervalo de búsqueda de la raíz\n",
    "f(a),f(b) # Evaluamos la función en los extremos del intervalo"
   ]
  },
  {
   "cell_type": "code",
   "execution_count": 8,
   "metadata": {
    "colab": {
     "base_uri": "https://localhost:8080/"
    },
    "executionInfo": {
     "elapsed": 16,
     "status": "ok",
     "timestamp": 1745347273793,
     "user": {
      "displayName": "juan_antonio VILLEGAS RECIO",
      "userId": "07002128450319972745"
     },
     "user_tz": -120
    },
    "id": "5BTThGBscp-X",
    "outputId": "c5c60e24-0f47-4ad1-abc1-8143a6df5739"
   },
   "outputs": [
    {
     "data": {
      "text/plain": [
       "-1"
      ]
     },
     "execution_count": 8,
     "metadata": {},
     "output_type": "execute_result"
    }
   ],
   "source": [
    "# Observamos el signo de la función en los extremos del intervalo\n",
    "sign(f(a)*f(b))"
   ]
  },
  {
   "cell_type": "markdown",
   "metadata": {
    "id": "cmyUDNjWUZQy"
   },
   "source": [
    "Como la función es continua y derivable en $[0,2]$ y ademas tiene signo distinto en los extremos, entonces sabemos a ciencia cierta, por el teorema de Bolzano, que existe al menos una raíz en dicho intervalo.\n",
    "\n",
    "A continuación usamos la funcion `sp.plot` para representar la función en el intervalo deseado."
   ]
  },
  {
   "cell_type": "code",
   "execution_count": 9,
   "metadata": {
    "colab": {
     "base_uri": "https://localhost:8080/",
     "height": 504
    },
    "executionInfo": {
     "elapsed": 728,
     "status": "ok",
     "timestamp": 1745347276720,
     "user": {
      "displayName": "juan_antonio VILLEGAS RECIO",
      "userId": "07002128450319972745"
     },
     "user_tz": -120
    },
    "id": "Hm_R9Zsrcp-X",
    "outputId": "93c5fad1-ece8-481a-a4f7-b257f599f229"
   },
   "outputs": [
    {
     "data": {
      "image/png": "[encoded data removed]",
      "text/plain": [
       "<Figure size 640x480 with 1 Axes>"
      ]
     },
     "metadata": {},
     "output_type": "display_data"
    },
    {
     "data": {
      "text/plain": [
       "<sympy.plotting.plot.Plot at 0x74392aa21610>"
      ]
     },
     "execution_count": 9,
     "metadata": {},
     "output_type": "execute_result"
    }
   ],
   "source": [
    "sp.plot(f(x),(x,a,b))"
   ]
  },
  {
   "cell_type": "markdown",
   "metadata": {
    "id": "hnbv05iyUZQz"
   },
   "source": [
    "En efecto hay una raíz. En este caso concreto podemos usar la función `sp.solve` para obtenerla."
   ]
  },
  {
   "cell_type": "code",
   "execution_count": 10,
   "metadata": {
    "colab": {
     "base_uri": "https://localhost:8080/"
    },
    "executionInfo": {
     "elapsed": 193,
     "status": "ok",
     "timestamp": 1745347290812,
     "user": {
      "displayName": "juan_antonio VILLEGAS RECIO",
      "userId": "07002128450319972745"
     },
     "user_tz": -120
    },
    "id": "oPrk8o1fcp-X",
    "outputId": "c0ce2d8a-589b-409f-e0cc-e2a2a0b46e21"
   },
   "outputs": [
    {
     "name": "stdout",
     "output_type": "stream",
     "text": [
      "log(3)\n"
     ]
    }
   ],
   "source": [
    "sol_exact = sp.solve(f(x),x)[0] # Solución exacta de la ecuación f(x)=0\n",
    "print(sol_exact)"
   ]
  },
  {
   "cell_type": "code",
   "execution_count": 11,
   "metadata": {
    "colab": {
     "base_uri": "https://localhost:8080/",
     "height": 37
    },
    "executionInfo": {
     "elapsed": 30,
     "status": "ok",
     "timestamp": 1745347299063,
     "user": {
      "displayName": "juan_antonio VILLEGAS RECIO",
      "userId": "07002128450319972745"
     },
     "user_tz": -120
    },
    "id": "kNEitSeicp-X",
    "outputId": "18c074ad-23da-43a7-9aec-2281a8d753d5"
   },
   "outputs": [
    {
     "data": {
      "text/latex": [
       "$\\displaystyle 1.09861228866811$"
      ],
      "text/plain": [
       "1.09861228866811"
      ]
     },
     "execution_count": 11,
     "metadata": {},
     "output_type": "execute_result"
    }
   ],
   "source": [
    "sol_exact.evalf()"
   ]
  },
  {
   "cell_type": "markdown",
   "metadata": {
    "id": "3l-NW3-5cp-X"
   },
   "source": [
    "No obstante, es bien sabido que no siempre es posible, ni fácil, encontrar simbólicamente las raíces de ciertas ecuaciones de tipo trascendente o incluso polinómicas de grado superior. Por ello es habitual y más recomendable emplear algún método numérico para aproximar las posibles raíces de las ecuaciones de tipo no lineal. En todo caso, lo primero que tenemos que hacer es estudiar si efectivamente dicha ecuación puede tener soluciones reales y comprobar que se dan las condiciones adecuadas para poder aplicar el método correspondiente. Muchas veces lo mejor será ayudarnos previamente,  siempre que podamos, con una representación gráfica de la función en un intervalo apropiado. De esta manera, la ecuación tendrá una interpretación geométrica muy clara, como la búsqueda de los puntos de corte de la gráfica de dicha función con el eje $OX$."
   ]
  },
  {
   "cell_type": "markdown",
   "metadata": {
    "id": "StrC9vI6UZQ0"
   },
   "source": [
    "### 2.2. Segundo intento: Aproximar las raíces de forma numérica 🔢"
   ]
  },
  {
   "cell_type": "code",
   "execution_count": 12,
   "metadata": {
    "executionInfo": {
     "elapsed": 48,
     "status": "ok",
     "timestamp": 1745347389856,
     "user": {
      "displayName": "juan_antonio VILLEGAS RECIO",
      "userId": "07002128450319972745"
     },
     "user_tz": -120
    },
    "id": "kwlCUed_cp-Y"
   },
   "outputs": [],
   "source": [
    "# ahora nos interesará emplear la versión numérica de la función\n",
    "# por lo que nos convendrá intercambiar la definición de f(x)\n",
    "f = fnum"
   ]
  },
  {
   "cell_type": "markdown",
   "metadata": {
    "id": "-VRY6kqpUZQ0"
   },
   "source": [
    "En el siguiente código definimos un array de `numpy` (que no es lo mismo que una lista convencional) correspondiente a los valores de `num_points` valores reales equiespaciados entre `a` y `b`. Aplicamos la funcion `f` a cada uno de esos valores. Obsérvese que estamos pasando una colección de números como argumento a `f` y no un único valor. Esto es parte de la potencia de `numpy` para el cálculo numérico."
   ]
  },
  {
   "cell_type": "code",
   "execution_count": 13,
   "metadata": {
    "colab": {
     "base_uri": "https://localhost:8080/"
    },
    "executionInfo": {
     "elapsed": 38,
     "status": "ok",
     "timestamp": 1745347391369,
     "user": {
      "displayName": "juan_antonio VILLEGAS RECIO",
      "userId": "07002128450319972745"
     },
     "user_tz": -120
    },
    "id": "RN72rKoKcp-Y",
    "outputId": "d6d94cff-da15-4ebb-e470-49be9d83eaa5"
   },
   "outputs": [
    {
     "data": {
      "text/plain": [
       "(array([0.        , 0.02020202, 0.04040404, 0.06060606, 0.08080808,\n",
       "        0.1010101 , 0.12121212, 0.14141414, 0.16161616, 0.18181818,\n",
       "        0.2020202 , 0.22222222, 0.24242424, 0.26262626, 0.28282828,\n",
       "        0.3030303 , 0.32323232, 0.34343434, 0.36363636, 0.38383838,\n",
       "        0.4040404 , 0.42424242, 0.44444444, 0.46464646, 0.48484848,\n",
       "        0.50505051, 0.52525253, 0.54545455, 0.56565657, 0.58585859,\n",
       "        0.60606061, 0.62626263, 0.64646465, 0.66666667, 0.68686869,\n",
       "        0.70707071, 0.72727273, 0.74747475, 0.76767677, 0.78787879,\n",
       "        0.80808081, 0.82828283, 0.84848485, 0.86868687, 0.88888889,\n",
       "        0.90909091, 0.92929293, 0.94949495, 0.96969697, 0.98989899,\n",
       "        1.01010101, 1.03030303, 1.05050505, 1.07070707, 1.09090909,\n",
       "        1.11111111, 1.13131313, 1.15151515, 1.17171717, 1.19191919,\n",
       "        1.21212121, 1.23232323, 1.25252525, 1.27272727, 1.29292929,\n",
       "        1.31313131, 1.33333333, 1.35353535, 1.37373737, 1.39393939,\n",
       "        1.41414141, 1.43434343, 1.45454545, 1.47474747, 1.49494949,\n",
       "        1.51515152, 1.53535354, 1.55555556, 1.57575758, 1.5959596 ,\n",
       "        1.61616162, 1.63636364, 1.65656566, 1.67676768, 1.6969697 ,\n",
       "        1.71717172, 1.73737374, 1.75757576, 1.77777778, 1.7979798 ,\n",
       "        1.81818182, 1.83838384, 1.85858586, 1.87878788, 1.8989899 ,\n",
       "        1.91919192, 1.93939394, 1.95959596, 1.97979798, 2.        ]),\n",
       " array([-2.        , -1.97959254, -1.95876861, -1.93751972, -1.9158372 ,\n",
       "        -1.89371218, -1.87113566, -1.8480984 , -1.82459101, -1.8006039 ,\n",
       "        -1.77612727, -1.75115113, -1.7256653 , -1.69965936, -1.67312271,\n",
       "        -1.64604451, -1.61841371, -1.59021904, -1.56144899, -1.53209182,\n",
       "        -1.50213553, -1.47156792, -1.4403765 , -1.40854854, -1.37607106,\n",
       "        -1.34293079, -1.30911421, -1.27460753, -1.23939664, -1.2034672 ,\n",
       "        -1.16680452, -1.12939366, -1.09121933, -1.05226596, -1.01251765,\n",
       "        -0.97195818, -0.93057099, -0.8883392 , -0.84524556, -0.80127249,\n",
       "        -0.75640204, -0.7106159 , -0.66389538, -0.61622142, -0.56757455,\n",
       "        -0.51793492, -0.46728227, -0.41559592, -0.3628548 , -0.30903736,\n",
       "        -0.25412164, -0.19808523, -0.14090526, -0.08255839, -0.02302081,\n",
       "         0.03773178,  0.09972417,  0.16298168,  0.22753011,  0.2933958 ,\n",
       "         0.36060565,  0.42918709,  0.49916809,  0.57057723,  0.64344365,\n",
       "         0.71779709,  0.79366789,  0.87108703,  0.95008609,  1.03069732,\n",
       "         1.11295363,  1.19688857,  1.28253642,  1.36993212,  1.45911134,\n",
       "         1.55011049,  1.64296669,  1.73771786,  1.83440266,  1.93306055,\n",
       "         2.03373179,  2.13645748,  2.24127955,  2.34824076,  2.45738478,\n",
       "         2.56875615,  2.68240033,  2.7983637 ,  2.91669359,  3.03743829,\n",
       "         3.16064708,  3.28637026,  3.41465912,  3.54556603,  3.67914442,\n",
       "         3.81544881,  3.95453482,  4.09645923,  4.24127995,  4.3890561 ]))"
      ]
     },
     "execution_count": 13,
     "metadata": {},
     "output_type": "execute_result"
    }
   ],
   "source": [
    "num_points = 100\n",
    "x_values = np.linspace(a,b,num_points)\n",
    "y_values = f(x_values)\n",
    "x_values, y_values # Valores de x e y para graficar la función"
   ]
  },
  {
   "cell_type": "code",
   "execution_count": 14,
   "metadata": {
    "executionInfo": {
     "elapsed": 10,
     "status": "ok",
     "timestamp": 1745347396062,
     "user": {
      "displayName": "juan_antonio VILLEGAS RECIO",
      "userId": "07002128450319972745"
     },
     "user_tz": -120
    },
    "id": "-emEC3q5UZQ0"
   },
   "outputs": [],
   "source": [
    "# Tambien podiamos haber hecho\n",
    "y_values = np.array([f(x) for x in x_values])\n",
    "# o incluso\n",
    "y_values = np.array(list(map(f,x_values))) # Version con map\n",
    "# pero ambas son más lentas que la versión vectorizada"
   ]
  },
  {
   "cell_type": "code",
   "execution_count": 15,
   "metadata": {
    "colab": {
     "base_uri": "https://localhost:8080/",
     "height": 430
    },
    "executionInfo": {
     "elapsed": 347,
     "status": "ok",
     "timestamp": 1745347397283,
     "user": {
      "displayName": "juan_antonio VILLEGAS RECIO",
      "userId": "07002128450319972745"
     },
     "user_tz": -120
    },
    "id": "aWBvoVKBcp-Y",
    "outputId": "f0d0d6ec-eb69-41cb-df4e-58994c7cbbc5"
   },
   "outputs": [
    {
     "data": {
      "text/plain": [
       "[<matplotlib.lines.Line2D at 0x74392a4a7aa0>]"
      ]
     },
     "execution_count": 15,
     "metadata": {},
     "output_type": "execute_result"
    },
    {
     "data": {
      "image/png": "[encoded data removed]",
      "text/plain": [
       "<Figure size 640x480 with 1 Axes>"
      ]
     },
     "metadata": {},
     "output_type": "display_data"
    }
   ],
   "source": [
    "# Graficamos la función utilizando matplotlib\n",
    "plt.plot(x_values,y_values)"
   ]
  },
  {
   "cell_type": "markdown",
   "metadata": {
    "id": "8R2HXEGEcp-Y"
   },
   "source": [
    "Con la ayuda de este gráfico podemos intuir dónde podría estar el punto de corte de dicha gráfica con el eje $Ox$, no obstante convendría ajustar alguna de las opciones por defecto de los gráficos de MatPlotlib con el objeto de poder controlar la posición exacta de los ejes, por ejemplo."
   ]
  },
  {
   "cell_type": "code",
   "execution_count": 16,
   "metadata": {
    "colab": {
     "base_uri": "https://localhost:8080/",
     "height": 423
    },
    "executionInfo": {
     "elapsed": 325,
     "status": "ok",
     "timestamp": 1745347416699,
     "user": {
      "displayName": "juan_antonio VILLEGAS RECIO",
      "userId": "07002128450319972745"
     },
     "user_tz": -120
    },
    "id": "PbXNh7arcp-Y",
    "outputId": "71a5bfec-799e-4115-ee10-7e09fe79966a"
   },
   "outputs": [
    {
     "data": {
      "text/plain": [
       "[<matplotlib.lines.Line2D at 0x743922011700>]"
      ]
     },
     "execution_count": 16,
     "metadata": {},
     "output_type": "execute_result"
    },
    {
     "data": {
      "image/png": "[encoded data removed]",
      "text/plain": [
       "<Figure size 640x480 with 1 Axes>"
      ]
     },
     "metadata": {},
     "output_type": "display_data"
    }
   ],
   "source": [
    "# Con plt.subplots() generamos una instancia de la clase Figure y\n",
    "# una de la clase Axes, que nos permite graficar en ella e incluso incluir\n",
    "# varios gráficos en la misma figura.\n",
    "fig, ax = plt.subplots()\n",
    "\n",
    "# Si queremos evitar que se dibujen los ejes derecho y superior de la figura\n",
    "ax.spines['right'].set_color('none')    # borde derecho\n",
    "ax.spines['top'].set_color('none')      # borde superior\n",
    "\n",
    "# Fijar la posición de las marcas en la parte inferior\n",
    "ax.xaxis.set_ticks_position('bottom')\n",
    "# Situar el eje Ox en la recta horizontal y=0\n",
    "ax.spines['bottom'].set_position(('data',0))\n",
    "\n",
    "\n",
    "# Fijar la posición de las marcas a la izquierda del eje Oy\n",
    "ax.yaxis.set_ticks_position('left')\n",
    "# Situar el eje Oy en la recta vertical x=0\n",
    "ax.spines['left'].set_position(('data',0))\n",
    "\n",
    "# Mostramos el gráfico despues de las modificaciones\n",
    "ax.plot(x_values, y_values)"
   ]
  },
  {
   "cell_type": "markdown",
   "metadata": {
    "id": "UXGIra5ncp-Z"
   },
   "source": [
    "Vemos claramente que esta función posee una raíz, también llamado cero o punto de corte con el eje $Ox$ cerca del valor real $1.0$ y en todo caso comprendido entre los valores $1.0$ y $1.5$. Esta simple idea de ir acotando el cero de una función *continua* entre dos valores reales, entre los cuales se encuentre el punto de corte con el eje $Ox$, podría servirnos para aproximar cada vez más dicho cero o raíz, pudiéndose realizar todo este proceso de manera gráfica, como veremos a continuación."
   ]
  },
  {
   "cell_type": "code",
   "execution_count": 17,
   "metadata": {
    "executionInfo": {
     "elapsed": 62,
     "status": "ok",
     "timestamp": 1745347435733,
     "user": {
      "displayName": "juan_antonio VILLEGAS RECIO",
      "userId": "07002128450319972745"
     },
     "user_tz": -120
    },
    "id": "AvTjQZd7cp-Z"
   },
   "outputs": [],
   "source": [
    "a_1, b_1 = 1.0, 1.5 # Intervalo de búsqueda de la raíz\n",
    "x_values_1 = np.linspace(a_1,b_1,num_points)\n",
    "# y_values_1 = f(x_values_1)\n",
    "y_values_1 = np.array(list(map(f, x_values_1)))"
   ]
  },
  {
   "cell_type": "markdown",
   "metadata": {
    "id": "nafzCM6dUZQ1"
   },
   "source": [
    "El siguiente código muestra el gráfico original con un pequeño subgráfico con zoom alrededor de la raíz."
   ]
  },
  {
   "cell_type": "code",
   "execution_count": 18,
   "metadata": {
    "colab": {
     "base_uri": "https://localhost:8080/",
     "height": 443
    },
    "executionInfo": {
     "elapsed": 365,
     "status": "ok",
     "timestamp": 1745347459627,
     "user": {
      "displayName": "juan_antonio VILLEGAS RECIO",
      "userId": "07002128450319972745"
     },
     "user_tz": -120
    },
    "id": "aGwLVl4Icp-Z",
    "outputId": "33c9c764-63e2-4fd3-fbf0-555db7cde679"
   },
   "outputs": [
    {
     "data": {
      "image/png": "[encoded data removed]",
      "text/plain": [
       "<Figure size 640x480 with 2 Axes>"
      ]
     },
     "metadata": {},
     "output_type": "display_data"
    }
   ],
   "source": [
    "fig = plt.figure()\n",
    "\n",
    "ax1 = fig.add_axes([0.1, 0.1, 0.8, 0.8]) # Ejes principales, https://www.geeksforgeeks.org/matplotlib-figure-figure-add_axes-in-python/\n",
    "ax2 = fig.add_axes([0.2, 0.5, 0.4, 0.3]) # Ejes insertados\n",
    "\n",
    "ax1.spines['right'].set_color('none')\n",
    "ax1.spines['top'].set_color('none')\n",
    "ax1.xaxis.set_ticks_position('bottom')\n",
    "ax1.spines['bottom'].set_position(('data',0))\n",
    "ax1.yaxis.set_ticks_position('left')\n",
    "ax1.spines['left'].set_position(('data',0))\n",
    "\n",
    "ax2.spines['right'].set_color('none')\n",
    "ax2.spines['top'].set_color('none')\n",
    "ax2.xaxis.set_ticks_position('bottom')\n",
    "ax2.spines['bottom'].set_position(('data',0))\n",
    "ax2.yaxis.set_ticks_position('left')\n",
    "# ax2.spines['left'].set_position(('data',0))\n",
    "\n",
    "# Figura principal\n",
    "ax1.plot(x_values, y_values, 'b')\n",
    "ax1.set_xlabel('x')\n",
    "ax1.set_ylabel('y')\n",
    "ax1.set_title('Grafica inicial en azul')\n",
    "\n",
    "# Subfigura insertada\n",
    "ax2.plot(x_values_1, y_values_1, 'g')\n",
    "ax2.set_xlabel('x')\n",
    "ax2.set_ylabel('y')\n",
    "ax2.set_title('Zoom alrededor de la raíz');"
   ]
  },
  {
   "cell_type": "markdown",
   "metadata": {
    "id": "bRPGrhdwcp-f"
   },
   "source": [
    "Repitamos el proceso varias veces, hasta que consigamos acotar el cero de esta misma función, con un error inferior a una milésima por ejemplo, modificando convenientemente los límites $a_1$ y $b_1$ del subintervalo considerado para representar solamente un zoom de su gráfica inicial en el subintervalo adecuado."
   ]
  },
  {
   "cell_type": "code",
   "execution_count": 19,
   "metadata": {
    "executionInfo": {
     "elapsed": 55,
     "status": "ok",
     "timestamp": 1745347487546,
     "user": {
      "displayName": "juan_antonio VILLEGAS RECIO",
      "userId": "07002128450319972745"
     },
     "user_tz": -120
    },
    "id": "gLp8Xj97cp-f"
   },
   "outputs": [],
   "source": [
    "a_2, b_2 = 1.098, 1.099\n",
    "x_values_2 = np.linspace(a_2,b_2,num_points)\n",
    "y_values_2 = f(x_values_2)\n",
    "y_values_2 = np.array(list(map(f, x_values_2)))"
   ]
  },
  {
   "cell_type": "code",
   "execution_count": 20,
   "metadata": {
    "colab": {
     "base_uri": "https://localhost:8080/",
     "height": 448
    },
    "executionInfo": {
     "elapsed": 150,
     "status": "ok",
     "timestamp": 1745347490882,
     "user": {
      "displayName": "juan_antonio VILLEGAS RECIO",
      "userId": "07002128450319972745"
     },
     "user_tz": -120
    },
    "id": "t92eSI4lcp-f",
    "outputId": "f5302999-de3d-46dc-ab6c-25b7399ef4c3"
   },
   "outputs": [
    {
     "data": {
      "text/plain": [
       "[<matplotlib.lines.Line2D at 0x7439220eae40>]"
      ]
     },
     "execution_count": 20,
     "metadata": {},
     "output_type": "execute_result"
    },
    {
     "data": {
      "image/png": "[encoded data removed]",
      "text/plain": [
       "<Figure size 640x480 with 1 Axes>"
      ]
     },
     "metadata": {},
     "output_type": "display_data"
    }
   ],
   "source": [
    "fig, ax = plt.subplots()\n",
    "ax.spines['right'].set_color('none')\n",
    "ax.spines['top'].set_color('none')\n",
    "ax.xaxis.set_ticks_position('bottom')\n",
    "# ax.spines['bottom'].set_position(('data',0))\n",
    "ax.yaxis.set_ticks_position('left')\n",
    "ax.plot(x_values_2, y_values_2)"
   ]
  },
  {
   "cell_type": "markdown",
   "metadata": {
    "id": "YzsakPYecp-f"
   },
   "source": [
    "Esta misma idea también es la base de otros métodos numéricos. En todos ellos partimos de que se dan las hipótesis del conocido teorema de Bolzano para la función $f$ en cierto intervalo de su dominio de definición; esto es, continuidad en dicho intervalo y cambio de signo para los valores de la función en los extremos del mismo. Así podremos  tener asegurada la existencia de al menos una raíz de la ecuación $f(x)=0$ en dicho intervalo.\n",
    "\n",
    "En esta misma idea se basan los denominados métodos de *bisección* y el de *regula-falsi*, que chequean en todo momento que el preceptivo cambio de signo entre los valores de la función en los extremos del subintervalo considerado en cada iteración del método sigue teniendo lugar."
   ]
  },
  {
   "cell_type": "markdown",
   "metadata": {
    "id": "_fukTWkdcp-f"
   },
   "source": [
    "### 2.3. Método de búsqueda incremental 🔍📈"
   ]
  },
  {
   "cell_type": "markdown",
   "metadata": {
    "id": "qcJfMvfzcp-f"
   },
   "source": [
    "Por otra parte, el denominado *método de búsqueda incremental* también va chequeando valores de la función continua en puntos sucesivos $x_i < x_{i+1} = x_i + \\Delta x $ para un cierto valor adecuado del incremento $\\Delta x > 0$. De manera que , si la función tiene ceros en el intervalo de partida y elegimos adecuadamente este valor del incremento, podremos localizar y aislar al menos algunos de ellos con este rudimentario procedimiento, aunque por supuesto que también adolece de algún que otro inconveniente:\n",
    "* Es posible que pasemos por alto sin detectar varios ceros demasiado próximos, si el incremento $\\Delta x$ no es lo suficientemente pequeño.\n",
    "* Las raíces dobles (ceros que coinciden) no serán detectadas por este tipo de procedimientos, ya que no necesariamente involucran cambio de signo.\n",
    "* Ciertas singularidades o discontinuidades de la función pueden dar lugar a incongruencias o falsos ceros, si no se verifica previamente la continuidad de la función en los subintervalos considerados."
   ]
  },
  {
   "cell_type": "markdown",
   "metadata": {
    "id": "z6xuzjH7cp-f"
   },
   "source": [
    "Veámos a continuación una posible implementación en forma de módulo o función de este sencillo procedimiento."
   ]
  },
  {
   "cell_type": "code",
   "execution_count": 21,
   "metadata": {
    "executionInfo": {
     "elapsed": 8,
     "status": "ok",
     "timestamp": 1745347598176,
     "user": {
      "displayName": "juan_antonio VILLEGAS RECIO",
      "userId": "07002128450319972745"
     },
     "user_tz": -120
    },
    "id": "-EFzzoVecp-f"
   },
   "outputs": [],
   "source": [
    "def busqueda_incremental(f,a,b,dx):\n",
    "    x1, x2 = a, a + dx\n",
    "    f1, f2 = f(x1), f(x2)\n",
    "    while np.sign(f1) == np.sign(f2):\n",
    "        if x1 >= b:\n",
    "            return None,None   # se podría cambiar por x2 >= b\n",
    "        x1, x2 = x2, x2 + dx\n",
    "        f1, f2 = f2, f(x2)\n",
    "    else: # si no se cumple la condición del while\n",
    "        return x1,x2"
   ]
  },
  {
   "cell_type": "code",
   "execution_count": 87,
   "metadata": {
    "executionInfo": {
     "elapsed": 33,
     "status": "ok",
     "timestamp": 1745347599319,
     "user": {
      "displayName": "juan_antonio VILLEGAS RECIO",
      "userId": "07002128450319972745"
     },
     "user_tz": -120
    },
    "id": "PjRQPjgmcp-g"
   },
   "outputs": [
    {
     "name": "stdout",
     "output_type": "stream",
     "text": [
      "\u001b[0;31mSignature:\u001b[0m \u001b[0mf\u001b[0m\u001b[0;34m(\u001b[0m\u001b[0mx\u001b[0m\u001b[0;34m)\u001b[0m\u001b[0;34m\u001b[0m\u001b[0;34m\u001b[0m\u001b[0m\n",
      "\u001b[0;31mDocstring:\u001b[0m <no docstring>\n",
      "\u001b[0;31mFile:\u001b[0m      /tmp/ipykernel_14114/2745055007.py\n",
      "\u001b[0;31mType:\u001b[0m      function"
     ]
    }
   ],
   "source": [
    "# recordemos qué función tenemos definida en este momento\n",
    "?f"
   ]
  },
  {
   "cell_type": "code",
   "execution_count": 23,
   "metadata": {
    "colab": {
     "base_uri": "https://localhost:8080/"
    },
    "executionInfo": {
     "elapsed": 66,
     "status": "ok",
     "timestamp": 1745347608914,
     "user": {
      "displayName": "juan_antonio VILLEGAS RECIO",
      "userId": "07002128450319972745"
     },
     "user_tz": -120
    },
    "id": "NWd679kQcp-g",
    "outputId": "6f12a946-647c-4c45-a275-ee93143bf331"
   },
   "outputs": [
    {
     "data": {
      "text/plain": [
       "(0, 2)"
      ]
     },
     "execution_count": 23,
     "metadata": {},
     "output_type": "execute_result"
    }
   ],
   "source": [
    "a,b # así como el intervalo del que partíamos"
   ]
  },
  {
   "cell_type": "code",
   "execution_count": 24,
   "metadata": {
    "colab": {
     "base_uri": "https://localhost:8080/"
    },
    "executionInfo": {
     "elapsed": 31,
     "status": "ok",
     "timestamp": 1745347609655,
     "user": {
      "displayName": "juan_antonio VILLEGAS RECIO",
      "userId": "07002128450319972745"
     },
     "user_tz": -120
    },
    "id": "u8E8N-_Tcp-g",
    "outputId": "e66222eb-6f9f-4591-8c52-03ed9089b881"
   },
   "outputs": [
    {
     "data": {
      "text/plain": [
       "True"
      ]
     },
     "execution_count": 24,
     "metadata": {},
     "output_type": "execute_result"
    }
   ],
   "source": [
    "# Comprobamos si la función tiene el mismo signo en los extremos del intervalo\n",
    "np.sign(f(a)) != np.sign(f(b))"
   ]
  },
  {
   "cell_type": "markdown",
   "metadata": {
    "collapsed": true,
    "id": "7hS0Rn8dcp-g"
   },
   "source": [
    "Empecemos realizando ahora una búsqueda incremental con paso de una décima (`dx = 0.1`) y sigamos refinando la búsqueda con pasos correspondientes a una centésima (`dx = 0.01`), una milésima (`dx = 0.001`), etc. Otra idea útil sería tomar como aproximación de la raíz el punto medio de cada uno de los sucesivos intervalos en los que hayamos encajado la misma. Así tendremos asegurado que el error cometido será inferior a dicho valor del incremento `dx`."
   ]
  },
  {
   "cell_type": "code",
   "execution_count": 25,
   "metadata": {
    "colab": {
     "base_uri": "https://localhost:8080/"
    },
    "executionInfo": {
     "elapsed": 14,
     "status": "ok",
     "timestamp": 1745347611802,
     "user": {
      "displayName": "juan_antonio VILLEGAS RECIO",
      "userId": "07002128450319972745"
     },
     "user_tz": -120
    },
    "id": "bCHwXZN5cp-g",
    "outputId": "fe80cc44-31b6-48b6-fd3f-5c69dc26a803"
   },
   "outputs": [
    {
     "name": "stdout",
     "output_type": "stream",
     "text": [
      "a1=0.9999999999999999,b1=1.0999999999999999\n",
      "Estimación de la raíz (dx=0.1): 1.0499999999999998\n"
     ]
    }
   ],
   "source": [
    "dx = 0.1\n",
    "a1,b1 = busqueda_incremental(f,a,b,dx) # búsqueda incremental con décimas\n",
    "print(f\"a1={a1},b1={b1}\")\n",
    "print (f\"Estimación de la raíz (dx={dx}): {(a1+b1)/2}\")"
   ]
  },
  {
   "cell_type": "code",
   "execution_count": 26,
   "metadata": {
    "colab": {
     "base_uri": "https://localhost:8080/"
    },
    "executionInfo": {
     "elapsed": 23,
     "status": "ok",
     "timestamp": 1745347620926,
     "user": {
      "displayName": "juan_antonio VILLEGAS RECIO",
      "userId": "07002128450319972745"
     },
     "user_tz": -120
    },
    "id": "GHctZQB9cp-g",
    "outputId": "87b8240e-40b4-44e9-ae54-32f9b678eef0"
   },
   "outputs": [
    {
     "name": "stdout",
     "output_type": "stream",
     "text": [
      "a2=1.0899999999999999,b2=1.0999999999999999\n",
      "Estimación de la raíz (dx=0.01): 1.0949999999999998\n"
     ]
    }
   ],
   "source": [
    "dx = 0.01\n",
    "a2,b2 = busqueda_incremental(f,a1,b1,dx) # búsqueda incremental con centésimas\n",
    "print(f\"a2={a2},b2={b2}\")\n",
    "print (f\"Estimación de la raíz (dx={dx}): {(a2+b2)/2}\")"
   ]
  },
  {
   "cell_type": "code",
   "execution_count": 27,
   "metadata": {
    "colab": {
     "base_uri": "https://localhost:8080/"
    },
    "executionInfo": {
     "elapsed": 6,
     "status": "ok",
     "timestamp": 1745347621974,
     "user": {
      "displayName": "juan_antonio VILLEGAS RECIO",
      "userId": "07002128450319972745"
     },
     "user_tz": -120
    },
    "id": "-ZV1ztxvcp-g",
    "outputId": "60f59d1c-4f7b-4190-adf5-e4a5bcb085b7"
   },
   "outputs": [
    {
     "name": "stdout",
     "output_type": "stream",
     "text": [
      "a3=1.097999999999999,b3=1.0989999999999989\n",
      "Estimación de la raíz (dx=0.001): 1.098499999999999\n"
     ]
    }
   ],
   "source": [
    "dx = 0.001\n",
    "a3,b3 = busqueda_incremental(f,a2,b2,dx) # búsqueda incremental con milésimas\n",
    "print(f\"a3={a3},b3={b3}\")\n",
    "print (f\"Estimación de la raíz (dx={dx}): {(a3+b3)/2}\")"
   ]
  },
  {
   "cell_type": "code",
   "execution_count": 28,
   "metadata": {
    "colab": {
     "base_uri": "https://localhost:8080/"
    },
    "executionInfo": {
     "elapsed": 17,
     "status": "ok",
     "timestamp": 1745340520912,
     "user": {
      "displayName": "juan_antonio VILLEGAS RECIO",
      "userId": "07002128450319972745"
     },
     "user_tz": -120
    },
    "id": "FpBT33NKZnaN",
    "outputId": "502ec7e7-6e6c-4670-9987-ae83a3968b93"
   },
   "outputs": [
    {
     "name": "stdout",
     "output_type": "stream",
     "text": [
      "Valor exacto de la raíz 1.09861228866811\n"
     ]
    }
   ],
   "source": [
    "print(f\"Valor exacto de la raíz {sol_exact.evalf()}\")"
   ]
  },
  {
   "cell_type": "markdown",
   "metadata": {
    "id": "YdD6CJ3Jcp-h"
   },
   "source": [
    "También vamos a guardar dicho procedimiento en un fichero de Python `busqueda_incremental.py` en nuestro directorio de trabajo, por si queremos usarlo posteriormente en una sesión de Python desde la terminal o bien desde cualquier sistema integrado de desarrolo (IDE, de las siglas en inglés)."
   ]
  },
  {
   "cell_type": "code",
   "execution_count": 29,
   "metadata": {
    "colab": {
     "base_uri": "https://localhost:8080/",
     "height": 35
    },
    "executionInfo": {
     "elapsed": 5,
     "status": "ok",
     "timestamp": 1745347644373,
     "user": {
      "displayName": "juan_antonio VILLEGAS RECIO",
      "userId": "07002128450319972745"
     },
     "user_tz": -120
    },
    "id": "m0nYeFElcp-h",
    "outputId": "56afdb61-63f1-4a07-9be2-0ba58bed1add"
   },
   "outputs": [
    {
     "data": {
      "text/plain": [
       "'/home/jesusmuve'"
      ]
     },
     "execution_count": 29,
     "metadata": {},
     "output_type": "execute_result"
    }
   ],
   "source": [
    "%pwd # esta orden de IPython se traduciría en la correspondiente\n",
    "# del sistema operativo que nos muestra dicho directorio de trabajo"
   ]
  },
  {
   "cell_type": "code",
   "execution_count": 30,
   "metadata": {
    "colab": {
     "base_uri": "https://localhost:8080/"
    },
    "executionInfo": {
     "elapsed": 19,
     "status": "ok",
     "timestamp": 1745347645475,
     "user": {
      "displayName": "juan_antonio VILLEGAS RECIO",
      "userId": "07002128450319972745"
     },
     "user_tz": -120
    },
    "id": "6Z02PfiDcp-h",
    "outputId": "4c49e567-0550-464e-9a5a-b0fc7c9cc900"
   },
   "outputs": [
    {
     "name": "stdout",
     "output_type": "stream",
     "text": [
      "Overwriting busqueda_incremental.py\n"
     ]
    }
   ],
   "source": [
    "%%writefile busqueda_incremental.py\n",
    "# -*- coding: UTF-8 -*-\n",
    "## modulo busqueda_incremental\n",
    "'''\n",
    "x1,x2 = busqueda_incremental(f,a,b,dx)\n",
    "buscará dentro del intervalo [a,b] en incrementos de dx una acotación\n",
    "de la forma [x1,x2] de la raíz más pequeña de f(x) en dicho intervalo.\n",
    "Se devolverá x1 = x2 = None en caso de no encontrarse ninguna.\n",
    "'''\n",
    "# global f,a,b,dx\n",
    "\n",
    "def busqueda_incremental(f,a,b,dx):\n",
    "    x1, x2 = a, a + dx\n",
    "    f1, f2 = f(x1), f(x2)\n",
    "    while np.sign(f1) == np.sign(f2):\n",
    "        if x1 >= b:\n",
    "            return None,None   # se podría cambiar por x2 >= b\n",
    "        x1, x2 = x2, x2 + dx\n",
    "        f1, f2 = f2, f(x2)\n",
    "    else: # si no se cumple la condición del while\n",
    "        return x1,x2"
   ]
  },
  {
   "cell_type": "markdown",
   "metadata": {
    "id": "9uQhdoNOcp-h"
   },
   "source": [
    "Por otra parte, en todos y cada uno de los métodos que se presentan a continuación será absolutamente necesario evitar la posibilidad de entrar en un posible \"bucle infinito\", que dejaría bloqueado al programa e incluso al sistema operativo del ordenador en el caso de que no consigamos interrumpir los cálculos."
   ]
  },
  {
   "cell_type": "markdown",
   "metadata": {
    "id": "d-A1i34p8ZEU"
   },
   "source": [
    "### 2.4. Precisión y tolerancia 🎯"
   ]
  },
  {
   "cell_type": "markdown",
   "metadata": {
    "id": "M4PHYWNAcp-h"
   },
   "source": [
    "Tendremos pues que idear unos ciertos criterios de parada, de manera que el proceso se detenga cuando los resultados obtenidos se diferencien en menos de un cierto valor, que será la tolerancia o error máximo permitido, `tol`; o bien, cuando sean realizadas un número máximo de iteraciones, `nmax`, que indicaremos de antemano.\n",
    "\n",
    "Por otro lado, para la comprobación de una posible raíz exacta de la ecuación, se ha implementado una condición del tipo\n",
    "$|f(c)|<\\varepsilon$, siendo $\\varepsilon =10^{-\\sigma }$ con $\\sigma = 16$, que suele ser la precisión de la máquina cuando se trabaja en \"doble precisión\", que es lo habitual en cálculo numérico.\n",
    "\n",
    "Esto es debido a que, a no ser que se efectuaran todos los cálculos de forma simbólica (con la consecuente ralentización del proceso), siempre se realizan con una precisión limitada, y, por lo tanto, hay que considerar de esta manera la posibilidad de encontrar un valor de la raíz, afectado siempre por errores de redondeo, muy próximo a la raíz exacta de la ecuación."
   ]
  },
  {
   "cell_type": "code",
   "execution_count": 31,
   "metadata": {
    "executionInfo": {
     "elapsed": 6,
     "status": "ok",
     "timestamp": 1745347651784,
     "user": {
      "displayName": "juan_antonio VILLEGAS RECIO",
      "userId": "07002128450319972745"
     },
     "user_tz": -120
    },
    "id": "x5Pell2xcp-i"
   },
   "outputs": [],
   "source": [
    "mp = 16                # Máxima precisión\n",
    "getcontext().prec = mp #https://docs.python.org/3/library/decimal.html"
   ]
  },
  {
   "cell_type": "code",
   "execution_count": 32,
   "metadata": {
    "colab": {
     "base_uri": "https://localhost:8080/"
    },
    "executionInfo": {
     "elapsed": 7,
     "status": "ok",
     "timestamp": 1745347652513,
     "user": {
      "displayName": "juan_antonio VILLEGAS RECIO",
      "userId": "07002128450319972745"
     },
     "user_tz": -120
    },
    "id": "gPTjt44bcp-i",
    "outputId": "e18dca54-44fc-48e9-edcb-01dbc7a76d2e"
   },
   "outputs": [
    {
     "data": {
      "text/plain": [
       "1e-16"
      ]
     },
     "execution_count": 32,
     "metadata": {},
     "output_type": "execute_result"
    }
   ],
   "source": [
    "prec = 10**(-mp)\n",
    "prec"
   ]
  },
  {
   "cell_type": "markdown",
   "metadata": {
    "id": "A9FAvFefcp-i"
   },
   "source": [
    "También se ofrece la posibilidad de solicitar que se calculen o simplemente se muestren todos los resultados con un número de cifras significativas determinado por el usuario, que en todo caso debe ser igual o inferior al valor de la  Precision de la Máquina con la que se trabaje."
   ]
  },
  {
   "cell_type": "code",
   "execution_count": 33,
   "metadata": {
    "executionInfo": {
     "elapsed": 2,
     "status": "ok",
     "timestamp": 1745347687096,
     "user": {
      "displayName": "juan_antonio VILLEGAS RECIO",
      "userId": "07002128450319972745"
     },
     "user_tz": -120
    },
    "id": "OuWo6goycp-i"
   },
   "outputs": [],
   "source": [
    "cifras = 5  # Número de cifras con el que queremos calcular\n",
    "getcontext().prec = cifras # y presentar los resultados"
   ]
  },
  {
   "cell_type": "code",
   "execution_count": 34,
   "metadata": {
    "colab": {
     "base_uri": "https://localhost:8080/"
    },
    "executionInfo": {
     "elapsed": 8,
     "status": "ok",
     "timestamp": 1745347694072,
     "user": {
      "displayName": "juan_antonio VILLEGAS RECIO",
      "userId": "07002128450319972745"
     },
     "user_tz": -120
    },
    "id": "Cwod2miwcp-i",
    "outputId": "8eb2c3f5-5dfd-4465-dee2-d66f38edbeea"
   },
   "outputs": [
    {
     "data": {
      "text/plain": [
       "1e-05"
      ]
     },
     "execution_count": 34,
     "metadata": {},
     "output_type": "execute_result"
    }
   ],
   "source": [
    "tol = 10**(-cifras)     # Tolerancia\n",
    "tol"
   ]
  },
  {
   "cell_type": "code",
   "execution_count": 35,
   "metadata": {
    "executionInfo": {
     "elapsed": 3,
     "status": "ok",
     "timestamp": 1745347694524,
     "user": {
      "displayName": "juan_antonio VILLEGAS RECIO",
      "userId": "07002128450319972745"
     },
     "user_tz": -120
    },
    "id": "WG34E43Bcp-i"
   },
   "outputs": [],
   "source": [
    "nmax = 100  # Número máximo de iteraciones"
   ]
  },
  {
   "cell_type": "markdown",
   "metadata": {
    "id": "mDpLS_7Xcp-i"
   },
   "source": [
    "## 3. Algoritmos de resolución numérica de ecuaciones más empleados 💻"
   ]
  },
  {
   "cell_type": "markdown",
   "metadata": {
    "id": "8kviXRZfcp-i"
   },
   "source": [
    "### 3.1. Método de Bisección 🙏"
   ]
  },
  {
   "cell_type": "markdown",
   "metadata": {
    "id": "a0yWUw4x7UIC"
   },
   "source": [
    "Método de bisección: https://es.wikipedia.org/wiki/M%C3%A9todo_de_bisecci%C3%B3n"
   ]
  },
  {
   "cell_type": "markdown",
   "metadata": {
    "id": "6kBqtjLpcp-k"
   },
   "source": [
    "A continuación tenemos la implementación del método de bisección (también llamado de bipartición). Recuerde que cuando se emplee este programa para aproximar una raíz de la ecuación $f(x)=0$ se debe elegir un intervalo de partida adecuado en cada caso, de manera que se verifiquen la hipótesis del teorema de Bolzano."
   ]
  },
  {
   "cell_type": "code",
   "execution_count": 36,
   "metadata": {
    "colab": {
     "base_uri": "https://localhost:8080/"
    },
    "executionInfo": {
     "elapsed": 36,
     "status": "ok",
     "timestamp": 1745347879874,
     "user": {
      "displayName": "juan_antonio VILLEGAS RECIO",
      "userId": "07002128450319972745"
     },
     "user_tz": -120
    },
    "id": "M9abcSh_cp-k",
    "outputId": "74a90160-fcce-454c-c834-9d295857c718"
   },
   "outputs": [
    {
     "data": {
      "text/plain": [
       "(0, 2)"
      ]
     },
     "execution_count": 36,
     "metadata": {},
     "output_type": "execute_result"
    }
   ],
   "source": [
    "# Conviene guardar una copia de los extremos del\n",
    "#  intervalo original, ya que los iremos modificando en cada iteración\n",
    "a0, b0 = a, b\n",
    "a,b"
   ]
  },
  {
   "cell_type": "markdown",
   "metadata": {
    "id": "NNtaDhJxcp-l"
   },
   "source": [
    "Ejecutemos en primer lugar el algoritmo usando la doble precisión habitual de la máquina en coma flotante (usando 64 bits para almacenar los números de la clase `float`), que equivale a trabajar con unas 16 cifras significativas para todos los cálculos."
   ]
  },
  {
   "cell_type": "markdown",
   "metadata": {
    "id": "_AzIK10v6f7p"
   },
   "source": [
    "Primero mostramos el **método de bisección**."
   ]
  },
  {
   "cell_type": "code",
   "execution_count": 37,
   "metadata": {
    "executionInfo": {
     "elapsed": 1,
     "status": "ok",
     "timestamp": 1745347883051,
     "user": {
      "displayName": "juan_antonio VILLEGAS RECIO",
      "userId": "07002128450319972745"
     },
     "user_tz": -120
    },
    "id": "HGvDEWhocp-l"
   },
   "outputs": [],
   "source": [
    "def biseccion(f, a, b, nmax=nmax, tol=tol, prec=prec):\n",
    "    niter = 0\n",
    "    cont = True\n",
    "    exit = ''\n",
    "    while niter < nmax and cont:\n",
    "        niter += 1\n",
    "        c = (a+b)/2\n",
    "        if abs(f(c)) < prec:    # Si |f(c)|< prec\n",
    "            exit = 'precision'\n",
    "            cont = False\n",
    "        elif sign(f(a)) != sign(f(c)):\n",
    "            b = c\n",
    "        else:\n",
    "            a = c\n",
    "\n",
    "        if b-a < tol:\n",
    "            exit = 'tolerancia'\n",
    "            cont = False\n",
    "\n",
    "    if exit == 'precision':\n",
    "        print(f'Posiblemente solución exacta: {c}')\n",
    "    elif exit == 'tolerancia':\n",
    "        print(f'Aproximación solicitada: {c}')\n",
    "    else:\n",
    "        print('Se llegó al número máximo de iteraciones')\n",
    "    return c, niter, exit\n",
    "\n",
    "# evitar usar prints en funciones de cálculo"
   ]
  },
  {
   "cell_type": "code",
   "execution_count": 38,
   "metadata": {
    "colab": {
     "base_uri": "https://localhost:8080/"
    },
    "executionInfo": {
     "elapsed": 20,
     "status": "ok",
     "timestamp": 1745347883985,
     "user": {
      "displayName": "juan_antonio VILLEGAS RECIO",
      "userId": "07002128450319972745"
     },
     "user_tz": -120
    },
    "id": "eRYZP6Spfn-M",
    "outputId": "f5e5916d-51d9-423c-fce6-4e08cc27971e"
   },
   "outputs": [
    {
     "name": "stdout",
     "output_type": "stream",
     "text": [
      "Aproximación solicitada: 1.0986099243164062\n",
      "Solución exacta,  log(3) , con decimales   1.09861228866811\n",
      "Número total de iteraciones  18\n"
     ]
    }
   ],
   "source": [
    "sol_approx, niter, exit = biseccion(f,a,b,nmax,tol,prec)\n",
    "print('Solución exacta, ', sol_exact, \", con decimales  \", sol_exact.evalf() )\n",
    "print('Número total de iteraciones ', niter)"
   ]
  },
  {
   "cell_type": "code",
   "execution_count": 39,
   "metadata": {
    "colab": {
     "base_uri": "https://localhost:8080/"
    },
    "executionInfo": {
     "elapsed": 46,
     "status": "ok",
     "timestamp": 1745347885317,
     "user": {
      "displayName": "juan_antonio VILLEGAS RECIO",
      "userId": "07002128450319972745"
     },
     "user_tz": -120
    },
    "id": "DUfE7F6Ecp-l",
    "outputId": "1530efa8-a0fb-4662-85ae-151c13a326d9"
   },
   "outputs": [
    {
     "data": {
      "text/plain": [
       "(1.0986, 1.0986099243164062, 1.09861228866811)"
      ]
     },
     "execution_count": 39,
     "metadata": {},
     "output_type": "execute_result"
    }
   ],
   "source": [
    "sp.N(sol_approx, cifras), sol_approx, sp.N(sol_exact)"
   ]
  },
  {
   "cell_type": "markdown",
   "metadata": {
    "id": "-TXEUgd5cp-l"
   },
   "source": [
    "Repitamos ahora el mismo algoritmo, pero usando una precisión y número de cifras significativas concreto, indicado por el valor de la variable `cifras`. Para ello convirtamos previamente los valores extremos del intervalo al formato decimal determinado por la precisión que hemos forzado en este caso."
   ]
  },
  {
   "cell_type": "code",
   "execution_count": 40,
   "metadata": {
    "executionInfo": {
     "elapsed": 15,
     "status": "ok",
     "timestamp": 1745347888840,
     "user": {
      "displayName": "juan_antonio VILLEGAS RECIO",
      "userId": "07002128450319972745"
     },
     "user_tz": -120
    },
    "id": "2Ye3t0bGcp-l"
   },
   "outputs": [],
   "source": [
    "a,b = Decimal(a),Decimal(b)"
   ]
  },
  {
   "cell_type": "code",
   "execution_count": 41,
   "metadata": {
    "colab": {
     "base_uri": "https://localhost:8080/"
    },
    "executionInfo": {
     "elapsed": 19,
     "status": "ok",
     "timestamp": 1745347889925,
     "user": {
      "displayName": "juan_antonio VILLEGAS RECIO",
      "userId": "07002128450319972745"
     },
     "user_tz": -120
    },
    "id": "jAie7OGEcp-l",
    "outputId": "e9346b55-09b4-43be-d186-7f37afa5c409"
   },
   "outputs": [
    {
     "data": {
      "text/plain": [
       "(Decimal('0'), Decimal('2'))"
      ]
     },
     "execution_count": 41,
     "metadata": {},
     "output_type": "execute_result"
    }
   ],
   "source": [
    "a,b"
   ]
  },
  {
   "cell_type": "code",
   "execution_count": 42,
   "metadata": {
    "colab": {
     "base_uri": "https://localhost:8080/"
    },
    "executionInfo": {
     "elapsed": 12,
     "status": "ok",
     "timestamp": 1745347890983,
     "user": {
      "displayName": "juan_antonio VILLEGAS RECIO",
      "userId": "07002128450319972745"
     },
     "user_tz": -120
    },
    "id": "XtZHe2QWhi35",
    "outputId": "06a7d065-3092-4438-9d04-973aea67af69"
   },
   "outputs": [
    {
     "name": "stdout",
     "output_type": "stream",
     "text": [
      "Posiblemente solución exacta: 1.0986\n",
      "Solución exacta,  log(3) , con decimales   1.09861228866811\n",
      "Número total de iteraciones  11\n"
     ]
    }
   ],
   "source": [
    "getcontext().prec = cifras\n",
    "sol_approx, niter, exit = biseccion(f,a,b,nmax,tol,prec)\n",
    "print('Solución exacta, ', sol_exact, \", con decimales  \", sol_exact.evalf() )\n",
    "print('Número total de iteraciones ', niter)"
   ]
  },
  {
   "cell_type": "markdown",
   "metadata": {
    "id": "sPkRz--dcp-m"
   },
   "source": [
    "Vemos cómo, en efecto, se ha debido de  cumplir uno de los criterios de parada impuestos en un  número finito de iteraciones. Así pues,  el método ha sido capaz de calcular una aproximación de la raíz de la ecuación con algunas cifras decimales exactas;\n",
    "esto lo podemos concluir en este caso ya que una variación pequeña, que ha sido el error máximo cometido o tolerancia, podría\n",
    "cambiar como mucho  alguna de las últimas cifras decimales en una unidad y vemos que, en muchos de los casos, esto no afectaría por\n",
    "errores de redondeo a las otras."
   ]
  },
  {
   "cell_type": "markdown",
   "metadata": {
    "id": "jpQMavQPcp-m"
   },
   "source": [
    "### 3.2. Método de la secante ✂️"
   ]
  },
  {
   "cell_type": "markdown",
   "metadata": {
    "id": "ydg9KoAR7ZHn"
   },
   "source": [
    "https://es.wikipedia.org/wiki/M%C3%A9todo_de_la_secante"
   ]
  },
  {
   "cell_type": "markdown",
   "metadata": {
    "id": "bcfG0Ckucp-m"
   },
   "source": [
    "A continuación tenemos la implementación del método de la secante. Se construye iterativamente\n",
    "una sucesión de valores:\n",
    "$$x_{k+1}=x_k-\\frac{x_k-x_{k-1}}{f\\left(x_k\\right)-f\\left(x_{k-1}\\right)}f\\left(x_k\\right)\\\\\n",
    "=x_{k-1}-\\frac{x_k-x_{k-1}}{f\\left(x_k\\right)-f\\left(x_{k-1}\\right)}f\\left(x_{k-1}\\right)$$\n",
    "sin realizar la comprobación de cambio de signo.\n",
    "\n",
    "Ahora bien, lo mismo que ocurría al emplear el método de bisección en la sección anterior,\n",
    "debemos de idear algún criterio de parada cuando programamos cualquier método iterativo. Lo que haremos ahora, al no poder controlar de\n",
    "forma tan clara como en el método de bisección el error absoluto cometido,  es fijarnos en la diferencia entre dos iteraciones consecutivas,\n",
    "parando el proceso cuando ésta sea inferior a la tolerancia prefijada, **tol**; también fijaremos un número máximo de iteraciones\n",
    "a realizar, en caso de que dicha tolerancia sea dificil de alcanzar en un número de iteraciones razonable.\n",
    "\n",
    "> **Ejercicio 1.** Teniendo en cuenta la recomendación explicada sobre los criterios de parada, codifica una función similar a la explicada en el método de bisección para el método de la secante.\n",
    "> \n",
    "> Aproxima la raíz de la función $f(x)=e^x-3$:\n",
    "> * Cambiando la precisión a 5 cifras significativas.\n",
    "> * Con la precisión por defecto y aproximando la raíz con 28 cifras significativas."
   ]
  },
  {
   "cell_type": "markdown",
   "metadata": {
    "id": "3E4Uh5tjcp-n"
   },
   "source": [
    "### 3.3. Métodos de Whittaker y Newton-Raphson 🍎"
   ]
  },
  {
   "cell_type": "markdown",
   "metadata": {
    "id": "xixNj2l39MPU"
   },
   "source": [
    "https://www.ecured.cu/M%C3%A9todo_de_Whittaker"
   ]
  },
  {
   "cell_type": "markdown",
   "metadata": {
    "id": "7BDDAAWh8g3D"
   },
   "source": [
    "https://es.wikipedia.org/wiki/M%C3%A9todo_de_Newton"
   ]
  },
  {
   "cell_type": "markdown",
   "metadata": {
    "id": "URJmw5c1cp-n"
   },
   "source": [
    "Vamos a implementar en esta sección el llamado método de Whittaker que, a partir de un valor inicial $x_0$, utiliza en principio rectas\n",
    "con pendiente fijada para calcular el punto de corte de éstas con el eje $Ox$ para aproximar la raíz buscada. No obstante, empleando\n",
    "el programa resultante y permitiendo variar dichas pendientes, ajustándose a las de la propia función $f$, es decir, $m=f'\\left(x_k\\right)$, $k\\geq 0$, para que sean las de la recta tangente en\n",
    "el punto $\\left(x_k,f\\left(x_k\\right)\\right)$) obtendríamos el conocido método de  [Newton-Raphson](https://es.wikipedia.org/wiki/Método_de_Newton).\n",
    "\n",
    "También se verá que para que este método funcione correctamente será necesario que la derivada de la función no esté próxima a cero,\n",
    "al menos en cierto entorno de la raíz, ya que de lo contrario se podría producir una división entre cero o bien la creación\n",
    "de enormes errores de redondeo al dividir entre cantidades muy pequeñas."
   ]
  },
  {
   "cell_type": "markdown",
   "metadata": {
    "id": "1KfO6_Dqcp-n"
   },
   "source": [
    "Sigamos pues con el ejemplo que teníamos desde el principio de la práctica, e intentemos representar gráficamente todo este proceso, pero también vamos a necesitar evaluar la función derivada de la función de partida. Para ello también podemos aprovechar la potencia de cálculo simbólico de Python, a través del módulo SymPy, para ayudarnos a calcular la función derivada. No obstante, para poder realizar los cálculos y aproximaciones numéricas posteriores, convendrá definir ambas funciones, tanto la función $f$ como su derivada, empleando las versiones de NumPy de las correspondientes expresiones.  "
   ]
  },
  {
   "cell_type": "code",
   "execution_count": 43,
   "metadata": {
    "executionInfo": {
     "elapsed": 44,
     "status": "ok",
     "timestamp": 1745347909250,
     "user": {
      "displayName": "juan_antonio VILLEGAS RECIO",
      "userId": "07002128450319972745"
     },
     "user_tz": -120
    },
    "id": "iG-tlkadoVFf"
   },
   "outputs": [],
   "source": [
    "f = fsym    # Ahora trabajaremos con la versión simbólica"
   ]
  },
  {
   "cell_type": "code",
   "execution_count": 44,
   "metadata": {
    "colab": {
     "base_uri": "https://localhost:8080/"
    },
    "executionInfo": {
     "elapsed": 25,
     "status": "ok",
     "timestamp": 1745347909744,
     "user": {
      "displayName": "juan_antonio VILLEGAS RECIO",
      "userId": "07002128450319972745"
     },
     "user_tz": -120
    },
    "id": "JWqkiEAjcp-o",
    "outputId": "bfe02bb5-c8d2-44fa-cced-50a6027e3748"
   },
   "outputs": [
    {
     "data": {
      "text/plain": [
       "(exp(x) - 3, exp(x))"
      ]
     },
     "execution_count": 44,
     "metadata": {},
     "output_type": "execute_result"
    }
   ],
   "source": [
    "f(x),sp.diff(f(x),x)    # derivada simbólica de f"
   ]
  },
  {
   "cell_type": "code",
   "execution_count": 45,
   "metadata": {
    "executionInfo": {
     "elapsed": 3,
     "status": "ok",
     "timestamp": 1745347910472,
     "user": {
      "displayName": "juan_antonio VILLEGAS RECIO",
      "userId": "07002128450319972745"
     },
     "user_tz": -120
    },
    "id": "LUD-za4Wcp-o"
   },
   "outputs": [],
   "source": [
    "def df(x):##\n",
    "    ''' Función sp.exp(x)\n",
    "    Derivada simbólica de f en una función de python\n",
    "    '''\n",
    "    return sp.exp(x)"
   ]
  },
  {
   "cell_type": "markdown",
   "metadata": {
    "id": "PWXVtvfEuDSX"
   },
   "source": [
    "Le agradecemos a `sympy` su ayuda y volvemos a la versión numérica."
   ]
  },
  {
   "cell_type": "code",
   "execution_count": 46,
   "metadata": {
    "executionInfo": {
     "elapsed": 4,
     "status": "ok",
     "timestamp": 1745347911688,
     "user": {
      "displayName": "juan_antonio VILLEGAS RECIO",
      "userId": "07002128450319972745"
     },
     "user_tz": -120
    },
    "id": "29NLsJfwuoBb"
   },
   "outputs": [],
   "source": [
    "f = fnum\n",
    "df = lambda x: np.exp(x)"
   ]
  },
  {
   "cell_type": "code",
   "execution_count": 47,
   "metadata": {
    "executionInfo": {
     "elapsed": 32,
     "status": "ok",
     "timestamp": 1745347912173,
     "user": {
      "displayName": "juan_antonio VILLEGAS RECIO",
      "userId": "07002128450319972745"
     },
     "user_tz": -120
    },
    "id": "dH9uW0nsqBW7"
   },
   "outputs": [],
   "source": [
    "a,b = 0, 2"
   ]
  },
  {
   "cell_type": "code",
   "execution_count": 48,
   "metadata": {
    "colab": {
     "base_uri": "https://localhost:8080/"
    },
    "executionInfo": {
     "elapsed": 21,
     "status": "ok",
     "timestamp": 1745347912903,
     "user": {
      "displayName": "juan_antonio VILLEGAS RECIO",
      "userId": "07002128450319972745"
     },
     "user_tz": -120
    },
    "id": "0r0bwrw1cp-o",
    "outputId": "8589a571-5a23-432c-babb-2032b7dce253"
   },
   "outputs": [
    {
     "data": {
      "text/plain": [
       "(-2.0, 1.0)"
      ]
     },
     "execution_count": 48,
     "metadata": {},
     "output_type": "execute_result"
    }
   ],
   "source": [
    "f(a),df(a)"
   ]
  },
  {
   "cell_type": "code",
   "execution_count": 49,
   "metadata": {
    "executionInfo": {
     "elapsed": 5,
     "status": "ok",
     "timestamp": 1745347913710,
     "user": {
      "displayName": "juan_antonio VILLEGAS RECIO",
      "userId": "07002128450319972745"
     },
     "user_tz": -120
    },
    "id": "ucp6RZHncp-o"
   },
   "outputs": [
    {
     "data": {
      "text/plain": [
       "0"
      ]
     },
     "execution_count": 49,
     "metadata": {},
     "output_type": "execute_result"
    }
   ],
   "source": [
    "x0 = a\n",
    "x0"
   ]
  },
  {
   "cell_type": "code",
   "execution_count": 50,
   "metadata": {
    "colab": {
     "base_uri": "https://localhost:8080/"
    },
    "executionInfo": {
     "elapsed": 9,
     "status": "ok",
     "timestamp": 1745347915870,
     "user": {
      "displayName": "juan_antonio VILLEGAS RECIO",
      "userId": "07002128450319972745"
     },
     "user_tz": -120
    },
    "id": "BOobvPMIcp-p",
    "outputId": "71e3aa77-b33d-413f-d3e6-d1b8f291bf8a"
   },
   "outputs": [
    {
     "data": {
      "text/plain": [
       "0.2"
      ]
     },
     "execution_count": 50,
     "metadata": {},
     "output_type": "execute_result"
    }
   ],
   "source": [
    "m = 10\n",
    "x1 = x0 - f(x0)/m\n",
    "x1"
   ]
  },
  {
   "cell_type": "code",
   "execution_count": 51,
   "metadata": {
    "colab": {
     "base_uri": "https://localhost:8080/"
    },
    "executionInfo": {
     "elapsed": 21,
     "status": "ok",
     "timestamp": 1745347917794,
     "user": {
      "displayName": "juan_antonio VILLEGAS RECIO",
      "userId": "07002128450319972745"
     },
     "user_tz": -120
    },
    "id": "gEtWU_a-qvnF",
    "outputId": "91a9a6c4-d230-41cd-bd78-500c57ad6c04"
   },
   "outputs": [
    {
     "data": {
      "text/plain": [
       "False"
      ]
     },
     "execution_count": 51,
     "metadata": {},
     "output_type": "execute_result"
    }
   ],
   "source": [
    "abs(f(x1)) < prec"
   ]
  },
  {
   "cell_type": "code",
   "execution_count": 52,
   "metadata": {
    "colab": {
     "base_uri": "https://localhost:8080/"
    },
    "executionInfo": {
     "elapsed": 38,
     "status": "ok",
     "timestamp": 1745347918710,
     "user": {
      "displayName": "juan_antonio VILLEGAS RECIO",
      "userId": "07002128450319972745"
     },
     "user_tz": -120
    },
    "id": "scFkZ6b_cp-p",
    "outputId": "8bc14a94-bf7a-434b-8152-176cd84e7f15"
   },
   "outputs": [
    {
     "data": {
      "text/plain": [
       "0.37785972418398306"
      ]
     },
     "execution_count": 52,
     "metadata": {},
     "output_type": "execute_result"
    }
   ],
   "source": [
    "x0 = x1\n",
    "x1 = x0 - f(x0)/m\n",
    "x1"
   ]
  },
  {
   "cell_type": "code",
   "execution_count": 53,
   "metadata": {
    "colab": {
     "base_uri": "https://localhost:8080/"
    },
    "executionInfo": {
     "elapsed": 7,
     "status": "ok",
     "timestamp": 1745347920262,
     "user": {
      "displayName": "juan_antonio VILLEGAS RECIO",
      "userId": "07002128450319972745"
     },
     "user_tz": -120
    },
    "id": "TFEql9ghcp-p",
    "outputId": "763082ea-859a-48f8-a67a-4334fe7d3d2d"
   },
   "outputs": [
    {
     "data": {
      "text/plain": [
       "False"
      ]
     },
     "execution_count": 53,
     "metadata": {},
     "output_type": "execute_result"
    }
   ],
   "source": [
    "abs(f(x1)) < prec"
   ]
  },
  {
   "cell_type": "markdown",
   "metadata": {
    "id": "7gImthchr7R_"
   },
   "source": [
    "Repitiendo el mismo proceso se llega iterativamente a construir una sucesión que, si se dan ciertas condiciones apropiadas, va a converger hacia la verdadera raíz de nuestra ecuación. Para ello habrá que elegir convenientemente tanto el valor de la pendiente $m$ como el del valor inicial $x_0$, ya que basta probar con ciertos valores para darnos cuenta cómo nos aproximamos más y más a la raíz, o por el contrario nos alejamos.\n",
    "\n",
    "> **Ejercicio 2.** Teniendo en cuenta estos primeros pasos, codifica una función para el método de Wittaker.\n",
    "> \n",
    "> Aproxima la raíz de la función $f(x)=e^x-3$:\n",
    "> * Cambiando la precisión a 5 cifras significativas.\n",
    "> * Con la precisión por defecto y aproximando la raíz con 28 cifras significativas.\n",
    "> \n",
    "> Comprueba que una mala elección de $m$ puede provocar que la sucesión no converja.\n",
    "\n",
    "> **Ejercicio 3.** Modifique el método anterior para que, en lugar de fijar una pendiente $m$, calcule en cada iteración la derivada de la función en dicho punto, obteniendo el método de Newton-Raphson. Con este método:\n",
    "> \n",
    "> Aproxima la raíz de la función $f(x)=e^x-3$:\n",
    "> * Cambiando la precisión a 5 cifras significativas.\n",
    "> * Con la precisión por defecto y aproximando la raíz con 28 cifras significativas.\n",
    "> \n",
    "> Compare, en iguales condiciones, el rendimiento de Newton-Raphson con respecto al método de Wittaker.\n",
    "\n",
    "\n",
    "**Ejercicios de esta primera parte**\n",
    "\n",
    "> **Ejercicio 4.** Demuestre que la ecuación  $x^3+4 x^2=10  $  tiene una única raíz en el intervalo $[1,2]$.  Aproxime dicha raíz con el método de bisección con al menos 3 cifras decimales exactas. ¿Cuántas iteraciones serán necesarias para conseguir 5 cifras decimales exactas (tol =$10^{-5}$)?  Aproxime también la raíz con el método de Newton-Raphson partiendo del extremo adecuado hasta que la diferencia en valor absoluto, entre dos aproximaciones consecutivas sea  inferior a  $10^{-3}$.\n",
    "\n",
    "\n",
    "> **Ejercicio 5.** Use el método de Newton-Raphson para aproximar las soluciones de las siguientes ecuaciones con tolerancia $10^{-5}$ , partiendo de un valor adecuado, próximo a cada una de ellas en cada caso.\n",
    "> \n",
    "> 1. $3x=2+x^2-e^x$.\n",
    "> \n",
    "> 2. $x^2+10 \\cos x+x=0$.\n",
    "\n",
    "\n",
    "> **Ejercicio 6.** Para la función  $ f(x)= 3 x^2+e^x-1$,\n",
    "> \n",
    "> i) encuentre, mediante el método de bisección una aproximación de la raíz en $[0,1]$ con, al menos, cuatro decimales exactos (tol =$10^{-4}$), y determine el número de iteraciones realizadas;\n",
    "> \n",
    "> ii) encuentre, mediante el método de Newton-Raphson, una aproximación de la raíz en $[0,1]$ con una tolerancia de $10^{-4}$, partiendo de $x_0=0$, y determine el número de iteraciones realizadas.  "
   ]
  },
  {
   "cell_type": "markdown",
   "metadata": {},
   "source": [
    "### 3.4. Métodos de iteración funcional:  métodos de Newton-Raphson y Steffensen 🔁"
   ]
  },
  {
   "cell_type": "markdown",
   "metadata": {},
   "source": [
    "En los métodos de iteración funcional lo que se pretende es encontrar un [punto fijo](https://es.wikipedia.org/wiki/Método_del_punto_fijo) de la aplicación  $g:I\\to I$ para\n",
    "cierto subconjunto cerrado de la recta real (no necesariamente acotado) mediante una sucesión de valores $x_{k+1}=g\\left(x_k\\right), k\\geq 0$. \n",
    "* Un ejemplo claro de esta metodología es el ya mencionado método de Newton-Raphson, donde buscamos los puntos fijos de la función $g(x)=x-\\frac{f(x)}{f'(x)}$, obteniéndose una convergencia al menos cuadrática.\n",
    "* Otro ejemplo es el método de Steffensen, en el que se tomaría $g(x)=x-\\frac{f(x)^2}{f(x+f(x))-f(x)}$.\n",
    "\n",
    "⚠️ **Nota:** No debe confundirse el método de Steffensen con el método de aceleración de la convergencia del mismo nombre, que se presentará más adelante."
   ]
  },
  {
   "cell_type": "code",
   "execution_count": 54,
   "metadata": {},
   "outputs": [
    {
     "name": "stdout",
     "output_type": "stream",
     "text": [
      "Aproximación tras 100 iteraciones: 1.0986122886681096\n"
     ]
    }
   ],
   "source": [
    "# Implementación muy rudimentaria del método de Newton-Raphson\n",
    "\n",
    "# Funcion f y f'\n",
    "f  = lambda x : np.exp(x) - 3\n",
    "df = lambda x : np.exp(x)\n",
    "\n",
    "# Función g de iteración de Newton-Raphson\n",
    "gNR = lambda x : x - f(x)/df(x)\n",
    "\n",
    "x0  = 0     # Condición inicial\n",
    "nmax = 100  # Número máximo de iteraciones\n",
    "\n",
    "# Iteración funcional\n",
    "xk_seq = [x0]\n",
    "for k in range(nmax):\n",
    "    xk_seq.append(gNR(xk_seq[-1])) # Añadimos a la lista el resultado de aplicar g al último elemento\n",
    "\n",
    "aproxNR = xk_seq[-1] # Aceptamos como aproximación el último valor calculado\n",
    "\n",
    "print(f\"Aproximación tras {nmax} iteraciones: {aproxNR}\")"
   ]
  },
  {
   "cell_type": "markdown",
   "metadata": {},
   "source": [
    "> **Ejercicio 7.** Implemente el método de iteración funcional de Steffensen para una función $f$. En particular, para la función $f(x)=e^x-3$:\n",
    "> * Represente gráficamente las funciones $g$ definidas tanto para el método de Newton-Raphson como para el método de Steffensen, comprobando que ambas poseen un punto fijo en la raíz de $f$.\n",
    "> * Aproxima su única raíz utilizando el método de Steffensen:\n",
    ">     * Cambiando la precisión a 5 cifras significativas.\n",
    ">     * Con la precisión por defecto y aproximando la raíz con 28 cifras significativas."
   ]
  },
  {
   "cell_type": "markdown",
   "metadata": {},
   "source": [
    "### 3.5 Aceleración de la convergencia: métodos de Aitken y Steffensen 🚀"
   ]
  },
  {
   "cell_type": "markdown",
   "metadata": {},
   "source": [
    "https://es.wikipedia.org/wiki/Proceso_%CE%94%C2%B2_de_Aitken"
   ]
  },
  {
   "cell_type": "markdown",
   "metadata": {},
   "source": [
    "En el conocido método de Aitken se calcula una nueva sucesión de valores, $\\left\\{\\hat{x_k}\\right\\}$, a partir de la original, $\\left\\{x_k\\right\\}$, mediante la fórmula siguiente:\n",
    "$$\\hat{x_k}=x_k-\\frac{\\left(x_{k+1}-x_k\\right){}^2}{x_{k+2}-2x_{k+1}+x_k}$$\n",
    "\n",
    "Veamos un ejemplo de aplicación de este método de aceleración, utilizando las iteraciones obtenidas previamente mediante el método\n",
    " equivalente al de Newton-Raphson."
   ]
  },
  {
   "cell_type": "code",
   "execution_count": 55,
   "metadata": {},
   "outputs": [
    {
     "name": "stdout",
     "output_type": "stream",
     "text": [
      "Solución exacta: 1.09861228866811\n",
      "Aproximación con 6 iteraciones de Newton-Raphson: 1.0986126945317205\n",
      "Error: 4.05863610810305E-7\n"
     ]
    }
   ],
   "source": [
    "n = 6\n",
    "xk_seq = xk_seq[:n]\n",
    "aproxNR = xk_seq[-1]\n",
    "\n",
    "print(f\"Solución exacta: {sol_exact.evalf()}\")\n",
    "print(f\"Aproximación con {n} iteraciones de Newton-Raphson: {aproxNR}\")\n",
    "print(f\"Error: {(aproxNR-sol_exact).evalf()}\")"
   ]
  },
  {
   "cell_type": "code",
   "execution_count": 56,
   "metadata": {},
   "outputs": [
    {
     "name": "stdout",
     "output_type": "stream",
     "text": [
      "Solución exacta: log(3)\n",
      "Aproximación con 6 iteraciones de Newton-Raphson: 1.0986126945317205\n",
      "Modificación mediante el método de aceleración de Aitken: 1.0985928854455327\n",
      "Error (NR): 4.05863610810305E-7\n",
      "Error (Aitken): -0.0000194032225770061\n"
     ]
    }
   ],
   "source": [
    "hat_xk_seq = []\n",
    "for k in range(n-2):\n",
    "    xk, xk1, xk2 = xk_seq[k], xk_seq[k+1], xk_seq[k+2]\n",
    "    hat_xk = xk - (xk1-xk)**2 / (xk2-2*xk1+xk)\n",
    "    hat_xk_seq.append(hat_xk)\n",
    "\n",
    "aprox_acel_aitken = hat_xk_seq[-1]\n",
    "print(f\"Solución exacta: {sol_exact}\")\n",
    "print(f\"Aproximación con {n} iteraciones de Newton-Raphson: {aproxNR}\")\n",
    "print(f\"Modificación mediante el método de aceleración de Aitken: {aprox_acel_aitken}\")\n",
    "print(f\"Error (NR): {(aproxNR-sol_exact).evalf()}\")\n",
    "print(f\"Error (Aitken): {(aprox_acel_aitken-sol_exact).evalf()}\")"
   ]
  },
  {
   "cell_type": "markdown",
   "metadata": {},
   "source": [
    "Recordemos que estos métodos de aceleración de la convergencia están especialmente indicados para mejorar las iteraciones obtenidas por un método con convergencia lineal, en contra del caso del método de Newton-Raphson para raíces simples, que sabemos que tiene convergencia cuadrática."
   ]
  },
  {
   "cell_type": "markdown",
   "metadata": {},
   "source": [
    "En cuanto al método de aceleración de Steffensen, recuerde que se obtiene una nueva sucesión de valores, de tres en tres $\\left\\{\\hat{x_0}{}^{(k)},\\hat{x_1}{}^{(k)},\\hat{x_2}{}^{(k)}\\right\\}$,\n",
    "a partir de los tres primeros de la original, $\\left\\{x_0,x_1,x_2\\right\\}$, de la siguiente manera:\n",
    "$$\n",
    "\\hat{x_0}{}^{(k+1)}=\\hat{x_0}{}^{(k)}-\\frac{\\left(\\hat{x_1}{}^{(k)}-\\hat{x_0}{}^{(k)}\\right){}^2}{\\hat{x_2}{}^{(k)}-2\\hat{x_1}{}^{(k)}+\\hat{x_0}{}^{(k)}}\n",
    "$$,\n",
    "\n",
    "$\\hat{x_1}{}^{(k)}=g\\left(\\hat{x_0}{}^{(k)}\\right)$,  $\\hat{x_2}{}^{(k)}=g\\left(\\hat{x_1}{}^{(k)}\\right)$, \n",
    "\n",
    "siendo  $\\left\\{\\hat{x_0}{}^{(0)},\\hat{x_1}{}^{(0)},\\hat{x_2}{}^{(0)}\\right\\}=\\left\\{x_0,g\\left(x_0\\right),g\\left(x_1\\right)\\text{}\\right\\}$.\n"
   ]
  },
  {
   "cell_type": "markdown",
   "metadata": {},
   "source": [
    "> **Ejercicio 8.** Implemente el método de aceleración de la convergencia de Steffensen y aplíquelo a una sucesión de valores obtenidos mediante iteración funcional de Newton-Raphson a la función $f(x) = e^x -3$. Compare las aproximaciones tras 4 iteraciones del método de Newton-Raphson, aceleración de la convergencia de Aitken y aceleración de la convergencia de Steffensen."
   ]
  },
  {
   "cell_type": "markdown",
   "metadata": {},
   "source": [
    "## 4. Órdenes directas de Python 🐍"
   ]
  },
  {
   "cell_type": "markdown",
   "metadata": {},
   "source": [
    "### 4.1. Resolución de ecuaciones en general 🔧"
   ]
  },
  {
   "cell_type": "markdown",
   "metadata": {},
   "source": [
    "Aparte de todo esto *Python* también incorpora varias funciones y órdenes directas, o incluidas en alguno de los módulos más habituales, para aproximar los ceros de una función, ya sea de manera simbólica o bien mediante algoritmos de tipo bisección o Newton-Raphson, sin necesidad de acudir al código ya implementado anteriormente."
   ]
  },
  {
   "cell_type": "markdown",
   "metadata": {},
   "source": [
    "#### Opción 1: Búsqueda de soluciones exactas con el submódulo [`solvers`](https://docs.sympy.org/latest/modules/solvers/solvers.html) de `sympy`. \n",
    "\n",
    "[Documentación de ejemplos y métodos de resolución de ecuaciones con Sympy](https://docs.sympy.org/latest/guides/solving/index.html)\n",
    "\n",
    "En este módulo encontramos órdenes para buscar raíces exactas de ciertos tipos de ecuaciones. Entre ellas descatamos  [`solve`](https://docs.sympy.org/latest/modules/solvers/solvers.html#sympy.solvers.solvers.solve) y su variante [`solveset`](https://docs.sympy.org/latest/modules/solvers/solveset.html).\n",
    "\n",
    "También necesitamos definir las variables simbólicas que necesitemos (aunque en este caso ya estaba definida)."
   ]
  },
  {
   "cell_type": "code",
   "execution_count": 57,
   "metadata": {},
   "outputs": [],
   "source": [
    "x = sp.Symbol('x')"
   ]
  },
  {
   "cell_type": "code",
   "execution_count": 58,
   "metadata": {},
   "outputs": [
    {
     "name": "stdout",
     "output_type": "stream",
     "text": [
      "\u001b[0;31mSignature:\u001b[0m \u001b[0msp\u001b[0m\u001b[0;34m.\u001b[0m\u001b[0msolve\u001b[0m\u001b[0;34m(\u001b[0m\u001b[0mf\u001b[0m\u001b[0;34m,\u001b[0m \u001b[0;34m*\u001b[0m\u001b[0msymbols\u001b[0m\u001b[0;34m,\u001b[0m \u001b[0;34m**\u001b[0m\u001b[0mflags\u001b[0m\u001b[0;34m)\u001b[0m\u001b[0;34m\u001b[0m\u001b[0;34m\u001b[0m\u001b[0m\n",
      "\u001b[0;31mDocstring:\u001b[0m\n",
      "Algebraically solves equations and systems of equations.\n",
      "\n",
      "Explanation\n",
      "===========\n",
      "\n",
      "Currently supported:\n",
      "    - polynomial\n",
      "    - transcendental\n",
      "    - piecewise combinations of the above\n",
      "    - systems of linear and polynomial equations\n",
      "    - systems containing relational expressions\n",
      "    - systems implied by undetermined coefficients\n",
      "\n",
      "Examples\n",
      "========\n",
      "\n",
      "The default output varies according to the input and might\n",
      "be a list (possibly empty), a dictionary, a list of\n",
      "dictionaries or tuples, or an expression involving relationals.\n",
      "For specifics regarding different forms of output that may appear, see :ref:`solve_output`.\n",
      "Let it suffice here to say that to obtain a uniform output from\n",
      "`solve` use ``dict=True`` or ``set=True`` (see below).\n",
      "\n",
      "    >>> from sympy import solve, Poly, Eq, Matrix, Symbol\n",
      "    >>> from sympy.abc import x, y, z, a, b\n",
      "\n",
      "The expressions that are passed can be Expr, Equality, or Poly\n",
      "classes (or lists of the same); a Matrix is considered to be a\n",
      "list of all the elements of the matrix:\n",
      "\n",
      "    >>> solve(x - 3, x)\n",
      "    [3]\n",
      "    >>> solve(Eq(x, 3), x)\n",
      "    [3]\n",
      "    >>> solve(Poly(x - 3), x)\n",
      "    [3]\n",
      "    >>> solve(Matrix([[x, x + y]]), x, y) == solve([x, x + y], x, y)\n",
      "    True\n",
      "\n",
      "If no symbols are indicated to be of interest and the equation is\n",
      "univariate, a list of values is returned; otherwise, the keys in\n",
      "a dictionary will indicate which (of all the variables used in\n",
      "the expression(s)) variables and solutions were found:\n",
      "\n",
      "    >>> solve(x**2 - 4)\n",
      "    [-2, 2]\n",
      "    >>> solve((x - a)*(y - b))\n",
      "    [{a: x}, {b: y}]\n",
      "    >>> solve([x - 3, y - 1])\n",
      "    {x: 3, y: 1}\n",
      "    >>> solve([x - 3, y**2 - 1])\n",
      "    [{x: 3, y: -1}, {x: 3, y: 1}]\n",
      "\n",
      "If you pass symbols for which solutions are sought, the output will vary\n",
      "depending on the number of symbols you passed, whether you are passing\n",
      "a list of expressions or not, and whether a linear system was solved.\n",
      "Uniform output is attained by using ``dict=True`` or ``set=True``.\n",
      "\n",
      "    >>> #### *** feel free to skip to the stars below *** ####\n",
      "    >>> from sympy import TableForm\n",
      "    >>> h = [None, ';|;'.join(['e', 's', 'solve(e, s)', 'solve(e, s, dict=True)',\n",
      "    ... 'solve(e, s, set=True)']).split(';')]\n",
      "    >>> t = []\n",
      "    >>> for e, s in [\n",
      "    ...         (x - y, y),\n",
      "    ...         (x - y, [x, y]),\n",
      "    ...         (x**2 - y, [x, y]),\n",
      "    ...         ([x - 3, y -1], [x, y]),\n",
      "    ...         ]:\n",
      "    ...     how = [{}, dict(dict=True), dict(set=True)]\n",
      "    ...     res = [solve(e, s, **f) for f in how]\n",
      "    ...     t.append([e, '|', s, '|'] + [res[0], '|', res[1], '|', res[2]])\n",
      "    ...\n",
      "    >>> # ******************************************************* #\n",
      "    >>> TableForm(t, headings=h, alignments=\"<\")\n",
      "    e              | s      | solve(e, s)  | solve(e, s, dict=True) | solve(e, s, set=True)\n",
      "    ---------------------------------------------------------------------------------------\n",
      "    x - y          | y      | [x]          | [{y: x}]               | ([y], {(x,)})\n",
      "    x - y          | [x, y] | [(y, y)]     | [{x: y}]               | ([x, y], {(y, y)})\n",
      "    x**2 - y       | [x, y] | [(x, x**2)]  | [{y: x**2}]            | ([x, y], {(x, x**2)})\n",
      "    [x - 3, y - 1] | [x, y] | {x: 3, y: 1} | [{x: 3, y: 1}]         | ([x, y], {(3, 1)})\n",
      "\n",
      "    * If any equation does not depend on the symbol(s) given, it will be\n",
      "      eliminated from the equation set and an answer may be given\n",
      "      implicitly in terms of variables that were not of interest:\n",
      "\n",
      "        >>> solve([x - y, y - 3], x)\n",
      "        {x: y}\n",
      "\n",
      "When you pass all but one of the free symbols, an attempt\n",
      "is made to find a single solution based on the method of\n",
      "undetermined coefficients. If it succeeds, a dictionary of values\n",
      "is returned. If you want an algebraic solutions for one\n",
      "or more of the symbols, pass the expression to be solved in a list:\n",
      "\n",
      "    >>> e = a*x + b - 2*x - 3\n",
      "    >>> solve(e, [a, b])\n",
      "    {a: 2, b: 3}\n",
      "    >>> solve([e], [a, b])\n",
      "    {a: -b/x + (2*x + 3)/x}\n",
      "\n",
      "When there is no solution for any given symbol which will make all\n",
      "expressions zero, the empty list is returned (or an empty set in\n",
      "the tuple when ``set=True``):\n",
      "\n",
      "    >>> from sympy import sqrt\n",
      "    >>> solve(3, x)\n",
      "    []\n",
      "    >>> solve(x - 3, y)\n",
      "    []\n",
      "    >>> solve(sqrt(x) + 1, x, set=True)\n",
      "    ([x], set())\n",
      "\n",
      "When an object other than a Symbol is given as a symbol, it is\n",
      "isolated algebraically and an implicit solution may be obtained.\n",
      "This is mostly provided as a convenience to save you from replacing\n",
      "the object with a Symbol and solving for that Symbol. It will only\n",
      "work if the specified object can be replaced with a Symbol using the\n",
      "subs method:\n",
      "\n",
      "    >>> from sympy import exp, Function\n",
      "    >>> f = Function('f')\n",
      "\n",
      "    >>> solve(f(x) - x, f(x))\n",
      "    [x]\n",
      "    >>> solve(f(x).diff(x) - f(x) - x, f(x).diff(x))\n",
      "    [x + f(x)]\n",
      "    >>> solve(f(x).diff(x) - f(x) - x, f(x))\n",
      "    [-x + Derivative(f(x), x)]\n",
      "    >>> solve(x + exp(x)**2, exp(x), set=True)\n",
      "    ([exp(x)], {(-sqrt(-x),), (sqrt(-x),)})\n",
      "\n",
      "    >>> from sympy import Indexed, IndexedBase, Tuple\n",
      "    >>> A = IndexedBase('A')\n",
      "    >>> eqs = Tuple(A[1] + A[2] - 3, A[1] - A[2] + 1)\n",
      "    >>> solve(eqs, eqs.atoms(Indexed))\n",
      "    {A[1]: 1, A[2]: 2}\n",
      "\n",
      "    * To solve for a function within a derivative, use :func:`~.dsolve`.\n",
      "\n",
      "To solve for a symbol implicitly, use implicit=True:\n",
      "\n",
      "    >>> solve(x + exp(x), x)\n",
      "    [-LambertW(1)]\n",
      "    >>> solve(x + exp(x), x, implicit=True)\n",
      "    [-exp(x)]\n",
      "\n",
      "It is possible to solve for anything in an expression that can be\n",
      "replaced with a symbol using :obj:`~sympy.core.basic.Basic.subs`:\n",
      "\n",
      "    >>> solve(x + 2 + sqrt(3), x + 2)\n",
      "    [-sqrt(3)]\n",
      "    >>> solve((x + 2 + sqrt(3), x + 4 + y), y, x + 2)\n",
      "    {y: -2 + sqrt(3), x + 2: -sqrt(3)}\n",
      "\n",
      "    * Nothing heroic is done in this implicit solving so you may end up\n",
      "      with a symbol still in the solution:\n",
      "\n",
      "        >>> eqs = (x*y + 3*y + sqrt(3), x + 4 + y)\n",
      "        >>> solve(eqs, y, x + 2)\n",
      "        {y: -sqrt(3)/(x + 3), x + 2: -2*x/(x + 3) - 6/(x + 3) + sqrt(3)/(x + 3)}\n",
      "        >>> solve(eqs, y*x, x)\n",
      "        {x: -y - 4, x*y: -3*y - sqrt(3)}\n",
      "\n",
      "    * If you attempt to solve for a number, remember that the number\n",
      "      you have obtained does not necessarily mean that the value is\n",
      "      equivalent to the expression obtained:\n",
      "\n",
      "        >>> solve(sqrt(2) - 1, 1)\n",
      "        [sqrt(2)]\n",
      "        >>> solve(x - y + 1, 1)  # /!\\ -1 is targeted, too\n",
      "        [x/(y - 1)]\n",
      "        >>> [_.subs(z, -1) for _ in solve((x - y + 1).subs(-1, z), 1)]\n",
      "        [-x + y]\n",
      "\n",
      "**Additional Examples**\n",
      "\n",
      "``solve()`` with check=True (default) will run through the symbol tags to\n",
      "eliminate unwanted solutions. If no assumptions are included, all possible\n",
      "solutions will be returned:\n",
      "\n",
      "    >>> x = Symbol(\"x\")\n",
      "    >>> solve(x**2 - 1)\n",
      "    [-1, 1]\n",
      "\n",
      "By setting the ``positive`` flag, only one solution will be returned:\n",
      "\n",
      "    >>> pos = Symbol(\"pos\", positive=True)\n",
      "    >>> solve(pos**2 - 1)\n",
      "    [1]\n",
      "\n",
      "When the solutions are checked, those that make any denominator zero\n",
      "are automatically excluded. If you do not want to exclude such solutions,\n",
      "then use the check=False option:\n",
      "\n",
      "    >>> from sympy import sin, limit\n",
      "    >>> solve(sin(x)/x)  # 0 is excluded\n",
      "    [pi]\n",
      "\n",
      "If ``check=False``, then a solution to the numerator being zero is found\n",
      "but the value of $x = 0$ is a spurious solution since $\\sin(x)/x$ has the well\n",
      "known limit (without discontinuity) of 1 at $x = 0$:\n",
      "\n",
      "    >>> solve(sin(x)/x, check=False)\n",
      "    [0, pi]\n",
      "\n",
      "In the following case, however, the limit exists and is equal to the\n",
      "value of $x = 0$ that is excluded when check=True:\n",
      "\n",
      "    >>> eq = x**2*(1/x - z**2/x)\n",
      "    >>> solve(eq, x)\n",
      "    []\n",
      "    >>> solve(eq, x, check=False)\n",
      "    [0]\n",
      "    >>> limit(eq, x, 0, '-')\n",
      "    0\n",
      "    >>> limit(eq, x, 0, '+')\n",
      "    0\n",
      "\n",
      "**Solving Relationships**\n",
      "\n",
      "When one or more expressions passed to ``solve`` is a relational,\n",
      "a relational result is returned (and the ``dict`` and ``set`` flags\n",
      "are ignored):\n",
      "\n",
      "    >>> solve(x < 3)\n",
      "    (-oo < x) & (x < 3)\n",
      "    >>> solve([x < 3, x**2 > 4], x)\n",
      "    ((-oo < x) & (x < -2)) | ((2 < x) & (x < 3))\n",
      "    >>> solve([x + y - 3, x > 3], x)\n",
      "    (3 < x) & (x < oo) & Eq(x, 3 - y)\n",
      "\n",
      "Although checking of assumptions on symbols in relationals\n",
      "is not done, setting assumptions will affect how certain\n",
      "relationals might automatically simplify:\n",
      "\n",
      "    >>> solve(x**2 > 4)\n",
      "    ((-oo < x) & (x < -2)) | ((2 < x) & (x < oo))\n",
      "\n",
      "    >>> r = Symbol('r', real=True)\n",
      "    >>> solve(r**2 > 4)\n",
      "    (2 < r) | (r < -2)\n",
      "\n",
      "There is currently no algorithm in SymPy that allows you to use\n",
      "relationships to resolve more than one variable. So the following\n",
      "does not determine that ``q < 0`` (and trying to solve for ``r``\n",
      "and ``q`` will raise an error):\n",
      "\n",
      "    >>> from sympy import symbols\n",
      "    >>> r, q = symbols('r, q', real=True)\n",
      "    >>> solve([r + q - 3, r > 3], r)\n",
      "    (3 < r) & Eq(r, 3 - q)\n",
      "\n",
      "You can directly call the routine that ``solve`` calls\n",
      "when it encounters a relational: :func:`~.reduce_inequalities`.\n",
      "It treats Expr like Equality.\n",
      "\n",
      "    >>> from sympy import reduce_inequalities\n",
      "    >>> reduce_inequalities([x**2 - 4])\n",
      "    Eq(x, -2) | Eq(x, 2)\n",
      "\n",
      "If each relationship contains only one symbol of interest,\n",
      "the expressions can be processed for multiple symbols:\n",
      "\n",
      "    >>> reduce_inequalities([0 <= x  - 1, y < 3], [x, y])\n",
      "    (-oo < y) & (1 <= x) & (x < oo) & (y < 3)\n",
      "\n",
      "But an error is raised if any relationship has more than one\n",
      "symbol of interest:\n",
      "\n",
      "    >>> reduce_inequalities([0 <= x*y  - 1, y < 3], [x, y])\n",
      "    Traceback (most recent call last):\n",
      "    ...\n",
      "    NotImplementedError:\n",
      "    inequality has more than one symbol of interest.\n",
      "\n",
      "**Disabling High-Order Explicit Solutions**\n",
      "\n",
      "When solving polynomial expressions, you might not want explicit solutions\n",
      "(which can be quite long). If the expression is univariate, ``CRootOf``\n",
      "instances will be returned instead:\n",
      "\n",
      "    >>> solve(x**3 - x + 1)\n",
      "    [-1/((-1/2 - sqrt(3)*I/2)*(3*sqrt(69)/2 + 27/2)**(1/3)) -\n",
      "    (-1/2 - sqrt(3)*I/2)*(3*sqrt(69)/2 + 27/2)**(1/3)/3,\n",
      "    -(-1/2 + sqrt(3)*I/2)*(3*sqrt(69)/2 + 27/2)**(1/3)/3 -\n",
      "    1/((-1/2 + sqrt(3)*I/2)*(3*sqrt(69)/2 + 27/2)**(1/3)),\n",
      "    -(3*sqrt(69)/2 + 27/2)**(1/3)/3 -\n",
      "    1/(3*sqrt(69)/2 + 27/2)**(1/3)]\n",
      "    >>> solve(x**3 - x + 1, cubics=False)\n",
      "    [CRootOf(x**3 - x + 1, 0),\n",
      "     CRootOf(x**3 - x + 1, 1),\n",
      "     CRootOf(x**3 - x + 1, 2)]\n",
      "\n",
      "If the expression is multivariate, no solution might be returned:\n",
      "\n",
      "    >>> solve(x**3 - x + a, x, cubics=False)\n",
      "    []\n",
      "\n",
      "Sometimes solutions will be obtained even when a flag is False because the\n",
      "expression could be factored. In the following example, the equation can\n",
      "be factored as the product of a linear and a quadratic factor so explicit\n",
      "solutions (which did not require solving a cubic expression) are obtained:\n",
      "\n",
      "    >>> eq = x**3 + 3*x**2 + x - 1\n",
      "    >>> solve(eq, cubics=False)\n",
      "    [-1, -1 + sqrt(2), -sqrt(2) - 1]\n",
      "\n",
      "**Solving Equations Involving Radicals**\n",
      "\n",
      "Because of SymPy's use of the principle root, some solutions\n",
      "to radical equations will be missed unless check=False:\n",
      "\n",
      "    >>> from sympy import root\n",
      "    >>> eq = root(x**3 - 3*x**2, 3) + 1 - x\n",
      "    >>> solve(eq)\n",
      "    []\n",
      "    >>> solve(eq, check=False)\n",
      "    [1/3]\n",
      "\n",
      "In the above example, there is only a single solution to the\n",
      "equation. Other expressions will yield spurious roots which\n",
      "must be checked manually; roots which give a negative argument\n",
      "to odd-powered radicals will also need special checking:\n",
      "\n",
      "    >>> from sympy import real_root, S\n",
      "    >>> eq = root(x, 3) - root(x, 5) + S(1)/7\n",
      "    >>> solve(eq)  # this gives 2 solutions but misses a 3rd\n",
      "    [CRootOf(7*x**5 - 7*x**3 + 1, 1)**15,\n",
      "    CRootOf(7*x**5 - 7*x**3 + 1, 2)**15]\n",
      "    >>> sol = solve(eq, check=False)\n",
      "    >>> [abs(eq.subs(x,i).n(2)) for i in sol]\n",
      "    [0.48, 0.e-110, 0.e-110, 0.052, 0.052]\n",
      "\n",
      "The first solution is negative so ``real_root`` must be used to see that it\n",
      "satisfies the expression:\n",
      "\n",
      "    >>> abs(real_root(eq.subs(x, sol[0])).n(2))\n",
      "    0.e-110\n",
      "\n",
      "If the roots of the equation are not real then more care will be\n",
      "necessary to find the roots, especially for higher order equations.\n",
      "Consider the following expression:\n",
      "\n",
      "    >>> expr = root(x, 3) - root(x, 5)\n",
      "\n",
      "We will construct a known value for this expression at x = 3 by selecting\n",
      "the 1-th root for each radical:\n",
      "\n",
      "    >>> expr1 = root(x, 3, 1) - root(x, 5, 1)\n",
      "    >>> v = expr1.subs(x, -3)\n",
      "\n",
      "The ``solve`` function is unable to find any exact roots to this equation:\n",
      "\n",
      "    >>> eq = Eq(expr, v); eq1 = Eq(expr1, v)\n",
      "    >>> solve(eq, check=False), solve(eq1, check=False)\n",
      "    ([], [])\n",
      "\n",
      "The function ``unrad``, however, can be used to get a form of the equation\n",
      "for which numerical roots can be found:\n",
      "\n",
      "    >>> from sympy.solvers.solvers import unrad\n",
      "    >>> from sympy import nroots\n",
      "    >>> e, (p, cov) = unrad(eq)\n",
      "    >>> pvals = nroots(e)\n",
      "    >>> inversion = solve(cov, x)[0]\n",
      "    >>> xvals = [inversion.subs(p, i) for i in pvals]\n",
      "\n",
      "Although ``eq`` or ``eq1`` could have been used to find ``xvals``, the\n",
      "solution can only be verified with ``expr1``:\n",
      "\n",
      "    >>> z = expr - v\n",
      "    >>> [xi.n(chop=1e-9) for xi in xvals if abs(z.subs(x, xi).n()) < 1e-9]\n",
      "    []\n",
      "    >>> z1 = expr1 - v\n",
      "    >>> [xi.n(chop=1e-9) for xi in xvals if abs(z1.subs(x, xi).n()) < 1e-9]\n",
      "    [-3.0]\n",
      "\n",
      "Parameters\n",
      "==========\n",
      "\n",
      "f :\n",
      "    - a single Expr or Poly that must be zero\n",
      "    - an Equality\n",
      "    - a Relational expression\n",
      "    - a Boolean\n",
      "    - iterable of one or more of the above\n",
      "\n",
      "symbols : (object(s) to solve for) specified as\n",
      "    - none given (other non-numeric objects will be used)\n",
      "    - single symbol\n",
      "    - denested list of symbols\n",
      "      (e.g., ``solve(f, x, y)``)\n",
      "    - ordered iterable of symbols\n",
      "      (e.g., ``solve(f, [x, y])``)\n",
      "\n",
      "flags :\n",
      "    dict=True (default is False)\n",
      "        Return list (perhaps empty) of solution mappings.\n",
      "    set=True (default is False)\n",
      "        Return list of symbols and set of tuple(s) of solution(s).\n",
      "    exclude=[] (default)\n",
      "        Do not try to solve for any of the free symbols in exclude;\n",
      "        if expressions are given, the free symbols in them will\n",
      "        be extracted automatically.\n",
      "    check=True (default)\n",
      "        If False, do not do any testing of solutions. This can be\n",
      "        useful if you want to include solutions that make any\n",
      "        denominator zero.\n",
      "    numerical=True (default)\n",
      "        Do a fast numerical check if *f* has only one symbol.\n",
      "    minimal=True (default is False)\n",
      "        A very fast, minimal testing.\n",
      "    warn=True (default is False)\n",
      "        Show a warning if ``checksol()`` could not conclude.\n",
      "    simplify=True (default)\n",
      "        Simplify all but polynomials of order 3 or greater before\n",
      "        returning them and (if check is not False) use the\n",
      "        general simplify function on the solutions and the\n",
      "        expression obtained when they are substituted into the\n",
      "        function which should be zero.\n",
      "    force=True (default is False)\n",
      "        Make positive all symbols without assumptions regarding sign.\n",
      "    rational=True (default)\n",
      "        Recast Floats as Rational; if this option is not used, the\n",
      "        system containing Floats may fail to solve because of issues\n",
      "        with polys. If rational=None, Floats will be recast as\n",
      "        rationals but the answer will be recast as Floats. If the\n",
      "        flag is False then nothing will be done to the Floats.\n",
      "    manual=True (default is False)\n",
      "        Do not use the polys/matrix method to solve a system of\n",
      "        equations, solve them one at a time as you might \"manually.\"\n",
      "    implicit=True (default is False)\n",
      "        Allows ``solve`` to return a solution for a pattern in terms of\n",
      "        other functions that contain that pattern; this is only\n",
      "        needed if the pattern is inside of some invertible function\n",
      "        like cos, exp, ect.\n",
      "    particular=True (default is False)\n",
      "        Instructs ``solve`` to try to find a particular solution to\n",
      "        a linear system with as many zeros as possible; this is very\n",
      "        expensive.\n",
      "    quick=True (default is False; ``particular`` must be True)\n",
      "        Selects a fast heuristic to find a solution with many zeros\n",
      "        whereas a value of False uses the very slow method guaranteed\n",
      "        to find the largest number of zeros possible.\n",
      "    cubics=True (default)\n",
      "        Return explicit solutions when cubic expressions are encountered.\n",
      "        When False, quartics and quintics are disabled, too.\n",
      "    quartics=True (default)\n",
      "        Return explicit solutions when quartic expressions are encountered.\n",
      "        When False, quintics are disabled, too.\n",
      "    quintics=True (default)\n",
      "        Return explicit solutions (if possible) when quintic expressions\n",
      "        are encountered.\n",
      "\n",
      "See Also\n",
      "========\n",
      "\n",
      "rsolve: For solving recurrence relationships\n",
      "dsolve: For solving differential equations\n",
      "\u001b[0;31mFile:\u001b[0m      /usr/lib/python3/dist-packages/sympy/solvers/solvers.py\n",
      "\u001b[0;31mType:\u001b[0m      function"
     ]
    }
   ],
   "source": [
    "?sp.solve"
   ]
  },
  {
   "cell_type": "code",
   "execution_count": 59,
   "metadata": {},
   "outputs": [
    {
     "name": "stdout",
     "output_type": "stream",
     "text": [
      "\u001b[0;31mSignature:\u001b[0m \u001b[0msp\u001b[0m\u001b[0;34m.\u001b[0m\u001b[0msolveset\u001b[0m\u001b[0;34m(\u001b[0m\u001b[0mf\u001b[0m\u001b[0;34m,\u001b[0m \u001b[0msymbol\u001b[0m\u001b[0;34m=\u001b[0m\u001b[0;32mNone\u001b[0m\u001b[0;34m,\u001b[0m \u001b[0mdomain\u001b[0m\u001b[0;34m=\u001b[0m\u001b[0mComplexes\u001b[0m\u001b[0;34m)\u001b[0m\u001b[0;34m\u001b[0m\u001b[0;34m\u001b[0m\u001b[0m\n",
      "\u001b[0;31mDocstring:\u001b[0m\n",
      "Solves a given inequality or equation with set as output\n",
      "\n",
      "Parameters\n",
      "==========\n",
      "\n",
      "f : Expr or a relational.\n",
      "    The target equation or inequality\n",
      "symbol : Symbol\n",
      "    The variable for which the equation is solved\n",
      "domain : Set\n",
      "    The domain over which the equation is solved\n",
      "\n",
      "Returns\n",
      "=======\n",
      "\n",
      "Set\n",
      "    A set of values for `symbol` for which `f` is True or is equal to\n",
      "    zero. An :class:`~.EmptySet` is returned if `f` is False or nonzero.\n",
      "    A :class:`~.ConditionSet` is returned as unsolved object if algorithms\n",
      "    to evaluate complete solution are not yet implemented.\n",
      "\n",
      "``solveset`` claims to be complete in the solution set that it returns.\n",
      "\n",
      "Raises\n",
      "======\n",
      "\n",
      "NotImplementedError\n",
      "    The algorithms to solve inequalities in complex domain  are\n",
      "    not yet implemented.\n",
      "ValueError\n",
      "    The input is not valid.\n",
      "RuntimeError\n",
      "    It is a bug, please report to the github issue tracker.\n",
      "\n",
      "\n",
      "Notes\n",
      "=====\n",
      "\n",
      "Python interprets 0 and 1 as False and True, respectively, but\n",
      "in this function they refer to solutions of an expression. So 0 and 1\n",
      "return the domain and EmptySet, respectively, while True and False\n",
      "return the opposite (as they are assumed to be solutions of relational\n",
      "expressions).\n",
      "\n",
      "\n",
      "See Also\n",
      "========\n",
      "\n",
      "solveset_real: solver for real domain\n",
      "solveset_complex: solver for complex domain\n",
      "\n",
      "Examples\n",
      "========\n",
      "\n",
      ">>> from sympy import exp, sin, Symbol, pprint, S, Eq\n",
      ">>> from sympy.solvers.solveset import solveset, solveset_real\n",
      "\n",
      "* The default domain is complex. Not specifying a domain will lead\n",
      "  to the solving of the equation in the complex domain (and this\n",
      "  is not affected by the assumptions on the symbol):\n",
      "\n",
      ">>> x = Symbol('x')\n",
      ">>> pprint(solveset(exp(x) - 1, x), use_unicode=False)\n",
      "{2*n*I*pi | n in Integers}\n",
      "\n",
      ">>> x = Symbol('x', real=True)\n",
      ">>> pprint(solveset(exp(x) - 1, x), use_unicode=False)\n",
      "{2*n*I*pi | n in Integers}\n",
      "\n",
      "* If you want to use ``solveset`` to solve the equation in the\n",
      "  real domain, provide a real domain. (Using ``solveset_real``\n",
      "  does this automatically.)\n",
      "\n",
      ">>> R = S.Reals\n",
      ">>> x = Symbol('x')\n",
      ">>> solveset(exp(x) - 1, x, R)\n",
      "{0}\n",
      ">>> solveset_real(exp(x) - 1, x)\n",
      "{0}\n",
      "\n",
      "The solution is unaffected by assumptions on the symbol:\n",
      "\n",
      ">>> p = Symbol('p', positive=True)\n",
      ">>> pprint(solveset(p**2 - 4))\n",
      "{-2, 2}\n",
      "\n",
      "When a :class:`~.ConditionSet` is returned, symbols with assumptions that\n",
      "would alter the set are replaced with more generic symbols:\n",
      "\n",
      ">>> i = Symbol('i', imaginary=True)\n",
      ">>> solveset(Eq(i**2 + i*sin(i), 1), i, domain=S.Reals)\n",
      "ConditionSet(_R, Eq(_R**2 + _R*sin(_R) - 1, 0), Reals)\n",
      "\n",
      "* Inequalities can be solved over the real domain only. Use of a complex\n",
      "  domain leads to a NotImplementedError.\n",
      "\n",
      ">>> solveset(exp(x) > 1, x, R)\n",
      "Interval.open(0, oo)\n",
      "\u001b[0;31mFile:\u001b[0m      /usr/lib/python3/dist-packages/sympy/solvers/solveset.py\n",
      "\u001b[0;31mType:\u001b[0m      function"
     ]
    }
   ],
   "source": [
    "sp.solveset?"
   ]
  },
  {
   "cell_type": "markdown",
   "metadata": {},
   "source": [
    "Ejemplos de uso de `solve` y `solveset`."
   ]
  },
  {
   "cell_type": "code",
   "execution_count": 60,
   "metadata": {},
   "outputs": [
    {
     "data": {
      "text/plain": [
       "([-1, 1], list)"
      ]
     },
     "execution_count": 60,
     "metadata": {},
     "output_type": "execute_result"
    }
   ],
   "source": [
    "# Simple ejemplo de uso. Vemos que devuelve las soluciones en forma de lista\n",
    "sol1 = sp.solve( x**2 - 1, x )\n",
    "sol1, type(sol1) "
   ]
  },
  {
   "cell_type": "code",
   "execution_count": 61,
   "metadata": {},
   "outputs": [
    {
     "data": {
      "text/plain": [
       "([{x: -1}, {x: 1}], list)"
      ]
     },
     "execution_count": 61,
     "metadata": {},
     "output_type": "execute_result"
    }
   ],
   "source": [
    "# Aquí vemos que también podemos hacer que devuelva las soluciones en forma de lista de diccionarios\n",
    "sol2 = sp.solve( x**2 - 1, x, dict = True  ) \n",
    "sol2, type(sol2)"
   ]
  },
  {
   "cell_type": "code",
   "execution_count": 62,
   "metadata": {},
   "outputs": [
    {
     "data": {
      "text/plain": [
       "({-1, 1}, sympy.sets.sets.FiniteSet)"
      ]
     },
     "execution_count": 62,
     "metadata": {},
     "output_type": "execute_result"
    }
   ],
   "source": [
    "# Simple ejemplo de uso. Vemos que devuelve las soluciones en forma de conjunto\n",
    "sol3 = sp.solveset( x**2 - 1, x )  \n",
    "sol3, type(sol3)"
   ]
  },
  {
   "cell_type": "code",
   "execution_count": 63,
   "metadata": {},
   "outputs": [
    {
     "data": {
      "text/plain": [
       "(Interval.open(0, oo), sympy.sets.sets.Interval)"
      ]
     },
     "execution_count": 63,
     "metadata": {},
     "output_type": "execute_result"
    }
   ],
   "source": [
    "# También podemos pedirle que resuelva inecuaciones\n",
    "sol4 = sp.solveset(sp.exp(x) > 1, x, domain=sp.S.Reals)\n",
    "sol4, type(sol4)"
   ]
  },
  {
   "cell_type": "code",
   "execution_count": 64,
   "metadata": {},
   "outputs": [
    {
     "data": {
      "text/plain": [
       "[0, pi/2, pi, 3*pi/2]"
      ]
     },
     "execution_count": 64,
     "metadata": {},
     "output_type": "execute_result"
    }
   ],
   "source": [
    "# Ejemplo con funciones trigonométricas.\n",
    "# En estos casos es evidente que no se pueden obtener a la vez las infinitas soluciones\n",
    "sp.solve(sp.sin(x)*sp.cos(x),x) "
   ]
  },
  {
   "cell_type": "markdown",
   "metadata": {},
   "source": [
    "También podemos hacer depender las ecuaciones de otros parámetros. Por ejemplo, si queremos obtener la solución de la ecuación\n",
    "$$\n",
    "\\frac 1 a e^{x+1} - 3a^2 = 0.\n",
    "$$"
   ]
  },
  {
   "cell_type": "code",
   "execution_count": 65,
   "metadata": {},
   "outputs": [
    {
     "data": {
      "text/plain": [
       "[log(a**3) - 1 + log(3)]"
      ]
     },
     "execution_count": 65,
     "metadata": {},
     "output_type": "execute_result"
    }
   ],
   "source": [
    "a = sp.Symbol('a')\n",
    "sp.solve(1/a*sp.exp(x+1)-3*a**2,x)"
   ]
  },
  {
   "cell_type": "markdown",
   "metadata": {},
   "source": [
    "##### Resolución de ecuaciones **polinómicas** con Python 🚓"
   ]
  },
  {
   "cell_type": "markdown",
   "metadata": {},
   "source": [
    "La orden de NumPy  [`roots`](https://numpy.org/doc/2.2/reference/generated/numpy.roots.html) obtiene todas las raíces reales y complejas de la ecuación polinómica $a_nx^n+...+a_2x^2+a_1x+a_0=0$ correspondiente a los coeficientes $[a_n, ..., a_2,a_1, a_0]$ guardados en una lista con las mismas tal y como se observa  en el siguiente ejemplo:"
   ]
  },
  {
   "cell_type": "code",
   "execution_count": 66,
   "metadata": {},
   "outputs": [
    {
     "data": {
      "text/plain": [
       "array([-0.15625+0.7749748j, -0.15625-0.7749748j])"
      ]
     },
     "execution_count": 66,
     "metadata": {},
     "output_type": "execute_result"
    }
   ],
   "source": [
    "coefs = [3.2, 1, 2]\n",
    "np.roots(coefs)"
   ]
  },
  {
   "cell_type": "code",
   "execution_count": 67,
   "metadata": {},
   "outputs": [
    {
     "data": {
      "text/plain": [
       "array([-1.27308945+0.36784131j, -1.27308945-0.36784131j,\n",
       "       -0.08811871+1.23334263j, -0.08811871-1.23334263j,\n",
       "        1.18028373+0.j        ,  0.27106629+0.49202862j,\n",
       "        0.27106629-0.49202862j])"
      ]
     },
     "execution_count": 67,
     "metadata": {},
     "output_type": "execute_result"
    }
   ],
   "source": [
    "coefs = [1,1,0,0,-2,-2,1,-1]\n",
    "np.roots(coefs)"
   ]
  },
  {
   "cell_type": "markdown",
   "metadata": {},
   "source": [
    "Observe ahora la salida de las dos órdenes siguientes:"
   ]
  },
  {
   "cell_type": "code",
   "execution_count": 68,
   "metadata": {},
   "outputs": [
    {
     "data": {
      "text/plain": [
       "[2.50000000000000, -3.0*I, 3.0*I]"
      ]
     },
     "execution_count": 68,
     "metadata": {},
     "output_type": "execute_result"
    }
   ],
   "source": [
    "sp.solve((x**2+9)*(x-2.5),x)"
   ]
  },
  {
   "cell_type": "code",
   "execution_count": 69,
   "metadata": {},
   "outputs": [
    {
     "data": {
      "text/latex": [
       "$\\displaystyle x^{3} - 2.5 x^{2} + 9 x - 22.5$"
      ],
      "text/plain": [
       "x**3 - 2.5*x**2 + 9*x - 22.5"
      ]
     },
     "execution_count": 69,
     "metadata": {},
     "output_type": "execute_result"
    }
   ],
   "source": [
    "sp.expand((x**2+9)*(x-2.5))"
   ]
  },
  {
   "cell_type": "code",
   "execution_count": 70,
   "metadata": {},
   "outputs": [
    {
     "data": {
      "text/plain": [
       "array([4.4408921e-16+3.j, 4.4408921e-16-3.j, 2.5000000e+00+0.j])"
      ]
     },
     "execution_count": 70,
     "metadata": {},
     "output_type": "execute_result"
    }
   ],
   "source": [
    "coefs = [1,-2.5,9,-22.5]\n",
    "np.roots(coefs)"
   ]
  },
  {
   "cell_type": "markdown",
   "metadata": {},
   "source": [
    "#### Opción 2: Resolución numérica con la orden [`fsolve`](https://docs.scipy.org/doc/scipy/reference/generated/scipy.optimize.fsolve.html) del paquete `optimize` dentro del módulo `SciPy`.\n",
    "\n",
    "También podemos resolver numéricamente las ecuaciones mediante la función `fsolve`, la cual podemos importar mediante la siguiente orden.\n",
    "Por ello, deberemos cargarlo mediante una orden como la siguiente:"
   ]
  },
  {
   "cell_type": "code",
   "execution_count": 71,
   "metadata": {},
   "outputs": [],
   "source": [
    "from scipy.optimize import fsolve"
   ]
  },
  {
   "cell_type": "markdown",
   "metadata": {},
   "source": [
    "Y usarla con el siguiente formato\n",
    "```python\n",
    "    fsolve(f,x0)\n",
    "```\n",
    "\n",
    "donde la función `f` debe estar definida previamente o utilizar una función lambda, y `x0` es el valor inicial para comenzar las iteraciones.\n",
    "\n",
    "En cuanto a las opciones disponibles, lo mejor es mirar la documentación disponible, preguntándole directamente al sistema Python para que nos muestre el docstring incluido en la definición de dicha orden"
   ]
  },
  {
   "cell_type": "code",
   "execution_count": 72,
   "metadata": {},
   "outputs": [
    {
     "name": "stdout",
     "output_type": "stream",
     "text": [
      "\u001b[0;31mSignature:\u001b[0m\n",
      "\u001b[0mfsolve\u001b[0m\u001b[0;34m(\u001b[0m\u001b[0;34m\u001b[0m\n",
      "\u001b[0;34m\u001b[0m    \u001b[0mfunc\u001b[0m\u001b[0;34m,\u001b[0m\u001b[0;34m\u001b[0m\n",
      "\u001b[0;34m\u001b[0m    \u001b[0mx0\u001b[0m\u001b[0;34m,\u001b[0m\u001b[0;34m\u001b[0m\n",
      "\u001b[0;34m\u001b[0m    \u001b[0margs\u001b[0m\u001b[0;34m=\u001b[0m\u001b[0;34m(\u001b[0m\u001b[0;34m)\u001b[0m\u001b[0;34m,\u001b[0m\u001b[0;34m\u001b[0m\n",
      "\u001b[0;34m\u001b[0m    \u001b[0mfprime\u001b[0m\u001b[0;34m=\u001b[0m\u001b[0;32mNone\u001b[0m\u001b[0;34m,\u001b[0m\u001b[0;34m\u001b[0m\n",
      "\u001b[0;34m\u001b[0m    \u001b[0mfull_output\u001b[0m\u001b[0;34m=\u001b[0m\u001b[0;36m0\u001b[0m\u001b[0;34m,\u001b[0m\u001b[0;34m\u001b[0m\n",
      "\u001b[0;34m\u001b[0m    \u001b[0mcol_deriv\u001b[0m\u001b[0;34m=\u001b[0m\u001b[0;36m0\u001b[0m\u001b[0;34m,\u001b[0m\u001b[0;34m\u001b[0m\n",
      "\u001b[0;34m\u001b[0m    \u001b[0mxtol\u001b[0m\u001b[0;34m=\u001b[0m\u001b[0;36m1.49012e-08\u001b[0m\u001b[0;34m,\u001b[0m\u001b[0;34m\u001b[0m\n",
      "\u001b[0;34m\u001b[0m    \u001b[0mmaxfev\u001b[0m\u001b[0;34m=\u001b[0m\u001b[0;36m0\u001b[0m\u001b[0;34m,\u001b[0m\u001b[0;34m\u001b[0m\n",
      "\u001b[0;34m\u001b[0m    \u001b[0mband\u001b[0m\u001b[0;34m=\u001b[0m\u001b[0;32mNone\u001b[0m\u001b[0;34m,\u001b[0m\u001b[0;34m\u001b[0m\n",
      "\u001b[0;34m\u001b[0m    \u001b[0mepsfcn\u001b[0m\u001b[0;34m=\u001b[0m\u001b[0;32mNone\u001b[0m\u001b[0;34m,\u001b[0m\u001b[0;34m\u001b[0m\n",
      "\u001b[0;34m\u001b[0m    \u001b[0mfactor\u001b[0m\u001b[0;34m=\u001b[0m\u001b[0;36m100\u001b[0m\u001b[0;34m,\u001b[0m\u001b[0;34m\u001b[0m\n",
      "\u001b[0;34m\u001b[0m    \u001b[0mdiag\u001b[0m\u001b[0;34m=\u001b[0m\u001b[0;32mNone\u001b[0m\u001b[0;34m,\u001b[0m\u001b[0;34m\u001b[0m\n",
      "\u001b[0;34m\u001b[0m\u001b[0;34m)\u001b[0m\u001b[0;34m\u001b[0m\u001b[0;34m\u001b[0m\u001b[0m\n",
      "\u001b[0;31mDocstring:\u001b[0m\n",
      "Find the roots of a function.\n",
      "\n",
      "Return the roots of the (non-linear) equations defined by\n",
      "``func(x) = 0`` given a starting estimate.\n",
      "\n",
      "Parameters\n",
      "----------\n",
      "func : callable ``f(x, *args)``\n",
      "    A function that takes at least one (possibly vector) argument,\n",
      "    and returns a value of the same length.\n",
      "x0 : ndarray\n",
      "    The starting estimate for the roots of ``func(x) = 0``.\n",
      "args : tuple, optional\n",
      "    Any extra arguments to `func`.\n",
      "fprime : callable ``f(x, *args)``, optional\n",
      "    A function to compute the Jacobian of `func` with derivatives\n",
      "    across the rows. By default, the Jacobian will be estimated.\n",
      "full_output : bool, optional\n",
      "    If True, return optional outputs.\n",
      "col_deriv : bool, optional\n",
      "    Specify whether the Jacobian function computes derivatives down\n",
      "    the columns (faster, because there is no transpose operation).\n",
      "xtol : float, optional\n",
      "    The calculation will terminate if the relative error between two\n",
      "    consecutive iterates is at most `xtol`.\n",
      "maxfev : int, optional\n",
      "    The maximum number of calls to the function. If zero, then\n",
      "    ``100*(N+1)`` is the maximum where N is the number of elements\n",
      "    in `x0`.\n",
      "band : tuple, optional\n",
      "    If set to a two-sequence containing the number of sub- and\n",
      "    super-diagonals within the band of the Jacobi matrix, the\n",
      "    Jacobi matrix is considered banded (only for ``fprime=None``).\n",
      "epsfcn : float, optional\n",
      "    A suitable step length for the forward-difference\n",
      "    approximation of the Jacobian (for ``fprime=None``). If\n",
      "    `epsfcn` is less than the machine precision, it is assumed\n",
      "    that the relative errors in the functions are of the order of\n",
      "    the machine precision.\n",
      "factor : float, optional\n",
      "    A parameter determining the initial step bound\n",
      "    (``factor * || diag * x||``). Should be in the interval\n",
      "    ``(0.1, 100)``.\n",
      "diag : sequence, optional\n",
      "    N positive entries that serve as a scale factors for the\n",
      "    variables.\n",
      "\n",
      "Returns\n",
      "-------\n",
      "x : ndarray\n",
      "    The solution (or the result of the last iteration for\n",
      "    an unsuccessful call).\n",
      "infodict : dict\n",
      "    A dictionary of optional outputs with the keys:\n",
      "\n",
      "    ``nfev``\n",
      "        number of function calls\n",
      "    ``njev``\n",
      "        number of Jacobian calls\n",
      "    ``fvec``\n",
      "        function evaluated at the output\n",
      "    ``fjac``\n",
      "        the orthogonal matrix, q, produced by the QR\n",
      "        factorization of the final approximate Jacobian\n",
      "        matrix, stored column wise\n",
      "    ``r``\n",
      "        upper triangular matrix produced by QR factorization\n",
      "        of the same matrix\n",
      "    ``qtf``\n",
      "        the vector ``(transpose(q) * fvec)``\n",
      "\n",
      "ier : int\n",
      "    An integer flag.  Set to 1 if a solution was found, otherwise refer\n",
      "    to `mesg` for more information.\n",
      "mesg : str\n",
      "    If no solution is found, `mesg` details the cause of failure.\n",
      "\n",
      "See Also\n",
      "--------\n",
      "root : Interface to root finding algorithms for multivariate\n",
      "       functions. See the ``method='hybr'`` in particular.\n",
      "\n",
      "Notes\n",
      "-----\n",
      "``fsolve`` is a wrapper around MINPACK's hybrd and hybrj algorithms.\n",
      "\n",
      "Examples\n",
      "--------\n",
      "Find a solution to the system of equations:\n",
      "``x0*cos(x1) = 4,  x1*x0 - x1 = 5``.\n",
      "\n",
      ">>> import numpy as np\n",
      ">>> from scipy.optimize import fsolve\n",
      ">>> def func(x):\n",
      "...     return [x[0] * np.cos(x[1]) - 4,\n",
      "...             x[1] * x[0] - x[1] - 5]\n",
      ">>> root = fsolve(func, [1, 1])\n",
      ">>> root\n",
      "array([6.50409711, 0.90841421])\n",
      ">>> np.isclose(func(root), [0.0, 0.0])  # func(root) should be almost 0.0.\n",
      "array([ True,  True])\n",
      "\u001b[0;31mFile:\u001b[0m      /usr/lib/python3/dist-packages/scipy/optimize/_minpack_py.py\n",
      "\u001b[0;31mType:\u001b[0m      function"
     ]
    }
   ],
   "source": [
    "?fsolve"
   ]
  },
  {
   "cell_type": "code",
   "execution_count": 73,
   "metadata": {},
   "outputs": [
    {
     "data": {
      "text/plain": [
       "array([1.09861229])"
      ]
     },
     "execution_count": 73,
     "metadata": {},
     "output_type": "execute_result"
    }
   ],
   "source": [
    "fsolve(f, 1.0) # Observe que devuelve un array"
   ]
  },
  {
   "cell_type": "code",
   "execution_count": 74,
   "metadata": {},
   "outputs": [
    {
     "name": "stdout",
     "output_type": "stream",
     "text": [
      "Solución exacta: 1.09861228866811\n",
      "Aproximación con fsolve: 1.0986122886681096\n",
      "Error: -1.31331632575016E-16\n"
     ]
    }
   ],
   "source": [
    "aprox_fsolve = fsolve(f, 1.0)[0] # Tomamos el primer elemento del array\n",
    "print(f\"Solución exacta: {sol_exact.evalf()}\")\n",
    "print(f\"Aproximación con fsolve: {aprox_fsolve}\")\n",
    "print(f\"Error: {(aprox_fsolve-sol_exact).evalf()}\")"
   ]
  },
  {
   "cell_type": "markdown",
   "metadata": {},
   "source": [
    "### 4.2. Resolución de sistemas de ecuaciones no lineales 📝"
   ]
  },
  {
   "cell_type": "markdown",
   "metadata": {},
   "source": [
    "   No cabe duda de que en muchas ocasiones también tendremos que resolver sistemas de ecuaciones no lineales y no sólo una ecuación escalar, para la que ya hemos visto bastantes métodos efectivos en la primera parte de este notebook.\n",
    "\n",
    "   Ahora nos proponemos indicar también algunas posibilidades cuando se trate más bien de sistemas de ecuaciones no lineales, para las que no siempre habrá posibilidad de obtener soluciones exactas, ni tampoco existen procedimientos o algoritmos sistemáticos, como sí que los hay para el caso de sistemas lineales. No obstante, sí que disponemos de generalizaciónes adecuadas de alguno de los métodos numéricos que ya se tenían para el caso escalar y que nos permitirán al menos aproximar numéricamente, con un cierto grado de precisión determinado, dichas soluciones, en caso de que estas existan."
   ]
  },
  {
   "cell_type": "markdown",
   "metadata": {},
   "source": [
    "#### Opción 1: Calcular analíticamente las soluciones con `sympy`"
   ]
  },
  {
   "cell_type": "markdown",
   "metadata": {},
   "source": [
    "La orden `solve` del módulo `sympy` también puede ser utilizada para resolver sistemas de ecuaciones (ver documentación). A su vez, `sympy` contiene la clase `Eq`, que representa una ecuación. Combinando ambas pueden resolverse sistemas de ecuaciones no lineales.\n",
    "\n",
    "Observe el siguiente ejemplo en el que resolvemos el sistema de ecuaciones\n",
    "$$\n",
    "\\left\\{\\begin{array}{c}\n",
    "x+y^2 = 4 \\\\\n",
    "x^2 + y = 4\n",
    "\\end{array}\\right..\n",
    "$$"
   ]
  },
  {
   "cell_type": "code",
   "execution_count": 75,
   "metadata": {},
   "outputs": [],
   "source": [
    "x, y = sp.symbols('x, y') # Definimos las variables simbólicas\n",
    "# Creamos las ecuaciones\n",
    "eq1 = sp.Eq(x + y**2, 4)\n",
    "eq2 = sp.Eq(x**2 + y, 4)"
   ]
  },
  {
   "cell_type": "code",
   "execution_count": 76,
   "metadata": {},
   "outputs": [
    {
     "data": {
      "text/latex": [
       "$\\displaystyle x + y^{2} = 4$"
      ],
      "text/plain": [
       "Eq(x + y**2, 4)"
      ]
     },
     "execution_count": 76,
     "metadata": {},
     "output_type": "execute_result"
    }
   ],
   "source": [
    "eq1"
   ]
  },
  {
   "cell_type": "code",
   "execution_count": 77,
   "metadata": {},
   "outputs": [
    {
     "data": {
      "text/latex": [
       "$\\displaystyle x^{2} + y = 4$"
      ],
      "text/plain": [
       "Eq(x**2 + y, 4)"
      ]
     },
     "execution_count": 77,
     "metadata": {},
     "output_type": "execute_result"
    }
   ],
   "source": [
    "eq2"
   ]
  },
  {
   "cell_type": "markdown",
   "metadata": {},
   "source": [
    "Utilizamos `solve` para obtener las soluciones"
   ]
  },
  {
   "cell_type": "code",
   "execution_count": 78,
   "metadata": {},
   "outputs": [
    {
     "data": {
      "text/plain": [
       "[(-(-5/2 - sqrt(17)/2)*(3/2 - sqrt(17)/2), -sqrt(17)/2 - 1/2),\n",
       " (-(-5/2 + sqrt(17)/2)*(3/2 + sqrt(17)/2), -1/2 + sqrt(17)/2),\n",
       " (-(-3/2 + sqrt(13)/2)*(sqrt(13)/2 + 5/2), 1/2 + sqrt(13)/2),\n",
       " (-(5/2 - sqrt(13)/2)*(-sqrt(13)/2 - 3/2), 1/2 - sqrt(13)/2)]"
      ]
     },
     "execution_count": 78,
     "metadata": {},
     "output_type": "execute_result"
    }
   ],
   "source": [
    "sols = sp.solve([eq1, eq2], [x,y])\n",
    "sols"
   ]
  },
  {
   "cell_type": "markdown",
   "metadata": {},
   "source": [
    "#### Opción 2: Resolución numérica aproximada con `scipy`."
   ]
  },
  {
   "cell_type": "markdown",
   "metadata": {},
   "source": [
    "Análogamente al caso simbólico, la orden `fsolve` de `scipy.optimize` permite trabajar con varias funciones y condiciones iniciales multivariadas.\n",
    "\n",
    "Resolvamos el sistema\n",
    "$$\n",
    "\\left\\{\\begin{array}{c}\n",
    "x+y^2 - 4 = 0 \\\\\n",
    "e^x + xy - 3 = 0\n",
    "\\end{array}\\right..\n",
    "$$"
   ]
  },
  {
   "cell_type": "code",
   "execution_count": 79,
   "metadata": {},
   "outputs": [],
   "source": [
    "from scipy.optimize import fsolve"
   ]
  },
  {
   "cell_type": "code",
   "execution_count": 80,
   "metadata": {},
   "outputs": [],
   "source": [
    "def equations(p:tuple):\n",
    "    x, y = p\n",
    "    return x + y**2 - 4, sp.exp(x) + x*y -3"
   ]
  },
  {
   "cell_type": "code",
   "execution_count": 81,
   "metadata": {},
   "outputs": [
    {
     "data": {
      "text/plain": [
       "(x + y**2 - 4, x*y + exp(x) - 3)"
      ]
     },
     "execution_count": 81,
     "metadata": {},
     "output_type": "execute_result"
    }
   ],
   "source": [
    "x, y = sp.symbols('x, y')\n",
    "equations((x,y)) # Devuelve una tupla"
   ]
  },
  {
   "cell_type": "code",
   "execution_count": 82,
   "metadata": {},
   "outputs": [
    {
     "data": {
      "text/plain": [
       "(u + v**2 - 4, u*v + exp(u) - 3)"
      ]
     },
     "execution_count": 82,
     "metadata": {},
     "output_type": "execute_result"
    }
   ],
   "source": [
    "# Vemos que la expresión algebraica de estas ecuaciones es independiente\n",
    "# de las variables concretas que se usen\n",
    "u,v = sp.symbols('u,v')    \n",
    "equations((u,v))"
   ]
  },
  {
   "cell_type": "markdown",
   "metadata": {},
   "source": [
    "Ahora usamos `fsolve` indicando dos condiciones iniciales."
   ]
  },
  {
   "cell_type": "code",
   "execution_count": 83,
   "metadata": {},
   "outputs": [],
   "source": [
    "x0, y0  = 1, 1      # Condiciones iniciales\n",
    "sol_x, sol_y    = fsolve(equations, (x0,y0))"
   ]
  },
  {
   "cell_type": "code",
   "execution_count": 84,
   "metadata": {},
   "outputs": [
    {
     "name": "stdout",
     "output_type": "stream",
     "text": [
      "0.6203445234801195 1.8383839306750887\n"
     ]
    }
   ],
   "source": [
    "print(sol_x,sol_y)    # Esta sería la aproximación de dichas soluciones numéricas"
   ]
  },
  {
   "cell_type": "code",
   "execution_count": 85,
   "metadata": {},
   "outputs": [
    {
     "name": "stdout",
     "output_type": "stream",
     "text": [
      "(4.4508396968012676e-11, -1.05120356863608e-11)\n"
     ]
    }
   ],
   "source": [
    "# Comprobamos además que al evaluar estas expresiones algebraicas en las soluciones aproximadas\n",
    "# obtenemos valores bastante próximos a cero.\n",
    "print(equations((sol_x,sol_y)))"
   ]
  },
  {
   "cell_type": "code",
   "execution_count": 86,
   "metadata": {},
   "outputs": [
    {
     "name": "stdout",
     "output_type": "stream",
     "text": [
      "Final de la práctica 😁\n"
     ]
    }
   ],
   "source": [
    "print(\"Final de la práctica 😁\")"
   ]
  },
  {
   "cell_type": "markdown",
   "metadata": {},
   "source": [
    "\n",
    "> **Ejercicio 9** Utilice las órdenes apropiadas de Python para aproximar todos los puntos donde se anulan las funciones siguientes (si es necesario, represéntelas gráficamente):\n",
    "> \n",
    "> i) $f(x)=x^7-x^4+2$ ,\n",
    "> \n",
    "> ii) $f(x)=x^7+\\cos  x-3$.\n",
    "\n",
    "> **Ejercicio 10:** De los métodos implementados en los anteriores ejercicios, utiliza el método o métodos numéricos que desees para aproximar la primera raíz de la función\n",
    "> $$\n",
    "> f:[0,1]\\longrightarrow\\mathbb R \\\\\n",
    "> f(x) = x(1-x)\\sin\\left(\\dfrac{2\\pi}{x+1/10}\\right)\n",
    "> $$\n",
    "> que sea mayor que una milésima con una precisión de 28 cifras significativas y utilizando el menor número de iteraciones posible. Imprime por pantalla tu aproximación y el número de iteraciones utilizado."
   ]
  }
 ],
 "metadata": {
  "anaconda-cloud": {},
  "colab": {
   "collapsed_sections": [
    "8kviXRZfcp-i",
    "jpQMavQPcp-m",
    "MW4_-uSrcp-w",
    "jr7yFeSNcp-z",
    "yyNEN0w-cp-1",
    "n3RiGTxbcp-3"
   ],
   "provenance": []
  },
  "kernelspec": {
   "display_name": "Python 3 (ipykernel)",
   "language": "python",
   "name": "python3"
  }
 },
 "nbformat": 4,
 "nbformat_minor": 0
}
